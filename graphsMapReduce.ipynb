{
  "cells": [
    {
      "cell_type": "markdown",
      "metadata": {
        "id": "Yp97VfrVPVpv"
      },
      "source": [
        "# 1. Librerías & Set Up"
      ]
    },
    {
      "cell_type": "markdown",
      "source": [
        "👉🏻 Instalaremos todas las librerias necesarias para poder trabajar con PySpark y Neo4j"
      ],
      "metadata": {
        "id": "h3AfOYEQTWTC"
      }
    },
    {
      "cell_type": "code",
      "execution_count": 76,
      "metadata": {
        "colab": {
          "base_uri": "https://localhost:8080/"
        },
        "id": "JCinFr1LPVO5",
        "outputId": "e8fa3f91-4c46-4f30-a49a-63a33f8d3120"
      },
      "outputs": [
        {
          "output_type": "stream",
          "name": "stdout",
          "text": [
            "Requirement already satisfied: pyspark in /usr/local/lib/python3.10/dist-packages (3.5.1)\n",
            "Requirement already satisfied: py4j==0.10.9.7 in /usr/local/lib/python3.10/dist-packages (from pyspark) (0.10.9.7)\n"
          ]
        }
      ],
      "source": [
        "!pip install pyspark"
      ]
    },
    {
      "cell_type": "code",
      "source": [
        "!pip install neo4j"
      ],
      "metadata": {
        "colab": {
          "base_uri": "https://localhost:8080/"
        },
        "id": "y3_dX6wSCNrT",
        "outputId": "cc0f89a5-8d66-419c-f000-acf7be2c2d34"
      },
      "execution_count": 77,
      "outputs": [
        {
          "output_type": "stream",
          "name": "stdout",
          "text": [
            "Requirement already satisfied: neo4j in /usr/local/lib/python3.10/dist-packages (5.21.0)\n",
            "Requirement already satisfied: pytz in /usr/local/lib/python3.10/dist-packages (from neo4j) (2023.4)\n"
          ]
        }
      ]
    },
    {
      "cell_type": "code",
      "execution_count": 78,
      "metadata": {
        "id": "zH4iyjyxPeYT"
      },
      "outputs": [],
      "source": [
        "from pyspark.sql import SparkSession\n",
        "from itertools import product"
      ]
    },
    {
      "cell_type": "code",
      "execution_count": 79,
      "metadata": {
        "id": "Uy3cfH_iPh4j"
      },
      "outputs": [],
      "source": [
        "import neo4j\n",
        "from neo4j import GraphDatabase\n",
        "import pandas as pd\n",
        "import numpy as np"
      ]
    },
    {
      "cell_type": "code",
      "source": [
        "# Iniciamos una sesion en PySpark\n",
        "spark = SparkSession.builder \\\n",
        "    .getOrCreate()\n",
        "\n",
        "sc = spark.sparkContext\n",
        "sc"
      ],
      "metadata": {
        "colab": {
          "base_uri": "https://localhost:8080/",
          "height": 219
        },
        "id": "8FvKEocnD3-8",
        "outputId": "6dd56f0d-90d5-4cc0-ab01-dfc104a0a51d"
      },
      "execution_count": 80,
      "outputs": [
        {
          "output_type": "execute_result",
          "data": {
            "text/plain": [
              "<SparkContext master=local[*] appName=pyspark-shell>"
            ],
            "text/html": [
              "\n",
              "        <div>\n",
              "            <p><b>SparkContext</b></p>\n",
              "\n",
              "            <p><a href=\"http://486355f0d89a:4040\">Spark UI</a></p>\n",
              "\n",
              "            <dl>\n",
              "              <dt>Version</dt>\n",
              "                <dd><code>v3.5.1</code></dd>\n",
              "              <dt>Master</dt>\n",
              "                <dd><code>local[*]</code></dd>\n",
              "              <dt>AppName</dt>\n",
              "                <dd><code>pyspark-shell</code></dd>\n",
              "            </dl>\n",
              "        </div>\n",
              "        "
            ]
          },
          "metadata": {},
          "execution_count": 80
        }
      ]
    },
    {
      "cell_type": "markdown",
      "metadata": {
        "id": "3FFiAi4oQNPj"
      },
      "source": [
        "# 2. Neo4j Graphs and others examples"
      ]
    },
    {
      "cell_type": "markdown",
      "source": [
        "👉🏻 Las siguientes funciones permiten cargar grafos de ejemplos para poder realizar las consultas de los patrones de grafo.\n",
        "\n",
        "👉🏻 Existe la funcion create_neo4j_graph para poder cargar una base de datos en Neo4j y luego obtener las aristas existentes de este grafo.\n",
        "\n",
        "👉🏻 Existe la funcion load_graph para poder seleccionar el grafo que queremos realizar las consultas."
      ],
      "metadata": {
        "id": "G-ByrvaJUXEd"
      }
    },
    {
      "cell_type": "code",
      "source": [
        "def load_neo4j_graph():\n",
        "  \"\"\"\n",
        "  Funcion para cargar la base de datos de twitter como ejemplo de grafo en Neo4j.\n",
        "  \"\"\"\n",
        "  # Realizamos la conexion con la base de datos del grafo guardado en Neo4j.\n",
        "  NEO4J_URI = \"neo4j+s://demo.neo4jlabs.com\"\n",
        "  NEO4J_USERNAME = \"twitter\"\n",
        "  NEO4J_PASSWORD = \"twitter\"\n",
        "  AUTH = (NEO4J_USERNAME, NEO4J_PASSWORD)\n",
        "\n",
        "  driver = GraphDatabase.driver(NEO4J_URI, auth=AUTH)\n",
        "  with driver.session() as session:\n",
        "      try:\n",
        "          session.run(\"RETURN 1\")\n",
        "          print(\"Connection to Neo4j established successfully!\")\n",
        "      except Exception as e:\n",
        "          print(f\"Failed to connect to Neo4j: {e}\")\n",
        "      # Query que permite cargar todas las aristas de cada usuario\n",
        "      # (descartamos el usuario Neo4j para tener una cantidad mas variada xd,\n",
        "      # ya que si lo dejabamos se repetia mucho)\n",
        "      query = \"\"\"\n",
        "      MATCH (u1:User)-[r:INTERACTS_WITH | SIMILAR_TO]->(u2:User)\n",
        "      WHERE u1.name <> \"Neo4j\" AND u2.name <> \"Neo4j\"\n",
        "      RETURN u1.name as user1, type(r) AS relationship, u2.name AS user2\n",
        "      \"\"\"\n",
        "      result = session.run(query)\n",
        "      df_edges = pd.DataFrame(result.data())\n",
        "      relationship = df_edges['relationship'].unique()\n",
        "\n",
        "      # Definimos una clase para cada relacion ...\n",
        "      relationship_class = {i : rel for rel, i in enumerate(relationship)}\n",
        "      for inter, inter_class in relationship_class.items():\n",
        "          print(f\"{inter} AS class {inter_class}\")\n",
        "      df_edges['relationship'].replace(relationship_class, inplace = True)\n",
        "\n",
        "      # Transformamos cada usuario a un numero (su identificador) en base\n",
        "      # a su nombre de usuari que debe ser unico ...\n",
        "      users1 = df_edges['user1'].unique().tolist()\n",
        "      users2 = df_edges['user2'].unique().tolist()\n",
        "      users = list(set(users1 + users2))\n",
        "      users_id = {user : id for id, user in enumerate(users)}\n",
        "      df_edges['user1'].replace(users_id, inplace = True)\n",
        "      df_edges['user2'].replace(users_id, inplace = True)\n",
        "\n",
        "      np.save('users_id', users_id, allow_pickle = True)\n",
        "      np.save('relationship_class', relationship_class, allow_pickle = True)\n",
        "\n",
        "      # Cargamos el grafo en una lista de tuplas\n",
        "      neo4f_graph = [(item[0], item[1], item[2]) for item in df_edges.values]\n",
        "  driver.close()\n",
        "  return neo4f_graph\n"
      ],
      "metadata": {
        "id": "CIpVKqtWCjMw"
      },
      "execution_count": 123,
      "outputs": []
    },
    {
      "cell_type": "code",
      "source": [
        "def load_graph(option):\n",
        "  \"\"\"\n",
        "  Funcion que selecciona el grafo de ejemplo, retorna una lista de tuplas\n",
        "  de las aristas del grafo.\n",
        "  \"\"\"\n",
        "  if option == \"neo4j-graph\":\n",
        "    neo4f_graph = load_neo4j_graph()\n",
        "    return neo4f_graph\n",
        "\n",
        "  elif option == \"basic-example\":\n",
        "    return [\n",
        "        (1,11,2), (1,11,3), (2,11,3), (3,11,2),\n",
        "        (3,11,4), (4,11,1), (4,11,2), (4,11,3),\n",
        "        (4,12,5), (5,12,1), (5,12,2), (5,12,6),\n",
        "        (1,12,2), (2,12,3), (3,12,1)\n",
        "    ]\n",
        "  else:\n",
        "    print(\"La opcion no existe :(\")\n",
        "    return None"
      ],
      "metadata": {
        "id": "utX2DdBh-qUr"
      },
      "execution_count": 124,
      "outputs": []
    },
    {
      "cell_type": "markdown",
      "source": [
        "# 3. MapReduce Algorithm Implementation"
      ],
      "metadata": {
        "id": "HEoRsG3Aou1m"
      }
    },
    {
      "cell_type": "markdown",
      "source": [
        "👉🏻 Las siguientes funciones permiten desarrollar el algoritmo MapReduce implementado con PySpark"
      ],
      "metadata": {
        "id": "kpnJs3fcVGV4"
      }
    },
    {
      "cell_type": "code",
      "execution_count": 125,
      "metadata": {
        "id": "t9dJKE1fVsAw"
      },
      "outputs": [],
      "source": [
        "def hash(n):\n",
        "  \"\"\"\n",
        "  Returns number mod 2. The ouput will be 0 or 1.\n",
        "  \"\"\"\n",
        "  return n % 2"
      ]
    },
    {
      "cell_type": "markdown",
      "source": [
        "👉🏻 Las funciones siguientes permiten simular la fase de mapeo del algoritmo."
      ],
      "metadata": {
        "id": "oP9Jxlw4VsTe"
      }
    },
    {
      "cell_type": "code",
      "execution_count": 126,
      "metadata": {
        "id": "SQgndLX_S5RZ"
      },
      "outputs": [],
      "source": [
        "def get_keys(edge, b_dim, b_set, pattern_dim):\n",
        "  \"\"\"\n",
        "  output: retorna las llaves correspondientes para un vertice.\n",
        "\n",
        "  Idea general: buscamos el par hash_n1,hash_n2 dentro de las posibles\n",
        "  combinaciones dentro del espacio de imagenes de la funcion de hash.\n",
        "  Dentro del for, obtenemos un string con la codificacion de las llaves y luego\n",
        "  verificamos si es una llave candidata para el vertice entregado:\n",
        "\n",
        "  1.  sequence_in_reducer: Si la secuencia 'b1b2' esta en la llave del reducer\n",
        "      codificada como hash(n1)hash(n2) ?, donde ? = 0 o 1, entonces se considerará\n",
        "      el par reducer_key : edge.\n",
        "  2.  edge_case: El otro caso, es para cuando tenemos por ejemplo x = n2 y z = n1\n",
        "      para patrones de 3 vertices.\n",
        "  \"\"\"\n",
        "\n",
        "  hash_n1 = hash(edge[0]) # valor de hash para el nodo 1 = b1\n",
        "  hash_n2 = hash(edge[2]) # valor de hash para el nodo 2 = b2\n",
        "  values = [] # posible keys\n",
        "  sequence = '{}{}'.format(hash_n1, hash_n2)\n",
        "\n",
        "  for i in range(0, b_dim ** pattern_dim):\n",
        "    reducer = ''.join(str(num) for num in b_set[i])\n",
        "    sequence_in_reducer = sequence in reducer\n",
        "    edge_case = reducer[0] == sequence[1] and reducer[pattern_dim - 1] == sequence[0]\n",
        "    if sequence_in_reducer or edge_case:\n",
        "        reducer_key = tuple(int(digit) for digit in reducer)\n",
        "        values.append((reducer_key, edge))\n",
        "\n",
        "  return values\n",
        "\n",
        "\n",
        "def map_phase(rdd, b_dim, b_set, pattern_dim):\n",
        "  \"\"\"\n",
        "  input:\n",
        "    - rdd: RDD del grafo de dimension 'dim'\n",
        "    - b_dim: Cantidad de elementos de las imagenes de la funcion de hash.\n",
        "    - b_set: Imagenes de la funcion de hash.\n",
        "    - pattern_dim: cantidad de nodos del patron de grafo.\n",
        "  ouput: Mapeo de cada arista con respecto a las llaves\n",
        "  \"\"\"\n",
        "\n",
        "  mapped_keys = rdd.flatMap(lambda edge: get_keys(edge, b_dim, b_set, pattern_dim))\n",
        "\n",
        "  return mapped_keys"
      ]
    },
    {
      "cell_type": "markdown",
      "source": [
        "👉🏻 Las siguientes funciones permiten simular la fase de reduce del algoritmo."
      ],
      "metadata": {
        "id": "LJwFdiz1Vxex"
      }
    },
    {
      "cell_type": "code",
      "source": [
        "def find_patterns(edges, pattern_dim):\n",
        "    \"\"\"\n",
        "    Funcion que retorna todos los patrones encontrados de la forma\n",
        "    (n1,...,nl) : [[(n1,label,n2), ..., (nl-1,label,nl)], ... ]\n",
        "    donde (n1,...,nl) corresponde a los nodos que forman el patron\n",
        "    y la llave corresponde a los patrones posibles formados por estos nodos\n",
        "    para una etique\n",
        "    \"\"\"\n",
        "    neighbors = get_neighbors(edges)\n",
        "    cycles = find_cycles(edges, neighbors, pattern_dim)\n",
        "    return cycles\n",
        "\n",
        "\n",
        "def get_neighbors(edges):\n",
        "    \"\"\"\n",
        "    Funcion que retorna todas las aristas consecutivas a otras aristas.\n",
        "    Es decir, aristas vecinas.\n",
        "    \"\"\"\n",
        "    neighbors = []\n",
        "    for i in range(len(edges)):\n",
        "        curr_edge = edges[i]\n",
        "        neighbors.append([])\n",
        "        for j in range(len(edges)):\n",
        "            next_edge = edges[j]\n",
        "            if next_edge == curr_edge:\n",
        "                continue\n",
        "            if curr_edge[2] == next_edge[0]:\n",
        "                neighbors[i].append(next_edge)\n",
        "    return neighbors\n",
        "\n",
        "\n",
        "def find_cycles(edges, neighbors, pattern_dim):\n",
        "    \"\"\"\n",
        "    Funcion que verifica si existe algun grafo ciclico en el grafo de una\n",
        "    dimension pattern_dim. Retorna todos los ciclos encontrados.\n",
        "    Utilizamos el algoritmo DFS iterativo para la busqueda de ciclos.\n",
        "    \"\"\"\n",
        "    cycles = [] # Lista de ciclos encontrados\n",
        "\n",
        "    for edge in edges: # Por cada arista del grafo\n",
        "        visited = set() # Determinamos las aritas que ya han sido visitadas\n",
        "        # Inicializamos el stack con con la\n",
        "        stack = [(edge, [edge])]\n",
        "        # arista donde empezamos el recorrido\n",
        "\n",
        "        while len(stack):\n",
        "            curr_edge, path = stack.pop() # Extraemos la primera arista del stack\n",
        "            # Recorremos esta arista, por lo que la marcamos como visitada\n",
        "            visited.add(curr_edge)\n",
        "            # Caso 1: Si el camino recorrido actual supera la cantidad de nodos del bgp,\n",
        "            #         descartamos este camino\n",
        "            if len(path) > pattern_dim:\n",
        "                continue\n",
        "            # Caso 2: Si el camino recorrido tiene un largo igual a pattern_dim,\n",
        "            #         y son aristas transitivas, entonces un posible ciclo.\n",
        "            first_node = path[0][0] # primer nodo del camino\n",
        "            last_node = path[-1][2] # ultimo nodo del caminmo\n",
        "            if len(path) == pattern_dim and first_node == last_node:\n",
        "                cycles.append(path)\n",
        "                # Agregamos el camino y seguimos recorriendo\n",
        "                continue\n",
        "            # Si no es ciclico el camino desde el nodo actual,\n",
        "            # entonces iteramos dentro de sus vecinos\n",
        "            for neighbor_edge in neighbors[edges.index(curr_edge)]:\n",
        "                if neighbor_edge not in visited:\n",
        "                    stack.append((neighbor_edge, path + [neighbor_edge]))\n",
        "\n",
        "    return cycles\n",
        "\n",
        "\n",
        "def get_nodes(pattern, pattern_dim):\n",
        "    \"\"\"\n",
        "    Funcion que retorna la tupla con los nodos que forman un ciclo.\n",
        "    \"\"\"\n",
        "    nodes = []\n",
        "    for i in range(pattern_dim):\n",
        "      edge = pattern[i]\n",
        "      nodes.append(edge[0])\n",
        "\n",
        "    return (tuple(sorted(nodes)), tuple(sorted(pattern)))\n",
        "\n",
        "\n",
        "def get_unique_lists(pattern1, pattern2):\n",
        "    \"\"\"\n",
        "    Funcion que elimina patrones de grafo duplicados para cada llave\n",
        "    (n1,n2, ..., nl). Si tenemos l = 3, entonces seria (n1,n2,n3)\n",
        "    \"\"\"\n",
        "    lst = []\n",
        "    if pattern2 != pattern1:\n",
        "      return lst.append(pattern2)\n",
        "    else:\n",
        "      return pattern1\n",
        "\n",
        "\n",
        "def reduce_phase(mapped_keys, pattern_dim):\n",
        "    \"\"\"\n",
        "    input: RDD del grafo y cantidad de nodos del patron de grafo.\n",
        "    output: patrones encontrados.\n",
        "    \"\"\"\n",
        "    # Agrupamos por llaves\n",
        "    reducers = mapped_keys.groupByKey().mapValues(list)\n",
        "    # Filtramos solamente los grupos conformados por 3 aristas ...\n",
        "    reducers_edges = reducers.map(lambda v: v[1]) \\\n",
        "                    .filter(lambda x: len(x) >= pattern_dim)\n",
        "    # Por cada grupo buscamos un patron de grafo\n",
        "    patterns = reducers_edges \\\n",
        "              .map(lambda edges: find_patterns(edges, pattern_dim)) \\\n",
        "              .flatMap(list) \\\n",
        "              .map(lambda pattern: get_nodes(pattern, pattern_dim)) \\\n",
        "              .groupByKey().mapValues(lambda v: list(set(v)))\n",
        "\n",
        "\n",
        "    return patterns"
      ],
      "metadata": {
        "id": "E2bNeul2o7p5"
      },
      "execution_count": 127,
      "outputs": []
    },
    {
      "cell_type": "markdown",
      "source": [
        "👉🏻 Funcion final que simula el algoritmo MapReduce. Recibe los parametros correspondientes del grafo; las dimensiones del conjunto de imagenes de la funcion de hash; el conjunto de imagenes de la funcion de hash; la dimension del patron de grafo."
      ],
      "metadata": {
        "id": "6C9TSq9OV4Au"
      }
    },
    {
      "cell_type": "code",
      "source": [
        "def map_reduce(rdd_graph, b_dim, b_set, pattern_dim, show=False):\n",
        "  \"\"\"\n",
        "  Funcion que simula el algoritmo MapReduce, en donde se distribuye el grafo\n",
        "  en diferentes reducers y luego obtenemos los posibles patrones\n",
        "  de grafos formados combinando las informacion de todos los reducers.\n",
        "  \"\"\"\n",
        "  # Fase de Map: Obtenemos las llaves de cada reducer y el conjunto de aristas mapeados a estas llaves.\n",
        "  mapped_keys = map_phase(rdd_graph, b_dim, b_set, pattern_dim)\n",
        "\n",
        "  if show: # Mostras las llaves mapeadas\n",
        "    print(\"Fase Map: \\n\")\n",
        "    for key in mapped_keys.collect():\n",
        "      print(key)\n",
        "    print(\"\\nFase Reduce\\n\")\n",
        "\n",
        "  # Fase Reduce: Obtenemos todos los posibles patrones de L nodos.\n",
        "  patterns = reduce_phase(mapped_keys, pattern_dim)\n",
        "  return patterns"
      ],
      "metadata": {
        "id": "jzZyF1f3lS5I"
      },
      "execution_count": 128,
      "outputs": []
    },
    {
      "cell_type": "markdown",
      "source": [
        "# 3. Aplicacion MapReduce en Ejemplo Basico"
      ],
      "metadata": {
        "id": "i7mlfvf9Q6gy"
      }
    },
    {
      "cell_type": "markdown",
      "source": [
        "👉🏻 En esta seccion aplicaremos el algoritmo MapReduce para un grafo de prueba pequeño (el que fue dado al inicio de la tarea, con algunas modificaciones). Este lo guardamos como 'basic-example'."
      ],
      "metadata": {
        "id": "L0SJtu5EWJyH"
      }
    },
    {
      "cell_type": "code",
      "source": [
        "graph = load_graph('basic-example')\n",
        "rdd_graph = sc.parallelize(graph)\n",
        "rdd_graph.collect()"
      ],
      "metadata": {
        "colab": {
          "base_uri": "https://localhost:8080/"
        },
        "id": "sp8fBluSQ54M",
        "outputId": "41eb136f-0d54-414e-a1aa-a064c53b9bf7"
      },
      "execution_count": 129,
      "outputs": [
        {
          "output_type": "execute_result",
          "data": {
            "text/plain": [
              "[(1, 11, 2),\n",
              " (1, 11, 3),\n",
              " (2, 11, 3),\n",
              " (3, 11, 2),\n",
              " (3, 11, 4),\n",
              " (4, 11, 1),\n",
              " (4, 11, 2),\n",
              " (4, 11, 3),\n",
              " (4, 12, 5),\n",
              " (5, 12, 1),\n",
              " (5, 12, 2),\n",
              " (5, 12, 6),\n",
              " (1, 12, 2),\n",
              " (2, 12, 3),\n",
              " (3, 12, 1)]"
            ]
          },
          "metadata": {},
          "execution_count": 129
        }
      ]
    },
    {
      "cell_type": "markdown",
      "metadata": {
        "id": "tcJZG8CQQQne"
      },
      "source": [
        "## 3.1 MapReduce Algorithm for Triangles"
      ]
    },
    {
      "cell_type": "markdown",
      "source": [
        "👉🏻 Para encontrar triangulos dentro de un grafo utilizaremos el algoritmo Map Reduce para parametros b_0 = 2 y l = 3.\n",
        "\n",
        "👉🏻 En este caso, b_0=2 ya que al utilizar la funcion de hash modular `f(x) = x mod 2`, generamos un conjunto de 2 imagenes: {0,1}. En consecuencia, los posibles reducers son:\n",
        "```markdown\n",
        "REDUCERS = [(0, 0, 0),\n",
        "            (0, 0, 1),\n",
        "            (0, 1, 0),\n",
        "            (0, 1, 1),\n",
        "            (1, 0, 0),\n",
        "            (1, 0, 1),\n",
        "            (1, 1, 0),\n",
        "            (1, 1, 1)]\n",
        "```\n",
        "\n",
        "👉🏻 Dado que estamos buscando subgrafos de 3 nodos, entonces l_0 = 3.\n",
        "\n",
        "👉🏻 Las aristas se distribuyen dentro de los reducers, por lo que almacenamos el grafo de manera distribuida.En cada reducer verificamos si las aristas generan triangulos, en el caso que si (formaria un ciclo) se almacenará en una lista y retornaremos los nodos correspondientes.\n",
        "\n",
        "\n"
      ],
      "metadata": {
        "id": "d6qMxtBooGtc"
      }
    },
    {
      "cell_type": "code",
      "source": [
        "# Dimension de elementos del conjunto de imagenes de la funcion de hash: |{0,1}|\n",
        "b_0 = 2\n",
        "# Dimension del patron de grafo (triangulo para este caso)\n",
        "l_0 = 3\n",
        "# Conjunto de imagenes de la funcion de hash\n",
        "b_set_0 = list(range(b_0))\n",
        "# Posibles reducers\n",
        "reducers_0 = list(product(b_set_0, repeat=l_0))\n",
        "\n",
        "patterns = map_reduce(rdd_graph, b_0, reducers_0, l_0)\n",
        "\n",
        "patterns.collect()"
      ],
      "metadata": {
        "colab": {
          "base_uri": "https://localhost:8080/"
        },
        "id": "IK8OPRVPn8W-",
        "outputId": "9f2e01d4-52c0-41c6-bc84-bf0d79869fae"
      },
      "execution_count": 130,
      "outputs": [
        {
          "output_type": "execute_result",
          "data": {
            "text/plain": [
              "[((2, 3, 4),\n",
              "  [((2, 11, 3), (3, 11, 4), (4, 11, 2)),\n",
              "   ((2, 12, 3), (3, 11, 4), (4, 11, 2))]),\n",
              " ((1, 2, 3),\n",
              "  [((1, 12, 2), (2, 12, 3), (3, 12, 1)),\n",
              "   ((1, 11, 2), (2, 11, 3), (3, 12, 1)),\n",
              "   ((1, 11, 2), (2, 12, 3), (3, 12, 1)),\n",
              "   ((1, 12, 2), (2, 11, 3), (3, 12, 1))]),\n",
              " ((1, 3, 4), [((1, 11, 3), (3, 11, 4), (4, 11, 1))])]"
            ]
          },
          "metadata": {},
          "execution_count": 130
        }
      ]
    },
    {
      "cell_type": "markdown",
      "source": [
        "👉🏻 Al aplicar el algoritmo mapReduce, podemos notar que existen 3 tripletas de nodos que forman un triangulo. En donde estos nodos permiten formar diferentes patrones de grafos triangulares. En este caso, como tenemos mas de una etiqueta distinta, podemos notar que para una tripleta de nodo, forman mas de un triangulo.\n",
        "```markdown\n",
        "  (2,3,4); (1,2,3); (1,3,4)\n",
        "```\n",
        "\n",
        "👉🏻 Las siguientes funciones se definiran con el fin de desarrollar consultas sobre estos grafos.\n"
      ],
      "metadata": {
        "id": "MCtX0wRxW4TJ"
      }
    },
    {
      "cell_type": "code",
      "source": [
        "def filter_patterns(pattern, pattern_dim, labels):\n",
        "  \"\"\"\n",
        "  Funcion que retorna los patrones filtrados segun el label proporcionado como\n",
        "  parametro.\n",
        "  \"\"\"\n",
        "  pattern_labels = [edge[1] for edge in pattern]\n",
        "  for i in range(pattern_dim + 1):\n",
        "      # verificamos si coinciden los labels ...\n",
        "      if pattern_labels == labels:\n",
        "        return pattern\n",
        "      # Hacemos un desplazamiento hacia la derecha ...\n",
        "      pattern_labels = pattern_labels[i:] + pattern_labels[:i]\n",
        "\n",
        "  return None\n",
        "\n",
        "def bgp_query(rdd_graph, b_dim, reducers, pattern_dim, query):\n",
        "  \"\"\"\n",
        "  Funcion que retorna todos los patrones de grafos de dimension \"pattern_dim\"\n",
        "  que coincidan segun la query entregada.\n",
        "  \"\"\"\n",
        "  patterns = map_reduce(rdd_graph, b_dim, reducers, pattern_dim).values().flatMap(list)\n",
        "  processed_query = query.replace(\"(\", \"\").replace(\")\", \"\").split(\",\")\n",
        "  labels = [int(part.strip()) for part in processed_query if part.strip().isdigit()]\n",
        "\n",
        "  result = patterns.filter(lambda pattern: filter_patterns(pattern, pattern_dim, labels))\n",
        "  return result"
      ],
      "metadata": {
        "id": "H8MNUFa8XUDZ"
      },
      "execution_count": 131,
      "outputs": []
    },
    {
      "cell_type": "code",
      "source": [
        "# Realizamos la siguiente consulta en donde queremos obtener todos los triangulos\n",
        "# donde la etiqueta es 11, independiente del nodo.\n",
        "result = bgp_query(rdd_graph, b_0, reducers_0, l_0, \"(x,11,y), (y,11,z), (z,11,w)\")\n",
        "for res in result.collect():\n",
        "  print(res)"
      ],
      "metadata": {
        "colab": {
          "base_uri": "https://localhost:8080/"
        },
        "id": "rNlZTxSQXs6x",
        "outputId": "23c06bc6-efc2-4af0-dd31-7689e9422edc"
      },
      "execution_count": 132,
      "outputs": [
        {
          "output_type": "stream",
          "name": "stdout",
          "text": [
            "((2, 11, 3), (3, 11, 4), (4, 11, 2))\n",
            "((1, 11, 3), (3, 11, 4), (4, 11, 1))\n"
          ]
        }
      ]
    },
    {
      "cell_type": "markdown",
      "metadata": {
        "id": "aES7v_zWQZZL"
      },
      "source": [
        "## 3.2 MapReduce Algorithm for Squares\n"
      ]
    },
    {
      "cell_type": "markdown",
      "source": [
        "👉🏻 Ahora aplicaremos nuestro algoritmo para la busqueda de patrones de grafos de 4 variables. En primer lugar, utilizaremos el mismo algoritmo anterior, pero cambiaremos los parametros de l y b_set. En este caso, utilizaremos l = 4. En consecuencia, obtenemos una cantidad de $2^4$ reducers (definidos como `reducers_1`)."
      ],
      "metadata": {
        "id": "yBBJpfYRY7C0"
      }
    },
    {
      "cell_type": "code",
      "execution_count": 133,
      "metadata": {
        "id": "cRsbqVb-Qidy",
        "colab": {
          "base_uri": "https://localhost:8080/"
        },
        "outputId": "0ae0f652-384d-48ca-b411-65fefc00ee45"
      },
      "outputs": [
        {
          "output_type": "execute_result",
          "data": {
            "text/plain": [
              "[((1, 2, 3, 4),\n",
              "  [((1, 12, 2), (2, 12, 3), (3, 11, 4), (4, 11, 1)),\n",
              "   ((1, 12, 2), (2, 11, 3), (3, 11, 4), (4, 11, 1)),\n",
              "   ((1, 11, 2), (2, 11, 3), (3, 11, 4), (4, 11, 1)),\n",
              "   ((1, 11, 2), (2, 12, 3), (3, 11, 4), (4, 11, 1))]),\n",
              " ((2, 3, 4, 5),\n",
              "  [((2, 11, 3), (3, 11, 4), (4, 12, 5), (5, 12, 2)),\n",
              "   ((2, 12, 3), (3, 11, 4), (4, 12, 5), (5, 12, 2))]),\n",
              " ((2, 3, 3, 4),\n",
              "  [((2, 11, 3), (3, 11, 2), (3, 11, 4), (4, 11, 3)),\n",
              "   ((2, 12, 3), (3, 11, 2), (3, 11, 4), (4, 11, 3))]),\n",
              " ((1, 3, 4, 5), [((1, 11, 3), (3, 11, 4), (4, 12, 5), (5, 12, 1))]),\n",
              " ((1, 2, 3, 3), [((1, 11, 3), (2, 12, 3), (3, 11, 2), (3, 12, 1))])]"
            ]
          },
          "metadata": {},
          "execution_count": 133
        }
      ],
      "source": [
        "# Como buscaremos los posibles cuadrados a formar, entonces tendremos l=4 nodos\n",
        "# en el bgp.\n",
        "l_1 = 4\n",
        "# Tendremos b^4 reducers posibles.\n",
        "b_set_1 = list(range(b_0))\n",
        "reducers_1 = list(product(b_set_1, repeat=l_1))\n",
        "# aplicamos el algoritmo para patrones de grafos de l=4 nodos, con 2^4 reducers\n",
        "# y con un conjunto de preimagenes de la funcion de hash {0,1}.\n",
        "squares_patterns = map_reduce(rdd_graph, b_0, reducers_1, l_1)\n",
        "squares_patterns.collect() # Obtenemos todos los posibles patrones cuadrados sin importar el label."
      ]
    },
    {
      "cell_type": "markdown",
      "source": [
        "👉🏻 Ahora podemos notar que el algoritmo se demora aproximadamente 1s en correr.\n",
        "\n",
        "👉🏻 Podemos notar que existen 5 tuplas que forman patrones de grafos cuadrilateros (considerando que tenemos diferentes etiquetas, por lo que algunos nodos se repiten, sin embargo se debe a que presentan labels de aristas distintos).\n",
        "\n",
        "```markdown\n",
        "(1,2,3,4), (2,3,4,5), (2,3,3,4), (1,2,4,5), y (1,2,3,3).\n",
        "```"
      ],
      "metadata": {
        "id": "iA8vqrEGaEPX"
      }
    },
    {
      "cell_type": "code",
      "source": [
        "result = bgp_query(rdd_graph, b_0, reducers_1, l_1, \"(x,11,y), (y,11,z), (z,11,w), (w,11,x)\")\n",
        "for res in result.collect():\n",
        "  print(res)"
      ],
      "metadata": {
        "colab": {
          "base_uri": "https://localhost:8080/"
        },
        "id": "j7IUXiTUwf9X",
        "outputId": "619fc38d-1e16-4013-f5d4-4503d94916df"
      },
      "execution_count": 134,
      "outputs": [
        {
          "output_type": "stream",
          "name": "stdout",
          "text": [
            "((1, 11, 2), (2, 11, 3), (3, 11, 4), (4, 11, 1))\n",
            "((2, 11, 3), (3, 11, 2), (3, 11, 4), (4, 11, 3))\n"
          ]
        }
      ]
    },
    {
      "cell_type": "code",
      "source": [
        "result = bgp_query(rdd_graph, b_0, reducers_1, l_1, \"(x,11,y), (y,11,z), (z,12,w), (w,12,x)\")\n",
        "for res in result.collect():\n",
        "  print(res)"
      ],
      "metadata": {
        "colab": {
          "base_uri": "https://localhost:8080/"
        },
        "id": "pi-3j4s8srrK",
        "outputId": "f6d985fa-06b7-4096-c59b-26d295b43619"
      },
      "execution_count": 135,
      "outputs": [
        {
          "output_type": "stream",
          "name": "stdout",
          "text": [
            "((1, 12, 2), (2, 12, 3), (3, 11, 4), (4, 11, 1))\n",
            "((2, 11, 3), (3, 11, 4), (4, 12, 5), (5, 12, 2))\n",
            "((1, 11, 3), (3, 11, 4), (4, 12, 5), (5, 12, 1))\n"
          ]
        }
      ]
    },
    {
      "cell_type": "markdown",
      "source": [
        "# 4. Aplicacion de un grafo a gran escala: Twitter Graph"
      ],
      "metadata": {
        "id": "xLwA73BsyR54"
      }
    },
    {
      "cell_type": "markdown",
      "source": [
        "👉🏻 Ahora cargaremos un grafo de mayor tamaño (700 aristas) para evaluar nuestro algoritmo. El siguiente grafo corresponde a un grafo que modela la interaccion de cada usuario en la red social twitter.\n",
        "El grafo sera cargado como lista de tuplas, en donde cada tupla modela la relacion entre un usuario y otro. Consideramos las siguientes 2 tipos de relaciones\n",
        "\n",
        "    Relacion 0: INTERACTS_WITH - El usuario 1 interacciona con otro usuario 2\n",
        "    Relacion 1: SIMILAR_TO - El usuario 1 es similar al usuario 2\n",
        "\n",
        "Referencia: https://github.com/neo4j-graph-examples/twitter-v2\n"
      ],
      "metadata": {
        "id": "_7TMwckFyZNn"
      }
    },
    {
      "cell_type": "code",
      "source": [
        "graph = load_graph('neo4j-graph')\n",
        "rdd_graph = sc.parallelize(graph)"
      ],
      "metadata": {
        "id": "WT80_UCNyVpy",
        "outputId": "376d6959-e7a1-46c6-e685-c0c215b0434f",
        "colab": {
          "base_uri": "https://localhost:8080/"
        }
      },
      "execution_count": 136,
      "outputs": [
        {
          "output_type": "stream",
          "name": "stdout",
          "text": [
            "Connection to Neo4j established successfully!\n",
            "INTERACTS_WITH AS class 0\n",
            "SIMILAR_TO AS class 1\n"
          ]
        }
      ]
    },
    {
      "cell_type": "code",
      "source": [
        "rdd_graph.count() # Cantidad de aristas del grafo"
      ],
      "metadata": {
        "id": "Qgquhq2lF0ct",
        "outputId": "598d65ba-1a23-475d-bc05-818c1cdd2491",
        "colab": {
          "base_uri": "https://localhost:8080/"
        }
      },
      "execution_count": 137,
      "outputs": [
        {
          "output_type": "execute_result",
          "data": {
            "text/plain": [
              "744"
            ]
          },
          "metadata": {},
          "execution_count": 137
        }
      ]
    },
    {
      "cell_type": "markdown",
      "source": [
        "## 4.1 MapReduce Algorithm for Triangles"
      ],
      "metadata": {
        "id": "yujgfV070PB1"
      }
    },
    {
      "cell_type": "markdown",
      "source": [
        "👉🏻 Ahora aplicaremos MapReduce para encontrar los patrones de grafos con forma de triangulo dentro del grafo cargado desde Neo4j.\n",
        "\n"
      ],
      "metadata": {
        "id": "hbtFpyt4In-L"
      }
    },
    {
      "cell_type": "code",
      "source": [
        "patterns = map_reduce(rdd_graph, b_0, reducers_0, l_0)\n",
        "patterns.collect()"
      ],
      "metadata": {
        "id": "nRcgQ7zLzOLq",
        "outputId": "535de247-33d8-42a6-e1c7-20a0d7128fcf",
        "colab": {
          "base_uri": "https://localhost:8080/"
        }
      },
      "execution_count": 138,
      "outputs": [
        {
          "output_type": "execute_result",
          "data": {
            "text/plain": [
              "[((297, 467, 487), [((297, 1, 487), (467, 1, 297), (487, 0, 467))]),\n",
              " ((47, 329, 487), [((47, 1, 487), (329, 1, 47), (487, 0, 329))]),\n",
              " ((47, 297, 467), [((47, 0, 467), (297, 1, 47), (467, 1, 297))]),\n",
              " ((47, 401, 487), [((47, 1, 487), (401, 1, 47), (487, 0, 401))]),\n",
              " ((47, 467, 487), [((47, 1, 487), (467, 1, 47), (487, 0, 467))]),\n",
              " ((143, 345, 451),\n",
              "  [((143, 0, 451), (345, 0, 143), (451, 1, 345)),\n",
              "   ((143, 1, 345), (345, 0, 451), (451, 1, 143))]),\n",
              " ((181, 239, 263),\n",
              "  [((181, 1, 239), (239, 0, 263), (263, 1, 181)),\n",
              "   ((181, 0, 263), (239, 0, 181), (263, 1, 239))]),\n",
              " ((151, 187, 317), [((151, 0, 187), (187, 1, 317), (317, 1, 151))]),\n",
              " ((69, 371, 449), [((69, 0, 449), (371, 1, 69), (449, 1, 371))]),\n",
              " ((3, 69, 483), [((3, 0, 483), (69, 0, 3), (483, 1, 69))]),\n",
              " ((3, 119, 371), [((3, 0, 119), (119, 0, 371), (371, 1, 3))]),\n",
              " ((3, 371, 449), [((3, 0, 449), (371, 1, 3), (449, 1, 371))]),\n",
              " ((3, 119, 483), [((3, 0, 483), (119, 1, 3), (483, 1, 119))]),\n",
              " ((3, 69, 119), [((3, 0, 119), (69, 0, 3), (119, 1, 69))]),\n",
              " ((119, 371, 449),\n",
              "  [((119, 0, 371), (371, 0, 449), (449, 1, 119)),\n",
              "   ((119, 0, 449), (371, 1, 119), (449, 1, 371))]),\n",
              " ((3, 371, 483), [((3, 0, 483), (371, 1, 3), (483, 0, 371))]),\n",
              " ((371, 449, 483), [((371, 1, 483), (449, 1, 371), (483, 0, 449))]),\n",
              " ((119, 371, 483), [((119, 0, 371), (371, 1, 483), (483, 1, 119))]),\n",
              " ((3, 69, 371), [((3, 0, 371), (69, 0, 3), (371, 1, 69))]),\n",
              " ((69, 449, 483), [((69, 0, 449), (449, 1, 483), (483, 1, 69))]),\n",
              " ((119, 449, 483), [((119, 0, 449), (449, 1, 483), (483, 1, 119))]),\n",
              " ((3, 69, 449), [((3, 1, 69), (69, 0, 449), (449, 1, 3))]),\n",
              " ((69, 318, 504), [((69, 0, 504), (318, 0, 69), (504, 1, 318))]),\n",
              " ((69, 318, 324), [((69, 1, 318), (318, 0, 324), (324, 1, 69))]),\n",
              " ((47, 82, 362), [((47, 0, 82), (82, 0, 362), (362, 1, 47))]),\n",
              " ((47, 160, 302), [((47, 0, 302), (160, 1, 47), (302, 0, 160))]),\n",
              " ((69, 308, 504),\n",
              "  [((69, 0, 308), (308, 1, 504), (504, 1, 69)),\n",
              "   ((69, 0, 504), (308, 1, 69), (504, 0, 308))]),\n",
              " ((69, 308, 324), [((69, 0, 308), (308, 0, 324), (324, 1, 69))]),\n",
              " ((69, 308, 318),\n",
              "  [((69, 1, 318), (308, 1, 69), (318, 0, 308)),\n",
              "   ((69, 0, 308), (308, 1, 318), (318, 0, 69))]),\n",
              " ((3, 294, 308), [((3, 1, 294), (294, 1, 308), (308, 0, 3))]),\n",
              " ((294, 308, 449), [((294, 1, 308), (308, 0, 449), (449, 1, 294))]),\n",
              " ((308, 318, 504), [((308, 1, 504), (318, 0, 308), (504, 1, 318))]),\n",
              " ((47, 318, 487), [((47, 1, 318), (318, 1, 487), (487, 0, 47))]),\n",
              " ((28, 401, 487),\n",
              "  [((28, 1, 401), (401, 1, 487), (487, 0, 28)),\n",
              "   ((28, 1, 487), (401, 0, 28), (487, 0, 401))]),\n",
              " ((151, 187, 298), [((151, 0, 187), (187, 1, 298), (298, 0, 151))]),\n",
              " ((13, 26, 387), [((13, 1, 387), (26, 1, 13), (387, 0, 26))]),\n",
              " ((3, 69, 294), [((3, 1, 294), (69, 0, 3), (294, 1, 69))]),\n",
              " ((69, 225, 324), [((69, 0, 324), (225, 1, 69), (324, 0, 225))]),\n",
              " ((69, 308, 327), [((69, 0, 308), (308, 1, 327), (327, 1, 69))]),\n",
              " ((308, 371, 449), [((308, 0, 449), (371, 1, 308), (449, 1, 371))]),\n",
              " ((119, 294, 371), [((119, 0, 371), (294, 0, 119), (371, 1, 294))]),\n",
              " ((294, 371, 449), [((294, 0, 449), (371, 1, 294), (449, 1, 371))]),\n",
              " ((3, 294, 371), [((3, 1, 294), (294, 0, 371), (371, 1, 3))]),\n",
              " ((3, 294, 483),\n",
              "  [((3, 1, 294), (294, 0, 483), (483, 1, 3)),\n",
              "   ((3, 0, 483), (294, 0, 3), (483, 1, 294))]),\n",
              " ((3, 308, 449), [((3, 1, 308), (308, 0, 449), (449, 1, 3))]),\n",
              " ((3, 69, 308), [((3, 1, 69), (69, 0, 308), (308, 0, 3))]),\n",
              " ((119, 294, 483),\n",
              "  [((119, 1, 294), (294, 0, 483), (483, 1, 119)),\n",
              "   ((119, 0, 483), (294, 0, 119), (483, 1, 294))]),\n",
              " ((119, 308, 449), [((119, 1, 308), (308, 0, 449), (449, 1, 119))]),\n",
              " ((3, 119, 294), [((3, 1, 294), (119, 1, 3), (294, 0, 119))]),\n",
              " ((308, 449, 483), [((308, 0, 449), (449, 1, 483), (483, 1, 308))]),\n",
              " ((294, 371, 483),\n",
              "  [((294, 0, 371), (371, 1, 483), (483, 1, 294)),\n",
              "   ((294, 0, 483), (371, 1, 294), (483, 0, 371))]),\n",
              " ((294, 449, 483),\n",
              "  [((294, 0, 449), (449, 1, 483), (483, 1, 294)),\n",
              "   ((294, 0, 483), (449, 1, 294), (483, 0, 449))]),\n",
              " ((3, 294, 449), [((3, 1, 294), (294, 0, 449), (449, 1, 3))])]"
            ]
          },
          "metadata": {},
          "execution_count": 138
        }
      ]
    },
    {
      "cell_type": "markdown",
      "source": [
        "👉🏻 El algoritmo es bien rapido de ejecutar, y podemos ver claramente las relaciones entre diferentes usuarios, para diferentes labels."
      ],
      "metadata": {
        "id": "MUrxrmTbIyoZ"
      }
    },
    {
      "cell_type": "markdown",
      "source": [
        "👉🏻 Para poder analizar las relaciones y compararlo con el grafo mostrado en Neo4j, realizaremos una consulta, y luego compararemos los resultados ..."
      ],
      "metadata": {
        "id": "-xQk8rW5JeeP"
      }
    },
    {
      "cell_type": "code",
      "source": [
        "# Cargamos el diccionario que guardamos los nombres de usuarios y el id asociado.\n",
        "users_id = np.load('users_id.npy', allow_pickle=True).item()\n",
        "dict_users_id = {value : key for key, value in users_id.items()}\n",
        "# Cargamos el tipo de relacion.\n",
        "relationship_class = np.load('relationship_class.npy', allow_pickle=True).item()\n",
        "dict_relation_class = {value : key for key, value in relationship_class.items()}"
      ],
      "metadata": {
        "id": "fk0X6spHKA7m"
      },
      "execution_count": 139,
      "outputs": []
    },
    {
      "cell_type": "code",
      "source": [
        "result = bgp_query(rdd_graph, b_0, reducers_0, l_0, \"(x,1,y), (y,0,z), (z,0,w)\")\n",
        "result.collect()"
      ],
      "metadata": {
        "id": "84BwPADGOksb",
        "outputId": "d4ffee0a-0131-4954-b1af-28715ebfd0b6",
        "colab": {
          "base_uri": "https://localhost:8080/"
        }
      },
      "execution_count": 140,
      "outputs": [
        {
          "output_type": "execute_result",
          "data": {
            "text/plain": [
              "[((3, 0, 483), (371, 1, 3), (483, 0, 371)),\n",
              " ((47, 0, 302), (160, 1, 47), (302, 0, 160)),\n",
              " ((69, 0, 504), (308, 1, 69), (504, 0, 308)),\n",
              " ((69, 0, 308), (308, 1, 318), (318, 0, 69)),\n",
              " ((28, 1, 487), (401, 0, 28), (487, 0, 401)),\n",
              " ((151, 0, 187), (187, 1, 298), (298, 0, 151)),\n",
              " ((69, 0, 324), (225, 1, 69), (324, 0, 225)),\n",
              " ((3, 1, 69), (69, 0, 308), (308, 0, 3)),\n",
              " ((294, 0, 483), (371, 1, 294), (483, 0, 371)),\n",
              " ((294, 0, 483), (449, 1, 294), (483, 0, 449))]"
            ]
          },
          "metadata": {},
          "execution_count": 140
        }
      ]
    },
    {
      "cell_type": "code",
      "source": [
        "def load_usernames(pat):\n",
        "  \"\"\"\n",
        "  Funcion que retorna el nombre de usuario codificado a un id, y tambien transforma\n",
        "  la clase del label a su valor original\n",
        "  \"\"\"\n",
        "  list_users = []\n",
        "  for i in range(len(pat)):\n",
        "    edge = pat[i]\n",
        "    user1 = dict_users_id[edge[0]]\n",
        "    label = dict_relation_class[edge[1]]\n",
        "    user2 = dict_users_id[edge[2]]\n",
        "    list_users.append((user1, label, user2))\n",
        "  return list_users"
      ],
      "metadata": {
        "id": "aqQs7lmc8fdd"
      },
      "execution_count": 141,
      "outputs": []
    },
    {
      "cell_type": "markdown",
      "source": [
        "👉🏻 Ahora con la consulta anterior, analizaremos los usuarios involucrados en el siguiente caso: el primer usuario interacciona con el segundo; el segundo es similar al tercero; y el tercero el similar al primero."
      ],
      "metadata": {
        "id": "Lx9bDXqV85gx"
      }
    },
    {
      "cell_type": "code",
      "source": [
        "result.map(load_usernames).collect()"
      ],
      "metadata": {
        "id": "tGo4JxqQ7sg-",
        "outputId": "9a6399d1-f738-4235-ff2a-1535be068e31",
        "colab": {
          "base_uri": "https://localhost:8080/"
        }
      },
      "execution_count": 142,
      "outputs": [
        {
          "output_type": "execute_result",
          "data": {
            "text/plain": [
              "[[('John Wolpert', 'INTERACTS_WITH', 'Brana Rakic'),\n",
              "  ('Wen.S', 'SIMILAR_TO', 'John Wolpert'),\n",
              "  ('Brana Rakic', 'INTERACTS_WITH', 'Wen.S')],\n",
              " [('Michael Hunger', 'INTERACTS_WITH', 'Sandro Miccoli'),\n",
              "  ('CRYPTEMES', 'SIMILAR_TO', 'Michael Hunger'),\n",
              "  ('Sandro Miccoli', 'INTERACTS_WITH', 'CRYPTEMES')],\n",
              " [('Dr.Salahideen ALHAJ 🔶 🔸️#WearAMask #SDGs',\n",
              "   'INTERACTS_WITH',\n",
              "   'Chidambara .ML.'),\n",
              "  ('Nancy Tremblay❤😀🌻🇨🇦',\n",
              "   'SIMILAR_TO',\n",
              "   'Dr.Salahideen ALHAJ 🔶 🔸️#WearAMask #SDGs'),\n",
              "  ('Chidambara .ML.', 'INTERACTS_WITH', 'Nancy Tremblay❤😀🌻🇨🇦')],\n",
              " [('Dr.Salahideen ALHAJ 🔶 🔸️#WearAMask #SDGs',\n",
              "   'INTERACTS_WITH',\n",
              "   'Nancy Tremblay❤😀🌻🇨🇦'),\n",
              "  ('Nancy Tremblay❤😀🌻🇨🇦', 'SIMILAR_TO', 'Lju Lazarevic'),\n",
              "  ('Lju Lazarevic',\n",
              "   'INTERACTS_WITH',\n",
              "   'Dr.Salahideen ALHAJ 🔶 🔸️#WearAMask #SDGs')],\n",
              " [('Nigel Small 🇪🇺', 'SIMILAR_TO', 'Michael Simons'),\n",
              "  ('Jim Webber', 'INTERACTS_WITH', 'Nigel Small 🇪🇺'),\n",
              "  ('Michael Simons', 'INTERACTS_WITH', 'Jim Webber')],\n",
              " [('Sonja Heward-mills', 'INTERACTS_WITH', 'Open Art Data'),\n",
              "  ('Open Art Data', 'SIMILAR_TO', 'Jesús Barrasa'),\n",
              "  ('Jesús Barrasa', 'INTERACTS_WITH', 'Sonja Heward-mills')],\n",
              " [('Dr.Salahideen ALHAJ 🔶 🔸️#WearAMask #SDGs', 'INTERACTS_WITH', 'Javelynn'),\n",
              "  ('Françoise Morvan',\n",
              "   'SIMILAR_TO',\n",
              "   'Dr.Salahideen ALHAJ 🔶 🔸️#WearAMask #SDGs'),\n",
              "  ('Javelynn', 'INTERACTS_WITH', 'Françoise Morvan')],\n",
              " [('John Wolpert', 'SIMILAR_TO', 'Dr.Salahideen ALHAJ 🔶 🔸️#WearAMask #SDGs'),\n",
              "  ('Dr.Salahideen ALHAJ 🔶 🔸️#WearAMask #SDGs',\n",
              "   'INTERACTS_WITH',\n",
              "   'Nancy Tremblay❤😀🌻🇨🇦'),\n",
              "  ('Nancy Tremblay❤😀🌻🇨🇦', 'INTERACTS_WITH', 'John Wolpert')],\n",
              " [('Born To Be Idle', 'INTERACTS_WITH', 'Brana Rakic'),\n",
              "  ('Wen.S', 'SIMILAR_TO', 'Born To Be Idle'),\n",
              "  ('Brana Rakic', 'INTERACTS_WITH', 'Wen.S')],\n",
              " [('Born To Be Idle', 'INTERACTS_WITH', 'Brana Rakic'),\n",
              "  ('guinnessstache', 'SIMILAR_TO', 'Born To Be Idle'),\n",
              "  ('Brana Rakic', 'INTERACTS_WITH', 'guinnessstache')]]"
            ]
          },
          "metadata": {},
          "execution_count": 142
        }
      ]
    },
    {
      "cell_type": "markdown",
      "source": [
        "## 4.2 MapReduce For Squares"
      ],
      "metadata": {
        "id": "utv-i53dF-8L"
      }
    },
    {
      "cell_type": "markdown",
      "source": [
        "👉🏻 Ahora aplicaremos el algoritmo MapReduce para buscar patrones todos los posibles patrones de grafos de triangulos, para luego realizar una consulta."
      ],
      "metadata": {
        "id": "0ekmEZNB9Vrb"
      }
    },
    {
      "cell_type": "code",
      "source": [
        "patterns = map_reduce(rdd_graph, b_0, reducers_1, l_1)\n",
        "patterns.collect()"
      ],
      "metadata": {
        "id": "6nwtcw0lF-rl",
        "outputId": "b8303519-763b-469c-b3f8-8b002e32607e",
        "colab": {
          "base_uri": "https://localhost:8080/"
        }
      },
      "execution_count": 143,
      "outputs": [
        {
          "output_type": "execute_result",
          "data": {
            "text/plain": [
              "[((28, 218, 487, 487),\n",
              "  [((28, 1, 487), (218, 1, 487), (487, 0, 28), (487, 0, 218))]),\n",
              " ((297, 467, 467, 487),\n",
              "  [((297, 0, 467), (467, 1, 297), (467, 1, 487), (487, 0, 467))]),\n",
              " ((47, 329, 329, 487),\n",
              "  [((47, 0, 329), (329, 1, 47), (329, 1, 487), (487, 0, 329))]),\n",
              " ((329, 401, 487, 487),\n",
              "  [((329, 1, 487), (401, 1, 487), (487, 0, 329), (487, 0, 401))]),\n",
              " ((401, 467, 487, 487),\n",
              "  [((401, 1, 487), (467, 1, 487), (487, 0, 401), (487, 0, 467))]),\n",
              " ((289, 318, 318, 471),\n",
              "  [((289, 1, 318), (318, 0, 289), (318, 0, 471), (471, 1, 318))]),\n",
              " ((69, 318, 318, 471),\n",
              "  [((69, 1, 318), (318, 0, 69), (318, 0, 471), (471, 1, 318))]),\n",
              " ((69, 289, 318, 318),\n",
              "  [((69, 1, 318), (289, 1, 318), (318, 0, 69), (318, 0, 289))]),\n",
              " ((308, 318, 318, 374),\n",
              "  [((308, 1, 318), (318, 0, 308), (318, 0, 374), (374, 1, 318))]),\n",
              " ((47, 318, 318, 471),\n",
              "  [((47, 1, 318), (318, 0, 47), (318, 0, 471), (471, 1, 318))]),\n",
              " ((47, 289, 318, 318),\n",
              "  [((47, 1, 318), (289, 1, 318), (318, 0, 47), (318, 0, 289))]),\n",
              " ((69, 225, 318, 324),\n",
              "  [((69, 1, 318), (225, 1, 69), (318, 0, 324), (324, 0, 225))]),\n",
              " ((47, 47, 318, 362),\n",
              "  [((47, 0, 362), (47, 1, 318), (318, 0, 47), (362, 1, 47))]),\n",
              " ((47, 47, 302, 362),\n",
              "  [((47, 0, 302), (47, 0, 362), (302, 1, 47), (362, 1, 47))]),\n",
              " ((47, 47, 82, 362), [((47, 0, 82), (47, 0, 362), (82, 1, 47), (362, 1, 47))]),\n",
              " ((47, 47, 329, 467),\n",
              "  [((47, 0, 329), (47, 0, 467), (329, 1, 47), (467, 1, 47))]),\n",
              " ((47, 47, 309, 329),\n",
              "  [((47, 0, 309), (47, 0, 329), (309, 1, 47), (329, 1, 47))]),\n",
              " ((47, 47, 309, 467),\n",
              "  [((47, 0, 309), (47, 0, 467), (309, 1, 47), (467, 1, 47))]),\n",
              " ((47, 47, 160, 318),\n",
              "  [((47, 0, 160), (47, 1, 318), (160, 1, 47), (318, 0, 47))]),\n",
              " ((47, 47, 160, 302),\n",
              "  [((47, 0, 160), (47, 0, 302), (160, 1, 47), (302, 1, 47))]),\n",
              " ((47, 47, 82, 160), [((47, 0, 82), (47, 0, 160), (82, 1, 47), (160, 1, 47))]),\n",
              " ((47, 297, 467, 467),\n",
              "  [((47, 0, 467), (297, 0, 467), (467, 1, 47), (467, 1, 297))]),\n",
              " ((47, 47, 309, 487),\n",
              "  [((47, 0, 309), (47, 1, 487), (309, 1, 47), (487, 0, 47))]),\n",
              " ((28, 28, 401, 487),\n",
              "  [((28, 1, 401), (28, 1, 487), (401, 0, 28), (487, 0, 28))]),\n",
              " ((143, 345, 451, 451),\n",
              "  [((143, 0, 451), (345, 0, 451), (451, 1, 143), (451, 1, 345))]),\n",
              " ((143, 143, 345, 451),\n",
              "  [((143, 0, 451), (143, 1, 345), (345, 0, 143), (451, 1, 143))]),\n",
              " ((143, 345, 345, 451),\n",
              "  [((143, 1, 345), (345, 0, 143), (345, 0, 451), (451, 1, 345))]),\n",
              " ((181, 181, 239, 263),\n",
              "  [((181, 0, 263), (181, 1, 239), (239, 0, 181), (263, 1, 181))]),\n",
              " ((181, 239, 263, 263),\n",
              "  [((181, 0, 263), (239, 0, 263), (263, 1, 181), (263, 1, 239))]),\n",
              " ((151, 187, 187, 317),\n",
              "  [((151, 0, 187), (187, 1, 151), (187, 1, 317), (317, 0, 187))]),\n",
              " ((69, 308, 327, 504),\n",
              "  [((69, 0, 504), (308, 1, 327), (327, 1, 69), (504, 0, 308))]),\n",
              " ((3, 69, 371, 449), [((3, 1, 69), (69, 0, 449), (371, 1, 3), (449, 1, 371))]),\n",
              " ((3, 69, 69, 327), [((3, 1, 69), (69, 0, 3), (69, 0, 327), (327, 1, 69))]),\n",
              " ((69, 225, 324, 324),\n",
              "  [((69, 0, 324), (225, 1, 324), (324, 0, 225), (324, 1, 69))]),\n",
              " ((69, 225, 308, 324),\n",
              "  [((69, 0, 308), (225, 1, 69), (308, 0, 324), (324, 0, 225))]),\n",
              " ((308, 308, 318, 504),\n",
              "  [((308, 1, 318), (308, 1, 504), (318, 0, 308), (504, 0, 308))]),\n",
              " ((69, 308, 318, 327),\n",
              "  [((69, 1, 318), (308, 1, 327), (318, 0, 308), (327, 1, 69))]),\n",
              " ((3, 294, 308, 483),\n",
              "  [((3, 1, 294), (294, 0, 483), (308, 0, 3), (483, 1, 308))]),\n",
              " ((294, 308, 371, 449),\n",
              "  [((294, 0, 371), (308, 0, 449), (371, 1, 308), (449, 1, 294)),\n",
              "   ((294, 1, 308), (308, 0, 449), (371, 1, 294), (449, 1, 371))]),\n",
              " ((69, 294, 308, 449),\n",
              "  [((69, 0, 308), (294, 1, 69), (308, 0, 449), (449, 1, 294))]),\n",
              " ((3, 294, 294, 483),\n",
              "  [((3, 1, 294), (294, 0, 3), (294, 0, 483), (483, 1, 294))]),\n",
              " ((3, 3, 243, 371), [((3, 0, 243), (3, 0, 371), (243, 1, 3), (371, 1, 3))]),\n",
              " ((3, 119, 119, 371),\n",
              "  [((3, 0, 119), (119, 0, 371), (119, 1, 3), (371, 1, 119))]),\n",
              " ((3, 371, 449, 449),\n",
              "  [((3, 0, 449), (371, 0, 449), (449, 1, 3), (449, 1, 371))]),\n",
              " ((119, 294, 294, 483),\n",
              "  [((119, 1, 294), (294, 0, 119), (294, 0, 483), (483, 1, 294))]),\n",
              " ((3, 119, 371, 449),\n",
              "  [((3, 0, 449), (119, 0, 371), (371, 1, 3), (449, 1, 119)),\n",
              "   ((3, 0, 119), (119, 0, 449), (371, 1, 3), (449, 1, 371))]),\n",
              " ((3, 69, 119, 483),\n",
              "  [((3, 0, 119), (69, 0, 3), (119, 0, 483), (483, 1, 69)),\n",
              "   ((3, 0, 483), (69, 0, 3), (119, 1, 69), (483, 1, 119))]),\n",
              " ((3, 371, 449, 483),\n",
              "  [((3, 0, 483), (371, 1, 3), (449, 1, 371), (483, 0, 449))]),\n",
              " ((3, 119, 371, 483),\n",
              "  [((3, 0, 483), (119, 0, 371), (371, 1, 3), (483, 1, 119))]),\n",
              " ((3, 371, 371, 449),\n",
              "  [((3, 0, 371), (371, 0, 449), (371, 1, 3), (449, 1, 371))]),\n",
              " ((294, 294, 371, 483),\n",
              "  [((294, 0, 371), (294, 0, 483), (371, 1, 294), (483, 1, 294))]),\n",
              " ((3, 119, 371, 371),\n",
              "  [((3, 0, 371), (119, 0, 371), (371, 1, 3), (371, 1, 119))]),\n",
              " ((3, 69, 371, 483),\n",
              "  [((3, 0, 483), (69, 0, 3), (371, 1, 69), (483, 0, 371)),\n",
              "   ((3, 0, 371), (69, 0, 3), (371, 1, 483), (483, 1, 69))]),\n",
              " ((3, 69, 449, 483), [((3, 0, 449), (69, 0, 3), (449, 1, 483), (483, 1, 69))]),\n",
              " ((294, 294, 449, 483),\n",
              "  [((294, 0, 449), (294, 0, 483), (449, 1, 294), (483, 1, 294))]),\n",
              " ((181, 239, 239, 263),\n",
              "  [((181, 1, 239), (239, 0, 181), (239, 0, 263), (263, 1, 239))]),\n",
              " ((47, 401, 487, 487),\n",
              "  [((47, 1, 487), (401, 1, 487), (487, 0, 47), (487, 0, 401))]),\n",
              " ((47, 329, 487, 487),\n",
              "  [((47, 1, 487), (329, 1, 487), (487, 0, 47), (487, 0, 329))]),\n",
              " ((47, 467, 487, 487),\n",
              "  [((47, 1, 487), (467, 1, 487), (487, 0, 47), (487, 0, 467))]),\n",
              " ((47, 47, 329, 487),\n",
              "  [((47, 0, 329), (47, 1, 487), (329, 1, 47), (487, 0, 47))]),\n",
              " ((3, 3, 69, 371), [((3, 0, 371), (3, 1, 69), (69, 0, 3), (371, 1, 3))]),\n",
              " ((3, 3, 371, 483), [((3, 0, 371), (3, 0, 483), (371, 1, 3), (483, 1, 3))]),\n",
              " ((3, 3, 69, 243), [((3, 0, 243), (3, 1, 69), (69, 0, 3), (243, 1, 3))]),\n",
              " ((3, 3, 243, 483), [((3, 0, 243), (3, 0, 483), (243, 1, 3), (483, 1, 3))]),\n",
              " ((3, 3, 69, 449), [((3, 0, 449), (3, 1, 69), (69, 0, 3), (449, 1, 3))]),\n",
              " ((3, 3, 69, 119), [((3, 0, 119), (3, 1, 69), (69, 0, 3), (119, 1, 3))]),\n",
              " ((3, 371, 371, 483),\n",
              "  [((3, 0, 371), (371, 1, 3), (371, 1, 483), (483, 0, 371))]),\n",
              " ((3, 3, 69, 483), [((3, 0, 483), (3, 1, 69), (69, 0, 3), (483, 1, 3))]),\n",
              " ((47, 297, 467, 487),\n",
              "  [((47, 1, 487), (297, 1, 47), (467, 1, 297), (487, 0, 467))]),\n",
              " ((47, 69, 318, 318),\n",
              "  [((47, 1, 318), (69, 1, 318), (318, 0, 47), (318, 0, 69))]),\n",
              " ((47, 47, 160, 362),\n",
              "  [((47, 0, 160), (47, 0, 362), (160, 1, 47), (362, 1, 47))]),\n",
              " ((47, 47, 82, 318), [((47, 0, 82), (47, 1, 318), (82, 1, 47), (318, 0, 47))]),\n",
              " ((47, 47, 82, 302), [((47, 0, 82), (47, 0, 302), (82, 1, 47), (302, 1, 47))]),\n",
              " ((47, 47, 302, 318),\n",
              "  [((47, 0, 302), (47, 1, 318), (302, 1, 47), (318, 0, 47))]),\n",
              " ((69, 69, 318, 504),\n",
              "  [((69, 0, 504), (69, 1, 318), (318, 0, 69), (504, 1, 69))]),\n",
              " ((69, 69, 308, 504),\n",
              "  [((69, 0, 308), (69, 0, 504), (308, 1, 69), (504, 1, 69))]),\n",
              " ((69, 69, 324, 504),\n",
              "  [((69, 0, 324), (69, 0, 504), (324, 1, 69), (504, 1, 69))]),\n",
              " ((69, 69, 318, 324),\n",
              "  [((69, 0, 324), (69, 1, 318), (318, 0, 69), (324, 1, 69))]),\n",
              " ((69, 69, 308, 324),\n",
              "  [((69, 0, 308), (69, 0, 324), (308, 1, 69), (324, 1, 69))]),\n",
              " ((69, 69, 308, 318),\n",
              "  [((69, 0, 308), (69, 1, 318), (308, 1, 69), (318, 0, 69))]),\n",
              " ((3, 69, 308, 308), [((3, 1, 308), (69, 0, 308), (308, 0, 3), (308, 1, 69))]),\n",
              " ((3, 3, 294, 308), [((3, 1, 294), (3, 1, 308), (294, 0, 3), (308, 0, 3))]),\n",
              " ((3, 294, 308, 371),\n",
              "  [((3, 1, 294), (294, 0, 371), (308, 0, 3), (371, 1, 308))]),\n",
              " ((3, 119, 294, 308),\n",
              "  [((3, 1, 294), (119, 1, 308), (294, 0, 119), (308, 0, 3))]),\n",
              " ((3, 69, 294, 308), [((3, 1, 294), (69, 0, 308), (294, 1, 69), (308, 0, 3))]),\n",
              " ((294, 308, 449, 483),\n",
              "  [((294, 0, 483), (308, 0, 449), (449, 1, 294), (483, 1, 308))]),\n",
              " ((3, 294, 308, 449),\n",
              "  [((3, 1, 308), (294, 0, 3), (308, 0, 449), (449, 1, 294))]),\n",
              " ((119, 294, 308, 449),\n",
              "  [((119, 1, 308), (294, 0, 119), (308, 0, 449), (449, 1, 294))]),\n",
              " ((119, 294, 294, 371),\n",
              "  [((119, 1, 294), (294, 0, 119), (294, 0, 371), (371, 1, 294))]),\n",
              " ((3, 294, 294, 449),\n",
              "  [((3, 1, 294), (294, 0, 3), (294, 0, 449), (449, 1, 294))]),\n",
              " ((294, 294, 371, 449),\n",
              "  [((294, 0, 371), (294, 0, 449), (371, 1, 294), (449, 1, 294))]),\n",
              " ((119, 294, 294, 449),\n",
              "  [((119, 1, 294), (294, 0, 119), (294, 0, 449), (449, 1, 294))]),\n",
              " ((3, 294, 294, 371),\n",
              "  [((3, 1, 294), (294, 0, 3), (294, 0, 371), (371, 1, 294))]),\n",
              " ((3, 119, 294, 294),\n",
              "  [((3, 1, 294), (119, 1, 294), (294, 0, 3), (294, 0, 119))]),\n",
              " ((47, 47, 318, 487),\n",
              "  [((47, 1, 318), (47, 1, 487), (318, 0, 47), (487, 0, 47))]),\n",
              " ((28, 401, 487, 487),\n",
              "  [((28, 1, 487), (401, 1, 487), (487, 0, 28), (487, 0, 401))]),\n",
              " ((28, 329, 487, 487),\n",
              "  [((28, 1, 487), (329, 1, 487), (487, 0, 28), (487, 0, 329))]),\n",
              " ((28, 467, 487, 487),\n",
              "  [((28, 1, 487), (467, 1, 487), (487, 0, 28), (487, 0, 467))]),\n",
              " ((47, 318, 329, 487),\n",
              "  [((47, 1, 318), (318, 1, 487), (329, 1, 47), (487, 0, 329))]),\n",
              " ((218, 401, 487, 487),\n",
              "  [((218, 1, 487), (401, 1, 487), (487, 0, 218), (487, 0, 401))]),\n",
              " ((218, 329, 487, 487),\n",
              "  [((218, 1, 487), (329, 1, 487), (487, 0, 218), (487, 0, 329))]),\n",
              " ((218, 467, 487, 487),\n",
              "  [((218, 1, 487), (467, 1, 487), (487, 0, 218), (487, 0, 467))]),\n",
              " ((289, 318, 318, 374),\n",
              "  [((289, 1, 318), (318, 0, 289), (318, 0, 374), (374, 1, 318))]),\n",
              " ((289, 308, 318, 318),\n",
              "  [((289, 1, 318), (308, 1, 318), (318, 0, 289), (318, 0, 308))]),\n",
              " ((47, 69, 318, 333),\n",
              "  [((47, 1, 318), (69, 1, 333), (318, 0, 69), (333, 1, 47))]),\n",
              " ((69, 318, 318, 374),\n",
              "  [((69, 1, 318), (318, 0, 69), (318, 0, 374), (374, 1, 318))]),\n",
              " ((69, 308, 318, 318),\n",
              "  [((69, 1, 318), (308, 1, 318), (318, 0, 69), (318, 0, 308))]),\n",
              " ((318, 318, 374, 471),\n",
              "  [((318, 0, 374), (318, 0, 471), (374, 1, 318), (471, 1, 318))]),\n",
              " ((308, 318, 318, 471),\n",
              "  [((308, 1, 318), (318, 0, 308), (318, 0, 471), (471, 1, 318))]),\n",
              " ((47, 318, 318, 374),\n",
              "  [((47, 1, 318), (318, 0, 47), (318, 0, 374), (374, 1, 318))]),\n",
              " ((47, 308, 318, 318),\n",
              "  [((47, 1, 318), (308, 1, 318), (318, 0, 47), (318, 0, 308))]),\n",
              " ((47, 47, 362, 467),\n",
              "  [((47, 0, 362), (47, 0, 467), (362, 1, 47), (467, 1, 47))]),\n",
              " ((47, 47, 309, 362),\n",
              "  [((47, 0, 309), (47, 0, 362), (309, 1, 47), (362, 1, 47))]),\n",
              " ((47, 47, 329, 362),\n",
              "  [((47, 0, 329), (47, 0, 362), (329, 1, 47), (362, 1, 47))]),\n",
              " ((47, 47, 318, 329),\n",
              "  [((47, 0, 329), (47, 1, 318), (318, 0, 47), (329, 1, 47))]),\n",
              " ((47, 47, 302, 329),\n",
              "  [((47, 0, 302), (47, 0, 329), (302, 1, 47), (329, 1, 47))]),\n",
              " ((47, 47, 82, 329), [((47, 0, 82), (47, 0, 329), (82, 1, 47), (329, 1, 47))]),\n",
              " ((47, 47, 309, 318),\n",
              "  [((47, 0, 309), (47, 1, 318), (309, 1, 47), (318, 0, 47))]),\n",
              " ((47, 47, 302, 309),\n",
              "  [((47, 0, 302), (47, 0, 309), (302, 1, 47), (309, 1, 47))]),\n",
              " ((47, 47, 82, 309), [((47, 0, 82), (47, 0, 309), (82, 1, 47), (309, 1, 47))]),\n",
              " ((47, 47, 160, 467),\n",
              "  [((47, 0, 160), (47, 0, 467), (160, 1, 47), (467, 1, 47))]),\n",
              " ((47, 47, 160, 309),\n",
              "  [((47, 0, 160), (47, 0, 309), (160, 1, 47), (309, 1, 47))]),\n",
              " ((47, 47, 160, 329),\n",
              "  [((47, 0, 160), (47, 0, 329), (160, 1, 47), (329, 1, 47))]),\n",
              " ((47, 82, 82, 362), [((47, 0, 82), (82, 0, 362), (82, 1, 47), (362, 1, 82))]),\n",
              " ((47, 160, 302, 302),\n",
              "  [((47, 0, 302), (160, 1, 302), (302, 0, 160), (302, 1, 47))]),\n",
              " ((47, 218, 487, 487),\n",
              "  [((47, 1, 487), (218, 1, 487), (487, 0, 47), (487, 0, 218))]),\n",
              " ((47, 47, 302, 487),\n",
              "  [((47, 0, 302), (47, 1, 487), (302, 1, 47), (487, 0, 47))]),\n",
              " ((47, 47, 82, 487), [((47, 0, 82), (47, 1, 487), (82, 1, 47), (487, 0, 47))]),\n",
              " ((47, 318, 401, 487),\n",
              "  [((47, 1, 318), (318, 1, 487), (401, 1, 47), (487, 0, 401))]),\n",
              " ((47, 318, 467, 487),\n",
              "  [((47, 1, 318), (318, 1, 487), (467, 1, 47), (487, 0, 467))]),\n",
              " ((47, 82, 362, 362),\n",
              "  [((47, 0, 362), (82, 0, 362), (362, 1, 47), (362, 1, 82))]),\n",
              " ((151, 187, 298, 317),\n",
              "  [((151, 0, 187), (187, 1, 317), (298, 0, 151), (317, 1, 298))]),\n",
              " ((47, 160, 160, 302),\n",
              "  [((47, 0, 160), (160, 1, 47), (160, 1, 302), (302, 0, 160))]),\n",
              " ((28, 401, 401, 487),\n",
              "  [((28, 1, 401), (401, 0, 28), (401, 1, 487), (487, 0, 401))]),\n",
              " ((151, 151, 187, 298),\n",
              "  [((151, 0, 187), (151, 1, 298), (187, 1, 151), (298, 0, 151))]),\n",
              " ((69, 308, 324, 504),\n",
              "  [((69, 0, 504), (308, 0, 324), (324, 1, 69), (504, 0, 308))]),\n",
              " ((69, 308, 318, 504),\n",
              "  [((69, 1, 318), (308, 1, 504), (318, 0, 308), (504, 1, 69)),\n",
              "   ((69, 0, 504), (308, 1, 318), (318, 0, 69), (504, 0, 308))]),\n",
              " ((69, 308, 504, 504),\n",
              "  [((69, 0, 504), (308, 1, 504), (504, 0, 308), (504, 1, 69))]),\n",
              " ((69, 69, 318, 327),\n",
              "  [((69, 0, 327), (69, 1, 318), (318, 0, 69), (327, 1, 69))]),\n",
              " ((69, 69, 327, 504),\n",
              "  [((69, 0, 327), (69, 0, 504), (327, 1, 69), (504, 1, 69))]),\n",
              " ((3, 69, 294, 483), [((3, 1, 294), (69, 0, 3), (294, 0, 483), (483, 1, 69))]),\n",
              " ((69, 308, 371, 449),\n",
              "  [((69, 0, 308), (308, 0, 449), (371, 1, 69), (449, 1, 371))]),\n",
              " ((69, 308, 308, 504),\n",
              "  [((69, 0, 308), (308, 1, 69), (308, 1, 504), (504, 0, 308))]),\n",
              " ((3, 308, 371, 449),\n",
              "  [((3, 1, 308), (308, 0, 449), (371, 1, 3), (449, 1, 371))]),\n",
              " ((3, 119, 294, 371),\n",
              "  [((3, 1, 294), (119, 0, 371), (294, 0, 119), (371, 1, 3))]),\n",
              " ((3, 294, 371, 449),\n",
              "  [((3, 1, 294), (294, 0, 449), (371, 1, 3), (449, 1, 371))]),\n",
              " ((3, 294, 371, 371),\n",
              "  [((3, 0, 371), (294, 0, 371), (371, 1, 3), (371, 1, 294))]),\n",
              " ((3, 3, 294, 371), [((3, 0, 371), (3, 1, 294), (294, 0, 3), (371, 1, 3))]),\n",
              " ((3, 3, 243, 294), [((3, 0, 243), (3, 1, 294), (243, 1, 3), (294, 0, 3))]),\n",
              " ((3, 69, 308, 449), [((3, 1, 69), (69, 0, 308), (308, 0, 449), (449, 1, 3))]),\n",
              " ((119, 308, 371, 449),\n",
              "  [((119, 1, 308), (308, 0, 449), (371, 1, 119), (449, 1, 371))]),\n",
              " ((3, 119, 294, 483),\n",
              "  [((3, 1, 294), (119, 1, 3), (294, 0, 483), (483, 1, 119))]),\n",
              " ((69, 119, 308, 449),\n",
              "  [((69, 0, 308), (119, 1, 69), (308, 0, 449), (449, 1, 119))]),\n",
              " ((3, 294, 371, 483),\n",
              "  [((3, 1, 294), (294, 0, 483), (371, 1, 3), (483, 0, 371))]),\n",
              " ((308, 371, 449, 483),\n",
              "  [((308, 0, 449), (371, 1, 483), (449, 1, 371), (483, 1, 308))]),\n",
              " ((3, 3, 294, 483), [((3, 0, 483), (3, 1, 294), (294, 0, 3), (483, 1, 3))]),\n",
              " ((119, 294, 483, 483),\n",
              "  [((119, 0, 483), (294, 0, 483), (483, 1, 119), (483, 1, 294))]),\n",
              " ((69, 308, 449, 483),\n",
              "  [((69, 0, 308), (308, 0, 449), (449, 1, 483), (483, 1, 69))]),\n",
              " ((3, 294, 449, 483),\n",
              "  [((3, 1, 294), (294, 0, 483), (449, 1, 3), (483, 0, 449))]),\n",
              " ((69, 294, 449, 483),\n",
              "  [((69, 0, 449), (294, 0, 483), (449, 1, 294), (483, 1, 69))]),\n",
              " ((47, 47, 82, 467), [((47, 0, 82), (47, 0, 467), (82, 1, 47), (467, 1, 47))]),\n",
              " ((47, 47, 302, 467),\n",
              "  [((47, 0, 302), (47, 0, 467), (302, 1, 47), (467, 1, 47))]),\n",
              " ((47, 47, 160, 487),\n",
              "  [((47, 0, 160), (47, 1, 487), (160, 1, 47), (487, 0, 47))]),\n",
              " ((47, 47, 362, 487),\n",
              "  [((47, 0, 362), (47, 1, 487), (362, 1, 47), (487, 0, 47))]),\n",
              " ((69, 69, 308, 327),\n",
              "  [((69, 0, 308), (69, 0, 327), (308, 1, 69), (327, 1, 69))]),\n",
              " ((69, 69, 324, 327),\n",
              "  [((69, 0, 324), (69, 0, 327), (324, 1, 69), (327, 1, 69))]),\n",
              " ((3, 3, 308, 371), [((3, 0, 371), (3, 1, 308), (308, 0, 3), (371, 1, 3))]),\n",
              " ((3, 69, 308, 483), [((3, 0, 483), (69, 0, 308), (308, 0, 3), (483, 1, 69))]),\n",
              " ((3, 3, 243, 308), [((3, 0, 243), (3, 1, 308), (243, 1, 3), (308, 0, 3))]),\n",
              " ((294, 371, 483, 483),\n",
              "  [((294, 0, 483), (371, 1, 483), (483, 0, 371), (483, 1, 294))]),\n",
              " ((69, 318, 324, 504),\n",
              "  [((69, 0, 504), (318, 0, 324), (324, 1, 69), (504, 1, 318))]),\n",
              " ((3, 308, 308, 504),\n",
              "  [((3, 1, 308), (308, 0, 3), (308, 1, 504), (504, 0, 308))]),\n",
              " ((69, 308, 318, 324),\n",
              "  [((69, 0, 308), (308, 1, 318), (318, 0, 324), (324, 1, 69)),\n",
              "   ((69, 1, 318), (308, 0, 324), (318, 0, 308), (324, 1, 69))]),\n",
              " ((3, 308, 308, 318),\n",
              "  [((3, 1, 308), (308, 0, 3), (308, 1, 318), (318, 0, 308))])]"
            ]
          },
          "metadata": {},
          "execution_count": 143
        }
      ]
    },
    {
      "cell_type": "markdown",
      "source": [
        "👉🏻 Realizamos la siguiente consulta en donde obtener todos los usuarios tal que:\n",
        "* El primero interacciona con el segundo\n",
        "* El segundo interaccion con el tercero\n",
        "* El tercero es similar al cuarto\n",
        "* El cuarto es similar al primero"
      ],
      "metadata": {
        "id": "_9sHmC-o9sDw"
      }
    },
    {
      "cell_type": "code",
      "source": [
        "result = bgp_query(rdd_graph, b_0, reducers_1, l_1, \"(x,0,y), (y,0,z), (z,1,w), (w,1,x)\")\n",
        "for res in result.collect():\n",
        "  print(res)"
      ],
      "metadata": {
        "id": "oonIE_qyF8Zu",
        "outputId": "7c98c582-a648-4379-fd6a-58070d109ada",
        "colab": {
          "base_uri": "https://localhost:8080/"
        }
      },
      "execution_count": 144,
      "outputs": [
        {
          "output_type": "stream",
          "name": "stdout",
          "text": [
            "((28, 1, 487), (218, 1, 487), (487, 0, 28), (487, 0, 218))\n",
            "((297, 0, 467), (467, 1, 297), (467, 1, 487), (487, 0, 467))\n",
            "((47, 0, 329), (329, 1, 47), (329, 1, 487), (487, 0, 329))\n",
            "((329, 1, 487), (401, 1, 487), (487, 0, 329), (487, 0, 401))\n",
            "((401, 1, 487), (467, 1, 487), (487, 0, 401), (487, 0, 467))\n",
            "((289, 1, 318), (318, 0, 289), (318, 0, 471), (471, 1, 318))\n",
            "((69, 1, 318), (318, 0, 69), (318, 0, 471), (471, 1, 318))\n",
            "((69, 1, 318), (289, 1, 318), (318, 0, 69), (318, 0, 289))\n",
            "((308, 1, 318), (318, 0, 308), (318, 0, 374), (374, 1, 318))\n",
            "((47, 1, 318), (318, 0, 47), (318, 0, 471), (471, 1, 318))\n",
            "((47, 1, 318), (289, 1, 318), (318, 0, 47), (318, 0, 289))\n",
            "((69, 1, 318), (225, 1, 69), (318, 0, 324), (324, 0, 225))\n",
            "((47, 0, 302), (47, 0, 362), (302, 1, 47), (362, 1, 47))\n",
            "((47, 0, 82), (47, 0, 362), (82, 1, 47), (362, 1, 47))\n",
            "((47, 0, 329), (47, 0, 467), (329, 1, 47), (467, 1, 47))\n",
            "((47, 0, 309), (47, 0, 329), (309, 1, 47), (329, 1, 47))\n",
            "((47, 0, 309), (47, 0, 467), (309, 1, 47), (467, 1, 47))\n",
            "((47, 0, 160), (47, 1, 318), (160, 1, 47), (318, 0, 47))\n",
            "((47, 0, 160), (47, 0, 302), (160, 1, 47), (302, 1, 47))\n",
            "((47, 0, 82), (47, 0, 160), (82, 1, 47), (160, 1, 47))\n",
            "((47, 0, 467), (297, 0, 467), (467, 1, 47), (467, 1, 297))\n",
            "((47, 0, 309), (47, 1, 487), (309, 1, 47), (487, 0, 47))\n",
            "((28, 1, 401), (28, 1, 487), (401, 0, 28), (487, 0, 28))\n",
            "((143, 0, 451), (345, 0, 451), (451, 1, 143), (451, 1, 345))\n",
            "((143, 1, 345), (345, 0, 143), (345, 0, 451), (451, 1, 345))\n",
            "((181, 0, 263), (239, 0, 263), (263, 1, 181), (263, 1, 239))\n",
            "((151, 0, 187), (187, 1, 151), (187, 1, 317), (317, 0, 187))\n",
            "((69, 0, 504), (308, 1, 327), (327, 1, 69), (504, 0, 308))\n",
            "((3, 1, 69), (69, 0, 3), (69, 0, 327), (327, 1, 69))\n",
            "((308, 1, 318), (308, 1, 504), (318, 0, 308), (504, 0, 308))\n",
            "((3, 1, 294), (294, 0, 483), (308, 0, 3), (483, 1, 308))\n",
            "((294, 0, 371), (308, 0, 449), (371, 1, 308), (449, 1, 294))\n",
            "((3, 1, 294), (294, 0, 3), (294, 0, 483), (483, 1, 294))\n",
            "((3, 0, 243), (3, 0, 371), (243, 1, 3), (371, 1, 3))\n",
            "((3, 0, 119), (119, 0, 371), (119, 1, 3), (371, 1, 119))\n",
            "((3, 0, 449), (371, 0, 449), (449, 1, 3), (449, 1, 371))\n",
            "((119, 1, 294), (294, 0, 119), (294, 0, 483), (483, 1, 294))\n",
            "((3, 0, 449), (119, 0, 371), (371, 1, 3), (449, 1, 119))\n",
            "((3, 0, 119), (119, 0, 449), (371, 1, 3), (449, 1, 371))\n",
            "((3, 0, 483), (69, 0, 3), (119, 1, 69), (483, 1, 119))\n",
            "((3, 0, 483), (371, 1, 3), (449, 1, 371), (483, 0, 449))\n",
            "((3, 0, 483), (119, 0, 371), (371, 1, 3), (483, 1, 119))\n",
            "((3, 0, 371), (371, 0, 449), (371, 1, 3), (449, 1, 371))\n",
            "((294, 0, 371), (294, 0, 483), (371, 1, 294), (483, 1, 294))\n",
            "((3, 0, 371), (119, 0, 371), (371, 1, 3), (371, 1, 119))\n",
            "((3, 0, 371), (69, 0, 3), (371, 1, 483), (483, 1, 69))\n",
            "((3, 0, 449), (69, 0, 3), (449, 1, 483), (483, 1, 69))\n",
            "((294, 0, 449), (294, 0, 483), (449, 1, 294), (483, 1, 294))\n",
            "((181, 1, 239), (239, 0, 181), (239, 0, 263), (263, 1, 239))\n",
            "((47, 1, 487), (401, 1, 487), (487, 0, 47), (487, 0, 401))\n",
            "((47, 1, 487), (329, 1, 487), (487, 0, 47), (487, 0, 329))\n",
            "((47, 1, 487), (467, 1, 487), (487, 0, 47), (487, 0, 467))\n",
            "((47, 0, 329), (47, 1, 487), (329, 1, 47), (487, 0, 47))\n",
            "((3, 0, 371), (3, 0, 483), (371, 1, 3), (483, 1, 3))\n",
            "((3, 0, 243), (3, 0, 483), (243, 1, 3), (483, 1, 3))\n",
            "((3, 0, 371), (371, 1, 3), (371, 1, 483), (483, 0, 371))\n",
            "((47, 1, 318), (69, 1, 318), (318, 0, 47), (318, 0, 69))\n",
            "((47, 0, 160), (47, 0, 362), (160, 1, 47), (362, 1, 47))\n",
            "((47, 0, 82), (47, 1, 318), (82, 1, 47), (318, 0, 47))\n",
            "((47, 0, 82), (47, 0, 302), (82, 1, 47), (302, 1, 47))\n",
            "((47, 0, 302), (47, 1, 318), (302, 1, 47), (318, 0, 47))\n",
            "((69, 0, 308), (69, 0, 504), (308, 1, 69), (504, 1, 69))\n",
            "((69, 0, 324), (69, 0, 504), (324, 1, 69), (504, 1, 69))\n",
            "((69, 0, 308), (69, 0, 324), (308, 1, 69), (324, 1, 69))\n",
            "((69, 0, 308), (69, 1, 318), (308, 1, 69), (318, 0, 69))\n",
            "((3, 1, 308), (69, 0, 308), (308, 0, 3), (308, 1, 69))\n",
            "((3, 1, 294), (3, 1, 308), (294, 0, 3), (308, 0, 3))\n",
            "((3, 1, 294), (294, 0, 371), (308, 0, 3), (371, 1, 308))\n",
            "((3, 1, 294), (119, 1, 308), (294, 0, 119), (308, 0, 3))\n",
            "((294, 0, 483), (308, 0, 449), (449, 1, 294), (483, 1, 308))\n",
            "((3, 1, 308), (294, 0, 3), (308, 0, 449), (449, 1, 294))\n",
            "((119, 1, 308), (294, 0, 119), (308, 0, 449), (449, 1, 294))\n",
            "((119, 1, 294), (294, 0, 119), (294, 0, 371), (371, 1, 294))\n",
            "((3, 1, 294), (294, 0, 3), (294, 0, 449), (449, 1, 294))\n",
            "((294, 0, 371), (294, 0, 449), (371, 1, 294), (449, 1, 294))\n",
            "((119, 1, 294), (294, 0, 119), (294, 0, 449), (449, 1, 294))\n",
            "((3, 1, 294), (294, 0, 3), (294, 0, 371), (371, 1, 294))\n",
            "((3, 1, 294), (119, 1, 294), (294, 0, 3), (294, 0, 119))\n",
            "((47, 1, 318), (47, 1, 487), (318, 0, 47), (487, 0, 47))\n",
            "((28, 1, 487), (401, 1, 487), (487, 0, 28), (487, 0, 401))\n",
            "((28, 1, 487), (329, 1, 487), (487, 0, 28), (487, 0, 329))\n",
            "((28, 1, 487), (467, 1, 487), (487, 0, 28), (487, 0, 467))\n",
            "((218, 1, 487), (401, 1, 487), (487, 0, 218), (487, 0, 401))\n",
            "((218, 1, 487), (329, 1, 487), (487, 0, 218), (487, 0, 329))\n",
            "((218, 1, 487), (467, 1, 487), (487, 0, 218), (487, 0, 467))\n",
            "((289, 1, 318), (318, 0, 289), (318, 0, 374), (374, 1, 318))\n",
            "((289, 1, 318), (308, 1, 318), (318, 0, 289), (318, 0, 308))\n",
            "((69, 1, 318), (318, 0, 69), (318, 0, 374), (374, 1, 318))\n",
            "((69, 1, 318), (308, 1, 318), (318, 0, 69), (318, 0, 308))\n",
            "((318, 0, 374), (318, 0, 471), (374, 1, 318), (471, 1, 318))\n",
            "((308, 1, 318), (318, 0, 308), (318, 0, 471), (471, 1, 318))\n",
            "((47, 1, 318), (318, 0, 47), (318, 0, 374), (374, 1, 318))\n",
            "((47, 1, 318), (308, 1, 318), (318, 0, 47), (318, 0, 308))\n",
            "((47, 0, 362), (47, 0, 467), (362, 1, 47), (467, 1, 47))\n",
            "((47, 0, 309), (47, 0, 362), (309, 1, 47), (362, 1, 47))\n",
            "((47, 0, 329), (47, 0, 362), (329, 1, 47), (362, 1, 47))\n",
            "((47, 0, 302), (47, 0, 329), (302, 1, 47), (329, 1, 47))\n",
            "((47, 0, 82), (47, 0, 329), (82, 1, 47), (329, 1, 47))\n",
            "((47, 0, 309), (47, 1, 318), (309, 1, 47), (318, 0, 47))\n",
            "((47, 0, 302), (47, 0, 309), (302, 1, 47), (309, 1, 47))\n",
            "((47, 0, 82), (47, 0, 309), (82, 1, 47), (309, 1, 47))\n",
            "((47, 0, 160), (47, 0, 467), (160, 1, 47), (467, 1, 47))\n",
            "((47, 0, 160), (47, 0, 309), (160, 1, 47), (309, 1, 47))\n",
            "((47, 0, 160), (47, 0, 329), (160, 1, 47), (329, 1, 47))\n",
            "((47, 0, 82), (82, 0, 362), (82, 1, 47), (362, 1, 82))\n",
            "((47, 1, 487), (218, 1, 487), (487, 0, 47), (487, 0, 218))\n",
            "((47, 0, 302), (47, 1, 487), (302, 1, 47), (487, 0, 47))\n",
            "((47, 0, 82), (47, 1, 487), (82, 1, 47), (487, 0, 47))\n",
            "((47, 0, 362), (82, 0, 362), (362, 1, 47), (362, 1, 82))\n",
            "((47, 0, 160), (160, 1, 47), (160, 1, 302), (302, 0, 160))\n",
            "((151, 0, 187), (151, 1, 298), (187, 1, 151), (298, 0, 151))\n",
            "((69, 0, 327), (69, 0, 504), (327, 1, 69), (504, 1, 69))\n",
            "((3, 1, 294), (69, 0, 3), (294, 0, 483), (483, 1, 69))\n",
            "((69, 0, 308), (308, 0, 449), (371, 1, 69), (449, 1, 371))\n",
            "((69, 0, 308), (308, 1, 69), (308, 1, 504), (504, 0, 308))\n",
            "((3, 1, 294), (119, 0, 371), (294, 0, 119), (371, 1, 3))\n",
            "((3, 0, 371), (294, 0, 371), (371, 1, 3), (371, 1, 294))\n",
            "((3, 0, 243), (3, 1, 294), (243, 1, 3), (294, 0, 3))\n",
            "((3, 1, 69), (69, 0, 308), (308, 0, 449), (449, 1, 3))\n",
            "((119, 0, 483), (294, 0, 483), (483, 1, 119), (483, 1, 294))\n",
            "((69, 0, 308), (308, 0, 449), (449, 1, 483), (483, 1, 69))\n",
            "((69, 0, 449), (294, 0, 483), (449, 1, 294), (483, 1, 69))\n",
            "((47, 0, 82), (47, 0, 467), (82, 1, 47), (467, 1, 47))\n",
            "((47, 0, 302), (47, 0, 467), (302, 1, 47), (467, 1, 47))\n",
            "((47, 0, 160), (47, 1, 487), (160, 1, 47), (487, 0, 47))\n",
            "((47, 0, 362), (47, 1, 487), (362, 1, 47), (487, 0, 47))\n",
            "((69, 0, 308), (69, 0, 327), (308, 1, 69), (327, 1, 69))\n",
            "((69, 0, 324), (69, 0, 327), (324, 1, 69), (327, 1, 69))\n",
            "((3, 0, 243), (3, 1, 308), (243, 1, 3), (308, 0, 3))\n",
            "((69, 0, 504), (318, 0, 324), (324, 1, 69), (504, 1, 318))\n",
            "((69, 1, 318), (308, 0, 324), (318, 0, 308), (324, 1, 69))\n"
          ]
        }
      ]
    },
    {
      "cell_type": "markdown",
      "source": [
        "👉🏻 Ahora realizamos otra consulta en donde el primer interacciona con el segundo; el segundo es similar al tercero; el tercero es similar al cuarto; el cuarto es similar al primero."
      ],
      "metadata": {
        "id": "4h6xNZ2A99U7"
      }
    },
    {
      "cell_type": "code",
      "source": [
        "result = bgp_query(rdd_graph, b_0, reducers_1, l_1, \"(x,0,y), (y,1,z), (z,1,w), (w,1,x)\")\n",
        "for res in result.collect():\n",
        "  print(res)"
      ],
      "metadata": {
        "id": "63aCaLpJG4d6",
        "outputId": "a69c3c37-a30b-4678-e802-81c062dc78fd",
        "colab": {
          "base_uri": "https://localhost:8080/"
        }
      },
      "execution_count": 145,
      "outputs": [
        {
          "output_type": "stream",
          "name": "stdout",
          "text": [
            "((3, 1, 69), (69, 0, 449), (371, 1, 3), (449, 1, 371))\n",
            "((69, 1, 318), (308, 1, 327), (318, 0, 308), (327, 1, 69))\n",
            "((294, 1, 308), (308, 0, 449), (371, 1, 294), (449, 1, 371))\n",
            "((47, 1, 487), (297, 1, 47), (467, 1, 297), (487, 0, 467))\n",
            "((47, 1, 318), (318, 1, 487), (329, 1, 47), (487, 0, 329))\n",
            "((47, 1, 318), (69, 1, 333), (318, 0, 69), (333, 1, 47))\n",
            "((47, 1, 318), (318, 1, 487), (401, 1, 47), (487, 0, 401))\n",
            "((47, 1, 318), (318, 1, 487), (467, 1, 47), (487, 0, 467))\n",
            "((69, 1, 318), (308, 1, 504), (318, 0, 308), (504, 1, 69))\n",
            "((3, 1, 308), (308, 0, 449), (371, 1, 3), (449, 1, 371))\n",
            "((3, 1, 294), (294, 0, 449), (371, 1, 3), (449, 1, 371))\n",
            "((119, 1, 308), (308, 0, 449), (371, 1, 119), (449, 1, 371))\n",
            "((3, 1, 294), (119, 1, 3), (294, 0, 483), (483, 1, 119))\n",
            "((308, 0, 449), (371, 1, 483), (449, 1, 371), (483, 1, 308))\n"
          ]
        }
      ]
    },
    {
      "cell_type": "markdown",
      "source": [
        "👉🏻 Ahora, para poder analizar quienes son los usuarios involucrados en la ultima consulta, mapearemos cada id con respecto a su username :)"
      ],
      "metadata": {
        "id": "GEo5DCPh-Sch"
      }
    },
    {
      "cell_type": "code",
      "source": [
        "result.map(load_usernames).collect()"
      ],
      "metadata": {
        "id": "ZaXio3vQ-HK4",
        "outputId": "084639b8-6eaa-49d8-856e-dc4dc5c3a8d5",
        "colab": {
          "base_uri": "https://localhost:8080/"
        }
      },
      "execution_count": 146,
      "outputs": [
        {
          "output_type": "execute_result",
          "data": {
            "text/plain": [
              "[[('John Wolpert', 'SIMILAR_TO', 'Dr.Salahideen ALHAJ 🔶 🔸️#WearAMask #SDGs'),\n",
              "  ('Dr.Salahideen ALHAJ 🔶 🔸️#WearAMask #SDGs',\n",
              "   'INTERACTS_WITH',\n",
              "   'guinnessstache'),\n",
              "  ('Wen.S', 'SIMILAR_TO', 'John Wolpert'),\n",
              "  ('guinnessstache', 'SIMILAR_TO', 'Wen.S')],\n",
              " [('Dr.Salahideen ALHAJ 🔶 🔸️#WearAMask #SDGs', 'SIMILAR_TO', 'Lju Lazarevic'),\n",
              "  ('Nancy Tremblay❤😀🌻🇨🇦', 'SIMILAR_TO', 'Crypto Fido'),\n",
              "  ('Lju Lazarevic', 'INTERACTS_WITH', 'Nancy Tremblay❤😀🌻🇨🇦'),\n",
              "  ('Crypto Fido', 'SIMILAR_TO', 'Dr.Salahideen ALHAJ 🔶 🔸️#WearAMask #SDGs')],\n",
              " [('Born To Be Idle', 'SIMILAR_TO', 'Nancy Tremblay❤😀🌻🇨🇦'),\n",
              "  ('Nancy Tremblay❤😀🌻🇨🇦', 'INTERACTS_WITH', 'guinnessstache'),\n",
              "  ('Wen.S', 'SIMILAR_TO', 'Born To Be Idle'),\n",
              "  ('guinnessstache', 'SIMILAR_TO', 'Wen.S')],\n",
              " [('Michael Hunger', 'SIMILAR_TO', 'Michael Simons'),\n",
              "  ('Stefan Keller', 'SIMILAR_TO', 'Michael Hunger'),\n",
              "  ('Lukas Eder', 'SIMILAR_TO', 'Stefan Keller'),\n",
              "  ('Michael Simons', 'INTERACTS_WITH', 'Lukas Eder')],\n",
              " [('Michael Hunger', 'SIMILAR_TO', 'Lju Lazarevic'),\n",
              "  ('Lju Lazarevic', 'SIMILAR_TO', 'Michael Simons'),\n",
              "  ('Matthias Haeussler', 'SIMILAR_TO', 'Michael Hunger'),\n",
              "  ('Michael Simons', 'INTERACTS_WITH', 'Matthias Haeussler')],\n",
              " [('Michael Hunger', 'SIMILAR_TO', 'Lju Lazarevic'),\n",
              "  ('Dr.Salahideen ALHAJ 🔶 🔸️#WearAMask #SDGs', 'SIMILAR_TO', 'Taite'),\n",
              "  ('Lju Lazarevic',\n",
              "   'INTERACTS_WITH',\n",
              "   'Dr.Salahideen ALHAJ 🔶 🔸️#WearAMask #SDGs'),\n",
              "  ('Taite', 'SIMILAR_TO', 'Michael Hunger')],\n",
              " [('Michael Hunger', 'SIMILAR_TO', 'Lju Lazarevic'),\n",
              "  ('Lju Lazarevic', 'SIMILAR_TO', 'Michael Simons'),\n",
              "  ('Jim Webber', 'SIMILAR_TO', 'Michael Hunger'),\n",
              "  ('Michael Simons', 'INTERACTS_WITH', 'Jim Webber')],\n",
              " [('Michael Hunger', 'SIMILAR_TO', 'Lju Lazarevic'),\n",
              "  ('Lju Lazarevic', 'SIMILAR_TO', 'Michael Simons'),\n",
              "  ('Lukas Eder', 'SIMILAR_TO', 'Michael Hunger'),\n",
              "  ('Michael Simons', 'INTERACTS_WITH', 'Lukas Eder')],\n",
              " [('Dr.Salahideen ALHAJ 🔶 🔸️#WearAMask #SDGs', 'SIMILAR_TO', 'Lju Lazarevic'),\n",
              "  ('Nancy Tremblay❤😀🌻🇨🇦', 'SIMILAR_TO', 'Chidambara .ML.'),\n",
              "  ('Lju Lazarevic', 'INTERACTS_WITH', 'Nancy Tremblay❤😀🌻🇨🇦'),\n",
              "  ('Chidambara .ML.',\n",
              "   'SIMILAR_TO',\n",
              "   'Dr.Salahideen ALHAJ 🔶 🔸️#WearAMask #SDGs')],\n",
              " [('John Wolpert', 'SIMILAR_TO', 'Nancy Tremblay❤😀🌻🇨🇦'),\n",
              "  ('Nancy Tremblay❤😀🌻🇨🇦', 'INTERACTS_WITH', 'guinnessstache'),\n",
              "  ('Wen.S', 'SIMILAR_TO', 'John Wolpert'),\n",
              "  ('guinnessstache', 'SIMILAR_TO', 'Wen.S')],\n",
              " [('John Wolpert', 'SIMILAR_TO', 'Born To Be Idle'),\n",
              "  ('Born To Be Idle', 'INTERACTS_WITH', 'guinnessstache'),\n",
              "  ('Wen.S', 'SIMILAR_TO', 'John Wolpert'),\n",
              "  ('guinnessstache', 'SIMILAR_TO', 'Wen.S')],\n",
              " [('Chill Zone', 'SIMILAR_TO', 'Nancy Tremblay❤😀🌻🇨🇦'),\n",
              "  ('Nancy Tremblay❤😀🌻🇨🇦', 'INTERACTS_WITH', 'guinnessstache'),\n",
              "  ('Wen.S', 'SIMILAR_TO', 'Chill Zone'),\n",
              "  ('guinnessstache', 'SIMILAR_TO', 'Wen.S')],\n",
              " [('John Wolpert', 'SIMILAR_TO', 'Born To Be Idle'),\n",
              "  ('Chill Zone', 'SIMILAR_TO', 'John Wolpert'),\n",
              "  ('Born To Be Idle', 'INTERACTS_WITH', 'Brana Rakic'),\n",
              "  ('Brana Rakic', 'SIMILAR_TO', 'Chill Zone')],\n",
              " [('Nancy Tremblay❤😀🌻🇨🇦', 'INTERACTS_WITH', 'guinnessstache'),\n",
              "  ('Wen.S', 'SIMILAR_TO', 'Brana Rakic'),\n",
              "  ('guinnessstache', 'SIMILAR_TO', 'Wen.S'),\n",
              "  ('Brana Rakic', 'SIMILAR_TO', 'Nancy Tremblay❤😀🌻🇨🇦')]]"
            ]
          },
          "metadata": {},
          "execution_count": 146
        }
      ]
    }
  ],
  "metadata": {
    "colab": {
      "provenance": []
    },
    "kernelspec": {
      "display_name": "Python 3",
      "name": "python3"
    },
    "language_info": {
      "name": "python"
    }
  },
  "nbformat": 4,
  "nbformat_minor": 0
}