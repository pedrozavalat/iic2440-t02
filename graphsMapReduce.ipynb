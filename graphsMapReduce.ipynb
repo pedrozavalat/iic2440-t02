{
  "cells": [
    {
      "cell_type": "markdown",
      "metadata": {
        "id": "Yp97VfrVPVpv"
      },
      "source": [
        "# 1. Librerías & Set Up"
      ]
    },
    {
      "cell_type": "markdown",
      "metadata": {
        "id": "h3AfOYEQTWTC"
      },
      "source": [
        "👉🏻 Instalaremos todas las librerias necesarias para poder trabajar con PySpark y Neo4j"
      ]
    },
    {
      "cell_type": "code",
      "execution_count": 1,
      "metadata": {
        "colab": {
          "base_uri": "https://localhost:8080/"
        },
        "id": "JCinFr1LPVO5",
        "outputId": "780da2eb-06fd-4a91-f03d-a8c2ea5cc240"
      },
      "outputs": [
        {
          "name": "stdout",
          "output_type": "stream",
          "text": [
            "Collecting pyspark\n",
            "  Downloading pyspark-3.5.1.tar.gz (317.0 MB)\n",
            "\u001b[2K     \u001b[90m━━━━━━━━━━━━━━━━━━━━━━━━━━━━━━━━━━━━━━━━\u001b[0m \u001b[32m317.0/317.0 MB\u001b[0m \u001b[31m1.8 MB/s\u001b[0m eta \u001b[36m0:00:00\u001b[0m\n",
            "\u001b[?25h  Preparing metadata (setup.py) ... \u001b[?25l\u001b[?25hdone\n",
            "Requirement already satisfied: py4j==0.10.9.7 in /usr/local/lib/python3.10/dist-packages (from pyspark) (0.10.9.7)\n",
            "Building wheels for collected packages: pyspark\n",
            "  Building wheel for pyspark (setup.py) ... \u001b[?25l\u001b[?25hdone\n",
            "  Created wheel for pyspark: filename=pyspark-3.5.1-py2.py3-none-any.whl size=317488491 sha256=f9afdc26155c116c36fb07b48f4cfdcda3a6663f4f240660b11b087768ca9ed7\n",
            "  Stored in directory: /root/.cache/pip/wheels/80/1d/60/2c256ed38dddce2fdd93be545214a63e02fbd8d74fb0b7f3a6\n",
            "Successfully built pyspark\n",
            "Installing collected packages: pyspark\n",
            "Successfully installed pyspark-3.5.1\n"
          ]
        }
      ],
      "source": [
        "!pip install pyspark"
      ]
    },
    {
      "cell_type": "code",
      "execution_count": 2,
      "metadata": {
        "colab": {
          "base_uri": "https://localhost:8080/"
        },
        "id": "y3_dX6wSCNrT",
        "outputId": "dc0d8970-2a7a-4172-e039-cf280b69155e"
      },
      "outputs": [
        {
          "name": "stdout",
          "output_type": "stream",
          "text": [
            "Collecting neo4j\n",
            "  Downloading neo4j-5.21.0-py3-none-any.whl (286 kB)\n",
            "\u001b[2K     \u001b[90m━━━━━━━━━━━━━━━━━━━━━━━━━━━━━━━━━━━━━━━━\u001b[0m \u001b[32m286.8/286.8 kB\u001b[0m \u001b[31m2.4 MB/s\u001b[0m eta \u001b[36m0:00:00\u001b[0m\n",
            "\u001b[?25hRequirement already satisfied: pytz in /usr/local/lib/python3.10/dist-packages (from neo4j) (2023.4)\n",
            "Installing collected packages: neo4j\n",
            "Successfully installed neo4j-5.21.0\n"
          ]
        }
      ],
      "source": [
        "!pip install neo4j"
      ]
    },
    {
      "cell_type": "code",
      "execution_count": 3,
      "metadata": {
        "id": "zH4iyjyxPeYT"
      },
      "outputs": [],
      "source": [
        "from pyspark.sql import SparkSession\n",
        "from itertools import product"
      ]
    },
    {
      "cell_type": "code",
      "execution_count": 4,
      "metadata": {
        "id": "Uy3cfH_iPh4j"
      },
      "outputs": [],
      "source": [
        "import neo4j\n",
        "from neo4j import GraphDatabase\n",
        "import pandas as pd\n",
        "import numpy as np"
      ]
    },
    {
      "cell_type": "code",
      "execution_count": 5,
      "metadata": {
        "colab": {
          "base_uri": "https://localhost:8080/",
          "height": 219
        },
        "id": "8FvKEocnD3-8",
        "outputId": "55d317eb-5f88-4d06-9038-8db209229cf3"
      },
      "outputs": [
        {
          "data": {
            "text/html": [
              "\n",
              "        <div>\n",
              "            <p><b>SparkContext</b></p>\n",
              "\n",
              "            <p><a href=\"http://509ac4e90f45:4040\">Spark UI</a></p>\n",
              "\n",
              "            <dl>\n",
              "              <dt>Version</dt>\n",
              "                <dd><code>v3.5.1</code></dd>\n",
              "              <dt>Master</dt>\n",
              "                <dd><code>local[*]</code></dd>\n",
              "              <dt>AppName</dt>\n",
              "                <dd><code>pyspark-shell</code></dd>\n",
              "            </dl>\n",
              "        </div>\n",
              "        "
            ],
            "text/plain": [
              "<SparkContext master=local[*] appName=pyspark-shell>"
            ]
          },
          "execution_count": 5,
          "metadata": {},
          "output_type": "execute_result"
        }
      ],
      "source": [
        "# Iniciamos una sesion en PySpark\n",
        "spark = SparkSession.builder \\\n",
        "    .getOrCreate()\n",
        "\n",
        "sc = spark.sparkContext\n",
        "sc"
      ]
    },
    {
      "cell_type": "markdown",
      "metadata": {
        "id": "3FFiAi4oQNPj"
      },
      "source": [
        "# 2. Neo4j Graphs and others examples"
      ]
    },
    {
      "cell_type": "markdown",
      "metadata": {
        "id": "G-ByrvaJUXEd"
      },
      "source": [
        "👉🏻 Las siguientes funciones permiten cargar grafos de ejemplos para poder realizar las consultas de los patrones de grafo.\n",
        "\n",
        "👉🏻 Existe la funcion create_neo4j_graph para poder cargar una base de datos en Neo4j y luego obtener las aristas existentes de este grafo.\n",
        "\n",
        "👉🏻 Existe la funcion load_graph para poder seleccionar el grafo que queremos realizar las consultas."
      ]
    },
    {
      "cell_type": "code",
      "execution_count": 6,
      "metadata": {
        "id": "CIpVKqtWCjMw"
      },
      "outputs": [],
      "source": [
        "def load_neo4j_graph():\n",
        "  \"\"\"\n",
        "  Funcion para cargar la base de datos de twitter como ejemplo de grafo en Neo4j.\n",
        "  \"\"\"\n",
        "  # Realizamos la conexion con la base de datos del grafo guardado en Neo4j.\n",
        "  NEO4J_URI = \"neo4j+s://demo.neo4jlabs.com\"\n",
        "  NEO4J_USERNAME = \"twitter\"\n",
        "  NEO4J_PASSWORD = \"twitter\"\n",
        "  AUTH = (NEO4J_USERNAME, NEO4J_PASSWORD)\n",
        "\n",
        "  driver = GraphDatabase.driver(NEO4J_URI, auth=AUTH)\n",
        "  with driver.session() as session:\n",
        "      try:\n",
        "          session.run(\"RETURN 1\")\n",
        "          print(\"Connection to Neo4j established successfully!\")\n",
        "      except Exception as e:\n",
        "          print(f\"Failed to connect to Neo4j: {e}\")\n",
        "      # Query que permite cargar todas las aristas de cada usuario\n",
        "      # (descartamos el usuario Neo4j para tener una cantidad mas variada xd,\n",
        "      # ya que si lo dejabamos se repetia mucho)\n",
        "      query = \"\"\"\n",
        "      MATCH (u1:User)-[r:INTERACTS_WITH | SIMILAR_TO]->(u2:User)\n",
        "      WHERE u1.name <> \"Neo4j\" AND u2.name <> \"Neo4j\"\n",
        "      RETURN u1.name as user1, type(r) AS relationship, u2.name AS user2\n",
        "      \"\"\"\n",
        "      result = session.run(query)\n",
        "      df_edges = pd.DataFrame(result.data())\n",
        "      relationship = df_edges['relationship'].unique()\n",
        "\n",
        "      # Definimos una clase para cada relacion ...\n",
        "      relationship_class = {i : rel for rel, i in enumerate(relationship)}\n",
        "      for inter, inter_class in relationship_class.items():\n",
        "          print(f\"{inter} AS class {inter_class}\")\n",
        "      df_edges['relationship'].replace(relationship_class, inplace = True)\n",
        "\n",
        "      # Transformamos cada usuario a un numero (su identificador) en base\n",
        "      # a su nombre de usuari que debe ser unico ...\n",
        "      users1 = df_edges['user1'].unique().tolist()\n",
        "      users2 = df_edges['user2'].unique().tolist()\n",
        "      users = list(set(users1 + users2))\n",
        "      users_id = {user : id for id, user in enumerate(users)}\n",
        "      df_edges['user1'].replace(users_id, inplace = True)\n",
        "      df_edges['user2'].replace(users_id, inplace = True)\n",
        "\n",
        "      np.save('users_id', users_id, allow_pickle = True)\n",
        "      np.save('relationship_class', relationship_class, allow_pickle = True)\n",
        "\n",
        "      # Cargamos el grafo en una lista de tuplas\n",
        "      neo4f_graph = [(item[0], item[1], item[2]) for item in df_edges.values]\n",
        "  driver.close()\n",
        "  return neo4f_graph\n"
      ]
    },
    {
      "cell_type": "code",
      "execution_count": 7,
      "metadata": {
        "id": "utX2DdBh-qUr"
      },
      "outputs": [],
      "source": [
        "def load_graph(option):\n",
        "  \"\"\"\n",
        "  Funcion que selecciona el grafo de ejemplo, retorna una lista de tuplas\n",
        "  de las aristas del grafo.\n",
        "  \"\"\"\n",
        "  if option == \"neo4j-graph\":\n",
        "    neo4f_graph = load_neo4j_graph()\n",
        "    return neo4f_graph\n",
        "\n",
        "  elif option == \"basic-example\":\n",
        "    return [\n",
        "        (1,11,2), (1,11,3), (2,11,3), (3,11,2),\n",
        "        (3,11,4), (4,11,1), (4,11,2), (4,11,3),\n",
        "        (4,12,5), (5,12,1), (5,12,2), (5,12,6),\n",
        "        (1,12,2), (2,12,3), (3,12,1)\n",
        "    ]\n",
        "  else:\n",
        "    print(\"La opcion no existe :(\")\n",
        "    return None"
      ]
    },
    {
      "cell_type": "markdown",
      "metadata": {
        "id": "HEoRsG3Aou1m"
      },
      "source": [
        "# 3. MapReduce Algorithm Implementation"
      ]
    },
    {
      "cell_type": "markdown",
      "metadata": {
        "id": "kpnJs3fcVGV4"
      },
      "source": [
        "👉🏻 Las siguientes funciones permiten desarrollar el algoritmo MapReduce implementado con PySpark"
      ]
    },
    {
      "cell_type": "code",
      "execution_count": 8,
      "metadata": {
        "id": "t9dJKE1fVsAw"
      },
      "outputs": [],
      "source": [
        "def hash(n):\n",
        "  \"\"\"\n",
        "  Returns number mod 2. The ouput will be 0 or 1.\n",
        "  \"\"\"\n",
        "  return n % 2"
      ]
    },
    {
      "cell_type": "markdown",
      "metadata": {
        "id": "oP9Jxlw4VsTe"
      },
      "source": [
        "👉🏻 Las funciones siguientes permiten simular la fase de mapeo del algoritmo."
      ]
    },
    {
      "cell_type": "code",
      "execution_count": 9,
      "metadata": {
        "id": "SQgndLX_S5RZ"
      },
      "outputs": [],
      "source": [
        "def get_keys(edge, b_dim, b_set, pattern_dim):\n",
        "  \"\"\"\n",
        "  output: retorna las llaves correspondientes para un vertice.\n",
        "\n",
        "  Idea general: buscamos el par hash_n1,hash_n2 dentro de las posibles\n",
        "  combinaciones dentro del espacio de imagenes de la funcion de hash.\n",
        "  Dentro del for, obtenemos un string con la codificacion de las llaves y luego\n",
        "  verificamos si es una llave candidata para el vertice entregado:\n",
        "\n",
        "  1.  sequence_in_reducer: Si la secuencia 'b1b2' esta en la llave del reducer\n",
        "      codificada como hash(n1)hash(n2) ?, donde ? = 0 o 1, entonces se considerará\n",
        "      el par reducer_key : edge.\n",
        "  2.  edge_case: El otro caso, es para cuando tenemos por ejemplo x = n2 y z = n1\n",
        "      para patrones de 3 vertices.\n",
        "  \"\"\"\n",
        "\n",
        "  hash_n1 = hash(edge[0]) # valor de hash para el nodo 1 = b1\n",
        "  hash_n2 = hash(edge[2]) # valor de hash para el nodo 2 = b2\n",
        "  values = [] # posible keys\n",
        "  sequence = '{}{}'.format(hash_n1, hash_n2)\n",
        "\n",
        "  for i in range(0, b_dim ** pattern_dim):\n",
        "    reducer = ''.join(str(num) for num in b_set[i])\n",
        "    sequence_in_reducer = sequence in reducer\n",
        "    edge_case = reducer[0] == sequence[1] and reducer[pattern_dim - 1] == sequence[0]\n",
        "    if sequence_in_reducer or edge_case:\n",
        "        reducer_key = tuple(int(digit) for digit in reducer)\n",
        "        values.append((reducer_key, edge))\n",
        "\n",
        "  return values\n",
        "\n",
        "\n",
        "def map_phase(rdd, b_dim, b_set, pattern_dim):\n",
        "  \"\"\"\n",
        "  input:\n",
        "    - rdd: RDD del grafo de dimension 'dim'\n",
        "    - b_dim: Cantidad de elementos de las imagenes de la funcion de hash.\n",
        "    - b_set: Imagenes de la funcion de hash.\n",
        "    - pattern_dim: cantidad de nodos del patron de grafo.\n",
        "  ouput: Mapeo de cada arista con respecto a las llaves\n",
        "  \"\"\"\n",
        "\n",
        "  mapped_keys = rdd.flatMap(lambda edge: get_keys(edge, b_dim, b_set, pattern_dim))\n",
        "\n",
        "  return mapped_keys"
      ]
    },
    {
      "cell_type": "markdown",
      "metadata": {
        "id": "LJwFdiz1Vxex"
      },
      "source": [
        "👉🏻 Las siguientes funciones permiten simular la fase de reduce del algoritmo."
      ]
    },
    {
      "cell_type": "code",
      "execution_count": 10,
      "metadata": {
        "id": "E2bNeul2o7p5"
      },
      "outputs": [],
      "source": [
        "def find_patterns(edges, pattern_dim):\n",
        "    \"\"\"\n",
        "    Funcion que retorna todos los patrones encontrados de la forma\n",
        "    (n1,...,nl) : [[(n1,label,n2), ..., (nl-1,label,nl)], ... ]\n",
        "    donde (n1,...,nl) corresponde a los nodos que forman el patron\n",
        "    y la llave corresponde a los patrones posibles formados por estos nodos\n",
        "    para una etique\n",
        "    \"\"\"\n",
        "    neighbors = get_neighbors(edges)\n",
        "    cycles = find_cycles(edges, neighbors, pattern_dim)\n",
        "    return cycles\n",
        "\n",
        "\n",
        "def get_neighbors(edges):\n",
        "    \"\"\"\n",
        "    Funcion que retorna todas las aristas consecutivas a otras aristas.\n",
        "    Es decir, aristas vecinas.\n",
        "    \"\"\"\n",
        "    neighbors = []\n",
        "    for i in range(len(edges)):\n",
        "        curr_edge = edges[i]\n",
        "        neighbors.append([])\n",
        "        for j in range(len(edges)):\n",
        "            next_edge = edges[j]\n",
        "            if next_edge == curr_edge:\n",
        "                continue\n",
        "            if curr_edge[2] == next_edge[0]:\n",
        "                neighbors[i].append(next_edge)\n",
        "    return neighbors\n",
        "\n",
        "\n",
        "def find_cycles(edges, neighbors, pattern_dim):\n",
        "    \"\"\"\n",
        "    Funcion que verifica si existe algun grafo ciclico en el grafo de una\n",
        "    dimension pattern_dim. Retorna todos los ciclos encontrados.\n",
        "    Utilizamos el algoritmo DFS iterativo para la busqueda de ciclos.\n",
        "    \"\"\"\n",
        "    cycles = [] # Lista de ciclos encontrados\n",
        "\n",
        "    for edge in edges: # Por cada arista del grafo\n",
        "        visited = set() # Determinamos las aritas que ya han sido visitadas\n",
        "        # Inicializamos el stack con con la\n",
        "        stack = [(edge, [edge])]\n",
        "        # arista donde empezamos el recorrido\n",
        "\n",
        "        while len(stack):\n",
        "            curr_edge, path = stack.pop() # Extraemos la primera arista del stack\n",
        "            # Recorremos esta arista, por lo que la marcamos como visitada\n",
        "            visited.add(curr_edge)\n",
        "            # Caso 1: Si el camino recorrido actual supera la cantidad de nodos del bgp,\n",
        "            #         descartamos este camino\n",
        "            if len(path) > pattern_dim:\n",
        "                continue\n",
        "            # Caso 2: Si el camino recorrido tiene un largo igual a pattern_dim,\n",
        "            #         y son aristas transitivas, entonces un posible ciclo.\n",
        "            first_node = path[0][0] # primer nodo del camino\n",
        "            last_node = path[-1][2] # ultimo nodo del caminmo\n",
        "            if len(path) == pattern_dim and first_node == last_node:\n",
        "                cycles.append(path)\n",
        "                # Agregamos el camino y seguimos recorriendo\n",
        "                continue\n",
        "            # Si no es ciclico el camino desde el nodo actual,\n",
        "            # entonces iteramos dentro de sus vecinos\n",
        "            for neighbor_edge in neighbors[edges.index(curr_edge)]:\n",
        "                if neighbor_edge not in visited:\n",
        "                    stack.append((neighbor_edge, path + [neighbor_edge]))\n",
        "\n",
        "    return cycles\n",
        "\n",
        "\n",
        "def get_nodes(pattern, pattern_dim):\n",
        "    \"\"\"\n",
        "    Funcion que retorna la tupla con los nodos que forman un ciclo.\n",
        "    \"\"\"\n",
        "    nodes = []\n",
        "    for i in range(pattern_dim):\n",
        "      edge = pattern[i]\n",
        "      nodes.append(edge[0])\n",
        "\n",
        "    return (tuple(sorted(nodes)), tuple(sorted(pattern)))\n",
        "\n",
        "\n",
        "def get_unique_lists(pattern1, pattern2):\n",
        "    \"\"\"\n",
        "    Funcion que elimina patrones de grafo duplicados para cada llave\n",
        "    (n1,n2, ..., nl). Si tenemos l = 3, entonces seria (n1,n2,n3)\n",
        "    \"\"\"\n",
        "    lst = []\n",
        "    if pattern2 != pattern1:\n",
        "      return lst.append(pattern2)\n",
        "    else:\n",
        "      return pattern1\n",
        "\n",
        "\n",
        "def reduce_phase(mapped_keys, pattern_dim):\n",
        "    \"\"\"\n",
        "    input: RDD del grafo y cantidad de nodos del patron de grafo.\n",
        "    output: patrones encontrados.\n",
        "    \"\"\"\n",
        "    # Agrupamos por llaves\n",
        "    reducers = mapped_keys.groupByKey().mapValues(list)\n",
        "    # Filtramos solamente los grupos conformados por 3 aristas ...\n",
        "    reducers_edges = reducers.map(lambda v: v[1]) \\\n",
        "                    .filter(lambda x: len(x) >= pattern_dim)\n",
        "    # Por cada grupo buscamos un patron de grafo\n",
        "    patterns = reducers_edges \\\n",
        "              .map(lambda edges: find_patterns(edges, pattern_dim)) \\\n",
        "              .flatMap(list) \\\n",
        "              .map(lambda pattern: get_nodes(pattern, pattern_dim)) \\\n",
        "              .groupByKey().mapValues(lambda v: list(set(v)))\n",
        "\n",
        "\n",
        "    return patterns"
      ]
    },
    {
      "cell_type": "markdown",
      "metadata": {
        "id": "6C9TSq9OV4Au"
      },
      "source": [
        "👉🏻 Funcion final que simula el algoritmo MapReduce. Recibe los parametros correspondientes del grafo; las dimensiones del conjunto de imagenes de la funcion de hash; el conjunto de imagenes de la funcion de hash; la dimension del patron de grafo."
      ]
    },
    {
      "cell_type": "code",
      "execution_count": 11,
      "metadata": {
        "id": "jzZyF1f3lS5I"
      },
      "outputs": [],
      "source": [
        "def map_reduce(rdd_graph, b_dim, b_set, pattern_dim, show=False):\n",
        "  \"\"\"\n",
        "  Funcion que simula el algoritmo MapReduce, en donde se distribuye el grafo\n",
        "  en diferentes reducers y luego obtenemos los posibles patrones\n",
        "  de grafos formados combinando las informacion de todos los reducers.\n",
        "  \"\"\"\n",
        "  # Fase de Map: Obtenemos las llaves de cada reducer y el conjunto de aristas mapeados a estas llaves.\n",
        "  mapped_keys = map_phase(rdd_graph, b_dim, b_set, pattern_dim)\n",
        "\n",
        "  if show: # Mostras las llaves mapeadas\n",
        "    print(\"Fase Map: \\n\")\n",
        "    for key in mapped_keys.collect():\n",
        "      print(key)\n",
        "    print(\"\\nFase Reduce\\n\")\n",
        "\n",
        "  # Fase Reduce: Obtenemos todos los posibles patrones de L nodos.\n",
        "  patterns = reduce_phase(mapped_keys, pattern_dim)\n",
        "  return patterns"
      ]
    },
    {
      "cell_type": "markdown",
      "metadata": {
        "id": "i7mlfvf9Q6gy"
      },
      "source": [
        "# 3. Aplicacion MapReduce en Ejemplo Basico"
      ]
    },
    {
      "cell_type": "markdown",
      "metadata": {
        "id": "L0SJtu5EWJyH"
      },
      "source": [
        "👉🏻 En esta seccion aplicaremos el algoritmo MapReduce para un grafo de prueba pequeño (el que fue dado al inicio de la tarea, con algunas modificaciones). Este lo guardamos como 'basic-example'."
      ]
    },
    {
      "cell_type": "code",
      "execution_count": 184,
      "metadata": {
        "colab": {
          "base_uri": "https://localhost:8080/"
        },
        "id": "sp8fBluSQ54M",
        "outputId": "a817c20e-f917-465b-cac9-c686d51e59f1"
      },
      "outputs": [
        {
          "data": {
            "text/plain": [
              "[(1, 11, 2),\n",
              " (1, 11, 3),\n",
              " (2, 11, 3),\n",
              " (3, 11, 2),\n",
              " (3, 11, 4),\n",
              " (4, 11, 1),\n",
              " (4, 11, 2),\n",
              " (4, 11, 3),\n",
              " (4, 12, 5),\n",
              " (5, 12, 1),\n",
              " (5, 12, 2),\n",
              " (5, 12, 6),\n",
              " (1, 12, 2),\n",
              " (2, 12, 3),\n",
              " (3, 12, 1)]"
            ]
          },
          "execution_count": 184,
          "metadata": {},
          "output_type": "execute_result"
        }
      ],
      "source": [
        "graph = load_graph('basic-example')\n",
        "rdd_graph = sc.parallelize(graph)\n",
        "rdd_graph.collect()"
      ]
    },
    {
      "cell_type": "markdown",
      "metadata": {
        "id": "tcJZG8CQQQne"
      },
      "source": [
        "## 3.1 MapReduce Algorithm for Triangles"
      ]
    },
    {
      "cell_type": "markdown",
      "metadata": {
        "id": "d6qMxtBooGtc"
      },
      "source": [
        "👉🏻 Para encontrar triangulos dentro de un grafo utilizaremos el algoritmo Map Reduce para parametros b_0 = 2 y l = 3.\n",
        "\n",
        "👉🏻 En este caso, b_0=2 ya que al utilizar la funcion de hash modular `f(x) = x mod 2`, generamos un conjunto de 2 imagenes: {0,1}. En consecuencia, los posibles reducers son:\n",
        "```markdown\n",
        "REDUCERS = [(0, 0, 0),\n",
        "            (0, 0, 1),\n",
        "            (0, 1, 0),\n",
        "            (0, 1, 1),\n",
        "            (1, 0, 0),\n",
        "            (1, 0, 1),\n",
        "            (1, 1, 0),\n",
        "            (1, 1, 1)]\n",
        "```\n",
        "\n",
        "👉🏻 Dado que estamos buscando subgrafos de 3 nodos, entonces l_0 = 3.\n",
        "\n",
        "👉🏻 Las aristas se distribuyen dentro de los reducers, por lo que almacenamos el grafo de manera distribuida.En cada reducer verificamos si las aristas generan triangulos, en el caso que si (formaria un ciclo) se almacenará en una lista y retornaremos los nodos correspondientes.\n",
        "\n",
        "\n"
      ]
    },
    {
      "cell_type": "code",
      "execution_count": 185,
      "metadata": {
        "colab": {
          "base_uri": "https://localhost:8080/"
        },
        "id": "IK8OPRVPn8W-",
        "outputId": "dc2164e1-f315-4e72-b36e-7a2e6ea7aea9"
      },
      "outputs": [
        {
          "data": {
            "text/plain": [
              "[((2, 3, 4),\n",
              "  [((2, 11, 3), (3, 11, 4), (4, 11, 2)),\n",
              "   ((2, 12, 3), (3, 11, 4), (4, 11, 2))]),\n",
              " ((1, 2, 3),\n",
              "  [((1, 12, 2), (2, 12, 3), (3, 12, 1)),\n",
              "   ((1, 11, 2), (2, 11, 3), (3, 12, 1)),\n",
              "   ((1, 11, 2), (2, 12, 3), (3, 12, 1)),\n",
              "   ((1, 12, 2), (2, 11, 3), (3, 12, 1))]),\n",
              " ((1, 3, 4), [((1, 11, 3), (3, 11, 4), (4, 11, 1))])]"
            ]
          },
          "execution_count": 185,
          "metadata": {},
          "output_type": "execute_result"
        }
      ],
      "source": [
        "# Dimension de elementos del conjunto de imagenes de la funcion de hash: |{0,1}|\n",
        "b_0 = 2\n",
        "# Dimension del patron de grafo (triangulo para este caso)\n",
        "l_0 = 3\n",
        "# Conjunto de imagenes de la funcion de hash\n",
        "b_set_0 = list(range(b_0))\n",
        "# Posibles reducers\n",
        "reducers_0 = list(product(b_set_0, repeat=l_0))\n",
        "\n",
        "patterns = map_reduce(rdd_graph, b_0, reducers_0, l_0)\n",
        "\n",
        "patterns.collect()"
      ]
    },
    {
      "cell_type": "markdown",
      "metadata": {
        "id": "MCtX0wRxW4TJ"
      },
      "source": [
        "👉🏻 Al aplicar el algoritmo mapReduce, podemos notar que existen 3 tripletas de nodos que forman un triangulo. En donde estos nodos permiten formar diferentes patrones de grafos triangulares. En este caso, como tenemos mas de una etiqueta distinta, podemos notar que para una tripleta de nodo, forman mas de un triangulo.\n",
        "```markdown\n",
        "  (2,3,4); (1,2,3); (1,3,4)\n",
        "```\n",
        "\n",
        "👉🏻 Las siguientes funciones se definiran con el fin de desarrollar consultas sobre estos grafos.\n"
      ]
    },
    {
      "cell_type": "code",
      "execution_count": 186,
      "metadata": {
        "id": "H8MNUFa8XUDZ"
      },
      "outputs": [],
      "source": [
        "def filter_patterns(pattern, pattern_dim, labels):\n",
        "  \"\"\"\n",
        "  Funcion que retorna los patrones filtrados segun el label proporcionado como\n",
        "  parametro.\n",
        "  \"\"\"\n",
        "  pattern_labels = [edge[1] for edge in pattern]\n",
        "  for i in range(pattern_dim + 1):\n",
        "      # verificamos si coinciden los labels ...\n",
        "      if pattern_labels == labels:\n",
        "        return pattern\n",
        "      # Hacemos un desplazamiento hacia la derecha ...\n",
        "      pattern_labels = pattern_labels[i:] + pattern_labels[:i]\n",
        "\n",
        "  return None\n",
        "\n",
        "def bgp_query(rdd_graph, b_dim, reducers, pattern_dim, query):\n",
        "  \"\"\"\n",
        "  Funcion que retorna todos los patrones de grafos de dimension \"pattern_dim\"\n",
        "  que coincidan segun la query entregada.\n",
        "  \"\"\"\n",
        "\n",
        "  patterns = map_reduce(rdd_graph, b_dim, reducers, pattern_dim).values().flatMap(list)\n",
        "  processed_query = query.replace(\"(\", \"\").replace(\")\", \"\").split(\",\")\n",
        "  labels = [int(part.strip()) for part in processed_query if part.strip().isdigit()]\n",
        "\n",
        "  result = patterns.filter(lambda pattern: filter_patterns(pattern, pattern_dim, labels))\n",
        "  return result"
      ]
    },
    {
      "cell_type": "code",
      "execution_count": 187,
      "metadata": {
        "colab": {
          "base_uri": "https://localhost:8080/"
        },
        "id": "rNlZTxSQXs6x",
        "outputId": "a3aa9b6f-2b4a-415c-f32a-56775325b4e6"
      },
      "outputs": [
        {
          "name": "stdout",
          "output_type": "stream",
          "text": [
            "((2, 11, 3), (3, 11, 4), (4, 11, 2))\n",
            "((1, 11, 3), (3, 11, 4), (4, 11, 1))\n"
          ]
        }
      ],
      "source": [
        "# Realizamos la siguiente consulta en donde queremos obtener todos los triangulos\n",
        "# donde la etiqueta es 11, independiente del nodo.\n",
        "result = bgp_query(rdd_graph, b_0, reducers_0, l_0, \"(x,11,y), (y,11,z), (z,11,w)\")\n",
        "for res in result.collect():\n",
        "  print(res)"
      ]
    },
    {
      "cell_type": "markdown",
      "metadata": {
        "id": "aES7v_zWQZZL"
      },
      "source": [
        "## 3.2 MapReduce Algorithm for Squares\n"
      ]
    },
    {
      "cell_type": "markdown",
      "metadata": {
        "id": "yBBJpfYRY7C0"
      },
      "source": [
        "👉🏻 Ahora aplicaremos nuestro algoritmo para la busqueda de patrones de grafos de 4 variables. En primer lugar, utilizaremos el mismo algoritmo anterior, pero cambiaremos los parametros de l y b_set. En este caso, utilizaremos l = 4. En consecuencia, obtenemos una cantidad de $2^4$ reducers (definidos como `reducers_1`)."
      ]
    },
    {
      "cell_type": "code",
      "execution_count": 188,
      "metadata": {
        "colab": {
          "base_uri": "https://localhost:8080/"
        },
        "id": "cRsbqVb-Qidy",
        "outputId": "10ad859f-4a02-42cd-ecbc-e57c5a56074a"
      },
      "outputs": [
        {
          "data": {
            "text/plain": [
              "[((1, 2, 3, 4),\n",
              "  [((1, 12, 2), (2, 12, 3), (3, 11, 4), (4, 11, 1)),\n",
              "   ((1, 12, 2), (2, 11, 3), (3, 11, 4), (4, 11, 1)),\n",
              "   ((1, 11, 2), (2, 11, 3), (3, 11, 4), (4, 11, 1)),\n",
              "   ((1, 11, 2), (2, 12, 3), (3, 11, 4), (4, 11, 1))]),\n",
              " ((2, 3, 4, 5),\n",
              "  [((2, 11, 3), (3, 11, 4), (4, 12, 5), (5, 12, 2)),\n",
              "   ((2, 12, 3), (3, 11, 4), (4, 12, 5), (5, 12, 2))]),\n",
              " ((2, 3, 3, 4),\n",
              "  [((2, 11, 3), (3, 11, 2), (3, 11, 4), (4, 11, 3)),\n",
              "   ((2, 12, 3), (3, 11, 2), (3, 11, 4), (4, 11, 3))]),\n",
              " ((1, 3, 4, 5), [((1, 11, 3), (3, 11, 4), (4, 12, 5), (5, 12, 1))]),\n",
              " ((1, 2, 3, 3), [((1, 11, 3), (2, 12, 3), (3, 11, 2), (3, 12, 1))])]"
            ]
          },
          "execution_count": 188,
          "metadata": {},
          "output_type": "execute_result"
        }
      ],
      "source": [
        "# Como buscaremos los posibles cuadrados a formar, entonces tendremos l=4 nodos\n",
        "# en el bgp.\n",
        "l_1 = 4\n",
        "# Tendremos b^4 reducers posibles.\n",
        "b_set_1 = list(range(b_0))\n",
        "reducers_1 = list(product(b_set_1, repeat=l_1))\n",
        "# aplicamos el algoritmo para patrones de grafos de l=4 nodos, con 2^4 reducers\n",
        "# y con un conjunto de preimagenes de la funcion de hash {0,1}.\n",
        "squares_patterns = map_reduce(rdd_graph, b_0, reducers_1, l_1)\n",
        "squares_patterns.collect() # Obtenemos todos los posibles patrones cuadrados sin importar el label."
      ]
    },
    {
      "cell_type": "markdown",
      "metadata": {
        "id": "iA8vqrEGaEPX"
      },
      "source": [
        "👉🏻 Ahora podemos notar que el algoritmo se demora aproximadamente 1s en correr.\n",
        "\n",
        "👉🏻 Podemos notar que existen 5 tuplas que forman patrones de grafos cuadrilateros (considerando que tenemos diferentes etiquetas, por lo que algunos nodos se repiten, sin embargo se debe a que presentan labels de aristas distintos).\n",
        "\n",
        "```markdown\n",
        "(1,2,3,4), (2,3,4,5), (2,3,3,4), (1,2,4,5), y (1,2,3,3).\n",
        "```"
      ]
    },
    {
      "cell_type": "code",
      "execution_count": 189,
      "metadata": {
        "id": "8-TH6CLeveT3"
      },
      "outputs": [],
      "source": [
        "def filter_patterns_squares(pattern, pattern_dim, M1):\n",
        "    \"\"\"\n",
        "    Funcion que retorna los patrones filtrados para cuadrilateros\n",
        "    \"\"\"\n",
        "    for i in range(pattern_dim + 1):\n",
        "        shift_patterns = pattern[i:] + pattern[:i]\n",
        "        A = [item[0] for item in shift_patterns]  # Variables (A)\n",
        "        L = list(set(item[1] for item in shift_patterns)) # Labels (L)\n",
        "\n",
        "        dict_var_dir = {var: dir for dir, var in enumerate(A)}\n",
        "        dict_label_dir = {label: dir for dir, label in enumerate(L)}\n",
        "        # definimos la matriz AxLxA. Para que se realice match, la\n",
        "        # matriz del patron de grafo debe ser la misma que la matriz\n",
        "        # para el subgrafo\n",
        "        M2 = np.zeros((len(A), len(L), len(A)))\n",
        "\n",
        "        for item in shift_patterns:\n",
        "            node_1 = item[0]\n",
        "            label = int(item[1])\n",
        "            node_2 = item[2]\n",
        "\n",
        "            dir_node_1 = dict_var_dir[node_1]\n",
        "            dir_label = dict_label_dir[label]\n",
        "            dir_node_2 = dict_var_dir[node_2]\n",
        "\n",
        "            M2[dir_node_1][dir_label][dir_node_2] = 1\n",
        "        # si la matriz M1 (que es la de consulta) es igual a la matriz M2 (que\n",
        "        # es la que se procesa para cada subgrafo), entonces se retorna el patron\n",
        "        if np.array_equal(M1, M2):\n",
        "            return pattern\n",
        "\n",
        "    return None\n",
        "\n",
        "def get_matches(rdd_graph, b_dim, reducers, pattern_dim, query):\n",
        "    \"\"\"\n",
        "    Funcion que procesa la consulta y retorna los posibles matches segun \n",
        "    el patron de grafo que se encuentra. Idealmente, se debe entregara la \n",
        "    consulta como \"[(x,label,y), (y,label,z), (z,label,w), (w,label,x)]\"\n",
        "    con las separaciones por comas entre tuplas. \n",
        "    \"\"\"\n",
        "    processed_query = query.replace(\" \", \";\").replace(\"(\", \"\").replace(\")\", \"\").split(\",;\")\n",
        "    processed_query = [item.split(\",\") for item in processed_query]\n",
        "\n",
        "    A = [item[0] for item in processed_query]  # lista de Variables\n",
        "    L = list(set(int(item[1]) for item in processed_query))  # lista de Labels\n",
        "\n",
        "    # Diccionario en donde recordamos la direccion de memoria de cada variable\n",
        "    # y label.\n",
        "    dict_var_dir = {var: dir for dir, var in enumerate(A)}\n",
        "    dict_label_dir = {label: dir for dir, label in enumerate(L)}\n",
        "\n",
        "    # definimos nuestra matriz M de dimension A X L X A\n",
        "    M1 = np.zeros((len(A), len(L), len(A)))\n",
        "    for item in processed_query:\n",
        "        node_1 = item[0]\n",
        "        label = int(item[1])\n",
        "        node_2 = item[2]\n",
        "        dir_node_1 = dict_var_dir[node_1]\n",
        "        dir_label = dict_label_dir[label]\n",
        "        dir_node_2 = dict_var_dir[node_2]\n",
        "        M1[dir_node_1][dir_label][dir_node_2] = 1\n",
        "\n",
        "    # con map reduce, encontramos todos los patrones que tienen 4 aristas (cuadrilateros)\n",
        "    patterns = map_reduce(rdd_graph, b_dim, reducers, pattern_dim).values().flatMap(list)\n",
        "\n",
        "    # filtramos los subgrafos segun el patron de grafo que se solicita\n",
        "    result = patterns.filter(lambda pattern: filter_patterns_squares(pattern, pattern_dim, M1) is not None)\n",
        "    return result.collect()\n"
      ]
    },
    {
      "cell_type": "code",
      "execution_count": 190,
      "metadata": {
        "colab": {
          "base_uri": "https://localhost:8080/"
        },
        "id": "F3Q8LNl5BIvP",
        "outputId": "e8e42452-83bf-4cb4-b1db-307ee02cee32"
      },
      "outputs": [
        {
          "data": {
            "text/plain": [
              "[((1, 12, 2), (2, 12, 3), (3, 11, 4), (4, 11, 1)),\n",
              " ((2, 11, 3), (3, 11, 4), (4, 12, 5), (5, 12, 2)),\n",
              " ((1, 11, 3), (3, 11, 4), (4, 12, 5), (5, 12, 1))]"
            ]
          },
          "execution_count": 190,
          "metadata": {},
          "output_type": "execute_result"
        }
      ],
      "source": [
        "get_matches(rdd_graph, b_0, reducers_1, l_1, \"(x,11,y), (y,11,z), (z,12,w), (w,12,x)\")"
      ]
    },
    {
      "cell_type": "code",
      "execution_count": 191,
      "metadata": {
        "colab": {
          "base_uri": "https://localhost:8080/"
        },
        "id": "j7IUXiTUwf9X",
        "outputId": "20e21e9c-3972-4069-eeef-ddc62b520702"
      },
      "outputs": [
        {
          "data": {
            "text/plain": [
              "[((1, 11, 2), (2, 11, 3), (3, 11, 4), (4, 11, 1))]"
            ]
          },
          "execution_count": 191,
          "metadata": {},
          "output_type": "execute_result"
        }
      ],
      "source": [
        "get_matches(rdd_graph, b_0, reducers_1, l_1, \"(x,11,y), (y,11,z), (z,11,w), (w,11,x)\")"
      ]
    },
    {
      "cell_type": "markdown",
      "metadata": {
        "id": "jYoIpA5mB9gE"
      },
      "source": [
        "👉🏻 Podemos notar que tambien podemos tener cuadrados pero considerando 3 nodos, pero existen 4 aristan en diferentes direcciones (Se veria visualmente como un \"8\"):\n",
        "    \n",
        "    3 -[11]-> 4 -[11]->3-[11]->2-[11]->3"
      ]
    },
    {
      "cell_type": "code",
      "execution_count": 192,
      "metadata": {
        "colab": {
          "base_uri": "https://localhost:8080/"
        },
        "id": "wUe1nFDsA5hC",
        "outputId": "dc092a7b-f069-49ae-bd0e-97544fd1e992"
      },
      "outputs": [
        {
          "data": {
            "text/plain": [
              "[((2, 11, 3), (3, 11, 2), (3, 11, 4), (4, 11, 3))]"
            ]
          },
          "execution_count": 192,
          "metadata": {},
          "output_type": "execute_result"
        }
      ],
      "source": [
        "get_matches(rdd_graph, b_0, reducers_1, l_1, \"(x,11,y), (y,11,x), (y,11,z), (z,11,y)\")"
      ]
    },
    {
      "cell_type": "markdown",
      "metadata": {
        "id": "xLwA73BsyR54"
      },
      "source": [
        "# 4. Aplicacion de un grafo a gran escala: Twitter Graph"
      ]
    },
    {
      "cell_type": "markdown",
      "metadata": {
        "id": "_7TMwckFyZNn"
      },
      "source": [
        "👉🏻 Ahora cargaremos un grafo de mayor tamaño (700 aristas) para evaluar nuestro algoritmo. El siguiente grafo corresponde a un grafo que modela la interaccion de cada usuario en la red social twitter.\n",
        "El grafo sera cargado como lista de tuplas, en donde cada tupla modela la relacion entre un usuario y otro. Consideramos las siguientes 2 tipos de relaciones\n",
        "\n",
        "    Relacion 0: INTERACTS_WITH - El usuario 1 interacciona con otro usuario 2\n",
        "    Relacion 1: SIMILAR_TO - El usuario 1 es similar al usuario 2\n",
        "\n",
        "Referencia: https://github.com/neo4j-graph-examples/twitter-v2\n"
      ]
    },
    {
      "cell_type": "code",
      "execution_count": 193,
      "metadata": {
        "colab": {
          "base_uri": "https://localhost:8080/"
        },
        "id": "WT80_UCNyVpy",
        "outputId": "6f889590-fe3e-4dbe-868c-374666f6900a"
      },
      "outputs": [
        {
          "name": "stdout",
          "output_type": "stream",
          "text": [
            "Connection to Neo4j established successfully!\n",
            "INTERACTS_WITH AS class 0\n",
            "SIMILAR_TO AS class 1\n"
          ]
        }
      ],
      "source": [
        "graph = load_graph('neo4j-graph')\n",
        "rdd_graph = sc.parallelize(graph)"
      ]
    },
    {
      "cell_type": "code",
      "execution_count": 194,
      "metadata": {
        "colab": {
          "base_uri": "https://localhost:8080/"
        },
        "id": "Qgquhq2lF0ct",
        "outputId": "d7a09ce9-d973-4118-f384-4689398496b5"
      },
      "outputs": [
        {
          "data": {
            "text/plain": [
              "744"
            ]
          },
          "execution_count": 194,
          "metadata": {},
          "output_type": "execute_result"
        }
      ],
      "source": [
        "rdd_graph.count() # Cantidad de aristas del grafo"
      ]
    },
    {
      "cell_type": "markdown",
      "metadata": {
        "id": "yujgfV070PB1"
      },
      "source": [
        "## 4.1 MapReduce Algorithm for Triangles"
      ]
    },
    {
      "cell_type": "markdown",
      "metadata": {
        "id": "hbtFpyt4In-L"
      },
      "source": [
        "👉🏻 Ahora aplicaremos MapReduce para encontrar los patrones de grafos con forma de triangulo dentro del grafo cargado desde Neo4j.\n",
        "\n"
      ]
    },
    {
      "cell_type": "code",
      "execution_count": 207,
      "metadata": {
        "colab": {
          "base_uri": "https://localhost:8080/"
        },
        "id": "nRcgQ7zLzOLq",
        "outputId": "fed7614f-ff5b-4217-818e-38635bda212a"
      },
      "outputs": [
        {
          "data": {
            "text/plain": [
              "[((23, 106, 396), [((23, 1, 106), (106, 1, 396), (396, 0, 23))]),\n",
              " ((23, 56, 396), [((23, 1, 396), (56, 1, 23), (396, 0, 56))]),\n",
              " ((106, 144, 175), [((106, 0, 144), (144, 0, 175), (175, 1, 106))]),\n",
              " ((23, 116, 408), [((23, 0, 408), (116, 1, 23), (408, 1, 116))]),\n",
              " ((23, 28, 186), [((23, 0, 186), (28, 1, 23), (186, 0, 28))]),\n",
              " ((23, 318, 396), [((23, 1, 396), (318, 1, 23), (396, 0, 318))]),\n",
              " ((23, 396, 408), [((23, 1, 396), (396, 0, 408), (408, 1, 23))]),\n",
              " ((285, 318, 396),\n",
              "  [((285, 1, 318), (318, 1, 396), (396, 0, 285)),\n",
              "   ((285, 1, 396), (318, 0, 285), (396, 0, 318))]),\n",
              " ((21, 374, 492),\n",
              "  [((21, 1, 374), (374, 0, 492), (492, 1, 21)),\n",
              "   ((21, 0, 492), (374, 0, 21), (492, 1, 374))]),\n",
              " ((52, 91, 118), [((52, 0, 118), (91, 1, 52), (118, 1, 91))]),\n",
              " ((144, 148, 155), [((144, 0, 155), (148, 1, 144), (155, 1, 148))]),\n",
              " ((134, 135, 144), [((134, 1, 144), (135, 1, 134), (144, 0, 135))]),\n",
              " ((144, 156, 323), [((144, 0, 323), (156, 1, 144), (323, 0, 156))]),\n",
              " ((106, 144, 231),\n",
              "  [((106, 0, 144), (144, 0, 231), (231, 1, 106)),\n",
              "   ((106, 0, 231), (144, 1, 106), (231, 1, 144))]),\n",
              " ((50, 144, 231), [((50, 1, 144), (144, 0, 231), (231, 1, 50))]),\n",
              " ((106, 144, 323), [((106, 0, 323), (144, 1, 106), (323, 1, 144))]),\n",
              " ((134, 144, 155), [((134, 1, 144), (144, 0, 155), (155, 1, 134))]),\n",
              " ((134, 148, 155), [((134, 0, 155), (148, 1, 134), (155, 1, 148))]),\n",
              " ((134, 135, 148),\n",
              "  [((134, 0, 148), (135, 1, 134), (148, 1, 135)),\n",
              "   ((134, 0, 135), (135, 0, 148), (148, 1, 134))]),\n",
              " ((134, 148, 291),\n",
              "  [((134, 0, 148), (148, 1, 291), (291, 1, 134)),\n",
              "   ((134, 0, 291), (148, 1, 134), (291, 0, 148))]),\n",
              " ((135, 148, 236), [((135, 0, 236), (148, 1, 135), (236, 0, 148))]),\n",
              " ((134, 236, 291),\n",
              "  [((134, 0, 236), (236, 0, 291), (291, 1, 134)),\n",
              "   ((134, 0, 291), (236, 1, 134), (291, 1, 236))]),\n",
              " ((134, 135, 236),\n",
              "  [((134, 0, 236), (135, 1, 134), (236, 1, 135)),\n",
              "   ((134, 0, 135), (135, 0, 236), (236, 1, 134))]),\n",
              " ((134, 155, 236), [((134, 0, 155), (155, 1, 236), (236, 1, 134))]),\n",
              " ((135, 144, 236), [((135, 0, 236), (144, 0, 135), (236, 1, 144))]),\n",
              " ((144, 155, 236), [((144, 0, 155), (155, 1, 236), (236, 1, 144))]),\n",
              " ((148, 155, 236),\n",
              "  [((148, 0, 155), (155, 1, 236), (236, 0, 148)),\n",
              "   ((148, 1, 236), (155, 1, 148), (236, 0, 155))]),\n",
              " ((148, 236, 291), [((148, 1, 291), (236, 0, 148), (291, 1, 236))]),\n",
              " ((135, 144, 148), [((135, 0, 148), (144, 0, 135), (148, 1, 144))]),\n",
              " ((135, 231, 291), [((135, 0, 291), (231, 0, 135), (291, 1, 231))]),\n",
              " ((135, 155, 231), [((135, 1, 231), (155, 1, 135), (231, 0, 155))]),\n",
              " ((135, 155, 291),\n",
              "  [((135, 0, 291), (155, 1, 135), (291, 0, 155)),\n",
              "   ((135, 0, 155), (155, 1, 291), (291, 1, 135))]),\n",
              " ((155, 231, 291), [((155, 1, 291), (231, 0, 155), (291, 1, 231))]),\n",
              " ((116, 396, 408), [((116, 1, 396), (396, 0, 408), (408, 1, 116))]),\n",
              " ((52, 118, 348), [((52, 0, 118), (118, 1, 348), (348, 0, 52))]),\n",
              " ((220, 238, 382), [((220, 1, 238), (238, 1, 382), (382, 0, 220))]),\n",
              " ((314, 328, 416),\n",
              "  [((314, 1, 328), (328, 0, 416), (416, 1, 314)),\n",
              "   ((314, 0, 416), (328, 0, 314), (416, 1, 328))]),\n",
              " ((134, 148, 236),\n",
              "  [((134, 0, 148), (148, 1, 236), (236, 1, 134)),\n",
              "   ((134, 0, 236), (148, 1, 134), (236, 0, 148))]),\n",
              " ((106, 175, 231), [((106, 0, 231), (175, 1, 106), (231, 1, 175))]),\n",
              " ((23, 171, 242), [((23, 0, 171), (171, 0, 242), (242, 1, 23))]),\n",
              " ((144, 175, 231),\n",
              "  [((144, 0, 175), (175, 0, 231), (231, 1, 144)),\n",
              "   ((144, 0, 231), (175, 1, 144), (231, 1, 175))]),\n",
              " ((144, 231, 323), [((144, 0, 231), (231, 0, 323), (323, 1, 144))]),\n",
              " ((134, 135, 231), [((134, 1, 231), (135, 1, 134), (231, 0, 135))]),\n",
              " ((135, 144, 231), [((135, 1, 144), (144, 0, 231), (231, 0, 135))]),\n",
              " ((135, 231, 236), [((135, 0, 236), (231, 0, 135), (236, 1, 231))]),\n",
              " ((135, 148, 231), [((135, 0, 148), (148, 1, 231), (231, 0, 135))]),\n",
              " ((148, 155, 231), [((148, 1, 231), (155, 1, 148), (231, 0, 155))]),\n",
              " ((155, 231, 236), [((155, 1, 236), (231, 0, 155), (236, 1, 231))]),\n",
              " ((134, 155, 231), [((134, 1, 231), (155, 1, 134), (231, 0, 155))]),\n",
              " ((135, 236, 291), [((135, 0, 236), (236, 0, 291), (291, 1, 135))]),\n",
              " ((135, 144, 291), [((135, 0, 291), (144, 0, 135), (291, 1, 144))]),\n",
              " ((134, 135, 291),\n",
              "  [((134, 0, 135), (135, 0, 291), (291, 1, 134)),\n",
              "   ((134, 0, 291), (135, 1, 134), (291, 1, 135))]),\n",
              " ((135, 148, 155), [((135, 0, 155), (148, 1, 135), (155, 1, 148))]),\n",
              " ((135, 155, 236), [((135, 0, 155), (155, 1, 236), (236, 1, 135))]),\n",
              " ((134, 135, 155),\n",
              "  [((134, 0, 155), (135, 1, 134), (155, 1, 135)),\n",
              "   ((134, 0, 135), (135, 0, 155), (155, 1, 134))]),\n",
              " ((135, 148, 291), [((135, 0, 291), (148, 1, 135), (291, 0, 148))]),\n",
              " ((148, 155, 291), [((148, 1, 291), (155, 1, 148), (291, 0, 155))]),\n",
              " ((155, 236, 291),\n",
              "  [((155, 1, 236), (236, 0, 291), (291, 0, 155)),\n",
              "   ((155, 1, 291), (236, 0, 155), (291, 1, 236))]),\n",
              " ((134, 155, 291),\n",
              "  [((134, 0, 155), (155, 1, 291), (291, 1, 134)),\n",
              "   ((134, 0, 291), (155, 1, 134), (291, 0, 155))]),\n",
              " ((144, 155, 291), [((144, 0, 155), (155, 1, 291), (291, 1, 144))]),\n",
              " ((135, 144, 155), [((135, 1, 144), (144, 0, 155), (155, 1, 135))])]"
            ]
          },
          "execution_count": 207,
          "metadata": {},
          "output_type": "execute_result"
        }
      ],
      "source": [
        "patterns = map_reduce(rdd_graph, b_0, reducers_0, l_0)\n",
        "patterns.collect()"
      ]
    },
    {
      "cell_type": "markdown",
      "metadata": {
        "id": "MUrxrmTbIyoZ"
      },
      "source": [
        "👉🏻 El algoritmo es bien rapido de ejecutar, y podemos ver claramente las relaciones entre diferentes usuarios, para diferentes labels."
      ]
    },
    {
      "cell_type": "markdown",
      "metadata": {
        "id": "-xQk8rW5JeeP"
      },
      "source": [
        "👉🏻 Para poder analizar las relaciones y compararlo con el grafo mostrado en Neo4j, realizaremos una consulta, y luego compararemos los resultados ..."
      ]
    },
    {
      "cell_type": "code",
      "execution_count": 208,
      "metadata": {
        "id": "fk0X6spHKA7m"
      },
      "outputs": [],
      "source": [
        "# Cargamos el diccionario que guardamos los nombres de usuarios y el id asociado.\n",
        "users_id = np.load('users_id.npy', allow_pickle=True).item()\n",
        "dict_users_id = {value : key for key, value in users_id.items()}\n",
        "# Cargamos el tipo de relacion.\n",
        "relationship_class = np.load('relationship_class.npy', allow_pickle=True).item()\n",
        "dict_relation_class = {value : key for key, value in relationship_class.items()}"
      ]
    },
    {
      "cell_type": "code",
      "execution_count": 211,
      "metadata": {
        "colab": {
          "base_uri": "https://localhost:8080/"
        },
        "id": "84BwPADGOksb",
        "outputId": "e046a3a4-e5a0-4716-b4c4-076d7422228e"
      },
      "outputs": [
        {
          "data": {
            "text/plain": [
              "[((23, 0, 186), (28, 1, 23), (186, 0, 28)),\n",
              " ((285, 1, 396), (318, 0, 285), (396, 0, 318)),\n",
              " ((144, 0, 323), (156, 1, 144), (323, 0, 156)),\n",
              " ((134, 0, 291), (148, 1, 134), (291, 0, 148)),\n",
              " ((135, 0, 236), (148, 1, 135), (236, 0, 148)),\n",
              " ((148, 0, 155), (155, 1, 236), (236, 0, 148)),\n",
              " ((135, 0, 291), (155, 1, 135), (291, 0, 155)),\n",
              " ((52, 0, 118), (118, 1, 348), (348, 0, 52)),\n",
              " ((134, 0, 236), (148, 1, 134), (236, 0, 148)),\n",
              " ((135, 1, 144), (144, 0, 231), (231, 0, 135)),\n",
              " ((135, 0, 148), (148, 1, 231), (231, 0, 135)),\n",
              " ((135, 0, 291), (148, 1, 135), (291, 0, 148)),\n",
              " ((155, 1, 236), (236, 0, 291), (291, 0, 155)),\n",
              " ((134, 0, 291), (155, 1, 134), (291, 0, 155))]"
            ]
          },
          "execution_count": 211,
          "metadata": {},
          "output_type": "execute_result"
        }
      ],
      "source": [
        "result = bgp_query(rdd_graph, b_0, reducers_0, l_0, \"(x,1,y), (y,0,z), (z,0,x)\")\n",
        "result.collect()"
      ]
    },
    {
      "cell_type": "code",
      "execution_count": 212,
      "metadata": {
        "id": "aqQs7lmc8fdd"
      },
      "outputs": [],
      "source": [
        "def load_usernames(pat):\n",
        "  \"\"\"\n",
        "  Funcion que retorna el nombre de usuario codificado a un id, y tambien transforma\n",
        "  la clase del label a su valor original\n",
        "  \"\"\"\n",
        "  list_users = []\n",
        "  for i in range(len(pat)):\n",
        "    edge = pat[i]\n",
        "    user1 = dict_users_id[edge[0]]\n",
        "    label = dict_relation_class[edge[1]]\n",
        "    user2 = dict_users_id[edge[2]]\n",
        "    list_users.append((user1, label, user2))\n",
        "  return list_users"
      ]
    },
    {
      "cell_type": "markdown",
      "metadata": {
        "id": "Lx9bDXqV85gx"
      },
      "source": [
        "👉🏻 Ahora con la consulta anterior, analizaremos los usuarios involucrados en el siguiente caso: el primer usuario interacciona con el segundo; el segundo es similar al tercero; y el tercero el similar al primero."
      ]
    },
    {
      "cell_type": "code",
      "execution_count": 213,
      "metadata": {
        "colab": {
          "base_uri": "https://localhost:8080/"
        },
        "id": "tGo4JxqQ7sg-",
        "outputId": "07fe91fb-13ea-4d6f-e3b3-429c0d4a463d"
      },
      "outputs": [
        {
          "data": {
            "text/plain": [
              "[[('Michael Hunger', 'INTERACTS_WITH', 'Ben'),\n",
              "  ('Morgan | Tech Consultant | runtcpip.com 🔜 SXSW',\n",
              "   'SIMILAR_TO',\n",
              "   'Michael Hunger'),\n",
              "  ('Ben', 'INTERACTS_WITH', 'Morgan | Tech Consultant | runtcpip.com 🔜 SXSW')],\n",
              " [('Nigel Small 🇪🇺', 'SIMILAR_TO', 'Michael Simons'),\n",
              "  ('Jim Webber', 'INTERACTS_WITH', 'Nigel Small 🇪🇺'),\n",
              "  ('Michael Simons', 'INTERACTS_WITH', 'Jim Webber')],\n",
              " [('Dr.Salahideen ALHAJ 🔶 🔸️#WearAMask #SDGs', 'INTERACTS_WITH', 'Javelynn'),\n",
              "  ('Françoise Morvan',\n",
              "   'SIMILAR_TO',\n",
              "   'Dr.Salahideen ALHAJ 🔶 🔸️#WearAMask #SDGs'),\n",
              "  ('Javelynn', 'INTERACTS_WITH', 'Françoise Morvan')],\n",
              " [('Born To Be Idle', 'INTERACTS_WITH', 'Brana Rakic'),\n",
              "  ('Wen.S', 'SIMILAR_TO', 'Born To Be Idle'),\n",
              "  ('Brana Rakic', 'INTERACTS_WITH', 'Wen.S')],\n",
              " [('John Wolpert', 'INTERACTS_WITH', 'Chill Zone'),\n",
              "  ('Wen.S', 'SIMILAR_TO', 'John Wolpert'),\n",
              "  ('Chill Zone', 'INTERACTS_WITH', 'Wen.S')],\n",
              " [('Wen.S', 'INTERACTS_WITH', 'guinnessstache'),\n",
              "  ('guinnessstache', 'SIMILAR_TO', 'Chill Zone'),\n",
              "  ('Chill Zone', 'INTERACTS_WITH', 'Wen.S')],\n",
              " [('John Wolpert', 'INTERACTS_WITH', 'Brana Rakic'),\n",
              "  ('guinnessstache', 'SIMILAR_TO', 'John Wolpert'),\n",
              "  ('Brana Rakic', 'INTERACTS_WITH', 'guinnessstache')],\n",
              " [('Sonja Heward-mills', 'INTERACTS_WITH', 'Open Art Data'),\n",
              "  ('Open Art Data', 'SIMILAR_TO', 'Jesús Barrasa'),\n",
              "  ('Jesús Barrasa', 'INTERACTS_WITH', 'Sonja Heward-mills')],\n",
              " [('Born To Be Idle', 'INTERACTS_WITH', 'Chill Zone'),\n",
              "  ('Wen.S', 'SIMILAR_TO', 'Born To Be Idle'),\n",
              "  ('Chill Zone', 'INTERACTS_WITH', 'Wen.S')],\n",
              " [('John Wolpert', 'SIMILAR_TO', 'Dr.Salahideen ALHAJ 🔶 🔸️#WearAMask #SDGs'),\n",
              "  ('Dr.Salahideen ALHAJ 🔶 🔸️#WearAMask #SDGs',\n",
              "   'INTERACTS_WITH',\n",
              "   'Nancy Tremblay❤😀🌻🇨🇦'),\n",
              "  ('Nancy Tremblay❤😀🌻🇨🇦', 'INTERACTS_WITH', 'John Wolpert')],\n",
              " [('John Wolpert', 'INTERACTS_WITH', 'Wen.S'),\n",
              "  ('Wen.S', 'SIMILAR_TO', 'Nancy Tremblay❤😀🌻🇨🇦'),\n",
              "  ('Nancy Tremblay❤😀🌻🇨🇦', 'INTERACTS_WITH', 'John Wolpert')],\n",
              " [('John Wolpert', 'INTERACTS_WITH', 'Brana Rakic'),\n",
              "  ('Wen.S', 'SIMILAR_TO', 'John Wolpert'),\n",
              "  ('Brana Rakic', 'INTERACTS_WITH', 'Wen.S')],\n",
              " [('guinnessstache', 'SIMILAR_TO', 'Chill Zone'),\n",
              "  ('Chill Zone', 'INTERACTS_WITH', 'Brana Rakic'),\n",
              "  ('Brana Rakic', 'INTERACTS_WITH', 'guinnessstache')],\n",
              " [('Born To Be Idle', 'INTERACTS_WITH', 'Brana Rakic'),\n",
              "  ('guinnessstache', 'SIMILAR_TO', 'Born To Be Idle'),\n",
              "  ('Brana Rakic', 'INTERACTS_WITH', 'guinnessstache')]]"
            ]
          },
          "execution_count": 213,
          "metadata": {},
          "output_type": "execute_result"
        }
      ],
      "source": [
        "result.map(load_usernames).collect()"
      ]
    },
    {
      "cell_type": "markdown",
      "metadata": {
        "id": "utv-i53dF-8L"
      },
      "source": [
        "## 4.2 MapReduce For Squares"
      ]
    },
    {
      "cell_type": "markdown",
      "metadata": {
        "id": "0ekmEZNB9Vrb"
      },
      "source": [
        "👉🏻 Ahora aplicaremos el algoritmo MapReduce para buscar patrones todos los posibles subgrafos de solo 4 variables, para luego realizar una consulta."
      ]
    },
    {
      "cell_type": "code",
      "execution_count": 214,
      "metadata": {
        "colab": {
          "base_uri": "https://localhost:8080/"
        },
        "id": "6nwtcw0lF-rl",
        "outputId": "6a586be1-0d40-45e3-a2af-1aeb6f8a1f0e"
      },
      "outputs": [
        {
          "data": {
            "text/plain": [
              "[((116, 396, 408, 408),\n",
              "  [((116, 0, 408), (396, 0, 408), (408, 1, 116), (408, 1, 396))]),\n",
              " ((56, 318, 396, 396),\n",
              "  [((56, 1, 396), (318, 1, 396), (396, 0, 56), (396, 0, 318))]),\n",
              " ((56, 396, 396, 408),\n",
              "  [((56, 1, 396), (396, 0, 56), (396, 0, 408), (408, 1, 396))]),\n",
              " ((318, 396, 396, 408),\n",
              "  [((318, 1, 396), (396, 0, 318), (396, 0, 408), (408, 1, 396))]),\n",
              " ((52, 52, 118, 348),\n",
              "  [((52, 0, 118), (52, 1, 348), (118, 1, 52), (348, 0, 52))]),\n",
              " ((314, 314, 328, 416),\n",
              "  [((314, 0, 416), (314, 1, 328), (328, 0, 314), (416, 1, 314))]),\n",
              " ((314, 328, 416, 416),\n",
              "  [((314, 0, 416), (328, 0, 416), (416, 1, 314), (416, 1, 328))]),\n",
              " ((50, 106, 144, 144),\n",
              "  [((50, 1, 144), (106, 0, 144), (144, 0, 50), (144, 1, 106))]),\n",
              " ((134, 148, 236, 236),\n",
              "  [((134, 0, 236), (148, 1, 236), (236, 0, 148), (236, 1, 134))]),\n",
              " ((134, 148, 148, 236),\n",
              "  [((134, 0, 148), (148, 1, 134), (148, 1, 236), (236, 0, 148))]),\n",
              " ((134, 134, 148, 236),\n",
              "  [((134, 0, 148), (134, 0, 236), (148, 1, 134), (236, 1, 134))]),\n",
              " ((314, 328, 328, 416),\n",
              "  [((314, 1, 328), (328, 0, 314), (328, 0, 416), (416, 1, 328))]),\n",
              " ((23, 23, 106, 396),\n",
              "  [((23, 1, 106), (23, 1, 396), (106, 0, 23), (396, 0, 23))]),\n",
              " ((15, 285, 396, 396),\n",
              "  [((15, 1, 396), (285, 1, 396), (396, 0, 15), (396, 0, 285))]),\n",
              " ((106, 106, 327, 477),\n",
              "  [((106, 0, 327), (106, 0, 477), (327, 1, 106), (477, 1, 106))]),\n",
              " ((106, 106, 231, 327),\n",
              "  [((106, 0, 231), (106, 0, 327), (231, 1, 106), (327, 1, 106))]),\n",
              " ((106, 106, 327, 469),\n",
              "  [((106, 0, 327), (106, 0, 469), (327, 1, 106), (469, 1, 106))]),\n",
              " ((23, 106, 144, 275),\n",
              "  [((23, 1, 106), (106, 0, 144), (144, 1, 275), (275, 1, 23))]),\n",
              " ((106, 106, 469, 477),\n",
              "  [((106, 0, 469), (106, 0, 477), (469, 1, 106), (477, 1, 106))]),\n",
              " ((106, 106, 231, 469),\n",
              "  [((106, 0, 231), (106, 0, 469), (231, 1, 106), (469, 1, 106))]),\n",
              " ((106, 106, 231, 477),\n",
              "  [((106, 0, 231), (106, 0, 477), (231, 1, 106), (477, 1, 106))]),\n",
              " ((23, 106, 106, 477),\n",
              "  [((23, 1, 106), (106, 0, 23), (106, 0, 477), (477, 1, 106))]),\n",
              " ((23, 106, 106, 231),\n",
              "  [((23, 1, 106), (106, 0, 23), (106, 0, 231), (231, 1, 106))]),\n",
              " ((23, 106, 106, 469),\n",
              "  [((23, 1, 106), (106, 0, 23), (106, 0, 469), (469, 1, 106))]),\n",
              " ((23, 106, 106, 327),\n",
              "  [((23, 1, 106), (106, 0, 23), (106, 0, 327), (327, 1, 106))]),\n",
              " ((23, 23, 28, 106), [((23, 0, 28), (23, 1, 106), (28, 1, 23), (106, 0, 23))]),\n",
              " ((23, 23, 28, 186), [((23, 0, 28), (23, 0, 186), (28, 1, 23), (186, 1, 23))]),\n",
              " ((23, 23, 28, 408), [((23, 0, 28), (23, 0, 408), (28, 1, 23), (408, 1, 23))]),\n",
              " ((23, 23, 28, 136), [((23, 0, 28), (23, 0, 136), (28, 1, 23), (136, 1, 23))]),\n",
              " ((23, 23, 28, 56), [((23, 0, 28), (23, 0, 56), (28, 1, 23), (56, 1, 23))]),\n",
              " ((23, 23, 56, 106), [((23, 0, 56), (23, 1, 106), (56, 1, 23), (106, 0, 23))]),\n",
              " ((23, 23, 56, 186), [((23, 0, 56), (23, 0, 186), (56, 1, 23), (186, 1, 23))]),\n",
              " ((23, 23, 56, 408), [((23, 0, 56), (23, 0, 408), (56, 1, 23), (408, 1, 23))]),\n",
              " ((23, 23, 56, 136), [((23, 0, 56), (23, 0, 136), (56, 1, 23), (136, 1, 23))]),\n",
              " ((23, 23, 106, 136),\n",
              "  [((23, 0, 136), (23, 1, 106), (106, 0, 23), (136, 1, 23))]),\n",
              " ((23, 23, 136, 186),\n",
              "  [((23, 0, 136), (23, 0, 186), (136, 1, 23), (186, 1, 23))]),\n",
              " ((23, 23, 136, 408),\n",
              "  [((23, 0, 136), (23, 0, 408), (136, 1, 23), (408, 1, 23))]),\n",
              " ((23, 23, 106, 242),\n",
              "  [((23, 0, 242), (23, 1, 106), (106, 0, 23), (242, 1, 23))]),\n",
              " ((23, 23, 186, 242),\n",
              "  [((23, 0, 186), (23, 0, 242), (186, 1, 23), (242, 1, 23))]),\n",
              " ((23, 23, 242, 408),\n",
              "  [((23, 0, 242), (23, 0, 408), (242, 1, 23), (408, 1, 23))]),\n",
              " ((23, 23, 136, 242),\n",
              "  [((23, 0, 136), (23, 0, 242), (136, 1, 23), (242, 1, 23))]),\n",
              " ((23, 23, 56, 242), [((23, 0, 56), (23, 0, 242), (56, 1, 23), (242, 1, 23))]),\n",
              " ((15, 23, 396, 396),\n",
              "  [((15, 1, 396), (23, 1, 396), (396, 0, 15), (396, 0, 23))]),\n",
              " ((23, 23, 186, 396),\n",
              "  [((23, 0, 186), (23, 1, 396), (186, 1, 23), (396, 0, 23))]),\n",
              " ((23, 23, 136, 396),\n",
              "  [((23, 0, 136), (23, 1, 396), (136, 1, 23), (396, 0, 23))]),\n",
              " ((285, 285, 318, 396),\n",
              "  [((285, 1, 318), (285, 1, 396), (318, 0, 285), (396, 0, 285))]),\n",
              " ((21, 21, 374, 492),\n",
              "  [((21, 0, 492), (21, 1, 374), (374, 0, 21), (492, 1, 21))]),\n",
              " ((23, 171, 242, 242),\n",
              "  [((23, 0, 242), (171, 0, 242), (242, 1, 23), (242, 1, 171))]),\n",
              " ((106, 144, 175, 231),\n",
              "  [((106, 0, 144), (144, 0, 175), (175, 0, 231), (231, 1, 106))]),\n",
              " ((50, 144, 175, 231),\n",
              "  [((50, 1, 144), (144, 0, 175), (175, 0, 231), (231, 1, 50))]),\n",
              " ((135, 144, 148, 155),\n",
              "  [((135, 1, 144), (144, 0, 155), (148, 1, 135), (155, 1, 148))]),\n",
              " ((134, 135, 144, 291),\n",
              "  [((134, 0, 291), (135, 1, 134), (144, 0, 135), (291, 1, 144))]),\n",
              " ((144, 156, 323, 323),\n",
              "  [((144, 0, 323), (156, 1, 323), (323, 0, 156), (323, 1, 144))]),\n",
              " ((144, 148, 155, 231),\n",
              "  [((144, 0, 155), (148, 1, 231), (155, 1, 148), (231, 1, 144)),\n",
              "   ((144, 0, 231), (148, 1, 144), (155, 1, 148), (231, 0, 155))]),\n",
              " ((144, 156, 231, 323),\n",
              "  [((144, 0, 231), (156, 1, 144), (231, 0, 323), (323, 0, 156))]),\n",
              " ((134, 148, 155, 231),\n",
              "  [((134, 1, 231), (148, 1, 134), (155, 1, 148), (231, 0, 155))]),\n",
              " ((134, 144, 155, 231),\n",
              "  [((134, 1, 144), (144, 0, 231), (155, 1, 134), (231, 0, 155))]),\n",
              " ((134, 135, 148, 155),\n",
              "  [((134, 0, 155), (135, 1, 134), (148, 1, 135), (155, 1, 148))]),\n",
              " ((134, 134, 135, 291),\n",
              "  [((134, 0, 135), (134, 0, 291), (135, 1, 134), (291, 1, 134))]),\n",
              " ((134, 135, 135, 148),\n",
              "  [((134, 0, 135), (135, 0, 148), (135, 1, 134), (148, 1, 135))]),\n",
              " ((135, 135, 148, 258),\n",
              "  [((135, 0, 148), (135, 0, 258), (148, 1, 135), (258, 1, 135))]),\n",
              " ((134, 135, 135, 258),\n",
              "  [((134, 0, 135), (135, 0, 258), (135, 1, 134), (258, 1, 135))]),\n",
              " ((148, 155, 231, 236),\n",
              "  [((148, 1, 236), (155, 1, 148), (231, 0, 155), (236, 1, 231))]),\n",
              " ((134, 135, 236, 291),\n",
              "  [((134, 0, 135), (135, 0, 236), (236, 0, 291), (291, 1, 134)),\n",
              "   ((134, 0, 291), (135, 1, 134), (236, 1, 135), (291, 1, 236))]),\n",
              " ((144, 155, 231, 236),\n",
              "  [((144, 0, 231), (155, 1, 236), (231, 0, 155), (236, 1, 144))]),\n",
              " ((135, 148, 155, 236),\n",
              "  [((135, 0, 155), (148, 1, 135), (155, 1, 236), (236, 0, 148)),\n",
              "   ((135, 0, 236), (148, 1, 135), (155, 1, 148), (236, 0, 155))]),\n",
              " ((135, 144, 236, 291),\n",
              "  [((135, 0, 236), (144, 0, 135), (236, 0, 291), (291, 1, 144))]),\n",
              " ((134, 135, 148, 291),\n",
              "  [((134, 0, 291), (135, 1, 134), (148, 1, 135), (291, 0, 148))]),\n",
              " ((135, 148, 236, 291),\n",
              "  [((135, 0, 236), (148, 1, 135), (236, 0, 291), (291, 0, 148)),\n",
              "   ((135, 0, 291), (148, 1, 135), (236, 0, 148), (291, 1, 236))]),\n",
              " ((134, 236, 291, 291),\n",
              "  [((134, 0, 291), (236, 0, 291), (291, 1, 134), (291, 1, 236))]),\n",
              " ((135, 148, 148, 155),\n",
              "  [((135, 0, 148), (148, 0, 155), (148, 1, 135), (155, 1, 148))]),\n",
              " ((135, 144, 148, 291),\n",
              "  [((135, 0, 148), (144, 0, 135), (148, 1, 291), (291, 1, 144))]),\n",
              " ((134, 144, 155, 291),\n",
              "  [((134, 0, 291), (144, 0, 155), (155, 1, 134), (291, 1, 144))]),\n",
              " ((134, 134, 155, 291),\n",
              "  [((134, 0, 155), (134, 0, 291), (155, 1, 134), (291, 1, 134))]),\n",
              " ((23, 285, 396, 396),\n",
              "  [((23, 1, 396), (285, 1, 396), (396, 0, 23), (396, 0, 285))]),\n",
              " ((23, 23, 28, 396), [((23, 0, 28), (23, 1, 396), (28, 1, 23), (396, 0, 23))]),\n",
              " ((23, 23, 28, 242), [((23, 0, 28), (23, 0, 242), (28, 1, 23), (242, 1, 23))]),\n",
              " ((23, 23, 56, 396), [((23, 0, 56), (23, 1, 396), (56, 1, 23), (396, 0, 23))]),\n",
              " ((23, 23, 242, 396),\n",
              "  [((23, 0, 242), (23, 1, 396), (242, 1, 23), (396, 0, 23))]),\n",
              " ((23, 23, 106, 408),\n",
              "  [((23, 0, 408), (23, 1, 106), (106, 0, 23), (408, 1, 23))]),\n",
              " ((23, 23, 396, 408),\n",
              "  [((23, 0, 408), (23, 1, 396), (396, 0, 23), (408, 1, 23))]),\n",
              " ((23, 23, 186, 408),\n",
              "  [((23, 0, 186), (23, 0, 408), (186, 1, 23), (408, 1, 23))]),\n",
              " ((23, 23, 106, 186),\n",
              "  [((23, 0, 186), (23, 1, 106), (106, 0, 23), (186, 1, 23))]),\n",
              " ((23, 285, 318, 396),\n",
              "  [((23, 1, 396), (285, 1, 318), (318, 1, 23), (396, 0, 285))]),\n",
              " ((144, 144, 175, 231),\n",
              "  [((144, 0, 175), (144, 0, 231), (175, 1, 144), (231, 1, 144))]),\n",
              " ((144, 144, 175, 323),\n",
              "  [((144, 0, 175), (144, 0, 323), (175, 1, 144), (323, 1, 144))]),\n",
              " ((135, 144, 144, 175),\n",
              "  [((135, 1, 144), (144, 0, 135), (144, 0, 175), (175, 1, 144))]),\n",
              " ((144, 148, 155, 291),\n",
              "  [((144, 0, 155), (148, 1, 291), (155, 1, 148), (291, 1, 144))]),\n",
              " ((134, 135, 135, 144),\n",
              "  [((134, 0, 135), (135, 1, 134), (135, 1, 144), (144, 0, 135))]),\n",
              " ((134, 135, 144, 231),\n",
              "  [((134, 1, 231), (135, 1, 134), (144, 0, 135), (231, 1, 144))]),\n",
              " ((135, 144, 144, 323),\n",
              "  [((135, 1, 144), (144, 0, 135), (144, 0, 323), (323, 1, 144))]),\n",
              " ((144, 144, 231, 323),\n",
              "  [((144, 0, 231), (144, 0, 323), (231, 1, 144), (323, 1, 144))]),\n",
              " ((106, 144, 231, 323),\n",
              "  [((106, 0, 323), (144, 0, 231), (231, 1, 106), (323, 1, 144))]),\n",
              " ((106, 144, 231, 231),\n",
              "  [((106, 0, 231), (144, 0, 231), (231, 1, 106), (231, 1, 144))]),\n",
              " ((135, 144, 144, 231),\n",
              "  [((135, 1, 144), (144, 0, 135), (144, 0, 231), (231, 1, 144))]),\n",
              " ((106, 144, 175, 323),\n",
              "  [((106, 0, 323), (144, 0, 175), (175, 1, 106), (323, 1, 144))]),\n",
              " ((135, 144, 231, 236),\n",
              "  [((135, 0, 236), (144, 0, 135), (231, 1, 144), (236, 1, 231))]),\n",
              " ((135, 144, 148, 231),\n",
              "  [((135, 0, 148), (144, 0, 135), (148, 1, 231), (231, 1, 144))]),\n",
              " ((134, 148, 155, 291),\n",
              "  [((134, 0, 155), (148, 1, 291), (155, 1, 148), (291, 1, 134)),\n",
              "   ((134, 0, 291), (148, 0, 155), (155, 1, 134), (291, 0, 148))]),\n",
              " ((134, 148, 155, 155),\n",
              "  [((134, 0, 155), (148, 0, 155), (155, 1, 134), (155, 1, 148))]),\n",
              " ((134, 134, 135, 155),\n",
              "  [((134, 0, 135), (134, 0, 155), (135, 1, 134), (155, 1, 134))]),\n",
              " ((135, 135, 144, 148),\n",
              "  [((135, 0, 148), (135, 1, 144), (144, 0, 135), (148, 1, 135))]),\n",
              " ((135, 135, 148, 236),\n",
              "  [((135, 0, 148), (135, 0, 236), (148, 1, 135), (236, 1, 135))]),\n",
              " ((135, 236, 236, 291),\n",
              "  [((135, 0, 236), (236, 0, 291), (236, 1, 135), (291, 1, 236))]),\n",
              " ((135, 135, 236, 258),\n",
              "  [((135, 0, 236), (135, 0, 258), (236, 1, 135), (258, 1, 135))]),\n",
              " ((135, 135, 144, 258),\n",
              "  [((135, 0, 258), (135, 1, 144), (144, 0, 135), (258, 1, 135))]),\n",
              " ((135, 135, 144, 236),\n",
              "  [((135, 0, 236), (135, 1, 144), (144, 0, 135), (236, 1, 135))]),\n",
              " ((134, 135, 135, 236),\n",
              "  [((134, 0, 135), (135, 0, 236), (135, 1, 134), (236, 1, 135))]),\n",
              " ((134, 135, 155, 236),\n",
              "  [((134, 0, 155), (135, 1, 134), (155, 1, 236), (236, 1, 135))]),\n",
              " ((148, 155, 236, 291),\n",
              "  [((148, 0, 155), (155, 1, 236), (236, 0, 291), (291, 0, 148)),\n",
              "   ((148, 1, 291), (155, 1, 148), (236, 0, 155), (291, 1, 236))]),\n",
              " ((148, 155, 155, 236),\n",
              "  [((148, 0, 155), (155, 1, 148), (155, 1, 236), (236, 0, 155))]),\n",
              " ((144, 155, 236, 291),\n",
              "  [((144, 0, 155), (155, 1, 236), (236, 0, 291), (291, 1, 144))]),\n",
              " ((135, 148, 148, 291),\n",
              "  [((135, 0, 148), (148, 1, 135), (148, 1, 291), (291, 0, 148))]),\n",
              " ((148, 236, 291, 291),\n",
              "  [((148, 1, 291), (236, 0, 291), (291, 0, 148), (291, 1, 236))]),\n",
              " ((134, 148, 291, 291),\n",
              "  [((134, 0, 291), (148, 1, 291), (291, 0, 148), (291, 1, 134))]),\n",
              " ((148, 148, 155, 291),\n",
              "  [((148, 0, 155), (148, 1, 291), (155, 1, 148), (291, 0, 148))]),\n",
              " ((134, 155, 236, 291),\n",
              "  [((134, 0, 291), (155, 1, 134), (236, 0, 155), (291, 1, 236)),\n",
              "   ((134, 0, 155), (155, 1, 236), (236, 0, 291), (291, 1, 134))]),\n",
              " ((155, 236, 236, 291),\n",
              "  [((155, 1, 236), (236, 0, 155), (236, 0, 291), (291, 1, 236))]),\n",
              " ((135, 175, 231, 231),\n",
              "  [((135, 1, 231), (175, 0, 231), (231, 0, 135), (231, 1, 175))]),\n",
              " ((135, 135, 231, 291),\n",
              "  [((135, 0, 291), (135, 1, 231), (231, 0, 135), (291, 1, 135))]),\n",
              " ((135, 135, 155, 231),\n",
              "  [((135, 0, 155), (135, 1, 231), (155, 1, 135), (231, 0, 135))]),\n",
              " ((135, 135, 155, 291),\n",
              "  [((135, 0, 155), (135, 0, 291), (155, 1, 135), (291, 1, 135))]),\n",
              " ((135, 155, 231, 291),\n",
              "  [((135, 1, 231), (155, 1, 291), (231, 0, 155), (291, 1, 135)),\n",
              "   ((135, 0, 291), (155, 1, 135), (231, 0, 155), (291, 1, 231))]),\n",
              " ((135, 155, 291, 291),\n",
              "  [((135, 0, 291), (155, 1, 291), (291, 0, 155), (291, 1, 135))]),\n",
              " ((285, 318, 396, 396),\n",
              "  [((285, 1, 396), (318, 1, 396), (396, 0, 285), (396, 0, 318))]),\n",
              " ((56, 285, 396, 396),\n",
              "  [((56, 1, 396), (285, 1, 396), (396, 0, 56), (396, 0, 285))]),\n",
              " ((285, 396, 396, 408),\n",
              "  [((285, 1, 396), (396, 0, 285), (396, 0, 408), (408, 1, 396))]),\n",
              " ((23, 56, 106, 396),\n",
              "  [((23, 1, 106), (56, 1, 23), (106, 1, 396), (396, 0, 56))]),\n",
              " ((23, 56, 56, 396), [((23, 0, 56), (56, 1, 23), (56, 1, 396), (396, 0, 56))]),\n",
              " ((15, 318, 396, 396),\n",
              "  [((15, 1, 396), (318, 1, 396), (396, 0, 15), (396, 0, 318))]),\n",
              " ((15, 56, 396, 396),\n",
              "  [((15, 1, 396), (56, 1, 396), (396, 0, 15), (396, 0, 56))]),\n",
              " ((15, 396, 396, 408),\n",
              "  [((15, 1, 396), (396, 0, 15), (396, 0, 408), (408, 1, 396))]),\n",
              " ((106, 106, 144, 477),\n",
              "  [((106, 0, 144), (106, 0, 477), (144, 1, 106), (477, 1, 106))]),\n",
              " ((106, 106, 144, 231),\n",
              "  [((106, 0, 144), (106, 0, 231), (144, 1, 106), (231, 1, 106))]),\n",
              " ((106, 106, 144, 469),\n",
              "  [((106, 0, 144), (106, 0, 469), (144, 1, 106), (469, 1, 106))]),\n",
              " ((106, 106, 144, 327),\n",
              "  [((106, 0, 144), (106, 0, 327), (144, 1, 106), (327, 1, 106))]),\n",
              " ((106, 144, 156, 323),\n",
              "  [((106, 0, 323), (144, 1, 106), (156, 1, 144), (323, 0, 156))]),\n",
              " ((23, 23, 28, 171), [((23, 0, 28), (23, 0, 171), (28, 1, 23), (171, 1, 23))]),\n",
              " ((23, 23, 56, 171), [((23, 0, 56), (23, 0, 171), (56, 1, 23), (171, 1, 23))]),\n",
              " ((23, 23, 136, 171),\n",
              "  [((23, 0, 136), (23, 0, 171), (136, 1, 23), (171, 1, 23))]),\n",
              " ((23, 23, 171, 242),\n",
              "  [((23, 0, 171), (23, 0, 242), (171, 1, 23), (242, 1, 23))]),\n",
              " ((23, 116, 408, 408),\n",
              "  [((23, 0, 408), (116, 0, 408), (408, 1, 23), (408, 1, 116))]),\n",
              " ((23, 28, 186, 186),\n",
              "  [((23, 0, 186), (28, 1, 186), (186, 0, 28), (186, 1, 23))]),\n",
              " ((23, 171, 171, 242),\n",
              "  [((23, 0, 171), (171, 0, 242), (171, 1, 23), (242, 1, 171))]),\n",
              " ((23, 23, 171, 396),\n",
              "  [((23, 0, 171), (23, 1, 396), (171, 1, 23), (396, 0, 23))]),\n",
              " ((23, 106, 318, 396),\n",
              "  [((23, 1, 106), (106, 1, 396), (318, 1, 23), (396, 0, 318))]),\n",
              " ((23, 106, 396, 408),\n",
              "  [((23, 1, 106), (106, 1, 396), (396, 0, 408), (408, 1, 23))]),\n",
              " ((23, 28, 28, 186), [((23, 0, 28), (28, 1, 23), (28, 1, 186), (186, 0, 28))]),\n",
              " ((21, 374, 492, 492),\n",
              "  [((21, 0, 492), (374, 0, 492), (492, 1, 21), (492, 1, 374))]),\n",
              " ((21, 374, 374, 492),\n",
              "  [((21, 1, 374), (374, 0, 21), (374, 0, 492), (492, 1, 374))]),\n",
              " ((52, 91, 118, 348),\n",
              "  [((52, 0, 118), (91, 1, 348), (118, 1, 91), (348, 0, 52))]),\n",
              " ((285, 318, 318, 396),\n",
              "  [((285, 1, 318), (318, 0, 285), (318, 1, 396), (396, 0, 318))]),\n",
              " ((52, 91, 118, 118),\n",
              "  [((52, 0, 118), (91, 0, 118), (118, 1, 52), (118, 1, 91))]),\n",
              " ((144, 175, 231, 323),\n",
              "  [((144, 0, 175), (175, 0, 231), (231, 0, 323), (323, 1, 144))]),\n",
              " ((144, 175, 175, 231),\n",
              "  [((144, 0, 175), (175, 0, 231), (175, 1, 144), (231, 1, 175))]),\n",
              " ((50, 135, 144, 144),\n",
              "  [((50, 1, 144), (135, 1, 144), (144, 0, 50), (144, 0, 135))]),\n",
              " ((50, 144, 144, 175),\n",
              "  [((50, 1, 144), (144, 0, 50), (144, 0, 175), (175, 1, 144))]),\n",
              " ((144, 175, 231, 231),\n",
              "  [((144, 0, 231), (175, 0, 231), (231, 1, 144), (231, 1, 175))]),\n",
              " ((106, 175, 231, 231),\n",
              "  [((106, 0, 231), (175, 0, 231), (231, 1, 106), (231, 1, 175))]),\n",
              " ((50, 106, 144, 231),\n",
              "  [((50, 1, 144), (106, 0, 231), (144, 1, 106), (231, 1, 50))]),\n",
              " ((134, 135, 231, 291),\n",
              "  [((134, 0, 291), (135, 1, 134), (231, 0, 135), (291, 1, 231))]),\n",
              " ((135, 148, 155, 231),\n",
              "  [((135, 1, 231), (148, 1, 135), (155, 1, 148), (231, 0, 155))]),\n",
              " ((134, 135, 148, 236),\n",
              "  [((134, 0, 236), (135, 1, 134), (148, 1, 135), (236, 0, 148))]),\n",
              " ((134, 135, 148, 148),\n",
              "  [((134, 0, 148), (135, 0, 148), (148, 1, 134), (148, 1, 135))]),\n",
              " ((135, 148, 236, 236),\n",
              "  [((135, 0, 236), (148, 1, 236), (236, 0, 148), (236, 1, 135))]),\n",
              " ((135, 148, 155, 155),\n",
              "  [((135, 0, 155), (148, 0, 155), (155, 1, 135), (155, 1, 148))]),\n",
              " ((135, 144, 155, 231),\n",
              "  [((135, 1, 144), (144, 0, 231), (155, 1, 135), (231, 0, 155))]),\n",
              " ((134, 134, 236, 291),\n",
              "  [((134, 0, 236), (134, 0, 291), (236, 1, 134), (291, 1, 134))]),\n",
              " ((135, 148, 155, 291),\n",
              "  [((135, 0, 291), (148, 1, 135), (155, 1, 148), (291, 0, 155))]),\n",
              " ((148, 155, 231, 291),\n",
              "  [((148, 1, 291), (155, 1, 148), (231, 0, 155), (291, 1, 231))]),\n",
              " ((134, 135, 135, 291),\n",
              "  [((134, 0, 135), (135, 0, 291), (135, 1, 134), (291, 1, 135))]),\n",
              " ((144, 155, 231, 291),\n",
              "  [((144, 0, 231), (155, 1, 291), (231, 0, 155), (291, 1, 144))]),\n",
              " ((134, 134, 148, 291),\n",
              "  [((134, 0, 148), (134, 0, 291), (148, 1, 134), (291, 1, 134))]),\n",
              " ((135, 148, 148, 236),\n",
              "  [((135, 0, 148), (148, 1, 135), (148, 1, 236), (236, 0, 148))]),\n",
              " ((135, 144, 155, 291),\n",
              "  [((135, 0, 155), (144, 0, 135), (155, 1, 291), (291, 1, 144))]),\n",
              " ((134, 135, 155, 291),\n",
              "  [((134, 0, 291), (135, 1, 134), (155, 1, 135), (291, 0, 155))]),\n",
              " ((106, 144, 144, 175),\n",
              "  [((106, 0, 144), (144, 0, 175), (144, 1, 106), (175, 1, 144))]),\n",
              " ((134, 148, 236, 291),\n",
              "  [((134, 0, 236), (148, 1, 291), (236, 0, 148), (291, 1, 134))]),\n",
              " ((134, 135, 144, 236),\n",
              "  [((134, 0, 236), (135, 1, 134), (144, 0, 135), (236, 1, 144))]),\n",
              " ((134, 135, 144, 148),\n",
              "  [((134, 0, 148), (135, 1, 134), (144, 0, 135), (148, 1, 144))]),\n",
              " ((148, 148, 236, 291),\n",
              "  [((148, 1, 236), (148, 1, 291), (236, 0, 148), (291, 0, 148))]),\n",
              " ((148, 148, 155, 236),\n",
              "  [((148, 0, 155), (148, 1, 236), (155, 1, 148), (236, 0, 148))]),\n",
              " ((23, 23, 171, 408),\n",
              "  [((23, 0, 171), (23, 0, 408), (171, 1, 23), (408, 1, 23))]),\n",
              " ((23, 23, 171, 186),\n",
              "  [((23, 0, 171), (23, 0, 186), (171, 1, 23), (186, 1, 23))]),\n",
              " ((23, 23, 106, 171),\n",
              "  [((23, 0, 171), (23, 1, 106), (106, 0, 23), (171, 1, 23))]),\n",
              " ((135, 144, 231, 291),\n",
              "  [((135, 0, 291), (144, 0, 231), (231, 0, 135), (291, 1, 144))]),\n",
              " ((135, 155, 231, 236),\n",
              "  [((135, 1, 231), (155, 1, 236), (231, 0, 155), (236, 1, 135))]),\n",
              " ((134, 135, 155, 231),\n",
              "  [((134, 0, 135), (135, 1, 231), (155, 1, 134), (231, 0, 155))]),\n",
              " ((155, 231, 236, 291),\n",
              "  [((155, 1, 236), (231, 0, 155), (236, 0, 291), (291, 1, 231))]),\n",
              " ((134, 155, 231, 291),\n",
              "  [((134, 0, 291), (155, 1, 134), (231, 0, 155), (291, 1, 231))])]"
            ]
          },
          "execution_count": 214,
          "metadata": {},
          "output_type": "execute_result"
        }
      ],
      "source": [
        "patterns = map_reduce(rdd_graph, b_0, reducers_1, l_1)\n",
        "patterns.collect()"
      ]
    },
    {
      "cell_type": "markdown",
      "metadata": {
        "id": "_9sHmC-o9sDw"
      },
      "source": [
        "👉🏻 Realizamos la siguiente consulta en donde obtener todos los usuarios tal que:\n",
        "* El primero interacciona con el segundo\n",
        "* El segundo interaccion con el tercero\n",
        "* El tercero es similar al cuarto\n",
        "* El cuarto es similar al primero"
      ]
    },
    {
      "cell_type": "code",
      "execution_count": 215,
      "metadata": {
        "colab": {
          "base_uri": "https://localhost:8080/"
        },
        "id": "oonIE_qyF8Zu",
        "outputId": "ff5fa092-5c7c-464b-e7a4-35fb8187f48a"
      },
      "outputs": [
        {
          "data": {
            "text/plain": [
              "[((50, 1, 144), (144, 0, 175), (175, 0, 231), (231, 1, 50))]"
            ]
          },
          "execution_count": 215,
          "metadata": {},
          "output_type": "execute_result"
        }
      ],
      "source": [
        "get_matches(rdd_graph, b_0, reducers_1, l_1, \"(x,0,y), (y,0,z), (z,1,w), (w,1,x)\")"
      ]
    },
    {
      "cell_type": "markdown",
      "metadata": {
        "id": "S0lmSpS2JO2Z"
      },
      "source": [
        "👉🏻 Ahora realizaremos otras consultas para ver como andan los resultados :)\n"
      ]
    },
    {
      "cell_type": "code",
      "execution_count": 220,
      "metadata": {
        "colab": {
          "base_uri": "https://localhost:8080/"
        },
        "id": "ElCXo5NiICXs",
        "outputId": "7d718d1d-5a81-4748-a100-eb4ace02ba55"
      },
      "outputs": [
        {
          "data": {
            "text/plain": [
              "[((23, 1, 106), (106, 0, 144), (144, 1, 275), (275, 1, 23)),\n",
              " ((23, 1, 106), (106, 1, 396), (396, 0, 408), (408, 1, 23))]"
            ]
          },
          "execution_count": 220,
          "metadata": {},
          "output_type": "execute_result"
        }
      ],
      "source": [
        "get_matches(rdd_graph, b_0, reducers_1, l_1, \"(x,1,y), (y,0,z), (z,1,w), (w,1,x)\")"
      ]
    },
    {
      "cell_type": "code",
      "execution_count": 231,
      "metadata": {
        "colab": {
          "base_uri": "https://localhost:8080/"
        },
        "id": "AtzOK72_H0_r",
        "outputId": "7b302a68-3e34-419d-9752-90d126c73a51"
      },
      "outputs": [
        {
          "data": {
            "text/plain": [
              "[((106, 0, 144), (144, 0, 175), (175, 0, 231), (231, 1, 106)),\n",
              " ((134, 0, 135), (135, 0, 236), (236, 0, 291), (291, 1, 134)),\n",
              " ((148, 0, 155), (155, 1, 236), (236, 0, 291), (291, 0, 148)),\n",
              " ((144, 0, 175), (175, 0, 231), (231, 0, 323), (323, 1, 144))]"
            ]
          },
          "execution_count": 231,
          "metadata": {},
          "output_type": "execute_result"
        }
      ],
      "source": [
        "get_matches(rdd_graph, b_0, reducers_1, l_1, \"(x,0,y), (y,1,z), (z,0,w), (w,0,x)\")"
      ]
    },
    {
      "cell_type": "markdown",
      "metadata": {
        "id": "GEo5DCPh-Sch"
      },
      "source": [
        "👉🏻 Ahora, para poder analizar quienes son los usuarios involucrados en la ultima consulta, mapearemos cada id con respecto a su username :)"
      ]
    },
    {
      "cell_type": "code",
      "execution_count": 232,
      "metadata": {
        "colab": {
          "base_uri": "https://localhost:8080/"
        },
        "id": "ZaXio3vQ-HK4",
        "outputId": "435ae0df-993c-440b-b2ed-2e930668cb16"
      },
      "outputs": [
        {
          "name": "stdout",
          "output_type": "stream",
          "text": [
            "[('Lju Lazarevic', 'INTERACTS_WITH', 'Dr.Salahideen ALHAJ 🔶 🔸️#WearAMask #SDGs'), ('Dr.Salahideen ALHAJ 🔶 🔸️#WearAMask #SDGs', 'INTERACTS_WITH', 'Chidambara .ML.'), ('Chidambara .ML.', 'INTERACTS_WITH', 'Nancy Tremblay❤😀🌻🇨🇦'), ('Nancy Tremblay❤😀🌻🇨🇦', 'SIMILAR_TO', 'Lju Lazarevic')]\n",
            "[('Born To Be Idle', 'INTERACTS_WITH', 'John Wolpert'), ('John Wolpert', 'INTERACTS_WITH', 'Chill Zone'), ('Chill Zone', 'INTERACTS_WITH', 'Brana Rakic'), ('Brana Rakic', 'SIMILAR_TO', 'Born To Be Idle')]\n",
            "[('Wen.S', 'INTERACTS_WITH', 'guinnessstache'), ('guinnessstache', 'SIMILAR_TO', 'Chill Zone'), ('Chill Zone', 'INTERACTS_WITH', 'Brana Rakic'), ('Brana Rakic', 'INTERACTS_WITH', 'Wen.S')]\n",
            "[('Dr.Salahideen ALHAJ 🔶 🔸️#WearAMask #SDGs', 'INTERACTS_WITH', 'Chidambara .ML.'), ('Chidambara .ML.', 'INTERACTS_WITH', 'Nancy Tremblay❤😀🌻🇨🇦'), ('Nancy Tremblay❤😀🌻🇨🇦', 'INTERACTS_WITH', 'Javelynn'), ('Javelynn', 'SIMILAR_TO', 'Dr.Salahideen ALHAJ 🔶 🔸️#WearAMask #SDGs')]\n"
          ]
        }
      ],
      "source": [
        "for res in get_matches(rdd_graph, b_0, reducers_1, l_1, \"(x,0,y), (y,1,z), (z,0,w), (w,0,x)\"):\n",
        "  print(load_usernames(res))"
      ]
    },
    {
      "cell_type": "code",
      "execution_count": 233,
      "metadata": {
        "colab": {
          "base_uri": "https://localhost:8080/"
        },
        "id": "0V_8nDj6LV61",
        "outputId": "8fc40b84-3562-470e-d26f-5cbbb23f5e26"
      },
      "outputs": [
        {
          "name": "stdout",
          "output_type": "stream",
          "text": [
            "[('Michael Hunger', 'SIMILAR_TO', 'Lju Lazarevic'), ('Lju Lazarevic', 'INTERACTS_WITH', 'Dr.Salahideen ALHAJ 🔶 🔸️#WearAMask #SDGs'), ('Dr.Salahideen ALHAJ 🔶 🔸️#WearAMask #SDGs', 'SIMILAR_TO', 'Taite'), ('Taite', 'SIMILAR_TO', 'Michael Hunger')]\n",
            "[('Michael Hunger', 'SIMILAR_TO', 'Lju Lazarevic'), ('Lju Lazarevic', 'SIMILAR_TO', 'Michael Simons'), ('Michael Simons', 'INTERACTS_WITH', 'Lukas Eder'), ('Lukas Eder', 'SIMILAR_TO', 'Michael Hunger')]\n"
          ]
        }
      ],
      "source": [
        "for res in get_matches(rdd_graph, b_0, reducers_1, l_1, \"(x,1,y), (y,0,z), (z,1,w), (w,1,x)\"):\n",
        "  print(load_usernames(res))"
      ]
    },
    {
      "cell_type": "code",
      "execution_count": null,
      "metadata": {
        "id": "ATWgVyb7LYra"
      },
      "outputs": [],
      "source": []
    }
  ],
  "metadata": {
    "colab": {
      "provenance": []
    },
    "kernelspec": {
      "display_name": "Python 3",
      "name": "python3"
    },
    "language_info": {
      "name": "python"
    }
  },
  "nbformat": 4,
  "nbformat_minor": 0
}
