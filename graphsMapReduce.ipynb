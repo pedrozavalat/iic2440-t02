{
  "cells": [
    {
      "cell_type": "markdown",
      "metadata": {
        "id": "Yp97VfrVPVpv"
      },
      "source": [
        "# 1. Librerías & Set Up"
      ]
    },
    {
      "cell_type": "markdown",
      "metadata": {
        "id": "h3AfOYEQTWTC"
      },
      "source": [
        "👉🏻 Instalaremos todas las librerias necesarias para poder trabajar con PySpark y Neo4j"
      ]
    },
    {
      "cell_type": "code",
      "execution_count": 1,
      "metadata": {
        "colab": {
          "base_uri": "https://localhost:8080/"
        },
        "id": "JCinFr1LPVO5",
        "outputId": "4e5a370f-559c-4cb1-882a-936cde1858d0"
      },
      "outputs": [
        {
          "name": "stdout",
          "output_type": "stream",
          "text": [
            "Requirement already satisfied: pyspark in /usr/local/lib/python3.10/dist-packages (3.5.1)\n",
            "Requirement already satisfied: py4j==0.10.9.7 in /usr/local/lib/python3.10/dist-packages (from pyspark) (0.10.9.7)\n"
          ]
        }
      ],
      "source": [
        "!pip install pyspark"
      ]
    },
    {
      "cell_type": "code",
      "execution_count": 2,
      "metadata": {
        "colab": {
          "base_uri": "https://localhost:8080/"
        },
        "id": "y3_dX6wSCNrT",
        "outputId": "0de2e27f-4475-455c-afe4-6a5321f802a8"
      },
      "outputs": [
        {
          "name": "stdout",
          "output_type": "stream",
          "text": [
            "Requirement already satisfied: neo4j in /usr/local/lib/python3.10/dist-packages (5.21.0)\n",
            "Requirement already satisfied: pytz in /usr/local/lib/python3.10/dist-packages (from neo4j) (2023.4)\n"
          ]
        }
      ],
      "source": [
        "!pip install neo4j"
      ]
    },
    {
      "cell_type": "code",
      "execution_count": 3,
      "metadata": {
        "id": "zH4iyjyxPeYT"
      },
      "outputs": [],
      "source": [
        "from pyspark.sql import SparkSession\n",
        "from itertools import product"
      ]
    },
    {
      "cell_type": "code",
      "execution_count": 4,
      "metadata": {
        "id": "Uy3cfH_iPh4j"
      },
      "outputs": [],
      "source": [
        "import neo4j\n",
        "from neo4j import GraphDatabase\n",
        "import pandas as pd\n",
        "import numpy as np"
      ]
    },
    {
      "cell_type": "code",
      "execution_count": 5,
      "metadata": {
        "colab": {
          "base_uri": "https://localhost:8080/",
          "height": 219
        },
        "id": "8FvKEocnD3-8",
        "outputId": "62dd6d83-7810-422c-d435-360b50552881"
      },
      "outputs": [
        {
          "data": {
            "text/html": [
              "\n",
              "        <div>\n",
              "            <p><b>SparkContext</b></p>\n",
              "\n",
              "            <p><a href=\"http://509ac4e90f45:4040\">Spark UI</a></p>\n",
              "\n",
              "            <dl>\n",
              "              <dt>Version</dt>\n",
              "                <dd><code>v3.5.1</code></dd>\n",
              "              <dt>Master</dt>\n",
              "                <dd><code>local[*]</code></dd>\n",
              "              <dt>AppName</dt>\n",
              "                <dd><code>pyspark-shell</code></dd>\n",
              "            </dl>\n",
              "        </div>\n",
              "        "
            ],
            "text/plain": [
              "<SparkContext master=local[*] appName=pyspark-shell>"
            ]
          },
          "execution_count": 5,
          "metadata": {},
          "output_type": "execute_result"
        }
      ],
      "source": [
        "# Iniciamos una sesion en PySpark\n",
        "spark = SparkSession.builder \\\n",
        "    .getOrCreate()\n",
        "\n",
        "sc = spark.sparkContext\n",
        "sc"
      ]
    },
    {
      "cell_type": "markdown",
      "metadata": {
        "id": "3FFiAi4oQNPj"
      },
      "source": [
        "# 2. Neo4j Graphs and others examples"
      ]
    },
    {
      "cell_type": "markdown",
      "metadata": {
        "id": "G-ByrvaJUXEd"
      },
      "source": [
        "👉🏻 Las siguientes funciones permiten cargar grafos de ejemplos para poder realizar las consultas de los patrones de grafo.\n",
        "\n",
        "👉🏻 Existe la funcion create_neo4j_graph para poder cargar una base de datos en Neo4j y luego obtener las aristas existentes de este grafo.\n",
        "\n",
        "👉🏻 Existe la funcion load_graph para poder seleccionar el grafo que queremos realizar las consultas."
      ]
    },
    {
      "cell_type": "code",
      "execution_count": 6,
      "metadata": {
        "id": "CIpVKqtWCjMw"
      },
      "outputs": [],
      "source": [
        "def load_neo4j_graph():\n",
        "  \"\"\"\n",
        "  Funcion para cargar la base de datos de twitter como ejemplo de grafo en Neo4j.\n",
        "  \"\"\"\n",
        "  # Realizamos la conexion con la base de datos del grafo guardado en Neo4j.\n",
        "  NEO4J_URI = \"neo4j+s://demo.neo4jlabs.com\"\n",
        "  NEO4J_USERNAME = \"twitter\"\n",
        "  NEO4J_PASSWORD = \"twitter\"\n",
        "  AUTH = (NEO4J_USERNAME, NEO4J_PASSWORD)\n",
        "\n",
        "  driver = GraphDatabase.driver(NEO4J_URI, auth=AUTH)\n",
        "  with driver.session() as session:\n",
        "      try:\n",
        "          session.run(\"RETURN 1\")\n",
        "          print(\"Connection to Neo4j established successfully!\")\n",
        "      except Exception as e:\n",
        "          print(f\"Failed to connect to Neo4j: {e}\")\n",
        "      # Query que permite cargar todas las aristas de cada usuario\n",
        "      # (descartamos el usuario Neo4j para tener una cantidad mas variada xd,\n",
        "      # ya que si lo dejabamos se repetia mucho)\n",
        "      query = \"\"\"\n",
        "      MATCH (u1:User)-[r:INTERACTS_WITH | SIMILAR_TO]->(u2:User)\n",
        "      WHERE u1.name <> \"Neo4j\" AND u2.name <> \"Neo4j\"\n",
        "      RETURN u1.name as user1, type(r) AS relationship, u2.name AS user2\n",
        "      \"\"\"\n",
        "      result = session.run(query)\n",
        "      df_edges = pd.DataFrame(result.data())\n",
        "      relationship = df_edges['relationship'].unique()\n",
        "\n",
        "      # Definimos una clase para cada relacion ...\n",
        "      relationship_class = {i : rel for rel, i in enumerate(relationship)}\n",
        "      for inter, inter_class in relationship_class.items():\n",
        "          print(f\"{inter} AS class {inter_class}\")\n",
        "      df_edges['relationship'].replace(relationship_class, inplace = True)\n",
        "\n",
        "      # Transformamos cada usuario a un numero (su identificador) en base\n",
        "      # a su nombre de usuari que debe ser unico ...\n",
        "      users1 = df_edges['user1'].unique().tolist()\n",
        "      users2 = df_edges['user2'].unique().tolist()\n",
        "      users = list(set(users1 + users2))\n",
        "      users_id = {user : id for id, user in enumerate(users)}\n",
        "      df_edges['user1'].replace(users_id, inplace = True)\n",
        "      df_edges['user2'].replace(users_id, inplace = True)\n",
        "\n",
        "      np.save('users_id', users_id, allow_pickle = True)\n",
        "      np.save('relationship_class', relationship_class, allow_pickle = True)\n",
        "\n",
        "      # Cargamos el grafo en una lista de tuplas\n",
        "      neo4f_graph = [(item[0], item[1], item[2]) for item in df_edges.values]\n",
        "  driver.close()\n",
        "  return neo4f_graph\n"
      ]
    },
    {
      "cell_type": "code",
      "execution_count": 7,
      "metadata": {
        "id": "utX2DdBh-qUr"
      },
      "outputs": [],
      "source": [
        "def load_graph(option):\n",
        "  \"\"\"\n",
        "  Funcion que selecciona el grafo de ejemplo, retorna una lista de tuplas\n",
        "  de las aristas del grafo.\n",
        "  \"\"\"\n",
        "  if option == \"neo4j-graph\":\n",
        "    neo4f_graph = load_neo4j_graph()\n",
        "    return neo4f_graph\n",
        "\n",
        "  elif option == \"basic-example\":\n",
        "    return [\n",
        "        (1,11,2), (1,11,3), (2,11,3), (3,11,2),\n",
        "        (3,11,4), (4,11,1), (4,11,2), (4,11,3),\n",
        "        (4,12,5), (5,12,1), (5,12,2), (5,12,6),\n",
        "        (1,12,2), (2,12,3), (3,12,1)\n",
        "    ]\n",
        "  else:\n",
        "    print(\"La opcion no existe :(\")\n",
        "    return None"
      ]
    },
    {
      "cell_type": "markdown",
      "metadata": {
        "id": "HEoRsG3Aou1m"
      },
      "source": [
        "# 3. MapReduce Algorithm Implementation"
      ]
    },
    {
      "cell_type": "markdown",
      "metadata": {
        "id": "kpnJs3fcVGV4"
      },
      "source": [
        "👉🏻 Las siguientes funciones permiten desarrollar el algoritmo MapReduce implementado con PySpark"
      ]
    },
    {
      "cell_type": "code",
      "execution_count": 8,
      "metadata": {
        "id": "t9dJKE1fVsAw"
      },
      "outputs": [],
      "source": [
        "def hash(n):\n",
        "  \"\"\"\n",
        "  Returns number mod 2. The ouput will be 0 or 1.\n",
        "  \"\"\"\n",
        "  return n % 2"
      ]
    },
    {
      "cell_type": "markdown",
      "metadata": {
        "id": "oP9Jxlw4VsTe"
      },
      "source": [
        "👉🏻 Las funciones siguientes permiten simular la fase de mapeo del algoritmo."
      ]
    },
    {
      "cell_type": "code",
      "execution_count": 9,
      "metadata": {
        "id": "SQgndLX_S5RZ"
      },
      "outputs": [],
      "source": [
        "def get_keys(edge, b_dim, b_set, pattern_dim):\n",
        "  \"\"\"\n",
        "  output: retorna las llaves correspondientes para un vertice.\n",
        "\n",
        "  Idea general: buscamos el par hash_n1,hash_n2 dentro de las posibles\n",
        "  combinaciones dentro del espacio de imagenes de la funcion de hash.\n",
        "  Dentro del for, obtenemos un string con la codificacion de las llaves y luego\n",
        "  verificamos si es una llave candidata para el vertice entregado:\n",
        "\n",
        "  1.  sequence_in_reducer: Si la secuencia 'b1b2' esta en la llave del reducer\n",
        "      codificada como hash(n1)hash(n2) ?, donde ? = 0 o 1, entonces se considerará\n",
        "      el par reducer_key : edge.\n",
        "  2.  edge_case: El otro caso, es para cuando tenemos por ejemplo x = n2 y z = n1\n",
        "      para patrones de 3 vertices.\n",
        "  \"\"\"\n",
        "\n",
        "  hash_n1 = hash(edge[0]) # valor de hash para el nodo 1 = b1\n",
        "  hash_n2 = hash(edge[2]) # valor de hash para el nodo 2 = b2\n",
        "  values = [] # posible keys\n",
        "  sequence = '{}{}'.format(hash_n1, hash_n2)\n",
        "\n",
        "  for i in range(0, b_dim ** pattern_dim):\n",
        "    reducer = ''.join(str(num) for num in b_set[i])\n",
        "    sequence_in_reducer = sequence in reducer\n",
        "    edge_case = reducer[0] == sequence[1] and reducer[pattern_dim - 1] == sequence[0]\n",
        "    if sequence_in_reducer or edge_case:\n",
        "        reducer_key = tuple(int(digit) for digit in reducer)\n",
        "        values.append((reducer_key, edge))\n",
        "\n",
        "  return values\n",
        "\n",
        "\n",
        "def map_phase(rdd, b_dim, b_set, pattern_dim):\n",
        "  \"\"\"\n",
        "  input:\n",
        "    - rdd: RDD del grafo de dimension 'dim'\n",
        "    - b_dim: Cantidad de elementos de las imagenes de la funcion de hash.\n",
        "    - b_set: Imagenes de la funcion de hash.\n",
        "    - pattern_dim: cantidad de nodos del patron de grafo.\n",
        "  ouput: Mapeo de cada arista con respecto a las llaves\n",
        "  \"\"\"\n",
        "\n",
        "  mapped_keys = rdd.flatMap(lambda edge: get_keys(edge, b_dim, b_set, pattern_dim))\n",
        "\n",
        "  return mapped_keys"
      ]
    },
    {
      "cell_type": "markdown",
      "metadata": {
        "id": "LJwFdiz1Vxex"
      },
      "source": [
        "👉🏻 Las siguientes funciones permiten simular la fase de reduce del algoritmo."
      ]
    },
    {
      "cell_type": "code",
      "execution_count": 10,
      "metadata": {
        "id": "E2bNeul2o7p5"
      },
      "outputs": [],
      "source": [
        "def find_patterns(edges, pattern_dim):\n",
        "    \"\"\"\n",
        "    Funcion que retorna todos los patrones encontrados de la forma\n",
        "    (n1,...,nl) : [[(n1,label,n2), ..., (nl-1,label,nl)], ... ]\n",
        "    donde (n1,...,nl) corresponde a los nodos que forman el patron\n",
        "    y la llave corresponde a los patrones posibles formados por estos nodos\n",
        "    para una etique\n",
        "    \"\"\"\n",
        "    neighbors = get_neighbors(edges)\n",
        "    cycles = find_cycles(edges, neighbors, pattern_dim)\n",
        "    return cycles\n",
        "\n",
        "\n",
        "def get_neighbors(edges):\n",
        "    \"\"\"\n",
        "    Funcion que retorna todas las aristas consecutivas a otras aristas.\n",
        "    Es decir, aristas vecinas.\n",
        "    \"\"\"\n",
        "    neighbors = []\n",
        "    for i in range(len(edges)):\n",
        "        curr_edge = edges[i]\n",
        "        neighbors.append([])\n",
        "        for j in range(len(edges)):\n",
        "            next_edge = edges[j]\n",
        "            if next_edge == curr_edge:\n",
        "                continue\n",
        "            if curr_edge[2] == next_edge[0]:\n",
        "                neighbors[i].append(next_edge)\n",
        "    return neighbors\n",
        "\n",
        "\n",
        "def find_cycles(edges, neighbors, pattern_dim):\n",
        "    \"\"\"\n",
        "    Funcion que verifica si existe algun grafo ciclico en el grafo de una\n",
        "    dimension pattern_dim. Retorna todos los ciclos encontrados.\n",
        "    Utilizamos el algoritmo DFS iterativo para la busqueda de ciclos.\n",
        "    \"\"\"\n",
        "    cycles = [] # Lista de ciclos encontrados\n",
        "\n",
        "    for edge in edges: # Por cada arista del grafo\n",
        "        visited = set() # Determinamos las aritas que ya han sido visitadas\n",
        "        # Inicializamos el stack con con la\n",
        "        stack = [(edge, [edge])]\n",
        "        # arista donde empezamos el recorrido\n",
        "\n",
        "        while len(stack):\n",
        "            curr_edge, path = stack.pop() # Extraemos la primera arista del stack\n",
        "            # Recorremos esta arista, por lo que la marcamos como visitada\n",
        "            visited.add(curr_edge)\n",
        "            # Caso 1: Si el camino recorrido actual supera la cantidad de nodos del bgp,\n",
        "            #         descartamos este camino\n",
        "            if len(path) > pattern_dim:\n",
        "                continue\n",
        "            # Caso 2: Si el camino recorrido tiene un largo igual a pattern_dim,\n",
        "            #         y son aristas transitivas, entonces un posible ciclo.\n",
        "            first_node = path[0][0] # primer nodo del camino\n",
        "            last_node = path[-1][2] # ultimo nodo del caminmo\n",
        "            if len(path) == pattern_dim and first_node == last_node:\n",
        "                cycles.append(path)\n",
        "                # Agregamos el camino y seguimos recorriendo\n",
        "                continue\n",
        "            # Si no es ciclico el camino desde el nodo actual,\n",
        "            # entonces iteramos dentro de sus vecinos\n",
        "            for neighbor_edge in neighbors[edges.index(curr_edge)]:\n",
        "                if neighbor_edge not in visited:\n",
        "                    stack.append((neighbor_edge, path + [neighbor_edge]))\n",
        "\n",
        "    return cycles\n",
        "\n",
        "\n",
        "def get_nodes(pattern, pattern_dim):\n",
        "    \"\"\"\n",
        "    Funcion que retorna la tupla con los nodos que forman un ciclo.\n",
        "    \"\"\"\n",
        "    nodes = []\n",
        "    for i in range(pattern_dim):\n",
        "      edge = pattern[i]\n",
        "      nodes.append(edge[0])\n",
        "\n",
        "    return (tuple(sorted(nodes)), tuple(sorted(pattern)))\n",
        "\n",
        "\n",
        "def get_unique_lists(pattern1, pattern2):\n",
        "    \"\"\"\n",
        "    Funcion que elimina patrones de grafo duplicados para cada llave\n",
        "    (n1,n2, ..., nl). Si tenemos l = 3, entonces seria (n1,n2,n3)\n",
        "    \"\"\"\n",
        "    lst = []\n",
        "    if pattern2 != pattern1:\n",
        "      return lst.append(pattern2)\n",
        "    else:\n",
        "      return pattern1\n",
        "\n",
        "\n",
        "def reduce_phase(mapped_keys, pattern_dim):\n",
        "    \"\"\"\n",
        "    input: RDD del grafo y cantidad de nodos del patron de grafo.\n",
        "    output: patrones encontrados.\n",
        "    \"\"\"\n",
        "    # Agrupamos por llaves\n",
        "    reducers = mapped_keys.groupByKey().mapValues(list)\n",
        "    # Filtramos solamente los grupos conformados por 3 aristas ...\n",
        "    reducers_edges = reducers.map(lambda v: v[1]) \\\n",
        "                    .filter(lambda x: len(x) >= pattern_dim)\n",
        "    # Por cada grupo buscamos un patron de grafo\n",
        "    patterns = reducers_edges \\\n",
        "              .map(lambda edges: find_patterns(edges, pattern_dim)) \\\n",
        "              .flatMap(list) \\\n",
        "              .map(lambda pattern: get_nodes(pattern, pattern_dim)) \\\n",
        "              .groupByKey().mapValues(lambda v: list(set(v)))\n",
        "\n",
        "\n",
        "    return patterns"
      ]
    },
    {
      "cell_type": "markdown",
      "metadata": {
        "id": "6C9TSq9OV4Au"
      },
      "source": [
        "👉🏻 Funcion final que simula el algoritmo MapReduce. Recibe los parametros correspondientes del grafo; las dimensiones del conjunto de imagenes de la funcion de hash; el conjunto de imagenes de la funcion de hash; la dimension del patron de grafo."
      ]
    },
    {
      "cell_type": "code",
      "execution_count": 11,
      "metadata": {
        "id": "jzZyF1f3lS5I"
      },
      "outputs": [],
      "source": [
        "def map_reduce(rdd_graph, b_dim, b_set, pattern_dim, show=False):\n",
        "  \"\"\"\n",
        "  Funcion que simula el algoritmo MapReduce, en donde se distribuye el grafo\n",
        "  en diferentes reducers y luego obtenemos los posibles patrones\n",
        "  de grafos formados combinando las informacion de todos los reducers.\n",
        "  \"\"\"\n",
        "  # Fase de Map: Obtenemos las llaves de cada reducer y el conjunto de aristas mapeados a estas llaves.\n",
        "  mapped_keys = map_phase(rdd_graph, b_dim, b_set, pattern_dim)\n",
        "\n",
        "  if show: # Mostras las llaves mapeadas\n",
        "    print(\"Fase Map: \\n\")\n",
        "    for key in mapped_keys.collect():\n",
        "      print(key)\n",
        "    print(\"\\nFase Reduce\\n\")\n",
        "\n",
        "  # Fase Reduce: Obtenemos todos los posibles patrones de L nodos.\n",
        "  patterns = reduce_phase(mapped_keys, pattern_dim)\n",
        "  return patterns"
      ]
    },
    {
      "cell_type": "markdown",
      "metadata": {
        "id": "i7mlfvf9Q6gy"
      },
      "source": [
        "# 3. Aplicacion MapReduce en Ejemplo Basico"
      ]
    },
    {
      "cell_type": "markdown",
      "metadata": {
        "id": "L0SJtu5EWJyH"
      },
      "source": [
        "👉🏻 En esta seccion aplicaremos el algoritmo MapReduce para un grafo de prueba pequeño (el que fue dado al inicio de la tarea, con algunas modificaciones). Este lo guardamos como 'basic-example'."
      ]
    },
    {
      "cell_type": "code",
      "execution_count": 12,
      "metadata": {
        "colab": {
          "base_uri": "https://localhost:8080/"
        },
        "id": "sp8fBluSQ54M",
        "outputId": "d1e7df17-3b93-4d26-94f5-a5c2788c4f79"
      },
      "outputs": [
        {
          "data": {
            "text/plain": [
              "[(1, 11, 2),\n",
              " (1, 11, 3),\n",
              " (2, 11, 3),\n",
              " (3, 11, 2),\n",
              " (3, 11, 4),\n",
              " (4, 11, 1),\n",
              " (4, 11, 2),\n",
              " (4, 11, 3),\n",
              " (4, 12, 5),\n",
              " (5, 12, 1),\n",
              " (5, 12, 2),\n",
              " (5, 12, 6),\n",
              " (1, 12, 2),\n",
              " (2, 12, 3),\n",
              " (3, 12, 1)]"
            ]
          },
          "execution_count": 12,
          "metadata": {},
          "output_type": "execute_result"
        }
      ],
      "source": [
        "graph = load_graph('basic-example')\n",
        "rdd_graph = sc.parallelize(graph)\n",
        "rdd_graph.collect()"
      ]
    },
    {
      "cell_type": "markdown",
      "metadata": {
        "id": "tcJZG8CQQQne"
      },
      "source": [
        "## 3.1 MapReduce Algorithm for Triangles"
      ]
    },
    {
      "cell_type": "markdown",
      "metadata": {
        "id": "d6qMxtBooGtc"
      },
      "source": [
        "👉🏻 Para encontrar triangulos dentro de un grafo utilizaremos el algoritmo Map Reduce para parametros b_0 = 2 y l = 3.\n",
        "\n",
        "👉🏻 En este caso, b_0=2 ya que al utilizar la funcion de hash modular `f(x) = x mod 2`, generamos un conjunto de 2 imagenes: {0,1}. En consecuencia, los posibles reducers son:\n",
        "```markdown\n",
        "REDUCERS = [(0, 0, 0),\n",
        "            (0, 0, 1),\n",
        "            (0, 1, 0),\n",
        "            (0, 1, 1),\n",
        "            (1, 0, 0),\n",
        "            (1, 0, 1),\n",
        "            (1, 1, 0),\n",
        "            (1, 1, 1)]\n",
        "```\n",
        "\n",
        "👉🏻 Dado que estamos buscando subgrafos de 3 nodos, entonces l_0 = 3.\n",
        "\n",
        "👉🏻 Las aristas se distribuyen dentro de los reducers, por lo que almacenamos el grafo de manera distribuida.En cada reducer verificamos si las aristas generan triangulos, en el caso que si (formaria un ciclo) se almacenará en una lista y retornaremos los nodos correspondientes.\n",
        "\n",
        "\n"
      ]
    },
    {
      "cell_type": "code",
      "execution_count": 13,
      "metadata": {
        "colab": {
          "base_uri": "https://localhost:8080/"
        },
        "id": "IK8OPRVPn8W-",
        "outputId": "ae9e5a79-687a-4874-bf02-75a3e3dbc0a6"
      },
      "outputs": [
        {
          "data": {
            "text/plain": [
              "[((2, 3, 4),\n",
              "  [((2, 11, 3), (3, 11, 4), (4, 11, 2)),\n",
              "   ((2, 12, 3), (3, 11, 4), (4, 11, 2))]),\n",
              " ((1, 2, 3),\n",
              "  [((1, 12, 2), (2, 12, 3), (3, 12, 1)),\n",
              "   ((1, 11, 2), (2, 11, 3), (3, 12, 1)),\n",
              "   ((1, 11, 2), (2, 12, 3), (3, 12, 1)),\n",
              "   ((1, 12, 2), (2, 11, 3), (3, 12, 1))]),\n",
              " ((1, 3, 4), [((1, 11, 3), (3, 11, 4), (4, 11, 1))])]"
            ]
          },
          "execution_count": 13,
          "metadata": {},
          "output_type": "execute_result"
        }
      ],
      "source": [
        "# Dimension de elementos del conjunto de imagenes de la funcion de hash: |{0,1}|\n",
        "b_0 = 2\n",
        "# Dimension del patron de grafo (triangulo para este caso)\n",
        "l_0 = 3\n",
        "# Conjunto de imagenes de la funcion de hash\n",
        "b_set_0 = list(range(b_0))\n",
        "# Posibles reducers\n",
        "reducers_0 = list(product(b_set_0, repeat=l_0))\n",
        "\n",
        "patterns = map_reduce(rdd_graph, b_0, reducers_0, l_0)\n",
        "\n",
        "patterns.collect()"
      ]
    },
    {
      "cell_type": "markdown",
      "metadata": {
        "id": "MCtX0wRxW4TJ"
      },
      "source": [
        "👉🏻 Al aplicar el algoritmo mapReduce, podemos notar que existen 3 tripletas de nodos que forman un triangulo. En donde estos nodos permiten formar diferentes patrones de grafos triangulares. En este caso, como tenemos mas de una etiqueta distinta, podemos notar que para una tripleta de nodo, forman mas de un triangulo.\n",
        "```markdown\n",
        "  (2,3,4); (1,2,3); (1,3,4)\n",
        "```\n",
        "\n",
        "👉🏻 Las siguientes funciones se definiran con el fin de desarrollar consultas sobre estos grafos.\n"
      ]
    },
    {
      "cell_type": "code",
      "execution_count": 14,
      "metadata": {
        "id": "H8MNUFa8XUDZ"
      },
      "outputs": [],
      "source": [
        "def filter_patterns(pattern, pattern_dim, labels):\n",
        "  \"\"\"\n",
        "  Funcion que retorna los patrones filtrados segun el label proporcionado como\n",
        "  parametro.\n",
        "  \"\"\"\n",
        "  pattern_labels = [edge[1] for edge in pattern]\n",
        "  for i in range(pattern_dim + 1):\n",
        "      # verificamos si coinciden los labels ...\n",
        "      if pattern_labels == labels:\n",
        "        return pattern\n",
        "      # Hacemos un desplazamiento hacia la derecha ...\n",
        "      pattern_labels = pattern_labels[i:] + pattern_labels[:i]\n",
        "\n",
        "  return None\n",
        "\n",
        "def bgp_query(rdd_graph, b_dim, reducers, pattern_dim, query):\n",
        "  \"\"\"\n",
        "  Funcion que retorna todos los patrones de grafos de dimension \"pattern_dim\"\n",
        "  que coincidan segun la query entregada.\n",
        "  \"\"\"\n",
        "\n",
        "  patterns = map_reduce(rdd_graph, b_dim, reducers, pattern_dim).values().flatMap(list)\n",
        "  processed_query = query.replace(\"(\", \"\").replace(\")\", \"\").split(\",\")\n",
        "  labels = [int(part.strip()) for part in processed_query if part.strip().isdigit()]\n",
        "\n",
        "  result = patterns.filter(lambda pattern: filter_patterns(pattern, pattern_dim, labels))\n",
        "  return result"
      ]
    },
    {
      "cell_type": "code",
      "execution_count": 15,
      "metadata": {
        "colab": {
          "base_uri": "https://localhost:8080/"
        },
        "id": "rNlZTxSQXs6x",
        "outputId": "8837aed4-4c2c-43b2-e1db-84612326b63d"
      },
      "outputs": [
        {
          "name": "stdout",
          "output_type": "stream",
          "text": [
            "((2, 11, 3), (3, 11, 4), (4, 11, 2))\n",
            "((1, 11, 3), (3, 11, 4), (4, 11, 1))\n"
          ]
        }
      ],
      "source": [
        "# Realizamos la siguiente consulta en donde queremos obtener todos los triangulos\n",
        "# donde la etiqueta es 11, independiente del nodo.\n",
        "result = bgp_query(rdd_graph, b_0, reducers_0, l_0, \"(x,11,y), (y,11,z), (z,11,w)\")\n",
        "for res in result.collect():\n",
        "  print(res)"
      ]
    },
    {
      "cell_type": "markdown",
      "metadata": {
        "id": "aES7v_zWQZZL"
      },
      "source": [
        "## 3.2 MapReduce Algorithm for Squares\n"
      ]
    },
    {
      "cell_type": "markdown",
      "metadata": {
        "id": "yBBJpfYRY7C0"
      },
      "source": [
        "👉🏻 Ahora aplicaremos nuestro algoritmo para la busqueda de patrones de grafos de 4 variables. En primer lugar, utilizaremos el mismo algoritmo anterior, pero cambiaremos los parametros de l y b_set. En este caso, utilizaremos l = 4. En consecuencia, obtenemos una cantidad de $2^4$ reducers (definidos como `reducers_1`)."
      ]
    },
    {
      "cell_type": "code",
      "execution_count": 16,
      "metadata": {
        "colab": {
          "base_uri": "https://localhost:8080/"
        },
        "id": "cRsbqVb-Qidy",
        "outputId": "4d75a3c1-d1f7-4333-9550-887e76e8deb4"
      },
      "outputs": [
        {
          "data": {
            "text/plain": [
              "[((1, 2, 3, 4),\n",
              "  [((1, 12, 2), (2, 12, 3), (3, 11, 4), (4, 11, 1)),\n",
              "   ((1, 12, 2), (2, 11, 3), (3, 11, 4), (4, 11, 1)),\n",
              "   ((1, 11, 2), (2, 11, 3), (3, 11, 4), (4, 11, 1)),\n",
              "   ((1, 11, 2), (2, 12, 3), (3, 11, 4), (4, 11, 1))]),\n",
              " ((2, 3, 4, 5),\n",
              "  [((2, 11, 3), (3, 11, 4), (4, 12, 5), (5, 12, 2)),\n",
              "   ((2, 12, 3), (3, 11, 4), (4, 12, 5), (5, 12, 2))]),\n",
              " ((2, 3, 3, 4),\n",
              "  [((2, 11, 3), (3, 11, 2), (3, 11, 4), (4, 11, 3)),\n",
              "   ((2, 12, 3), (3, 11, 2), (3, 11, 4), (4, 11, 3))]),\n",
              " ((1, 3, 4, 5), [((1, 11, 3), (3, 11, 4), (4, 12, 5), (5, 12, 1))]),\n",
              " ((1, 2, 3, 3), [((1, 11, 3), (2, 12, 3), (3, 11, 2), (3, 12, 1))])]"
            ]
          },
          "execution_count": 16,
          "metadata": {},
          "output_type": "execute_result"
        }
      ],
      "source": [
        "# Como buscaremos los posibles cuadrados a formar, entonces tendremos l=4 nodos\n",
        "# en el bgp.\n",
        "l_1 = 4\n",
        "# Tendremos b^4 reducers posibles.\n",
        "b_set_1 = list(range(b_0))\n",
        "reducers_1 = list(product(b_set_1, repeat=l_1))\n",
        "# aplicamos el algoritmo para patrones de grafos de l=4 nodos, con 2^4 reducers\n",
        "# y con un conjunto de preimagenes de la funcion de hash {0,1}.\n",
        "squares_patterns = map_reduce(rdd_graph, b_0, reducers_1, l_1)\n",
        "squares_patterns.collect() # Obtenemos todos los posibles patrones cuadrados sin importar el label."
      ]
    },
    {
      "cell_type": "markdown",
      "metadata": {
        "id": "iA8vqrEGaEPX"
      },
      "source": [
        "👉🏻 Ahora podemos notar que el algoritmo se demora aproximadamente 1s en correr.\n",
        "\n",
        "👉🏻 Podemos notar que existen 5 tuplas que forman patrones de grafos cuadrilateros (considerando que tenemos diferentes etiquetas, por lo que algunos nodos se repiten, sin embargo se debe a que presentan labels de aristas distintos).\n",
        "\n",
        "```markdown\n",
        "(1,2,3,4), (2,3,4,5), (2,3,3,4), (1,2,4,5), y (1,2,3,3).\n",
        "```\n",
        "👉🏻 Ahora definiremos las funciones que usaremos para poder hacer match con patrones de grafos con 4 variables."
      ]
    },
    {
      "cell_type": "code",
      "execution_count": 17,
      "metadata": {
        "id": "8-TH6CLeveT3"
      },
      "outputs": [],
      "source": [
        "def filter_patterns_squares(pattern, pattern_dim, M1):\n",
        "    \"\"\"\n",
        "    Funcion que retorna los patrones filtrados para cuadrilateros\n",
        "    \"\"\"\n",
        "    for i in range(pattern_dim + 1):\n",
        "        shift_patterns = pattern[i:] + pattern[:i]\n",
        "        A = [item[0] for item in shift_patterns]  # Variables (A)\n",
        "        L = list(set(item[1] for item in shift_patterns)) # Labels (L)\n",
        "\n",
        "        dict_var_dir = {var: dir for dir, var in enumerate(A)}\n",
        "        dict_label_dir = {label: dir for dir, label in enumerate(L)}\n",
        "        # definimos la matriz AxLxA. Para que se realice match, la\n",
        "        # matriz del patron de grafo debe ser la misma que la matriz\n",
        "        # para el subgrafo\n",
        "        M2 = np.zeros((len(A), len(L), len(A)))\n",
        "\n",
        "        for item in shift_patterns:\n",
        "            node_1 = item[0]\n",
        "            label = int(item[1])\n",
        "            node_2 = item[2]\n",
        "\n",
        "            dir_node_1 = dict_var_dir[node_1]\n",
        "            dir_label = dict_label_dir[label]\n",
        "            dir_node_2 = dict_var_dir[node_2]\n",
        "\n",
        "            M2[dir_node_1][dir_label][dir_node_2] = 1\n",
        "\n",
        "        if np.array_equal(M1, M2):\n",
        "            return pattern\n",
        "\n",
        "    return None\n",
        "\n",
        "def get_matches(rdd_graph, b_dim, reducers, pattern_dim, query):\n",
        "    \"\"\"\n",
        "    Funcion que procesa la consulta y retorna los posibles matches con respecto a la\n",
        "    consulta que se entrega\n",
        "    \"\"\"\n",
        "    processed_query = query.replace(\" \", \";\").replace(\"(\", \"\").replace(\")\", \"\").split(\",;\")\n",
        "    processed_query = [item.split(\",\") for item in processed_query]\n",
        "\n",
        "    A = [item[0] for item in processed_query]  # lista de Variables\n",
        "    L = list(set(int(item[1]) for item in processed_query))  # lista de Labels\n",
        "\n",
        "    # Diccionario en donde recordamos la direccion de memoria de cada variable\n",
        "    # y label.\n",
        "    dict_var_dir = {var: dir for dir, var in enumerate(A)}\n",
        "    dict_label_dir = {label: dir for dir, label in enumerate(L)}\n",
        "\n",
        "    # definimos nuestra matriz M de dimension A X L X A\n",
        "    M1 = np.zeros((len(A), len(L), len(A)))\n",
        "    for item in processed_query:\n",
        "        node_1 = item[0]\n",
        "        label = int(item[1])\n",
        "        node_2 = item[2]\n",
        "        dir_node_1 = dict_var_dir[node_1]\n",
        "        dir_label = dict_label_dir[label]\n",
        "        dir_node_2 = dict_var_dir[node_2]\n",
        "        M1[dir_node_1][dir_label][dir_node_2] = 1\n",
        "\n",
        "    # con map reduce, encontramos todos los patrones que tienen 4 aristas (cuadrilateros)\n",
        "    patterns = map_reduce(rdd_graph, b_dim, reducers, pattern_dim).values().flatMap(list)\n",
        "\n",
        "    # filtramos los subgrafos segun el patron de grafo que se solicita\n",
        "    result = patterns.filter(lambda pattern: filter_patterns_squares(pattern, pattern_dim, M1) is not None)\n",
        "    return result.collect()\n"
      ]
    },
    {
      "cell_type": "code",
      "execution_count": 18,
      "metadata": {
        "colab": {
          "base_uri": "https://localhost:8080/"
        },
        "id": "F3Q8LNl5BIvP",
        "outputId": "88c68e2c-1ff1-49bc-b845-6ea9139395e4"
      },
      "outputs": [
        {
          "data": {
            "text/plain": [
              "[((1, 12, 2), (2, 12, 3), (3, 11, 4), (4, 11, 1)),\n",
              " ((2, 11, 3), (3, 11, 4), (4, 12, 5), (5, 12, 2)),\n",
              " ((1, 11, 3), (3, 11, 4), (4, 12, 5), (5, 12, 1))]"
            ]
          },
          "execution_count": 18,
          "metadata": {},
          "output_type": "execute_result"
        }
      ],
      "source": [
        "get_matches(rdd_graph, b_0, reducers_1, l_1, \"(x,11,y), (y,11,z), (z,12,w), (w,12,x)\")"
      ]
    },
    {
      "cell_type": "code",
      "execution_count": 19,
      "metadata": {
        "colab": {
          "base_uri": "https://localhost:8080/"
        },
        "id": "j7IUXiTUwf9X",
        "outputId": "962faccb-6be2-4e6d-88c9-976b2c6a290c"
      },
      "outputs": [
        {
          "data": {
            "text/plain": [
              "[((1, 11, 2), (2, 11, 3), (3, 11, 4), (4, 11, 1))]"
            ]
          },
          "execution_count": 19,
          "metadata": {},
          "output_type": "execute_result"
        }
      ],
      "source": [
        "get_matches(rdd_graph, b_0, reducers_1, l_1, \"(x,11,y), (y,11,z), (z,11,w), (w,11,x)\")"
      ]
    },
    {
      "cell_type": "markdown",
      "metadata": {
        "id": "xLwA73BsyR54"
      },
      "source": [
        "# 4. Aplicacion de un grafo a gran escala: Twitter Graph"
      ]
    },
    {
      "cell_type": "markdown",
      "metadata": {
        "id": "_7TMwckFyZNn"
      },
      "source": [
        "👉🏻 Ahora cargaremos un grafo de mayor tamaño (700 aristas) para evaluar nuestro algoritmo. El siguiente grafo corresponde a un grafo que modela la interaccion de cada usuario en la red social twitter.\n",
        "El grafo sera cargado como lista de tuplas, en donde cada tupla modela la relacion entre un usuario y otro. Consideramos las siguientes 2 tipos de relaciones\n",
        "\n",
        "    Relacion 0: INTERACTS_WITH - El usuario 1 interacciona con otro usuario 2\n",
        "    Relacion 1: SIMILAR_TO - El usuario 1 es similar al usuario 2\n",
        "\n",
        "Referencia: https://github.com/neo4j-graph-examples/twitter-v2\n"
      ]
    },
    {
      "cell_type": "code",
      "execution_count": 21,
      "metadata": {
        "colab": {
          "base_uri": "https://localhost:8080/"
        },
        "id": "WT80_UCNyVpy",
        "outputId": "a7c3d004-c969-4b2a-9200-4df08d5c7d12"
      },
      "outputs": [
        {
          "name": "stdout",
          "output_type": "stream",
          "text": [
            "Connection to Neo4j established successfully!\n",
            "INTERACTS_WITH AS class 0\n",
            "SIMILAR_TO AS class 1\n"
          ]
        }
      ],
      "source": [
        "graph = load_graph('neo4j-graph')\n",
        "rdd_graph = sc.parallelize(graph)"
      ]
    },
    {
      "cell_type": "code",
      "execution_count": 22,
      "metadata": {
        "colab": {
          "base_uri": "https://localhost:8080/"
        },
        "id": "Qgquhq2lF0ct",
        "outputId": "4f97844d-d9d9-4347-9616-20d718dfc627"
      },
      "outputs": [
        {
          "data": {
            "text/plain": [
              "744"
            ]
          },
          "execution_count": 22,
          "metadata": {},
          "output_type": "execute_result"
        }
      ],
      "source": [
        "rdd_graph.count() # Cantidad de aristas del grafo"
      ]
    },
    {
      "cell_type": "markdown",
      "metadata": {
        "id": "yujgfV070PB1"
      },
      "source": [
        "## 4.1 MapReduce Algorithm for Triangles"
      ]
    },
    {
      "cell_type": "markdown",
      "metadata": {
        "id": "hbtFpyt4In-L"
      },
      "source": [
        "👉🏻 Ahora aplicaremos MapReduce para encontrar los patrones de grafos con forma de triangulo dentro del grafo cargado desde Neo4j.\n",
        "\n"
      ]
    },
    {
      "cell_type": "code",
      "execution_count": 23,
      "metadata": {
        "colab": {
          "base_uri": "https://localhost:8080/"
        },
        "id": "nRcgQ7zLzOLq",
        "outputId": "10d767d1-7813-44ac-c3b1-0fe5c7456d7c"
      },
      "outputs": [
        {
          "data": {
            "text/plain": [
              "[((294, 430, 499), [((294, 0, 430), (430, 1, 499), (499, 1, 294))]),\n",
              " ((94, 118, 403), [((94, 1, 403), (118, 0, 94), (403, 0, 118))]),\n",
              " ((178, 187, 448),\n",
              "  [((178, 0, 448), (187, 0, 178), (448, 1, 187)),\n",
              "   ((178, 1, 187), (187, 0, 448), (448, 1, 178))]),\n",
              " ((398, 458, 459),\n",
              "  [((398, 1, 458), (458, 1, 459), (459, 0, 398)),\n",
              "   ((398, 1, 459), (458, 0, 398), (459, 0, 458))]),\n",
              " ((294, 327, 430),\n",
              "  [((294, 0, 327), (327, 0, 430), (430, 1, 294)),\n",
              "   ((294, 0, 430), (327, 1, 294), (430, 1, 327))]),\n",
              " ((42, 395, 430), [((42, 1, 430), (395, 1, 42), (430, 0, 395))]),\n",
              " ((115, 430, 452), [((115, 1, 452), (430, 0, 115), (452, 1, 430))]),\n",
              " ((42, 115, 430), [((42, 1, 430), (115, 1, 42), (430, 0, 115))]),\n",
              " ((42, 243, 452),\n",
              "  [((42, 0, 243), (243, 0, 452), (452, 1, 42)),\n",
              "   ((42, 0, 452), (243, 1, 42), (452, 1, 243))]),\n",
              " ((42, 115, 452), [((42, 0, 115), (115, 1, 452), (452, 1, 42))]),\n",
              " ((42, 395, 452), [((42, 0, 452), (395, 1, 42), (452, 1, 395))]),\n",
              " ((42, 156, 395),\n",
              "  [((42, 0, 395), (156, 1, 42), (395, 0, 156)),\n",
              "   ((42, 0, 156), (156, 1, 395), (395, 1, 42))]),\n",
              " ((42, 156, 243),\n",
              "  [((42, 0, 156), (156, 1, 243), (243, 1, 42)),\n",
              "   ((42, 0, 243), (156, 1, 42), (243, 0, 156))]),\n",
              " ((156, 395, 452), [((156, 0, 452), (395, 0, 156), (452, 1, 395))]),\n",
              " ((115, 156, 452), [((115, 1, 452), (156, 0, 115), (452, 1, 156))]),\n",
              " ((156, 243, 452), [((156, 1, 243), (243, 0, 452), (452, 1, 156))]),\n",
              " ((115, 156, 430), [((115, 1, 156), (156, 1, 430), (430, 0, 115))]),\n",
              " ((156, 395, 430), [((156, 1, 430), (395, 0, 156), (430, 0, 395))]),\n",
              " ((395, 430, 452), [((395, 0, 452), (430, 0, 395), (452, 1, 430))]),\n",
              " ((42, 115, 156),\n",
              "  [((42, 0, 115), (115, 1, 156), (156, 1, 42)),\n",
              "   ((42, 0, 156), (115, 1, 42), (156, 0, 115))]),\n",
              " ((341, 403, 461), [((341, 0, 461), (403, 1, 341), (461, 1, 403))]),\n",
              " ((239, 269, 501), [((239, 1, 501), (269, 0, 239), (501, 0, 269))]),\n",
              " ((239, 255, 269), [((239, 1, 255), (255, 1, 269), (269, 0, 239))]),\n",
              " ((115, 243, 327), [((115, 1, 243), (243, 1, 327), (327, 0, 115))]),\n",
              " ((243, 327, 395), [((243, 1, 327), (327, 0, 395), (395, 0, 243))]),\n",
              " ((115, 243, 395),\n",
              "  [((115, 1, 243), (243, 1, 395), (395, 0, 115)),\n",
              "   ((115, 1, 395), (243, 0, 115), (395, 0, 243))]),\n",
              " ((115, 327, 395), [((115, 1, 395), (327, 0, 115), (395, 1, 327))]),\n",
              " ((42, 156, 452),\n",
              "  [((42, 0, 452), (156, 1, 42), (452, 1, 156)),\n",
              "   ((42, 0, 156), (156, 0, 452), (452, 1, 42))]),\n",
              " ((294, 341, 403), [((294, 1, 341), (341, 0, 403), (403, 1, 294))]),\n",
              " ((122, 215, 341), [((122, 1, 215), (215, 1, 341), (341, 0, 122))]),\n",
              " ((122, 215, 403), [((122, 1, 215), (215, 1, 403), (403, 0, 122))]),\n",
              " ((403, 413, 470), [((403, 0, 470), (413, 1, 403), (470, 0, 413))]),\n",
              " ((40, 341, 403), [((40, 1, 403), (341, 0, 40), (403, 1, 341))]),\n",
              " ((122, 341, 403), [((122, 1, 403), (341, 0, 122), (403, 1, 341))]),\n",
              " ((40, 273, 341),\n",
              "  [((40, 1, 341), (273, 1, 40), (341, 0, 273)),\n",
              "   ((40, 0, 273), (273, 1, 341), (341, 0, 40))]),\n",
              " ((64, 369, 375), [((64, 1, 369), (369, 0, 375), (375, 1, 64))]),\n",
              " ((327, 430, 499),\n",
              "  [((327, 0, 499), (430, 1, 327), (499, 0, 430)),\n",
              "   ((327, 0, 430), (430, 1, 499), (499, 1, 327))]),\n",
              " ((115, 327, 452), [((115, 1, 452), (327, 0, 115), (452, 1, 327))]),\n",
              " ((42, 115, 327), [((42, 1, 327), (115, 1, 42), (327, 0, 115))]),\n",
              " ((115, 156, 327), [((115, 1, 156), (156, 1, 327), (327, 0, 115))]),\n",
              " ((42, 327, 395), [((42, 1, 327), (327, 0, 395), (395, 1, 42))]),\n",
              " ((156, 327, 395), [((156, 1, 327), (327, 0, 395), (395, 0, 156))]),\n",
              " ((327, 395, 452), [((327, 0, 395), (395, 0, 452), (452, 1, 327))]),\n",
              " ((73, 110, 327), [((73, 0, 110), (110, 1, 327), (327, 0, 73))]),\n",
              " ((73, 327, 430), [((73, 1, 327), (327, 0, 430), (430, 0, 73))]),\n",
              " ((283, 327, 430), [((283, 1, 327), (327, 0, 430), (430, 1, 283))]),\n",
              " ((73, 294, 327), [((73, 1, 327), (294, 0, 73), (327, 1, 294))]),\n",
              " ((243, 395, 452), [((243, 0, 452), (395, 0, 243), (452, 1, 395))]),\n",
              " ((156, 243, 395),\n",
              "  [((156, 1, 395), (243, 0, 156), (395, 0, 243)),\n",
              "   ((156, 1, 243), (243, 1, 395), (395, 0, 156))]),\n",
              " ((115, 395, 452), [((115, 1, 452), (395, 0, 115), (452, 1, 395))]),\n",
              " ((42, 115, 395),\n",
              "  [((42, 0, 395), (115, 1, 42), (395, 0, 115)),\n",
              "   ((42, 0, 115), (115, 1, 395), (395, 1, 42))]),\n",
              " ((115, 395, 430), [((115, 1, 395), (395, 1, 430), (430, 0, 115))]),\n",
              " ((327, 395, 430), [((327, 0, 430), (395, 1, 327), (430, 0, 395))]),\n",
              " ((42, 243, 395),\n",
              "  [((42, 0, 243), (243, 1, 395), (395, 1, 42)),\n",
              "   ((42, 0, 395), (243, 1, 42), (395, 0, 243))]),\n",
              " ((115, 243, 430), [((115, 1, 243), (243, 1, 430), (430, 0, 115))]),\n",
              " ((115, 243, 452),\n",
              "  [((115, 1, 243), (243, 0, 452), (452, 0, 115)),\n",
              "   ((115, 1, 452), (243, 0, 115), (452, 1, 243))]),\n",
              " ((115, 156, 243),\n",
              "  [((115, 1, 156), (156, 1, 243), (243, 0, 115)),\n",
              "   ((115, 1, 243), (156, 0, 115), (243, 0, 156))])]"
            ]
          },
          "execution_count": 23,
          "metadata": {},
          "output_type": "execute_result"
        }
      ],
      "source": [
        "patterns = map_reduce(rdd_graph, b_0, reducers_0, l_0)\n",
        "patterns.collect()"
      ]
    },
    {
      "cell_type": "markdown",
      "metadata": {
        "id": "MUrxrmTbIyoZ"
      },
      "source": [
        "👉🏻 El algoritmo es bien rapido de ejecutar, y podemos ver claramente las relaciones entre diferentes usuarios, para diferentes labels."
      ]
    },
    {
      "cell_type": "markdown",
      "metadata": {
        "id": "-xQk8rW5JeeP"
      },
      "source": [
        "👉🏻 Para poder analizar las relaciones y compararlo con el grafo mostrado en Neo4j, realizaremos una consulta, y luego compararemos los resultados ..."
      ]
    },
    {
      "cell_type": "code",
      "execution_count": 24,
      "metadata": {
        "id": "fk0X6spHKA7m"
      },
      "outputs": [],
      "source": [
        "# Cargamos el diccionario que guardamos los nombres de usuarios y el id asociado.\n",
        "users_id = np.load('users_id.npy', allow_pickle=True).item()\n",
        "dict_users_id = {value : key for key, value in users_id.items()}\n",
        "# Cargamos el tipo de relacion.\n",
        "relationship_class = np.load('relationship_class.npy', allow_pickle=True).item()\n",
        "dict_relation_class = {value : key for key, value in relationship_class.items()}"
      ]
    },
    {
      "cell_type": "code",
      "execution_count": 25,
      "metadata": {
        "colab": {
          "base_uri": "https://localhost:8080/"
        },
        "id": "84BwPADGOksb",
        "outputId": "3d254abd-eb51-4e6b-e8ca-8d701d5849d8"
      },
      "outputs": [
        {
          "data": {
            "text/plain": [
              "[((94, 1, 403), (118, 0, 94), (403, 0, 118)),\n",
              " ((398, 1, 459), (458, 0, 398), (459, 0, 458)),\n",
              " ((42, 0, 395), (156, 1, 42), (395, 0, 156)),\n",
              " ((42, 0, 243), (156, 1, 42), (243, 0, 156)),\n",
              " ((156, 1, 430), (395, 0, 156), (430, 0, 395)),\n",
              " ((42, 0, 156), (115, 1, 42), (156, 0, 115)),\n",
              " ((239, 1, 501), (269, 0, 239), (501, 0, 269)),\n",
              " ((243, 1, 327), (327, 0, 395), (395, 0, 243)),\n",
              " ((115, 1, 395), (243, 0, 115), (395, 0, 243)),\n",
              " ((403, 0, 470), (413, 1, 403), (470, 0, 413)),\n",
              " ((40, 0, 273), (273, 1, 341), (341, 0, 40)),\n",
              " ((327, 0, 499), (430, 1, 327), (499, 0, 430)),\n",
              " ((156, 1, 327), (327, 0, 395), (395, 0, 156)),\n",
              " ((73, 0, 110), (110, 1, 327), (327, 0, 73)),\n",
              " ((73, 1, 327), (327, 0, 430), (430, 0, 73)),\n",
              " ((156, 1, 395), (243, 0, 156), (395, 0, 243)),\n",
              " ((42, 0, 395), (115, 1, 42), (395, 0, 115)),\n",
              " ((327, 0, 430), (395, 1, 327), (430, 0, 395)),\n",
              " ((42, 0, 395), (243, 1, 42), (395, 0, 243)),\n",
              " ((115, 1, 243), (243, 0, 452), (452, 0, 115)),\n",
              " ((115, 1, 243), (156, 0, 115), (243, 0, 156))]"
            ]
          },
          "execution_count": 25,
          "metadata": {},
          "output_type": "execute_result"
        }
      ],
      "source": [
        "result = bgp_query(rdd_graph, b_0, reducers_0, l_0, \"(x,1,y), (y,0,z), (z,0,x)\")\n",
        "result.collect()"
      ]
    },
    {
      "cell_type": "code",
      "execution_count": 26,
      "metadata": {
        "id": "aqQs7lmc8fdd"
      },
      "outputs": [],
      "source": [
        "def load_usernames(pat):\n",
        "  \"\"\"\n",
        "  Funcion que retorna el nombre de usuario codificado a un id, y tambien transforma\n",
        "  la clase del label a su valor original\n",
        "  \"\"\"\n",
        "  list_users = []\n",
        "  for i in range(len(pat)):\n",
        "    edge = pat[i]\n",
        "    user1 = dict_users_id[edge[0]]\n",
        "    label = dict_relation_class[edge[1]]\n",
        "    user2 = dict_users_id[edge[2]]\n",
        "    list_users.append((user1, label, user2))\n",
        "  return list_users"
      ]
    },
    {
      "cell_type": "markdown",
      "metadata": {
        "id": "Lx9bDXqV85gx"
      },
      "source": [
        "👉🏻 Ahora con la consulta anterior, analizaremos los usuarios involucrados en el siguiente caso: el primer usuario interacciona con el segundo; el segundo es similar al tercero; y el tercero el similar al primero."
      ]
    },
    {
      "cell_type": "code",
      "execution_count": 27,
      "metadata": {
        "colab": {
          "base_uri": "https://localhost:8080/"
        },
        "id": "tGo4JxqQ7sg-",
        "outputId": "da2dbbc2-aed3-4708-96f2-b9ede14f2293"
      },
      "outputs": [
        {
          "data": {
            "text/plain": [
              "[[('CRYPTEMES', 'SIMILAR_TO', 'Michael Hunger'),\n",
              "  ('Sandro Miccoli', 'INTERACTS_WITH', 'CRYPTEMES'),\n",
              "  ('Michael Hunger', 'INTERACTS_WITH', 'Sandro Miccoli')],\n",
              " [('Mahendrawathi ER', 'SIMILAR_TO', 'Nur Aini Rakhmawati'),\n",
              "  ('Radit - Pendekar Syair Berbusa', 'INTERACTS_WITH', 'Mahendrawathi ER'),\n",
              "  ('Nur Aini Rakhmawati', 'INTERACTS_WITH', 'Radit - Pendekar Syair Berbusa')],\n",
              " [('Born To Be Idle', 'INTERACTS_WITH', 'John Wolpert'),\n",
              "  ('Brana Rakic', 'SIMILAR_TO', 'Born To Be Idle'),\n",
              "  ('John Wolpert', 'INTERACTS_WITH', 'Brana Rakic')],\n",
              " [('Born To Be Idle', 'INTERACTS_WITH', 'Chill Zone'),\n",
              "  ('Brana Rakic', 'SIMILAR_TO', 'Born To Be Idle'),\n",
              "  ('Chill Zone', 'INTERACTS_WITH', 'Brana Rakic')],\n",
              " [('Brana Rakic', 'SIMILAR_TO', 'Nancy Tremblay❤😀🌻🇨🇦'),\n",
              "  ('John Wolpert', 'INTERACTS_WITH', 'Brana Rakic'),\n",
              "  ('Nancy Tremblay❤😀🌻🇨🇦', 'INTERACTS_WITH', 'John Wolpert')],\n",
              " [('Born To Be Idle', 'INTERACTS_WITH', 'Brana Rakic'),\n",
              "  ('guinnessstache', 'SIMILAR_TO', 'Born To Be Idle'),\n",
              "  ('Brana Rakic', 'INTERACTS_WITH', 'guinnessstache')],\n",
              " [('Open Art Data', 'SIMILAR_TO', 'Jesús Barrasa'),\n",
              "  ('Sonja Heward-mills', 'INTERACTS_WITH', 'Open Art Data'),\n",
              "  ('Jesús Barrasa', 'INTERACTS_WITH', 'Sonja Heward-mills')],\n",
              " [('Chill Zone', 'SIMILAR_TO', 'Dr.Salahideen ALHAJ 🔶 🔸️#WearAMask #SDGs'),\n",
              "  ('Dr.Salahideen ALHAJ 🔶 🔸️#WearAMask #SDGs',\n",
              "   'INTERACTS_WITH',\n",
              "   'John Wolpert'),\n",
              "  ('John Wolpert', 'INTERACTS_WITH', 'Chill Zone')],\n",
              " [('guinnessstache', 'SIMILAR_TO', 'John Wolpert'),\n",
              "  ('Chill Zone', 'INTERACTS_WITH', 'guinnessstache'),\n",
              "  ('John Wolpert', 'INTERACTS_WITH', 'Chill Zone')],\n",
              " [('Michael Hunger', 'INTERACTS_WITH', 'Ben'),\n",
              "  ('Morgan | Tech Consultant | runtcpip.com 🔜 SXSW',\n",
              "   'SIMILAR_TO',\n",
              "   'Michael Hunger'),\n",
              "  ('Ben', 'INTERACTS_WITH', 'Morgan | Tech Consultant | runtcpip.com 🔜 SXSW')],\n",
              " [('Jim Webber', 'INTERACTS_WITH', 'Nigel Small 🇪🇺'),\n",
              "  ('Nigel Small 🇪🇺', 'SIMILAR_TO', 'Michael Simons'),\n",
              "  ('Michael Simons', 'INTERACTS_WITH', 'Jim Webber')],\n",
              " [('Dr.Salahideen ALHAJ 🔶 🔸️#WearAMask #SDGs',\n",
              "   'INTERACTS_WITH',\n",
              "   'Chidambara .ML.'),\n",
              "  ('Nancy Tremblay❤😀🌻🇨🇦',\n",
              "   'SIMILAR_TO',\n",
              "   'Dr.Salahideen ALHAJ 🔶 🔸️#WearAMask #SDGs'),\n",
              "  ('Chidambara .ML.', 'INTERACTS_WITH', 'Nancy Tremblay❤😀🌻🇨🇦')],\n",
              " [('Brana Rakic', 'SIMILAR_TO', 'Dr.Salahideen ALHAJ 🔶 🔸️#WearAMask #SDGs'),\n",
              "  ('Dr.Salahideen ALHAJ 🔶 🔸️#WearAMask #SDGs',\n",
              "   'INTERACTS_WITH',\n",
              "   'John Wolpert'),\n",
              "  ('John Wolpert', 'INTERACTS_WITH', 'Brana Rakic')],\n",
              " [('Javelynn', 'INTERACTS_WITH', 'Françoise Morvan'),\n",
              "  ('Françoise Morvan',\n",
              "   'SIMILAR_TO',\n",
              "   'Dr.Salahideen ALHAJ 🔶 🔸️#WearAMask #SDGs'),\n",
              "  ('Dr.Salahideen ALHAJ 🔶 🔸️#WearAMask #SDGs', 'INTERACTS_WITH', 'Javelynn')],\n",
              " [('Javelynn', 'SIMILAR_TO', 'Dr.Salahideen ALHAJ 🔶 🔸️#WearAMask #SDGs'),\n",
              "  ('Dr.Salahideen ALHAJ 🔶 🔸️#WearAMask #SDGs',\n",
              "   'INTERACTS_WITH',\n",
              "   'Nancy Tremblay❤😀🌻🇨🇦'),\n",
              "  ('Nancy Tremblay❤😀🌻🇨🇦', 'INTERACTS_WITH', 'Javelynn')],\n",
              " [('Brana Rakic', 'SIMILAR_TO', 'John Wolpert'),\n",
              "  ('Chill Zone', 'INTERACTS_WITH', 'Brana Rakic'),\n",
              "  ('John Wolpert', 'INTERACTS_WITH', 'Chill Zone')],\n",
              " [('Born To Be Idle', 'INTERACTS_WITH', 'John Wolpert'),\n",
              "  ('guinnessstache', 'SIMILAR_TO', 'Born To Be Idle'),\n",
              "  ('John Wolpert', 'INTERACTS_WITH', 'guinnessstache')],\n",
              " [('Dr.Salahideen ALHAJ 🔶 🔸️#WearAMask #SDGs',\n",
              "   'INTERACTS_WITH',\n",
              "   'Nancy Tremblay❤😀🌻🇨🇦'),\n",
              "  ('John Wolpert', 'SIMILAR_TO', 'Dr.Salahideen ALHAJ 🔶 🔸️#WearAMask #SDGs'),\n",
              "  ('Nancy Tremblay❤😀🌻🇨🇦', 'INTERACTS_WITH', 'John Wolpert')],\n",
              " [('Born To Be Idle', 'INTERACTS_WITH', 'John Wolpert'),\n",
              "  ('Chill Zone', 'SIMILAR_TO', 'Born To Be Idle'),\n",
              "  ('John Wolpert', 'INTERACTS_WITH', 'Chill Zone')],\n",
              " [('guinnessstache', 'SIMILAR_TO', 'Chill Zone'),\n",
              "  ('Chill Zone', 'INTERACTS_WITH', 'Wen.S'),\n",
              "  ('Wen.S', 'INTERACTS_WITH', 'guinnessstache')],\n",
              " [('guinnessstache', 'SIMILAR_TO', 'Chill Zone'),\n",
              "  ('Brana Rakic', 'INTERACTS_WITH', 'guinnessstache'),\n",
              "  ('Chill Zone', 'INTERACTS_WITH', 'Brana Rakic')]]"
            ]
          },
          "execution_count": 27,
          "metadata": {},
          "output_type": "execute_result"
        }
      ],
      "source": [
        "result.map(load_usernames).collect()"
      ]
    },
    {
      "cell_type": "markdown",
      "metadata": {
        "id": "utv-i53dF-8L"
      },
      "source": [
        "## 4.2 MapReduce For Squares"
      ]
    },
    {
      "cell_type": "markdown",
      "metadata": {
        "id": "0ekmEZNB9Vrb"
      },
      "source": [
        "👉🏻 Ahora aplicaremos el algoritmo MapReduce para buscar patrones todos los posibles subgrafos de solo 4 variables, para luego realizar una consulta."
      ]
    },
    {
      "cell_type": "code",
      "execution_count": 28,
      "metadata": {
        "colab": {
          "base_uri": "https://localhost:8080/"
        },
        "id": "6nwtcw0lF-rl",
        "outputId": "36a6dd44-522a-4c4f-bd93-7056b3254952"
      },
      "outputs": [
        {
          "data": {
            "text/plain": [
              "[((273, 341, 341, 461),\n",
              "  [((273, 1, 341), (341, 0, 273), (341, 0, 461), (461, 1, 341))]),\n",
              " ((122, 122, 215, 341),\n",
              "  [((122, 1, 215), (122, 1, 341), (215, 0, 122), (341, 0, 122))]),\n",
              " ((341, 403, 461, 461),\n",
              "  [((341, 0, 461), (403, 0, 461), (461, 1, 341), (461, 1, 403))]),\n",
              " ((40, 258, 341, 341),\n",
              "  [((40, 1, 341), (258, 1, 341), (341, 0, 40), (341, 0, 258))]),\n",
              " ((40, 122, 341, 341),\n",
              "  [((40, 1, 341), (122, 1, 341), (341, 0, 40), (341, 0, 122))]),\n",
              " ((122, 258, 341, 341),\n",
              "  [((122, 1, 341), (258, 1, 341), (341, 0, 122), (341, 0, 258))]),\n",
              " ((71, 294, 294, 333),\n",
              "  [((71, 1, 294), (294, 0, 71), (294, 0, 333), (333, 1, 294))]),\n",
              " ((12, 294, 327, 403),\n",
              "  [((12, 1, 403), (294, 0, 327), (327, 1, 12), (403, 1, 294))]),\n",
              " ((294, 294, 327, 333),\n",
              "  [((294, 0, 327), (294, 0, 333), (327, 1, 294), (333, 1, 294))]),\n",
              " ((71, 294, 294, 327),\n",
              "  [((71, 1, 294), (294, 0, 71), (294, 0, 327), (327, 1, 294))]),\n",
              " ((124, 294, 294, 430),\n",
              "  [((124, 1, 294), (294, 0, 124), (294, 0, 430), (430, 1, 294))]),\n",
              " ((294, 294, 333, 403),\n",
              "  [((294, 0, 333), (294, 0, 403), (333, 1, 294), (403, 1, 294))]),\n",
              " ((71, 294, 294, 403),\n",
              "  [((71, 1, 294), (294, 0, 71), (294, 0, 403), (403, 1, 294))]),\n",
              " ((73, 110, 294, 327),\n",
              "  [((73, 0, 110), (110, 1, 327), (294, 0, 73), (327, 1, 294))]),\n",
              " ((225, 403, 403, 413),\n",
              "  [((225, 1, 403), (403, 0, 225), (403, 0, 413), (413, 1, 403))]),\n",
              " ((403, 403, 413, 461),\n",
              "  [((403, 0, 413), (403, 0, 461), (413, 1, 403), (461, 1, 403))]),\n",
              " ((225, 403, 403, 461),\n",
              "  [((225, 1, 403), (403, 0, 225), (403, 0, 461), (461, 1, 403))]),\n",
              " ((94, 294, 403, 403),\n",
              "  [((94, 1, 403), (294, 0, 403), (403, 0, 94), (403, 1, 294))]),\n",
              " ((94, 118, 403, 403),\n",
              "  [((94, 1, 403), (118, 1, 403), (403, 0, 94), (403, 0, 118))]),\n",
              " ((94, 403, 403, 470),\n",
              "  [((94, 1, 403), (403, 0, 94), (403, 0, 470), (470, 1, 403))]),\n",
              " ((94, 122, 403, 403),\n",
              "  [((94, 1, 403), (122, 1, 403), (403, 0, 94), (403, 0, 122))]),\n",
              " ((122, 122, 215, 403),\n",
              "  [((122, 1, 215), (122, 1, 403), (215, 0, 122), (403, 0, 122))]),\n",
              " ((403, 413, 470, 470),\n",
              "  [((403, 0, 470), (413, 1, 470), (470, 0, 413), (470, 1, 403))]),\n",
              " ((225, 341, 403, 403),\n",
              "  [((225, 1, 403), (341, 0, 403), (403, 0, 225), (403, 1, 341))]),\n",
              " ((40, 294, 341, 403),\n",
              "  [((40, 1, 403), (294, 1, 341), (341, 0, 40), (403, 1, 294))]),\n",
              " ((122, 294, 341, 403),\n",
              "  [((122, 1, 403), (294, 1, 341), (341, 0, 122), (403, 1, 294))]),\n",
              " ((178, 187, 187, 448),\n",
              "  [((178, 1, 187), (187, 0, 178), (187, 0, 448), (448, 1, 187))]),\n",
              " ((239, 255, 269, 501),\n",
              "  [((239, 1, 255), (255, 1, 501), (269, 0, 239), (501, 0, 269))]),\n",
              " ((40, 40, 273, 341),\n",
              "  [((40, 0, 273), (40, 1, 341), (273, 1, 40), (341, 0, 40))]),\n",
              " ((239, 269, 269, 501),\n",
              "  [((239, 1, 269), (269, 0, 239), (269, 1, 501), (501, 0, 269))]),\n",
              " ((239, 239, 255, 269),\n",
              "  [((239, 1, 255), (239, 1, 269), (255, 0, 239), (269, 0, 239))]),\n",
              " ((294, 327, 430, 499),\n",
              "  [((294, 0, 327), (327, 0, 499), (430, 1, 294), (499, 0, 430)),\n",
              "   ((294, 0, 327), (327, 0, 430), (430, 1, 499), (499, 1, 294))]),\n",
              " ((283, 327, 327, 395),\n",
              "  [((283, 1, 327), (327, 0, 283), (327, 0, 395), (395, 1, 327))]),\n",
              " ((283, 327, 327, 499),\n",
              "  [((283, 1, 327), (327, 0, 283), (327, 0, 499), (499, 1, 327))]),\n",
              " ((42, 156, 327, 395),\n",
              "  [((42, 0, 156), (156, 1, 327), (327, 0, 395), (395, 1, 42))]),\n",
              " ((115, 327, 430, 452),\n",
              "  [((115, 1, 452), (327, 0, 430), (430, 0, 115), (452, 1, 327))]),\n",
              " ((73, 110, 327, 430),\n",
              "  [((73, 0, 110), (110, 1, 327), (327, 0, 430), (430, 0, 73))]),\n",
              " ((327, 430, 430, 499),\n",
              "  [((327, 0, 430), (430, 1, 327), (430, 1, 499), (499, 0, 430))]),\n",
              " ((283, 294, 327, 430),\n",
              "  [((283, 1, 327), (294, 0, 430), (327, 1, 294), (430, 1, 283))]),\n",
              " ((115, 395, 430, 452),\n",
              "  [((115, 1, 452), (395, 1, 430), (430, 0, 115), (452, 1, 395))]),\n",
              " ((42, 115, 327, 430),\n",
              "  [((42, 1, 327), (115, 1, 42), (327, 0, 430), (430, 0, 115))]),\n",
              " ((42, 243, 395, 452),\n",
              "  [((42, 0, 243), (243, 0, 452), (395, 1, 42), (452, 1, 395)),\n",
              "   ((42, 0, 395), (243, 1, 42), (395, 0, 452), (452, 1, 243))]),\n",
              " ((42, 115, 395, 452),\n",
              "  [((42, 0, 395), (115, 1, 42), (395, 0, 452), (452, 0, 115)),\n",
              "   ((42, 0, 115), (115, 1, 452), (395, 1, 42), (452, 1, 395))]),\n",
              " ((42, 395, 395, 452),\n",
              "  [((42, 0, 395), (395, 0, 452), (395, 1, 42), (452, 1, 395))]),\n",
              " ((115, 243, 430, 452),\n",
              "  [((115, 1, 452), (243, 1, 430), (430, 0, 115), (452, 1, 243))]),\n",
              " ((42, 156, 243, 395),\n",
              "  [((42, 0, 395), (156, 1, 243), (243, 1, 42), (395, 0, 156)),\n",
              "   ((42, 0, 156), (156, 1, 243), (243, 1, 395), (395, 1, 42)),\n",
              "   ((42, 0, 243), (156, 1, 395), (243, 0, 156), (395, 1, 42))]),\n",
              " ((115, 156, 395, 452),\n",
              "  [((115, 1, 452), (156, 0, 115), (395, 0, 156), (452, 1, 395))]),\n",
              " ((156, 243, 395, 452),\n",
              "  [((156, 1, 243), (243, 0, 452), (395, 0, 156), (452, 1, 395))]),\n",
              " ((42, 156, 395, 395),\n",
              "  [((42, 0, 395), (156, 1, 395), (395, 0, 156), (395, 1, 42))]),\n",
              " ((115, 156, 327, 430),\n",
              "  [((115, 1, 156), (156, 1, 327), (327, 0, 430), (430, 0, 115))]),\n",
              " ((115, 395, 452, 452),\n",
              "  [((115, 1, 452), (395, 0, 452), (452, 0, 115), (452, 1, 395))]),\n",
              " ((42, 42, 156, 452),\n",
              "  [((42, 0, 156), (42, 0, 452), (156, 1, 42), (452, 1, 42))]),\n",
              " ((243, 395, 452, 452),\n",
              "  [((243, 0, 452), (395, 0, 452), (452, 1, 243), (452, 1, 395))]),\n",
              " ((156, 327, 395, 452),\n",
              "  [((156, 1, 327), (327, 0, 395), (395, 0, 452), (452, 1, 156))]),\n",
              " ((42, 115, 156, 395),\n",
              "  [((42, 0, 115), (115, 1, 156), (156, 1, 395), (395, 1, 42)),\n",
              "   ((42, 0, 156), (115, 1, 395), (156, 0, 115), (395, 1, 42)),\n",
              "   ((42, 0, 395), (115, 1, 42), (156, 0, 115), (395, 0, 156))]),\n",
              " ((42, 115, 156, 327),\n",
              "  [((42, 0, 156), (115, 1, 42), (156, 1, 327), (327, 0, 115))]),\n",
              " ((398, 458, 459, 459),\n",
              "  [((398, 1, 459), (458, 1, 459), (459, 0, 398), (459, 0, 458))]),\n",
              " ((294, 294, 327, 403),\n",
              "  [((294, 0, 327), (294, 0, 403), (327, 1, 294), (403, 1, 294))]),\n",
              " ((122, 294, 403, 403),\n",
              "  [((122, 1, 403), (294, 0, 403), (403, 0, 122), (403, 1, 294))]),\n",
              " ((118, 122, 403, 403),\n",
              "  [((118, 1, 403), (122, 1, 403), (403, 0, 118), (403, 0, 122))]),\n",
              " ((122, 403, 403, 470),\n",
              "  [((122, 1, 403), (403, 0, 122), (403, 0, 470), (470, 1, 403))]),\n",
              " ((294, 403, 403, 470),\n",
              "  [((294, 0, 403), (403, 0, 470), (403, 1, 294), (470, 1, 403))]),\n",
              " ((118, 403, 403, 470),\n",
              "  [((118, 1, 403), (403, 0, 118), (403, 0, 470), (470, 1, 403))]),\n",
              " ((118, 294, 403, 403),\n",
              "  [((118, 1, 403), (294, 0, 403), (403, 0, 118), (403, 1, 294))]),\n",
              " ((294, 327, 327, 430),\n",
              "  [((294, 0, 327), (327, 0, 430), (327, 1, 294), (430, 1, 327))]),\n",
              " ((327, 395, 430, 430),\n",
              "  [((327, 0, 430), (395, 1, 430), (430, 0, 395), (430, 1, 327))]),\n",
              " ((395, 430, 430, 499),\n",
              "  [((395, 1, 430), (430, 0, 395), (430, 1, 499), (499, 0, 430))]),\n",
              " ((42, 395, 395, 430),\n",
              "  [((42, 0, 395), (395, 1, 42), (395, 1, 430), (430, 0, 395))]),\n",
              " ((42, 243, 395, 430),\n",
              "  [((42, 0, 243), (243, 1, 430), (395, 1, 42), (430, 0, 395))]),\n",
              " ((42, 327, 395, 430),\n",
              "  [((42, 1, 327), (327, 0, 430), (395, 1, 42), (430, 0, 395))]),\n",
              " ((42, 243, 243, 452),\n",
              "  [((42, 0, 243), (243, 0, 452), (243, 1, 42), (452, 1, 243))]),\n",
              " ((42, 115, 243, 452),\n",
              "  [((42, 0, 115), (115, 1, 452), (243, 1, 42), (452, 1, 243)),\n",
              "   ((42, 0, 243), (115, 1, 42), (243, 0, 452), (452, 0, 115))]),\n",
              " ((42, 115, 115, 452),\n",
              "  [((42, 0, 115), (115, 1, 42), (115, 1, 452), (452, 0, 115))]),\n",
              " ((42, 42, 115, 395),\n",
              "  [((42, 0, 115), (42, 0, 395), (115, 1, 42), (395, 1, 42))]),\n",
              " ((42, 42, 243, 395),\n",
              "  [((42, 0, 243), (42, 0, 395), (243, 1, 42), (395, 1, 42))]),\n",
              " ((395, 395, 430, 452),\n",
              "  [((395, 0, 452), (395, 1, 430), (430, 0, 395), (452, 1, 395))]),\n",
              " ((156, 395, 395, 452),\n",
              "  [((156, 1, 395), (395, 0, 156), (395, 0, 452), (452, 1, 395))]),\n",
              " ((156, 327, 395, 430),\n",
              "  [((156, 1, 327), (327, 0, 430), (395, 0, 156), (430, 0, 395))]),\n",
              " ((42, 115, 395, 430),\n",
              "  [((42, 0, 395), (115, 1, 42), (395, 1, 430), (430, 0, 115))]),\n",
              " ((115, 156, 395, 430),\n",
              "  [((115, 1, 156), (156, 1, 395), (395, 1, 430), (430, 0, 115))]),\n",
              " ((42, 115, 243, 430),\n",
              "  [((42, 0, 243), (115, 1, 42), (243, 1, 430), (430, 0, 115))]),\n",
              " ((115, 156, 243, 430),\n",
              "  [((115, 1, 156), (156, 1, 243), (243, 1, 430), (430, 0, 115))]),\n",
              " ((156, 243, 243, 452),\n",
              "  [((156, 1, 243), (243, 0, 156), (243, 0, 452), (452, 1, 243))]),\n",
              " ((42, 156, 243, 243),\n",
              "  [((42, 0, 243), (156, 1, 243), (243, 0, 156), (243, 1, 42))]),\n",
              " ((115, 156, 243, 452),\n",
              "  [((115, 1, 156), (156, 1, 243), (243, 0, 452), (452, 0, 115)),\n",
              "   ((115, 1, 452), (156, 0, 115), (243, 0, 156), (452, 1, 243))]),\n",
              " ((115, 115, 156, 452),\n",
              "  [((115, 1, 156), (115, 1, 452), (156, 0, 115), (452, 0, 115))]),\n",
              " ((115, 243, 452, 452),\n",
              "  [((115, 1, 452), (243, 0, 452), (452, 0, 115), (452, 1, 243))]),\n",
              " ((327, 395, 430, 452),\n",
              "  [((327, 0, 430), (395, 0, 452), (430, 0, 395), (452, 1, 327))]),\n",
              " ((115, 156, 156, 243),\n",
              "  [((115, 1, 156), (156, 0, 115), (156, 1, 243), (243, 0, 156))]),\n",
              " ((42, 115, 156, 243),\n",
              "  [((42, 0, 115), (115, 1, 156), (156, 1, 243), (243, 1, 42))]),\n",
              " ((122, 122, 341, 403),\n",
              "  [((122, 1, 341), (122, 1, 403), (341, 0, 122), (403, 0, 122))]),\n",
              " ((341, 341, 403, 461),\n",
              "  [((341, 0, 403), (341, 0, 461), (403, 1, 341), (461, 1, 341))]),\n",
              " ((273, 341, 341, 403),\n",
              "  [((273, 1, 341), (341, 0, 273), (341, 0, 403), (403, 1, 341))]),\n",
              " ((341, 403, 403, 413),\n",
              "  [((341, 0, 403), (403, 0, 413), (403, 1, 341), (413, 1, 403))]),\n",
              " ((341, 403, 403, 461),\n",
              "  [((341, 0, 403), (403, 0, 461), (403, 1, 341), (461, 1, 403))]),\n",
              " ((73, 327, 327, 499),\n",
              "  [((73, 1, 327), (327, 0, 73), (327, 0, 499), (499, 1, 327))]),\n",
              " ((327, 327, 395, 499),\n",
              "  [((327, 0, 395), (327, 0, 499), (395, 1, 327), (499, 1, 327))]),\n",
              " ((73, 283, 327, 327),\n",
              "  [((73, 1, 327), (283, 1, 327), (327, 0, 73), (327, 0, 283))]),\n",
              " ((73, 327, 327, 395),\n",
              "  [((73, 1, 327), (327, 0, 73), (327, 0, 395), (395, 1, 327))]),\n",
              " ((115, 243, 243, 395),\n",
              "  [((115, 1, 243), (243, 0, 115), (243, 1, 395), (395, 0, 243))]),\n",
              " ((327, 385, 395, 395),\n",
              "  [((327, 0, 395), (385, 1, 395), (395, 0, 385), (395, 1, 327))]),\n",
              " ((243, 385, 395, 395),\n",
              "  [((243, 1, 395), (385, 1, 395), (395, 0, 243), (395, 0, 385))]),\n",
              " ((115, 115, 243, 395),\n",
              "  [((115, 1, 243), (115, 1, 395), (243, 0, 115), (395, 0, 115))]),\n",
              " ((115, 243, 327, 395),\n",
              "  [((115, 1, 243), (243, 1, 327), (327, 0, 395), (395, 0, 115))]),\n",
              " ((243, 327, 395, 395),\n",
              "  [((243, 1, 395), (327, 0, 395), (395, 0, 243), (395, 1, 327))]),\n",
              " ((115, 327, 395, 395),\n",
              "  [((115, 1, 395), (327, 0, 395), (395, 0, 115), (395, 1, 327))]),\n",
              " ((42, 156, 452, 452),\n",
              "  [((42, 0, 452), (156, 0, 452), (452, 1, 42), (452, 1, 156))]),\n",
              " ((42, 156, 156, 452),\n",
              "  [((42, 0, 156), (156, 0, 452), (156, 1, 42), (452, 1, 156))]),\n",
              " ((294, 341, 403, 403),\n",
              "  [((294, 0, 403), (341, 0, 403), (403, 1, 294), (403, 1, 341))]),\n",
              " ((258, 273, 341, 341),\n",
              "  [((258, 1, 341), (273, 1, 341), (341, 0, 258), (341, 0, 273))]),\n",
              " ((40, 273, 341, 341),\n",
              "  [((40, 1, 341), (273, 1, 341), (341, 0, 40), (341, 0, 273))]),\n",
              " ((122, 273, 341, 341),\n",
              "  [((122, 1, 341), (273, 1, 341), (341, 0, 122), (341, 0, 273))]),\n",
              " ((294, 341, 403, 461),\n",
              "  [((294, 1, 341), (341, 0, 461), (403, 1, 294), (461, 1, 403))]),\n",
              " ((40, 341, 341, 461),\n",
              "  [((40, 1, 341), (341, 0, 40), (341, 0, 461), (461, 1, 341))]),\n",
              " ((258, 341, 341, 461),\n",
              "  [((258, 1, 341), (341, 0, 258), (341, 0, 461), (461, 1, 341))]),\n",
              " ((71, 294, 294, 430),\n",
              "  [((71, 1, 294), (294, 0, 71), (294, 0, 430), (430, 1, 294))]),\n",
              " ((71, 124, 294, 294),\n",
              "  [((71, 1, 294), (124, 1, 294), (294, 0, 71), (294, 0, 124))]),\n",
              " ((294, 294, 327, 430),\n",
              "  [((294, 0, 327), (294, 0, 430), (327, 1, 294), (430, 1, 294))]),\n",
              " ((124, 294, 294, 327),\n",
              "  [((124, 1, 294), (294, 0, 124), (294, 0, 327), (327, 1, 294))]),\n",
              " ((124, 294, 294, 333),\n",
              "  [((124, 1, 294), (294, 0, 124), (294, 0, 333), (333, 1, 294))]),\n",
              " ((294, 294, 333, 430),\n",
              "  [((294, 0, 333), (294, 0, 430), (333, 1, 294), (430, 1, 294))]),\n",
              " ((294, 294, 403, 430),\n",
              "  [((294, 0, 403), (294, 0, 430), (403, 1, 294), (430, 1, 294))]),\n",
              " ((124, 294, 294, 403),\n",
              "  [((124, 1, 294), (294, 0, 124), (294, 0, 403), (403, 1, 294))]),\n",
              " ((294, 403, 403, 413),\n",
              "  [((294, 0, 403), (403, 0, 413), (403, 1, 294), (413, 1, 403))]),\n",
              " ((118, 403, 403, 413),\n",
              "  [((118, 1, 403), (403, 0, 118), (403, 0, 413), (413, 1, 403))]),\n",
              " ((403, 403, 413, 470),\n",
              "  [((403, 0, 413), (403, 0, 470), (413, 1, 403), (470, 1, 403))]),\n",
              " ((122, 403, 403, 413),\n",
              "  [((122, 1, 403), (403, 0, 122), (403, 0, 413), (413, 1, 403))]),\n",
              " ((294, 403, 403, 461),\n",
              "  [((294, 0, 403), (403, 0, 461), (403, 1, 294), (461, 1, 403))]),\n",
              " ((118, 403, 403, 461),\n",
              "  [((118, 1, 403), (403, 0, 118), (403, 0, 461), (461, 1, 403))]),\n",
              " ((403, 403, 461, 470),\n",
              "  [((403, 0, 461), (403, 0, 470), (461, 1, 403), (470, 1, 403))]),\n",
              " ((122, 403, 403, 461),\n",
              "  [((122, 1, 403), (403, 0, 122), (403, 0, 461), (461, 1, 403))]),\n",
              " ((225, 294, 403, 403),\n",
              "  [((225, 1, 403), (294, 0, 403), (403, 0, 225), (403, 1, 294))]),\n",
              " ((118, 225, 403, 403),\n",
              "  [((118, 1, 403), (225, 1, 403), (403, 0, 118), (403, 0, 225))]),\n",
              " ((225, 403, 403, 470),\n",
              "  [((225, 1, 403), (403, 0, 225), (403, 0, 470), (470, 1, 403))]),\n",
              " ((122, 225, 403, 403),\n",
              "  [((122, 1, 403), (225, 1, 403), (403, 0, 122), (403, 0, 225))]),\n",
              " ((94, 225, 403, 403),\n",
              "  [((94, 1, 403), (225, 1, 403), (403, 0, 94), (403, 0, 225))]),\n",
              " ((94, 403, 403, 461),\n",
              "  [((94, 1, 403), (403, 0, 94), (403, 0, 461), (461, 1, 403))]),\n",
              " ((94, 118, 118, 403),\n",
              "  [((94, 1, 118), (118, 0, 94), (118, 1, 403), (403, 0, 118))]),\n",
              " ((258, 341, 341, 403),\n",
              "  [((258, 1, 341), (341, 0, 258), (341, 0, 403), (403, 1, 341))]),\n",
              " ((118, 341, 403, 403),\n",
              "  [((118, 1, 403), (341, 0, 403), (403, 0, 118), (403, 1, 341))]),\n",
              " ((341, 403, 403, 470),\n",
              "  [((341, 0, 403), (403, 0, 470), (403, 1, 341), (470, 1, 403))]),\n",
              " ((403, 413, 413, 470),\n",
              "  [((403, 0, 413), (413, 1, 403), (413, 1, 470), (470, 0, 413))]),\n",
              " ((40, 273, 273, 341),\n",
              "  [((40, 0, 273), (273, 1, 40), (273, 1, 341), (341, 0, 273))]),\n",
              " ((178, 187, 448, 448),\n",
              "  [((178, 0, 448), (187, 0, 448), (448, 1, 178), (448, 1, 187))]),\n",
              " ((178, 178, 187, 448),\n",
              "  [((178, 0, 448), (178, 1, 187), (187, 0, 178), (448, 1, 178))]),\n",
              " ((94, 94, 118, 403),\n",
              "  [((94, 1, 118), (94, 1, 403), (118, 0, 94), (403, 0, 94))]),\n",
              " ((398, 458, 458, 459),\n",
              "  [((398, 1, 458), (458, 0, 398), (458, 1, 459), (459, 0, 458))]),\n",
              " ((398, 398, 458, 459),\n",
              "  [((398, 1, 458), (398, 1, 459), (458, 0, 398), (459, 0, 398))]),\n",
              " ((73, 327, 430, 499),\n",
              "  [((73, 1, 327), (327, 0, 499), (430, 0, 73), (499, 0, 430))]),\n",
              " ((283, 327, 430, 499),\n",
              "  [((283, 1, 327), (327, 0, 499), (430, 1, 283), (499, 0, 430))]),\n",
              " ((327, 430, 499, 499),\n",
              "  [((327, 0, 499), (430, 1, 499), (499, 0, 430), (499, 1, 327))]),\n",
              " ((115, 327, 395, 452),\n",
              "  [((115, 1, 452), (327, 0, 115), (395, 1, 327), (452, 1, 395))]),\n",
              " ((283, 294, 327, 327),\n",
              "  [((283, 1, 327), (294, 0, 327), (327, 0, 283), (327, 1, 294))]),\n",
              " ((73, 73, 110, 327),\n",
              "  [((73, 0, 110), (73, 1, 327), (110, 1, 73), (327, 0, 73))]),\n",
              " ((294, 430, 430, 499),\n",
              "  [((294, 0, 430), (430, 1, 294), (430, 1, 499), (499, 0, 430))]),\n",
              " ((42, 156, 395, 430),\n",
              "  [((42, 0, 156), (156, 1, 430), (395, 1, 42), (430, 0, 395))]),\n",
              " ((42, 115, 430, 452),\n",
              "  [((42, 1, 430), (115, 1, 452), (430, 0, 115), (452, 1, 42))]),\n",
              " ((42, 395, 452, 452),\n",
              "  [((42, 0, 452), (395, 0, 452), (452, 1, 42), (452, 1, 395))]),\n",
              " ((42, 42, 156, 395),\n",
              "  [((42, 0, 156), (42, 0, 395), (156, 1, 42), (395, 1, 42))]),\n",
              " ((385, 395, 395, 452),\n",
              "  [((385, 1, 395), (395, 0, 385), (395, 0, 452), (452, 1, 395))]),\n",
              " ((243, 243, 395, 452),\n",
              "  [((243, 0, 452), (243, 1, 395), (395, 0, 243), (452, 1, 243))]),\n",
              " ((42, 385, 395, 395),\n",
              "  [((42, 0, 395), (385, 1, 395), (395, 0, 385), (395, 1, 42))]),\n",
              " ((115, 115, 395, 452),\n",
              "  [((115, 1, 395), (115, 1, 452), (395, 0, 115), (452, 0, 115))]),\n",
              " ((115, 327, 395, 430),\n",
              "  [((115, 1, 395), (327, 0, 430), (395, 1, 327), (430, 0, 115))]),\n",
              " ((42, 42, 156, 243),\n",
              "  [((42, 0, 156), (42, 0, 243), (156, 1, 42), (243, 1, 42))]),\n",
              " ((115, 243, 327, 430),\n",
              "  [((115, 1, 243), (243, 1, 327), (327, 0, 430), (430, 0, 115))]),\n",
              " ((115, 243, 395, 452),\n",
              "  [((115, 1, 452), (243, 0, 115), (395, 0, 243), (452, 1, 395)),\n",
              "   ((115, 1, 243), (243, 0, 452), (395, 0, 115), (452, 1, 395))]),\n",
              " ((156, 243, 327, 395),\n",
              "  [((156, 1, 327), (243, 0, 156), (327, 0, 395), (395, 0, 243))]),\n",
              " ((42, 156, 395, 452),\n",
              "  [((42, 0, 156), (156, 0, 452), (395, 1, 42), (452, 1, 395))]),\n",
              " ((115, 156, 430, 452),\n",
              "  [((115, 1, 452), (156, 1, 430), (430, 0, 115), (452, 1, 156))]),\n",
              " ((42, 156, 156, 243),\n",
              "  [((42, 0, 156), (156, 1, 42), (156, 1, 243), (243, 0, 156))]),\n",
              " ((115, 156, 327, 395),\n",
              "  [((115, 1, 156), (156, 1, 327), (327, 0, 395), (395, 0, 115))]),\n",
              " ((42, 42, 115, 156),\n",
              "  [((42, 0, 115), (42, 0, 156), (115, 1, 42), (156, 1, 42))]),\n",
              " ((294, 395, 430, 430),\n",
              "  [((294, 0, 430), (395, 1, 430), (430, 0, 395), (430, 1, 294))]),\n",
              " ((42, 156, 156, 395),\n",
              "  [((42, 0, 156), (156, 1, 42), (156, 1, 395), (395, 0, 156))]),\n",
              " ((42, 115, 156, 156),\n",
              "  [((42, 0, 156), (115, 1, 156), (156, 0, 115), (156, 1, 42))]),\n",
              " ((94, 403, 403, 413),\n",
              "  [((94, 1, 403), (403, 0, 94), (403, 0, 413), (413, 1, 403))]),\n",
              " ((94, 341, 403, 403),\n",
              "  [((94, 1, 403), (341, 0, 403), (403, 0, 94), (403, 1, 341))]),\n",
              " ((283, 327, 327, 430),\n",
              "  [((283, 1, 327), (327, 0, 283), (327, 0, 430), (430, 1, 327))]),\n",
              " ((42, 327, 395, 395),\n",
              "  [((42, 0, 395), (327, 0, 395), (395, 1, 42), (395, 1, 327))]),\n",
              " ((385, 395, 395, 430),\n",
              "  [((385, 1, 395), (395, 0, 385), (395, 1, 430), (430, 0, 395))]),\n",
              " ((156, 385, 395, 395),\n",
              "  [((156, 1, 395), (385, 1, 395), (395, 0, 156), (395, 0, 385))]),\n",
              " ((42, 243, 395, 395),\n",
              "  [((42, 0, 395), (243, 1, 395), (395, 0, 243), (395, 1, 42))]),\n",
              " ((42, 115, 395, 395),\n",
              "  [((42, 0, 395), (115, 1, 395), (395, 0, 115), (395, 1, 42))])]"
            ]
          },
          "execution_count": 28,
          "metadata": {},
          "output_type": "execute_result"
        }
      ],
      "source": [
        "patterns = map_reduce(rdd_graph, b_0, reducers_1, l_1)\n",
        "patterns.collect()"
      ]
    },
    {
      "cell_type": "markdown",
      "metadata": {
        "id": "_9sHmC-o9sDw"
      },
      "source": [
        "👉🏻 Realizamos la siguiente consulta en donde obtener todos los usuarios tal que:\n",
        "* El primero interacciona con el segundo\n",
        "* El segundo interaccion con el tercero\n",
        "* El tercero es similar al cuarto\n",
        "* El cuarto es similar al primero"
      ]
    },
    {
      "cell_type": "code",
      "execution_count": 29,
      "metadata": {
        "colab": {
          "base_uri": "https://localhost:8080/"
        },
        "id": "oonIE_qyF8Zu",
        "outputId": "84400d83-45d6-4dbd-f66c-dcfe77ff141a"
      },
      "outputs": [
        {
          "data": {
            "text/plain": [
              "[((294, 0, 327), (327, 0, 430), (430, 1, 499), (499, 1, 294)),\n",
              " ((115, 1, 156), (156, 1, 327), (327, 0, 430), (430, 0, 115)),\n",
              " ((156, 1, 327), (327, 0, 395), (395, 0, 452), (452, 1, 156)),\n",
              " ((115, 1, 156), (156, 1, 243), (243, 0, 452), (452, 0, 115)),\n",
              " ((115, 1, 243), (243, 1, 327), (327, 0, 395), (395, 0, 115)),\n",
              " ((115, 1, 243), (243, 1, 327), (327, 0, 430), (430, 0, 115)),\n",
              " ((115, 1, 156), (156, 1, 327), (327, 0, 395), (395, 0, 115))]"
            ]
          },
          "execution_count": 29,
          "metadata": {},
          "output_type": "execute_result"
        }
      ],
      "source": [
        "get_matches(rdd_graph, b_0, reducers_1, l_1, \"(x,0,y), (y,0,z), (z,1,w), (w,1,x)\")"
      ]
    },
    {
      "cell_type": "markdown",
      "metadata": {
        "id": "S0lmSpS2JO2Z"
      },
      "source": [
        "👉🏻 Ahora realizaremos otras consultas para ver como andan los resultados :)\n"
      ]
    },
    {
      "cell_type": "code",
      "execution_count": 30,
      "metadata": {
        "colab": {
          "base_uri": "https://localhost:8080/"
        },
        "id": "ElCXo5NiICXs",
        "outputId": "fd3a4432-dcb7-4b4a-e41a-d3fa8691a15f"
      },
      "outputs": [
        {
          "data": {
            "text/plain": [
              "[((42, 0, 156), (156, 1, 243), (243, 1, 395), (395, 1, 42)),\n",
              " ((42, 0, 115), (115, 1, 156), (156, 1, 395), (395, 1, 42)),\n",
              " ((115, 1, 156), (156, 1, 395), (395, 1, 430), (430, 0, 115)),\n",
              " ((115, 1, 156), (156, 1, 243), (243, 1, 430), (430, 0, 115)),\n",
              " ((42, 0, 115), (115, 1, 156), (156, 1, 243), (243, 1, 42))]"
            ]
          },
          "execution_count": 30,
          "metadata": {},
          "output_type": "execute_result"
        }
      ],
      "source": [
        "get_matches(rdd_graph, b_0, reducers_1, l_1, \"(x,1,y), (y,0,z), (z,1,w), (w,1,x)\")"
      ]
    },
    {
      "cell_type": "code",
      "execution_count": 31,
      "metadata": {
        "colab": {
          "base_uri": "https://localhost:8080/"
        },
        "id": "AtzOK72_H0_r",
        "outputId": "ee6e9e2a-18e3-427a-8a59-c4ffc4801c07"
      },
      "outputs": [
        {
          "data": {
            "text/plain": [
              "[((73, 0, 110), (110, 1, 327), (327, 0, 430), (430, 0, 73))]"
            ]
          },
          "execution_count": 31,
          "metadata": {},
          "output_type": "execute_result"
        }
      ],
      "source": [
        "get_matches(rdd_graph, b_0, reducers_1, l_1, \"(x,0,y), (y,1,z), (z,0,w), (w,0,x)\")"
      ]
    },
    {
      "cell_type": "markdown",
      "metadata": {
        "id": "GEo5DCPh-Sch"
      },
      "source": [
        "👉🏻 Ahora, para poder analizar quienes son los usuarios involucrados en la ultima consulta, mapearemos cada id con respecto a su username :)"
      ]
    },
    {
      "cell_type": "code",
      "execution_count": 59,
      "metadata": {
        "colab": {
          "base_uri": "https://localhost:8080/"
        },
        "id": "ZaXio3vQ-HK4",
        "outputId": "f9599497-aace-4a9e-f15e-6da6b12bbf3c"
      },
      "outputs": [
        {
          "name": "stdout",
          "output_type": "stream",
          "text": [
            "[('Javelynn', 'INTERACTS_WITH', 'Françoise Morvan'), ('Françoise Morvan', 'SIMILAR_TO', 'Dr.Salahideen ALHAJ 🔶 🔸️#WearAMask #SDGs'), ('Dr.Salahideen ALHAJ 🔶 🔸️#WearAMask #SDGs', 'INTERACTS_WITH', 'Nancy Tremblay❤😀🌻🇨🇦'), ('Nancy Tremblay❤😀🌻🇨🇦', 'INTERACTS_WITH', 'Javelynn')]\n"
          ]
        }
      ],
      "source": [
        "for res in get_matches(rdd_graph, b_0, reducers_1, l_1, \"(x,0,y), (y,1,z), (z,0,w), (w,0,x)\"):\n",
        "  print(load_usernames(res))"
      ]
    },
    {
      "cell_type": "code",
      "execution_count": 33,
      "metadata": {
        "colab": {
          "base_uri": "https://localhost:8080/"
        },
        "id": "0V_8nDj6LV61",
        "outputId": "301904e2-0a4a-4884-97ea-e4b723403422"
      },
      "outputs": [
        {
          "name": "stdout",
          "output_type": "stream",
          "text": [
            "[('Born To Be Idle', 'INTERACTS_WITH', 'Brana Rakic'), ('Brana Rakic', 'SIMILAR_TO', 'Chill Zone'), ('Chill Zone', 'SIMILAR_TO', 'John Wolpert'), ('John Wolpert', 'SIMILAR_TO', 'Born To Be Idle')]\n",
            "[('Born To Be Idle', 'INTERACTS_WITH', 'guinnessstache'), ('guinnessstache', 'SIMILAR_TO', 'Brana Rakic'), ('Brana Rakic', 'SIMILAR_TO', 'John Wolpert'), ('John Wolpert', 'SIMILAR_TO', 'Born To Be Idle')]\n",
            "[('guinnessstache', 'SIMILAR_TO', 'Brana Rakic'), ('Brana Rakic', 'SIMILAR_TO', 'John Wolpert'), ('John Wolpert', 'SIMILAR_TO', 'Nancy Tremblay❤😀🌻🇨🇦'), ('Nancy Tremblay❤😀🌻🇨🇦', 'INTERACTS_WITH', 'guinnessstache')]\n",
            "[('guinnessstache', 'SIMILAR_TO', 'Brana Rakic'), ('Brana Rakic', 'SIMILAR_TO', 'Chill Zone'), ('Chill Zone', 'SIMILAR_TO', 'Nancy Tremblay❤😀🌻🇨🇦'), ('Nancy Tremblay❤😀🌻🇨🇦', 'INTERACTS_WITH', 'guinnessstache')]\n",
            "[('Born To Be Idle', 'INTERACTS_WITH', 'guinnessstache'), ('guinnessstache', 'SIMILAR_TO', 'Brana Rakic'), ('Brana Rakic', 'SIMILAR_TO', 'Chill Zone'), ('Chill Zone', 'SIMILAR_TO', 'Born To Be Idle')]\n"
          ]
        }
      ],
      "source": [
        "for res in get_matches(rdd_graph, b_0, reducers_1, l_1, \"(x,1,y), (y,0,z), (z,1,w), (w,1,x)\"):\n",
        "  print(load_usernames(res))"
      ]
    },
    {
      "cell_type": "code",
      "execution_count": 35,
      "metadata": {
        "colab": {
          "base_uri": "https://localhost:8080/"
        },
        "id": "ATWgVyb7LYra",
        "outputId": "ec4f2ebe-2473-463b-db2b-af8ac2e9fe54"
      },
      "outputs": [
        {
          "name": "stdout",
          "output_type": "stream",
          "text": [
            "[('Lju Lazarevic', 'INTERACTS_WITH', 'Dr.Salahideen ALHAJ 🔶 🔸️#WearAMask #SDGs'), ('Dr.Salahideen ALHAJ 🔶 🔸️#WearAMask #SDGs', 'INTERACTS_WITH', 'Nancy Tremblay❤😀🌻🇨🇦'), ('Nancy Tremblay❤😀🌻🇨🇦', 'SIMILAR_TO', 'Chidambara .ML.'), ('Chidambara .ML.', 'SIMILAR_TO', 'Lju Lazarevic')]\n",
            "[('guinnessstache', 'SIMILAR_TO', 'Brana Rakic'), ('Brana Rakic', 'SIMILAR_TO', 'Dr.Salahideen ALHAJ 🔶 🔸️#WearAMask #SDGs'), ('Dr.Salahideen ALHAJ 🔶 🔸️#WearAMask #SDGs', 'INTERACTS_WITH', 'Nancy Tremblay❤😀🌻🇨🇦'), ('Nancy Tremblay❤😀🌻🇨🇦', 'INTERACTS_WITH', 'guinnessstache')]\n",
            "[('Brana Rakic', 'SIMILAR_TO', 'Dr.Salahideen ALHAJ 🔶 🔸️#WearAMask #SDGs'), ('Dr.Salahideen ALHAJ 🔶 🔸️#WearAMask #SDGs', 'INTERACTS_WITH', 'John Wolpert'), ('John Wolpert', 'INTERACTS_WITH', 'Wen.S'), ('Wen.S', 'SIMILAR_TO', 'Brana Rakic')]\n",
            "[('guinnessstache', 'SIMILAR_TO', 'Brana Rakic'), ('Brana Rakic', 'SIMILAR_TO', 'Chill Zone'), ('Chill Zone', 'INTERACTS_WITH', 'Wen.S'), ('Wen.S', 'INTERACTS_WITH', 'guinnessstache')]\n",
            "[('guinnessstache', 'SIMILAR_TO', 'Chill Zone'), ('Chill Zone', 'SIMILAR_TO', 'Dr.Salahideen ALHAJ 🔶 🔸️#WearAMask #SDGs'), ('Dr.Salahideen ALHAJ 🔶 🔸️#WearAMask #SDGs', 'INTERACTS_WITH', 'John Wolpert'), ('John Wolpert', 'INTERACTS_WITH', 'guinnessstache')]\n",
            "[('guinnessstache', 'SIMILAR_TO', 'Chill Zone'), ('Chill Zone', 'SIMILAR_TO', 'Dr.Salahideen ALHAJ 🔶 🔸️#WearAMask #SDGs'), ('Dr.Salahideen ALHAJ 🔶 🔸️#WearAMask #SDGs', 'INTERACTS_WITH', 'Nancy Tremblay❤😀🌻🇨🇦'), ('Nancy Tremblay❤😀🌻🇨🇦', 'INTERACTS_WITH', 'guinnessstache')]\n",
            "[('guinnessstache', 'SIMILAR_TO', 'Brana Rakic'), ('Brana Rakic', 'SIMILAR_TO', 'Dr.Salahideen ALHAJ 🔶 🔸️#WearAMask #SDGs'), ('Dr.Salahideen ALHAJ 🔶 🔸️#WearAMask #SDGs', 'INTERACTS_WITH', 'John Wolpert'), ('John Wolpert', 'INTERACTS_WITH', 'guinnessstache')]\n"
          ]
        }
      ],
      "source": [
        "for res in get_matches(rdd_graph, b_0, reducers_1, l_1, \"(x,0,y), (y,0,z), (z,1,w), (w,1,x)\"):\n",
        "  print(load_usernames(res))"
      ]
    },
    {
      "cell_type": "code",
      "execution_count": 61,
      "metadata": {
        "colab": {
          "base_uri": "https://localhost:8080/"
        },
        "id": "lkW_G0oLR5yB",
        "outputId": "1b0ca1a6-f916-4afe-f485-8464d0ba75cf"
      },
      "outputs": [
        {
          "name": "stdout",
          "output_type": "stream",
          "text": [
            "[('Born To Be Idle', 'INTERACTS_WITH', 'Brana Rakic'), ('Brana Rakic', 'SIMILAR_TO', 'Dr.Salahideen ALHAJ 🔶 🔸️#WearAMask #SDGs'), ('Dr.Salahideen ALHAJ 🔶 🔸️#WearAMask #SDGs', 'INTERACTS_WITH', 'John Wolpert'), ('John Wolpert', 'SIMILAR_TO', 'Born To Be Idle')]\n"
          ]
        }
      ],
      "source": [
        "for res in get_matches(rdd_graph, b_0, reducers_1, l_1, \"(x,1,y), (y,0,z), (z,1,w), (w,0,x)\"):\n",
        "  print(load_usernames(res))"
      ]
    },
    {
      "cell_type": "code",
      "execution_count": 71,
      "metadata": {
        "colab": {
          "base_uri": "https://localhost:8080/"
        },
        "id": "NYn22vNiRlm0",
        "outputId": "ee2d6bad-01c5-47f2-d596-8820736eaafc"
      },
      "outputs": [
        {
          "name": "stdout",
          "output_type": "stream",
          "text": [
            "[('Jim Webber', 'SIMILAR_TO', 'Michael Hunger'), ('Lju Lazarevic', 'SIMILAR_TO', 'Michael Simons'), ('Michael Simons', 'INTERACTS_WITH', 'Jim Webber'), ('Michael Hunger', 'SIMILAR_TO', 'Lju Lazarevic')]\n",
            "[('Lukas Eder', 'SIMILAR_TO', 'Michael Hunger'), ('Lju Lazarevic', 'SIMILAR_TO', 'Michael Simons'), ('Michael Simons', 'INTERACTS_WITH', 'Lukas Eder'), ('Michael Hunger', 'SIMILAR_TO', 'Lju Lazarevic')]\n",
            "[('guinnessstache', 'SIMILAR_TO', 'Wen.S'), ('John Wolpert', 'SIMILAR_TO', 'Nancy Tremblay❤😀🌻🇨🇦'), ('Nancy Tremblay❤😀🌻🇨🇦', 'INTERACTS_WITH', 'guinnessstache'), ('Wen.S', 'SIMILAR_TO', 'John Wolpert')]\n",
            "[('guinnessstache', 'SIMILAR_TO', 'Wen.S'), ('Chill Zone', 'SIMILAR_TO', 'Nancy Tremblay❤😀🌻🇨🇦'), ('Nancy Tremblay❤😀🌻🇨🇦', 'INTERACTS_WITH', 'guinnessstache'), ('Wen.S', 'SIMILAR_TO', 'Chill Zone')]\n",
            "[('Lju Lazarevic', 'SIMILAR_TO', 'Michael Simons'), ('Michael Simons', 'INTERACTS_WITH', 'Matthias Haeussler'), ('Michael Hunger', 'SIMILAR_TO', 'Lju Lazarevic'), ('Matthias Haeussler', 'SIMILAR_TO', 'Michael Hunger')]\n",
            "[('guinnessstache', 'SIMILAR_TO', 'Wen.S'), ('Brana Rakic', 'SIMILAR_TO', 'Nancy Tremblay❤😀🌻🇨🇦'), ('Nancy Tremblay❤😀🌻🇨🇦', 'INTERACTS_WITH', 'guinnessstache'), ('Wen.S', 'SIMILAR_TO', 'Brana Rakic')]\n"
          ]
        }
      ],
      "source": [
        "for res in get_matches(rdd_graph, b_0, reducers_1, l_1, \"(x,1,y), (y,0,z), (w,1,x), (z,1,w)\"):\n",
        "  print(load_usernames(res))"
      ]
    },
    {
      "cell_type": "code",
      "execution_count": null,
      "metadata": {
        "id": "x4rlHwmcUiCc"
      },
      "outputs": [],
      "source": []
    }
  ],
  "metadata": {
    "colab": {
      "provenance": []
    },
    "kernelspec": {
      "display_name": "Python 3",
      "name": "python3"
    },
    "language_info": {
      "name": "python"
    }
  },
  "nbformat": 4,
  "nbformat_minor": 0
}
