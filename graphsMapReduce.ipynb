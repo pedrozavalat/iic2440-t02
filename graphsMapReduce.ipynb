{
  "cells": [
    {
      "cell_type": "markdown",
      "metadata": {
        "id": "Yp97VfrVPVpv"
      },
      "source": [
        "# 1. Librerías & Set Up"
      ]
    },
    {
      "cell_type": "markdown",
      "source": [
        "👉🏻 Instalaremos todas las librerias necesarias para poder trabajar con PySpark y Neo4j"
      ],
      "metadata": {
        "id": "h3AfOYEQTWTC"
      }
    },
    {
      "cell_type": "code",
      "execution_count": 1,
      "metadata": {
        "colab": {
          "base_uri": "https://localhost:8080/"
        },
        "id": "JCinFr1LPVO5",
        "outputId": "58d44fe8-51a8-42bb-82a2-ae8d780ad5ed"
      },
      "outputs": [
        {
          "output_type": "stream",
          "name": "stdout",
          "text": [
            "Collecting pyspark\n",
            "  Downloading pyspark-3.5.1.tar.gz (317.0 MB)\n",
            "\u001b[2K     \u001b[90m━━━━━━━━━━━━━━━━━━━━━━━━━━━━━━━━━━━━━━━━\u001b[0m \u001b[32m317.0/317.0 MB\u001b[0m \u001b[31m3.2 MB/s\u001b[0m eta \u001b[36m0:00:00\u001b[0m\n",
            "\u001b[?25h  Preparing metadata (setup.py) ... \u001b[?25l\u001b[?25hdone\n",
            "Requirement already satisfied: py4j==0.10.9.7 in /usr/local/lib/python3.10/dist-packages (from pyspark) (0.10.9.7)\n",
            "Building wheels for collected packages: pyspark\n",
            "  Building wheel for pyspark (setup.py) ... \u001b[?25l\u001b[?25hdone\n",
            "  Created wheel for pyspark: filename=pyspark-3.5.1-py2.py3-none-any.whl size=317488491 sha256=e32c5f08b6190c4209d0dbd818a79d77bb33241c7788d17c6983ebec2ce48fc3\n",
            "  Stored in directory: /root/.cache/pip/wheels/80/1d/60/2c256ed38dddce2fdd93be545214a63e02fbd8d74fb0b7f3a6\n",
            "Successfully built pyspark\n",
            "Installing collected packages: pyspark\n",
            "Successfully installed pyspark-3.5.1\n"
          ]
        }
      ],
      "source": [
        "!pip install pyspark"
      ]
    },
    {
      "cell_type": "code",
      "source": [
        "!pip install neo4j"
      ],
      "metadata": {
        "colab": {
          "base_uri": "https://localhost:8080/"
        },
        "id": "y3_dX6wSCNrT",
        "outputId": "7a8732b6-adee-4497-ee4b-049166b4d42e"
      },
      "execution_count": 2,
      "outputs": [
        {
          "output_type": "stream",
          "name": "stdout",
          "text": [
            "Collecting neo4j\n",
            "  Downloading neo4j-5.21.0-py3-none-any.whl (286 kB)\n",
            "\u001b[?25l     \u001b[90m━━━━━━━━━━━━━━━━━━━━━━━━━━━━━━━━━━━━━━━━\u001b[0m \u001b[32m0.0/286.8 kB\u001b[0m \u001b[31m?\u001b[0m eta \u001b[36m-:--:--\u001b[0m\r\u001b[2K     \u001b[91m━━━━━━━━━━━━━━━━━━━━━━━━━━━━\u001b[0m\u001b[91m╸\u001b[0m\u001b[90m━━━━━━━━━━━\u001b[0m \u001b[32m204.8/286.8 kB\u001b[0m \u001b[31m6.0 MB/s\u001b[0m eta \u001b[36m0:00:01\u001b[0m\r\u001b[2K     \u001b[90m━━━━━━━━━━━━━━━━━━━━━━━━━━━━━━━━━━━━━━━━\u001b[0m \u001b[32m286.8/286.8 kB\u001b[0m \u001b[31m5.7 MB/s\u001b[0m eta \u001b[36m0:00:00\u001b[0m\n",
            "\u001b[?25hRequirement already satisfied: pytz in /usr/local/lib/python3.10/dist-packages (from neo4j) (2023.4)\n",
            "Installing collected packages: neo4j\n",
            "Successfully installed neo4j-5.21.0\n"
          ]
        }
      ]
    },
    {
      "cell_type": "code",
      "execution_count": 3,
      "metadata": {
        "id": "zH4iyjyxPeYT"
      },
      "outputs": [],
      "source": [
        "from pyspark.sql import SparkSession\n",
        "from itertools import product"
      ]
    },
    {
      "cell_type": "code",
      "execution_count": 4,
      "metadata": {
        "id": "Uy3cfH_iPh4j"
      },
      "outputs": [],
      "source": [
        "import neo4j\n",
        "from neo4j import GraphDatabase\n",
        "import pandas as pd\n",
        "import numpy as np"
      ]
    },
    {
      "cell_type": "code",
      "source": [
        "# Iniciamos una sesion en PySpark\n",
        "spark = SparkSession.builder \\\n",
        "    .getOrCreate()\n",
        "\n",
        "sc = spark.sparkContext\n",
        "sc"
      ],
      "metadata": {
        "colab": {
          "base_uri": "https://localhost:8080/",
          "height": 219
        },
        "id": "8FvKEocnD3-8",
        "outputId": "0c8e491c-270d-4913-9cb9-5b5791582c5e"
      },
      "execution_count": 5,
      "outputs": [
        {
          "output_type": "execute_result",
          "data": {
            "text/plain": [
              "<SparkContext master=local[*] appName=pyspark-shell>"
            ],
            "text/html": [
              "\n",
              "        <div>\n",
              "            <p><b>SparkContext</b></p>\n",
              "\n",
              "            <p><a href=\"http://5c6f43b87cde:4040\">Spark UI</a></p>\n",
              "\n",
              "            <dl>\n",
              "              <dt>Version</dt>\n",
              "                <dd><code>v3.5.1</code></dd>\n",
              "              <dt>Master</dt>\n",
              "                <dd><code>local[*]</code></dd>\n",
              "              <dt>AppName</dt>\n",
              "                <dd><code>pyspark-shell</code></dd>\n",
              "            </dl>\n",
              "        </div>\n",
              "        "
            ]
          },
          "metadata": {},
          "execution_count": 5
        }
      ]
    },
    {
      "cell_type": "markdown",
      "metadata": {
        "id": "3FFiAi4oQNPj"
      },
      "source": [
        "# 2. Neo4j Graphs and others examples"
      ]
    },
    {
      "cell_type": "markdown",
      "source": [
        "👉🏻 Las siguientes funciones permiten cargar grafos de ejemplos para poder realizar las consultas de los patrones de grafo.\n",
        "\n",
        "👉🏻 Existe la funcion create_neo4j_graph para poder cargar una base de datos en Neo4j y luego obtener las aristas existentes de este grafo.\n",
        "\n",
        "👉🏻 Existe la funcion load_graph para poder seleccionar el grafo que queremos realizar las consultas."
      ],
      "metadata": {
        "id": "G-ByrvaJUXEd"
      }
    },
    {
      "cell_type": "code",
      "source": [
        "def load_neo4j_graph():\n",
        "  \"\"\"\n",
        "  Funcion para cargar la base de datos de twitter como ejemplo de grafo en Neo4j.\n",
        "  \"\"\"\n",
        "  # Realizamos la conexion con la base de datos del grafo guardado en Neo4j.\n",
        "  NEO4J_URI = \"neo4j+s://demo.neo4jlabs.com\"\n",
        "  NEO4J_USERNAME = \"twitter\"\n",
        "  NEO4J_PASSWORD = \"twitter\"\n",
        "  AUTH = (NEO4J_USERNAME, NEO4J_PASSWORD)\n",
        "\n",
        "  driver = GraphDatabase.driver(NEO4J_URI, auth=AUTH)\n",
        "  with driver.session() as session:\n",
        "      try:\n",
        "          session.run(\"RETURN 1\")\n",
        "          print(\"Connection to Neo4j established successfully!\")\n",
        "      except Exception as e:\n",
        "          print(f\"Failed to connect to Neo4j: {e}\")\n",
        "      # Query que permite cargar todas las aristas de cada usuario\n",
        "      # (descartamos el usuario Neo4j para tener una cantidad mas variada xd,\n",
        "      # ya que si lo dejabamos se repetia mucho)\n",
        "      query = \"\"\"\n",
        "      MATCH (u1:User)-[r:INTERACTS_WITH | SIMILAR_TO]->(u2:User)\n",
        "      WHERE u1.name <> \"Neo4j\" AND u2.name <> \"Neo4j\"\n",
        "      RETURN u1.name as user1, type(r) AS relationship, u2.name AS user2\n",
        "      \"\"\"\n",
        "      result = session.run(query)\n",
        "      df_edges = pd.DataFrame(result.data())\n",
        "      relationship = df_edges['relationship'].unique()\n",
        "\n",
        "      # Definimos una clase para cada relacion ...\n",
        "      relationship_class = {i : rel for rel, i in enumerate(relationship)}\n",
        "      for inter, inter_class in relationship_class.items():\n",
        "          print(f\"{inter} AS class {inter_class}\")\n",
        "      df_edges['relationship'].replace(relationship_class, inplace = True)\n",
        "\n",
        "      # Transformamos cada usuario a un numero (su identificador) en base\n",
        "      # a su nombre de usuari que debe ser unico ...\n",
        "      users1 = df_edges['user1'].unique().tolist()\n",
        "      users2 = df_edges['user2'].unique().tolist()\n",
        "      users = list(set(users1 + users2))\n",
        "      users_id = {user : id for id, user in enumerate(users)}\n",
        "      df_edges['user1'].replace(users_id, inplace = True)\n",
        "      df_edges['user2'].replace(users_id, inplace = True)\n",
        "\n",
        "      np.save('users_id', users_id, allow_pickle = True)\n",
        "      np.save('relationship_class', relationship_class, allow_pickle = True)\n",
        "\n",
        "      # Cargamos el grafo en una lista de tuplas\n",
        "      neo4f_graph = [(item[0], item[1], item[2]) for item in df_edges.values]\n",
        "\n",
        "  return neo4f_graph\n"
      ],
      "metadata": {
        "id": "CIpVKqtWCjMw"
      },
      "execution_count": 36,
      "outputs": []
    },
    {
      "cell_type": "code",
      "source": [
        "def load_graph(option):\n",
        "  \"\"\"\n",
        "  Funcion que selecciona el grafo de ejemplo, retorna una lista de tuplas\n",
        "  de las aristas del grafo.\n",
        "  \"\"\"\n",
        "  if option == \"neo4j-graph\":\n",
        "    neo4f_graph = load_neo4j_graph()\n",
        "    return neo4f_graph\n",
        "\n",
        "  elif option == \"basic-example\":\n",
        "    return [\n",
        "        (1,11,2), (1,11,3), (2,11,3), (3,11,2),\n",
        "        (3,11,4), (4,11,1), (4,11,2), (4,11,3),\n",
        "        (4,12,5), (5,12,1), (5,12,2), (5,12,6),\n",
        "        (1,12,2), (2,12,3), (3,12,1)\n",
        "    ]\n",
        "  else:\n",
        "    print(\"La opcion no existe :(\")\n",
        "    return None"
      ],
      "metadata": {
        "id": "utX2DdBh-qUr"
      },
      "execution_count": 7,
      "outputs": []
    },
    {
      "cell_type": "markdown",
      "source": [
        "# 3. MapReduce Algorithm Implementation"
      ],
      "metadata": {
        "id": "HEoRsG3Aou1m"
      }
    },
    {
      "cell_type": "markdown",
      "source": [
        "👉🏻 Las siguientes funciones permiten desarrollar el algoritmo MapReduce implementado con PySpark"
      ],
      "metadata": {
        "id": "kpnJs3fcVGV4"
      }
    },
    {
      "cell_type": "code",
      "execution_count": 8,
      "metadata": {
        "id": "t9dJKE1fVsAw"
      },
      "outputs": [],
      "source": [
        "def hash(n):\n",
        "  \"\"\"\n",
        "  Returns number mod 2. The ouput will be 0 or 1.\n",
        "  \"\"\"\n",
        "  return n % 2"
      ]
    },
    {
      "cell_type": "markdown",
      "source": [
        "👉🏻 Las funciones siguientes permiten simular la fase de mapeo del algoritmo."
      ],
      "metadata": {
        "id": "oP9Jxlw4VsTe"
      }
    },
    {
      "cell_type": "code",
      "execution_count": 9,
      "metadata": {
        "id": "SQgndLX_S5RZ"
      },
      "outputs": [],
      "source": [
        "def get_keys(edge, b_dim, b_set, pattern_dim):\n",
        "  \"\"\"\n",
        "  output: retorna las llaves correspondientes para un vertice.\n",
        "\n",
        "  Idea general: buscamos el par hash_n1,hash_n2 dentro de las posibles\n",
        "  combinaciones dentro del espacio de imagenes de la funcion de hash.\n",
        "  Dentro del for, obtenemos un string con la codificacion de las llaves y luego\n",
        "  verificamos si es una llave candidata para el vertice entregado:\n",
        "\n",
        "  1.  sequence_in_reducer: Si la secuencia 'b1b2' esta en la llave del reducer\n",
        "      codificada como hash(n1)hash(n2) ?, donde ? = 0 o 1, entonces se considerará\n",
        "      el par reducer_key : edge.\n",
        "  2.  edge_case: El otro caso, es para cuando tenemos por ejemplo x = n2 y z = n2\n",
        "      para patrones de 3 vertices.\n",
        "  \"\"\"\n",
        "\n",
        "  hash_n1 = hash(edge[0]) # valor de hash para el nodo 1 = b1\n",
        "  hash_n2 = hash(edge[2]) # valor de hash para el nodo 2 = b2\n",
        "  values = [] # posible keys\n",
        "  sequence = '{}{}'.format(hash_n1, hash_n2)\n",
        "\n",
        "  for i in range(0, b_dim ** pattern_dim):\n",
        "    reducer = ''.join(str(num) for num in b_set[i])\n",
        "    sequence_in_reducer = sequence in reducer\n",
        "    edge_case = reducer[0] == sequence[1] and reducer[pattern_dim - 1] == sequence[0]\n",
        "    if sequence_in_reducer or edge_case:\n",
        "        reducer_key = tuple(int(digit) for digit in reducer)\n",
        "        values.append((reducer_key, edge))\n",
        "\n",
        "  return values\n",
        "\n",
        "\n",
        "def map_phase(rdd, b_dim, b_set, pattern_dim):\n",
        "  \"\"\"\n",
        "  input:\n",
        "    - rdd: RDD del grafo de dimension 'dim'\n",
        "    - b_dim: Cantidad de elementos de las imagenes de la funcion de hash.\n",
        "    - b_set: Imagenes de la funcion de hash.\n",
        "    - pattern_dim: cantidad de nodos del patron de grafo.\n",
        "  ouput: Mapeo de cada arista con respecto a las llaves\n",
        "  \"\"\"\n",
        "\n",
        "  mapped_keys = rdd.flatMap(lambda edge: get_keys(edge, b_dim, b_set, pattern_dim))\n",
        "  reducers = mapped_keys.groupByKey().mapValues(list)\n",
        "  return reducers"
      ]
    },
    {
      "cell_type": "markdown",
      "source": [
        "👉🏻 Las siguientes funciones permiten simular la fase de reduce del algoritmo."
      ],
      "metadata": {
        "id": "LJwFdiz1Vxex"
      }
    },
    {
      "cell_type": "code",
      "source": [
        "def find_patterns(edges, pattern_dim):\n",
        "    \"\"\"\n",
        "    Funcion que retorna todos los patrones encontrados de la forma\n",
        "    (n1,...,nl) : [[(n1,label,n2), ..., (nl-1,label,nl)], ... ]\n",
        "    donde (n1,...,nl) corresponde a los nodos que forman el patron\n",
        "    y la llave corresponde a los patrones posibles formados por estos nodos\n",
        "    para una etique\n",
        "    \"\"\"\n",
        "    neighbors = get_neighbors(edges)\n",
        "    cycles = find_cycles(edges, neighbors, pattern_dim)\n",
        "    return cycles\n",
        "\n",
        "\n",
        "def get_neighbors(edges):\n",
        "    \"\"\"\n",
        "    Funcion que retorna todas las aristas consecutivas a otras aristas.\n",
        "    Es decir, aristas vecinas.\n",
        "    \"\"\"\n",
        "    neighbors = []\n",
        "    for i in range(len(edges)):\n",
        "        curr_edge = edges[i]\n",
        "        neighbors.append([])\n",
        "        for j in range(len(edges)):\n",
        "            next_edge = edges[j]\n",
        "            if next_edge == curr_edge:\n",
        "                continue\n",
        "            if curr_edge[2] == next_edge[0]:\n",
        "                neighbors[i].append(next_edge)\n",
        "    return neighbors\n",
        "\n",
        "\n",
        "def find_cycles(edges, neighbors, pattern_dim):\n",
        "    \"\"\"\n",
        "    Funcion que verifica si existe algun grafo ciclico en el grafo de una\n",
        "    dimension pattern_dim. Retorna todos los ciclos encontrados.\n",
        "    Utilizamos el algoritmo DFS iterativo para la busqueda de ciclos.\n",
        "    \"\"\"\n",
        "    cycles = [] # Lista de ciclos encontrados\n",
        "\n",
        "    for edge in edges: # Por cada arista del grafo\n",
        "        visited = set() # Determinamos las aritas que ya han sido visitadas\n",
        "        # Inicializamos el stack con con la\n",
        "        stack = [(edge, [edge])]\n",
        "        # arista donde empezamos el recorrido\n",
        "\n",
        "        while len(stack):\n",
        "            curr_edge, path = stack.pop() # Extraemos la primera arista del stack\n",
        "            # Recorremos esta arista, por lo que la marcamos como visitada\n",
        "            visited.add(curr_edge)\n",
        "            # Caso 1: Si el camino recorrido actual supera la cantidad de nodos del bgp,\n",
        "            #         descartamos este camino\n",
        "            if len(path) > pattern_dim:\n",
        "                continue\n",
        "            # Caso 2: Si el camino recorrido tiene un largo igual a pattern_dim,\n",
        "            #         y son aristas transitivas, entonces un posible ciclo.\n",
        "            first_node = path[0][0] # primer nodo del camino\n",
        "            last_node = path[-1][2] # ultimo nodo del caminmo\n",
        "            if len(path) == pattern_dim and first_node == last_node:\n",
        "                cycles.append(path)\n",
        "                # Agregamos el camino y seguimos recorriendo\n",
        "                continue\n",
        "            # Si no es ciclico el camino desde el nodo actual,\n",
        "            # entonces iteramos dentro de sus vecinos\n",
        "            for neighbor_edge in neighbors[edges.index(curr_edge)]:\n",
        "                if neighbor_edge not in visited:\n",
        "                    stack.append((neighbor_edge, path + [neighbor_edge]))\n",
        "\n",
        "    return cycles\n",
        "\n",
        "\n",
        "def get_nodes(pattern, pattern_dim):\n",
        "    \"\"\"\n",
        "    Funcion que retorna la tupla con los nodos que forman un ciclo.\n",
        "    \"\"\"\n",
        "    nodes = []\n",
        "    for i in range(pattern_dim):\n",
        "      edge = pattern[i]\n",
        "      nodes.append(edge[0])\n",
        "\n",
        "    return (tuple(sorted(nodes)), tuple(sorted(pattern)))\n",
        "\n",
        "\n",
        "def get_unique_lists(pattern1, pattern2):\n",
        "    \"\"\"\n",
        "    Funcion que elimina patrones de grafo duplicados para cada llave\n",
        "    (n1,n2, ..., nl). Si tenemos l = 3, entonces seria (n1,n2,n3)\n",
        "    \"\"\"\n",
        "    lst = []\n",
        "    if pattern2 != pattern1:\n",
        "      return lst.append(pattern2)\n",
        "    else:\n",
        "      return pattern1\n",
        "\n",
        "\n",
        "def reduce_phase(reducers, pattern_dim):\n",
        "    \"\"\"\n",
        "    input: RDD del grafo y cantidad de nodos del patron de grafo.\n",
        "    output: patrones encontrados.\n",
        "    \"\"\"\n",
        "    reducers_edges = reducers.map(lambda v: v[1]) \\\n",
        "                              .filter(lambda x: len(x) >= pattern_dim)\n",
        "    patterns = reducers_edges \\\n",
        "              .map(lambda edges: find_patterns(edges, pattern_dim)) \\\n",
        "              .flatMap(list) \\\n",
        "              .map(lambda pattern: get_nodes(pattern, pattern_dim)) \\\n",
        "              .groupByKey().mapValues(lambda v: list(set(v)))\n",
        "\n",
        "\n",
        "    return patterns"
      ],
      "metadata": {
        "id": "E2bNeul2o7p5"
      },
      "execution_count": 10,
      "outputs": []
    },
    {
      "cell_type": "markdown",
      "source": [
        "👉🏻 Funcion final que simula el algoritmo MapReduce. Recibe los parametros correspondientes del grafo; las dimensiones del conjunto de imagenes de la funcion de hash; el conjunto de imagenes de la funcion de hash; la dimension del patron de grafo."
      ],
      "metadata": {
        "id": "6C9TSq9OV4Au"
      }
    },
    {
      "cell_type": "code",
      "source": [
        "def map_reduce(rdd_graph, b_dim, b_set, pattern_dim):\n",
        "  \"\"\"\n",
        "  Funcion que simula el algoritmo MapReduce, en donde se distribuye el grafo\n",
        "  en diferentes reducers y luego obtenemos los posibles patrones\n",
        "  de grafos formados combinando las informacion de todos los reducers.\n",
        "  \"\"\"\n",
        "  # Fase de Map: Obtenemos las llaves de cada reducer y el conjunto de aristas mapeados a estas llaves.\n",
        "  reducers = map_phase(rdd_graph, b_dim, b_set, pattern_dim)\n",
        "  # Fase Reduce: Obtenemos todos los posibles patrones de L nodos.\n",
        "  patterns = reduce_phase(reducers, pattern_dim)\n",
        "  return patterns"
      ],
      "metadata": {
        "id": "jzZyF1f3lS5I"
      },
      "execution_count": 11,
      "outputs": []
    },
    {
      "cell_type": "markdown",
      "source": [
        "# 3. Aplicacion MapReduce en Ejemplo Basico"
      ],
      "metadata": {
        "id": "i7mlfvf9Q6gy"
      }
    },
    {
      "cell_type": "markdown",
      "source": [
        "👉🏻 En esta seccion aplicaremos el algoritmo MapReduce para un grafo de prueba pequeño (el que fue dado al inicio de la tarea, con algunas modificaciones). Este lo guardamos como 'basic-example'."
      ],
      "metadata": {
        "id": "L0SJtu5EWJyH"
      }
    },
    {
      "cell_type": "code",
      "source": [
        "graph = load_graph('basic-example')\n",
        "rdd_graph = sc.parallelize(graph)\n",
        "rdd_graph.collect()"
      ],
      "metadata": {
        "colab": {
          "base_uri": "https://localhost:8080/"
        },
        "id": "sp8fBluSQ54M",
        "outputId": "9457a3f3-b56f-42ef-d939-b6892d000eb7"
      },
      "execution_count": 113,
      "outputs": [
        {
          "output_type": "execute_result",
          "data": {
            "text/plain": [
              "[(1, 11, 2),\n",
              " (1, 11, 3),\n",
              " (2, 11, 3),\n",
              " (3, 11, 2),\n",
              " (3, 11, 4),\n",
              " (4, 11, 1),\n",
              " (4, 11, 2),\n",
              " (4, 11, 3),\n",
              " (4, 12, 5),\n",
              " (5, 12, 1),\n",
              " (5, 12, 2),\n",
              " (5, 12, 6),\n",
              " (1, 12, 2),\n",
              " (2, 12, 3),\n",
              " (3, 12, 1)]"
            ]
          },
          "metadata": {},
          "execution_count": 113
        }
      ]
    },
    {
      "cell_type": "markdown",
      "metadata": {
        "id": "tcJZG8CQQQne"
      },
      "source": [
        "## 3.1 MapReduce Algorithm for Triangles"
      ]
    },
    {
      "cell_type": "markdown",
      "source": [
        "👉🏻 Para encontrar triangulos dentro de un grafo utilizaremos el algoritmo Map Reduce para parametros b_0 = 2 y l = 3.\n",
        "\n",
        "👉🏻 En este caso, b_0=2 ya que al utilizar la funcion de hash modular `f(x) = x mod 2`, generamos un conjunto de 2 imagenes: {0,1}. En consecuencia, los posibles reducers son:\n",
        "```markdown\n",
        "REDUCERS = [(0, 0, 0),\n",
        "            (0, 0, 1),\n",
        "            (0, 1, 0),\n",
        "            (0, 1, 1),\n",
        "            (1, 0, 0),\n",
        "            (1, 0, 1),\n",
        "            (1, 1, 0),\n",
        "            (1, 1, 1)]\n",
        "```\n",
        "\n",
        "👉🏻 Dado que estamos buscando subgrafos de 3 nodos, entonces l_0 = 3.\n",
        "\n",
        "👉🏻 Las aristas se distribuyen dentro de los reducers, por lo que almacenamos el grafo de manera distribuida.En cada reducer verificamos si las aristas generan triangulos, en el caso que si (formaria un ciclo) se almacenará en una lista y retornaremos los nodos correspondientes.\n",
        "\n",
        "\n"
      ],
      "metadata": {
        "id": "d6qMxtBooGtc"
      }
    },
    {
      "cell_type": "code",
      "source": [
        "# Dimension de elementos del conjunto de imagenes de la funcion de hash: |{0,1}|\n",
        "b_0 = 2\n",
        "# Dimension del patron de grafo (triangulo para este caso)\n",
        "l_0 = 3\n",
        "# Conjunto de imagenes de la funcion de hash\n",
        "b_set_0 = list(range(b_0))\n",
        "# Posibles reducers\n",
        "reducers_0 = list(product(b_set_0, repeat=l_0))\n",
        "\n",
        "patterns = map_reduce(rdd_graph, b_0, reducers_0, l_0)\n",
        "\n",
        "patterns.collect()"
      ],
      "metadata": {
        "colab": {
          "base_uri": "https://localhost:8080/"
        },
        "id": "IK8OPRVPn8W-",
        "outputId": "f5924638-45f2-468e-c515-90f19d14f385"
      },
      "execution_count": 114,
      "outputs": [
        {
          "output_type": "execute_result",
          "data": {
            "text/plain": [
              "[((2, 3, 4),\n",
              "  [((2, 11, 3), (3, 11, 4), (4, 11, 2)),\n",
              "   ((2, 12, 3), (3, 11, 4), (4, 11, 2))]),\n",
              " ((1, 2, 3),\n",
              "  [((1, 12, 2), (2, 12, 3), (3, 12, 1)),\n",
              "   ((1, 11, 2), (2, 11, 3), (3, 12, 1)),\n",
              "   ((1, 11, 2), (2, 12, 3), (3, 12, 1)),\n",
              "   ((1, 12, 2), (2, 11, 3), (3, 12, 1))]),\n",
              " ((1, 3, 4), [((1, 11, 3), (3, 11, 4), (4, 11, 1))])]"
            ]
          },
          "metadata": {},
          "execution_count": 114
        }
      ]
    },
    {
      "cell_type": "markdown",
      "source": [
        "👉🏻 Al aplicar el algoritmo mapReduce, podemos notar que existen 3 tripletas de nodos que forman un triangulo. En donde estos nodos permiten formar diferentes patrones de grafos triangulares. En este caso, como tenemos mas de una etiqueta distinta, podemos notar que para una tripleta de nodo, forman mas de un triangulo.\n",
        "```markdown\n",
        "  (2,3,4); (1,2,3); (1,3,4)\n",
        "```\n",
        "\n",
        "👉🏻 Las siguientes funciones se definiran con el fin de desarrollar consultas sobre estos grafos.\n"
      ],
      "metadata": {
        "id": "MCtX0wRxW4TJ"
      }
    },
    {
      "cell_type": "code",
      "source": [
        "def filter_patterns(pattern, pattern_dim, labels):\n",
        "  \"\"\"\n",
        "  Funcion que retorna los patrones filtrados segun el label proporcionado como\n",
        "  parametro.\n",
        "  \"\"\"\n",
        "  pattern_labels = [edge[1] for edge in pattern]\n",
        "  for i in range(pattern_dim + 1):\n",
        "      # verificamos si coinciden los labels ...\n",
        "      if pattern_labels == labels:\n",
        "        return pattern\n",
        "      # Hacemos un desplazamiento hacia la derecha ...\n",
        "      pattern_labels = pattern_labels[i:] + pattern_labels[:i]\n",
        "\n",
        "  return None\n",
        "\n",
        "def bgp_query(rdd_graph, b_dim, reducers, pattern_dim, query):\n",
        "  \"\"\"\n",
        "  Funcion que retorna todos los patrones de grafos de dimension \"pattern_dim\"\n",
        "  que coincidan segun la query entregada.\n",
        "  \"\"\"\n",
        "  patterns = map_reduce(rdd_graph, b_dim, reducers, pattern_dim).values().flatMap(list)\n",
        "  processed_query = query.replace(\"(\", \"\").replace(\")\", \"\").split(\",\")\n",
        "  labels = [int(part.strip()) for part in processed_query if part.strip().isdigit()]\n",
        "\n",
        "  result = patterns.filter(lambda pattern: filter_patterns(pattern, pattern_dim, labels))\n",
        "  return result"
      ],
      "metadata": {
        "id": "H8MNUFa8XUDZ"
      },
      "execution_count": 115,
      "outputs": []
    },
    {
      "cell_type": "code",
      "source": [
        "# Realizamos la siguiente consulta en donde queremos obtener todos los triangulos\n",
        "# donde la etiqueta es 11, independiente del nodo.\n",
        "result = bgp_query(rdd_graph, b_0, reducers_0, l_0, \"(x,11,y), (y,11,z), (z,11,w)\")\n",
        "for res in result.collect():\n",
        "  print(res)"
      ],
      "metadata": {
        "colab": {
          "base_uri": "https://localhost:8080/"
        },
        "id": "rNlZTxSQXs6x",
        "outputId": "7d66b00c-6c2b-4bdd-94a5-fd46915d233e"
      },
      "execution_count": 118,
      "outputs": [
        {
          "output_type": "stream",
          "name": "stdout",
          "text": [
            "((2, 11, 3), (3, 11, 4), (4, 11, 2))\n",
            "((1, 11, 3), (3, 11, 4), (4, 11, 1))\n"
          ]
        }
      ]
    },
    {
      "cell_type": "markdown",
      "metadata": {
        "id": "aES7v_zWQZZL"
      },
      "source": [
        "## 3.2 MapReduce Algorithm for Squares\n"
      ]
    },
    {
      "cell_type": "markdown",
      "source": [
        "👉🏻 Ahora aplicaremos nuestro algoritmo para la busqueda de patrones de grafos de 4 variables. En primer lugar, utilizaremos el mismo algoritmo anterior, pero cambiaremos los parametros de l y b_set. En este caso, utilizaremos l = 4. En consecuencia, obtenemos una cantidad de $2^4$ reducers (definidos como `reducers_1`)."
      ],
      "metadata": {
        "id": "yBBJpfYRY7C0"
      }
    },
    {
      "cell_type": "code",
      "execution_count": 119,
      "metadata": {
        "id": "cRsbqVb-Qidy",
        "colab": {
          "base_uri": "https://localhost:8080/"
        },
        "outputId": "dbcea576-f329-4be4-f081-11ce9b83ab46"
      },
      "outputs": [
        {
          "output_type": "execute_result",
          "data": {
            "text/plain": [
              "[((1, 2, 3, 4),\n",
              "  [((1, 12, 2), (2, 12, 3), (3, 11, 4), (4, 11, 1)),\n",
              "   ((1, 12, 2), (2, 11, 3), (3, 11, 4), (4, 11, 1)),\n",
              "   ((1, 11, 2), (2, 11, 3), (3, 11, 4), (4, 11, 1)),\n",
              "   ((1, 11, 2), (2, 12, 3), (3, 11, 4), (4, 11, 1))]),\n",
              " ((2, 3, 4, 5),\n",
              "  [((2, 11, 3), (3, 11, 4), (4, 12, 5), (5, 12, 2)),\n",
              "   ((2, 12, 3), (3, 11, 4), (4, 12, 5), (5, 12, 2))]),\n",
              " ((2, 3, 3, 4),\n",
              "  [((2, 11, 3), (3, 11, 2), (3, 11, 4), (4, 11, 3)),\n",
              "   ((2, 12, 3), (3, 11, 2), (3, 11, 4), (4, 11, 3))]),\n",
              " ((1, 3, 4, 5), [((1, 11, 3), (3, 11, 4), (4, 12, 5), (5, 12, 1))]),\n",
              " ((1, 2, 3, 3), [((1, 11, 3), (2, 12, 3), (3, 11, 2), (3, 12, 1))])]"
            ]
          },
          "metadata": {},
          "execution_count": 119
        }
      ],
      "source": [
        "# Como buscaremos los posibles cuadrados a formar, entonces tendremos l=4 nodos\n",
        "# en el bgp.\n",
        "l_1 = 4\n",
        "# Tendremos b^4 reducers posibles.\n",
        "b_set_1 = list(range(b_0))\n",
        "reducers_1 = list(product(b_set_1, repeat=l_1))\n",
        "# aplicamos el algoritmo para patrones de grafos de l=4 nodos, con 2^4 reducers\n",
        "# y con un conjunto de preimagenes de la funcion de hash {0,1}.\n",
        "squares_patterns = map_reduce(rdd_graph, b_0, reducers_1, l_1)\n",
        "squares_patterns.collect() # Obtenemos todos los posibles patrones cuadrados sin importar el label."
      ]
    },
    {
      "cell_type": "markdown",
      "source": [
        "👉🏻 Ahora podemos notar que el algoritmo se demora aproximadamente 1s en correr.\n",
        "\n",
        "👉🏻 Podemos notar que existen 5 tuplas que forman patrones de grafos cuadrilateros (considerando que tenemos diferentes etiquetas, por lo que algunos nodos se repiten, sin embargo se debe a que presentan labels de aristas distintos).\n",
        "\n",
        "```markdown\n",
        "(1,2,3,4), (2,3,4,5), (2,3,3,4), (1,2,4,5), y (1,2,3,3).\n",
        "```"
      ],
      "metadata": {
        "id": "iA8vqrEGaEPX"
      }
    },
    {
      "cell_type": "code",
      "source": [
        "result = bgp_query(rdd_graph, b_0, reducers_1, l_1, \"(x,11,y), (y,11,z), (z,11,w), (w,11,x)\")\n",
        "for res in result.collect():\n",
        "  print(res)"
      ],
      "metadata": {
        "colab": {
          "base_uri": "https://localhost:8080/"
        },
        "id": "j7IUXiTUwf9X",
        "outputId": "f30c3115-3ea0-49c7-ddf7-816dde1c18a1"
      },
      "execution_count": 120,
      "outputs": [
        {
          "output_type": "stream",
          "name": "stdout",
          "text": [
            "((1, 11, 2), (2, 11, 3), (3, 11, 4), (4, 11, 1))\n",
            "((2, 11, 3), (3, 11, 2), (3, 11, 4), (4, 11, 3))\n"
          ]
        }
      ]
    },
    {
      "cell_type": "code",
      "source": [
        "result = bgp_query(rdd_graph, b_0, reducers_1, l_1, \"(x,11,y), (y,11,z), (z,12,w), (w,12,x)\")\n",
        "for res in result.collect():\n",
        "  print(res)"
      ],
      "metadata": {
        "colab": {
          "base_uri": "https://localhost:8080/"
        },
        "id": "pi-3j4s8srrK",
        "outputId": "71be1e09-fa5d-42d3-83df-3719b05ab997"
      },
      "execution_count": 121,
      "outputs": [
        {
          "output_type": "stream",
          "name": "stdout",
          "text": [
            "((1, 12, 2), (2, 12, 3), (3, 11, 4), (4, 11, 1))\n",
            "((2, 11, 3), (3, 11, 4), (4, 12, 5), (5, 12, 2))\n",
            "((1, 11, 3), (3, 11, 4), (4, 12, 5), (5, 12, 1))\n"
          ]
        }
      ]
    },
    {
      "cell_type": "markdown",
      "source": [
        "# 4. Aplicacion de un grafo a gran escala: Twitter Graph"
      ],
      "metadata": {
        "id": "xLwA73BsyR54"
      }
    },
    {
      "cell_type": "markdown",
      "source": [
        "👉🏻 Ahora cargaremos un grafo de mayor tamaño (700 aristas) para evaluar nuestro algoritmo. El siguiente grafo corresponde a un grafo que modela la interaccion de cada usuario en la red social twitter.\n",
        "El grafo sera cargado como lista de tuplas, en donde cada tupla modela la relacion entre un usuario y otro. Consideramos las siguientes 2 tipos de relaciones\n",
        "\n",
        "    Relacion 0: INTERACTS_WITH - El usuario 1 interacciona con otro usuario 2\n",
        "    Relacion 1: SIMILAR_TO - El usuario 1 es similar al usuario 2\n",
        "\n",
        "Referencia: https://github.com/neo4j-graph-examples/twitter-v2\n"
      ],
      "metadata": {
        "id": "_7TMwckFyZNn"
      }
    },
    {
      "cell_type": "code",
      "source": [
        "graph = load_graph('neo4j-graph')\n",
        "rdd_graph = sc.parallelize(graph)"
      ],
      "metadata": {
        "id": "WT80_UCNyVpy",
        "outputId": "65b0c6ff-3655-4320-a016-6748f2e514ff",
        "colab": {
          "base_uri": "https://localhost:8080/"
        }
      },
      "execution_count": 122,
      "outputs": [
        {
          "output_type": "stream",
          "name": "stdout",
          "text": [
            "Connection to Neo4j established successfully!\n",
            "INTERACTS_WITH AS class 0\n",
            "SIMILAR_TO AS class 1\n"
          ]
        }
      ]
    },
    {
      "cell_type": "code",
      "source": [
        "rdd_graph.count() # Cantidad de aristas del grafo"
      ],
      "metadata": {
        "id": "Qgquhq2lF0ct",
        "outputId": "9bdf3043-7b8d-493c-804b-23328f97afdd",
        "colab": {
          "base_uri": "https://localhost:8080/"
        }
      },
      "execution_count": 123,
      "outputs": [
        {
          "output_type": "execute_result",
          "data": {
            "text/plain": [
              "744"
            ]
          },
          "metadata": {},
          "execution_count": 123
        }
      ]
    },
    {
      "cell_type": "markdown",
      "source": [
        "## 4.1 MapReduce Algorithm for Triangles"
      ],
      "metadata": {
        "id": "yujgfV070PB1"
      }
    },
    {
      "cell_type": "markdown",
      "source": [
        "👉🏻 Ahora aplicaremos MapReduce para encontrar los patrones de grafos con forma de triangulo dentro del grafo cargado desde Neo4j.\n",
        "\n"
      ],
      "metadata": {
        "id": "hbtFpyt4In-L"
      }
    },
    {
      "cell_type": "code",
      "source": [
        "patterns = map_reduce(rdd_graph, b_0, reducers_0, l_0)\n",
        "patterns.collect()"
      ],
      "metadata": {
        "id": "nRcgQ7zLzOLq",
        "outputId": "c4ac472a-6bc2-49c2-ebc4-d44a70f0836f",
        "colab": {
          "base_uri": "https://localhost:8080/"
        }
      },
      "execution_count": 124,
      "outputs": [
        {
          "output_type": "execute_result",
          "data": {
            "text/plain": [
              "[((101, 142, 286), [((101, 1, 142), (142, 1, 286), (286, 0, 101))]),\n",
              " ((142, 367, 420), [((142, 0, 367), (367, 0, 420), (420, 1, 142))]),\n",
              " ((101, 286, 374), [((101, 1, 286), (286, 0, 374), (374, 1, 101))]),\n",
              " ((55, 286, 374),\n",
              "  [((55, 1, 286), (286, 0, 374), (374, 0, 55)),\n",
              "   ((55, 1, 374), (286, 0, 55), (374, 1, 286))]),\n",
              " ((82, 170, 345), [((82, 0, 345), (170, 0, 82), (345, 1, 170))]),\n",
              " ((287, 302, 336), [((287, 1, 336), (302, 1, 287), (336, 0, 302))]),\n",
              " ((80, 82, 345), [((80, 1, 82), (82, 0, 345), (345, 1, 80))]),\n",
              " ((360, 367, 420),\n",
              "  [((360, 1, 420), (367, 0, 360), (420, 1, 367)),\n",
              "   ((360, 1, 367), (367, 0, 420), (420, 0, 360))]),\n",
              " ((58, 128, 367), [((58, 1, 367), (128, 1, 58), (367, 0, 128))]),\n",
              " ((367, 396, 484), [((367, 0, 484), (396, 1, 367), (484, 0, 396))]),\n",
              " ((360, 367, 484), [((360, 0, 484), (367, 0, 360), (484, 1, 367))]),\n",
              " ((142, 360, 367),\n",
              "  [((142, 0, 367), (360, 1, 142), (367, 0, 360)),\n",
              "   ((142, 0, 360), (360, 1, 367), (367, 1, 142))]),\n",
              " ((212, 360, 367), [((212, 1, 367), (360, 1, 212), (367, 0, 360))]),\n",
              " ((142, 367, 484), [((142, 0, 484), (367, 1, 142), (484, 1, 367))]),\n",
              " ((57, 184, 360), [((57, 0, 184), (184, 1, 360), (360, 0, 57))]),\n",
              " ((128, 159, 360), [((128, 1, 159), (159, 1, 360), (360, 0, 128))]),\n",
              " ((58, 128, 159), [((58, 1, 159), (128, 1, 58), (159, 0, 128))]),\n",
              " ((57, 58, 128), [((57, 0, 128), (58, 1, 57), (128, 1, 58))]),\n",
              " ((57, 128, 360), [((57, 1, 360), (128, 1, 57), (360, 0, 128))]),\n",
              " ((35, 128, 360), [((35, 1, 360), (128, 1, 35), (360, 0, 128))]),\n",
              " ((35, 58, 128),\n",
              "  [((35, 0, 128), (58, 1, 35), (128, 1, 58)),\n",
              "   ((35, 0, 58), (58, 0, 128), (128, 1, 35))]),\n",
              " ((57, 58, 184),\n",
              "  [((57, 0, 58), (58, 1, 184), (184, 1, 57)),\n",
              "   ((57, 0, 184), (58, 1, 57), (184, 0, 58))]),\n",
              " ((35, 58, 184), [((35, 0, 58), (58, 1, 184), (184, 1, 35))]),\n",
              " ((128, 184, 367), [((128, 1, 184), (184, 1, 367), (367, 0, 128))]),\n",
              " ((58, 159, 184),\n",
              "  [((58, 1, 159), (159, 0, 184), (184, 0, 58)),\n",
              "   ((58, 1, 184), (159, 0, 58), (184, 1, 159))]),\n",
              " ((128, 159, 184),\n",
              "  [((128, 1, 159), (159, 0, 184), (184, 0, 128)),\n",
              "   ((128, 1, 184), (159, 0, 128), (184, 1, 159))]),\n",
              " ((57, 128, 184), [((57, 0, 128), (128, 1, 184), (184, 1, 57))]),\n",
              " ((35, 128, 184), [((35, 0, 128), (128, 1, 184), (184, 1, 35))]),\n",
              " ((27, 101, 161), [((27, 1, 101), (101, 0, 161), (161, 1, 27))]),\n",
              " ((149, 379, 437),\n",
              "  [((149, 1, 379), (379, 0, 437), (437, 1, 149)),\n",
              "   ((149, 0, 437), (379, 0, 149), (437, 1, 379))]),\n",
              " ((57, 159, 367), [((57, 1, 159), (159, 1, 367), (367, 0, 57))]),\n",
              " ((35, 57, 367), [((35, 1, 367), (57, 0, 35), (367, 0, 57))]),\n",
              " ((35, 57, 159),\n",
              "  [((35, 1, 57), (57, 1, 159), (159, 0, 35)),\n",
              "   ((35, 1, 159), (57, 0, 35), (159, 0, 57))]),\n",
              " ((142, 360, 420), [((142, 0, 360), (360, 1, 420), (420, 1, 142))]),\n",
              " ((58, 128, 360), [((58, 1, 360), (128, 1, 58), (360, 0, 128))]),\n",
              " ((58, 128, 184), [((58, 1, 184), (128, 1, 58), (184, 0, 128))]),\n",
              " ((128, 184, 360), [((128, 1, 184), (184, 1, 360), (360, 0, 128))]),\n",
              " ((27, 161, 286), [((27, 1, 286), (161, 1, 27), (286, 0, 161))]),\n",
              " ((101, 139, 286), [((101, 1, 286), (139, 1, 101), (286, 0, 139))]),\n",
              " ((101, 308, 373), [((101, 0, 373), (308, 1, 101), (373, 0, 308))]),\n",
              " ((13, 76, 101), [((13, 1, 101), (76, 0, 13), (101, 0, 76))]),\n",
              " ((101, 161, 286), [((101, 1, 286), (161, 1, 101), (286, 0, 161))]),\n",
              " ((413, 439, 450),\n",
              "  [((413, 0, 439), (439, 0, 450), (450, 1, 413)),\n",
              "   ((413, 0, 450), (439, 1, 413), (450, 1, 439))]),\n",
              " ((35, 128, 367), [((35, 1, 367), (128, 1, 35), (367, 0, 128))]),\n",
              " ((57, 360, 367), [((57, 1, 367), (360, 0, 57), (367, 0, 360))]),\n",
              " ((57, 159, 360), [((57, 1, 159), (159, 1, 360), (360, 0, 57))]),\n",
              " ((128, 159, 367), [((128, 1, 159), (159, 1, 367), (367, 0, 128))]),\n",
              " ((35, 58, 159),\n",
              "  [((35, 1, 159), (58, 1, 35), (159, 0, 58)),\n",
              "   ((35, 0, 58), (58, 1, 159), (159, 0, 35))]),\n",
              " ((35, 159, 184),\n",
              "  [((35, 1, 159), (159, 0, 184), (184, 1, 35)),\n",
              "   ((35, 0, 184), (159, 0, 35), (184, 1, 159))]),\n",
              " ((35, 128, 159),\n",
              "  [((35, 1, 159), (128, 1, 35), (159, 0, 128)),\n",
              "   ((35, 0, 128), (128, 1, 159), (159, 0, 35))]),\n",
              " ((57, 58, 159), [((57, 1, 159), (58, 1, 57), (159, 0, 58))]),\n",
              " ((35, 57, 58), [((35, 0, 58), (57, 0, 35), (58, 1, 57))]),\n",
              " ((35, 57, 184), [((35, 0, 184), (57, 0, 35), (184, 1, 57))]),\n",
              " ((35, 57, 128),\n",
              "  [((35, 1, 57), (57, 0, 128), (128, 1, 35)),\n",
              "   ((35, 0, 128), (57, 0, 35), (128, 1, 57))]),\n",
              " ((57, 184, 367), [((57, 0, 184), (184, 1, 367), (367, 0, 57))]),\n",
              " ((57, 159, 184),\n",
              "  [((57, 1, 159), (159, 0, 184), (184, 1, 57)),\n",
              "   ((57, 0, 184), (159, 0, 57), (184, 1, 159))]),\n",
              " ((35, 57, 360), [((35, 1, 360), (57, 0, 35), (360, 0, 57))]),\n",
              " ((57, 128, 159), [((57, 1, 159), (128, 1, 57), (159, 0, 128))])]"
            ]
          },
          "metadata": {},
          "execution_count": 124
        }
      ]
    },
    {
      "cell_type": "markdown",
      "source": [
        "👉🏻 El algoritmo es bien rapido de ejecutar, y podemos ver claramente las relaciones entre diferentes usuarios, para diferentes labels."
      ],
      "metadata": {
        "id": "MUrxrmTbIyoZ"
      }
    },
    {
      "cell_type": "markdown",
      "source": [
        "👉🏻 Para poder analizar las relaciones y compararlo con el grafo mostrado en Neo4j, realizaremos una consulta, y luego compararemos los resultados ..."
      ],
      "metadata": {
        "id": "-xQk8rW5JeeP"
      }
    },
    {
      "cell_type": "code",
      "source": [
        "# Cargamos el diccionario que guardamos los nombres de usuarios y el id asociado.\n",
        "users_id = np.load('users_id.npy', allow_pickle=True).item()\n",
        "dict_users_id = {value : key for key, value in users_id.items()}\n",
        "# Cargamos el tipo de relacion.\n",
        "relationship_class = np.load('relationship_class.npy', allow_pickle=True).item()\n",
        "dict_relation_class = {value : key for key, value in relationship_class.items()}"
      ],
      "metadata": {
        "id": "fk0X6spHKA7m"
      },
      "execution_count": 126,
      "outputs": []
    },
    {
      "cell_type": "code",
      "source": [
        "result = bgp_query(rdd_graph, b_0, reducers_0, l_0, \"(x,1,y), (y,0,z), (z,0,w)\")\n",
        "result.collect()"
      ],
      "metadata": {
        "id": "84BwPADGOksb",
        "outputId": "98780ae1-e5fe-4635-9ceb-6f591d8519df",
        "colab": {
          "base_uri": "https://localhost:8080/"
        }
      },
      "execution_count": 128,
      "outputs": [
        {
          "output_type": "execute_result",
          "data": {
            "text/plain": [
              "[((55, 1, 286), (286, 0, 374), (374, 0, 55)),\n",
              " ((360, 1, 367), (367, 0, 420), (420, 0, 360)),\n",
              " ((367, 0, 484), (396, 1, 367), (484, 0, 396)),\n",
              " ((142, 0, 367), (360, 1, 142), (367, 0, 360)),\n",
              " ((57, 0, 184), (184, 1, 360), (360, 0, 57)),\n",
              " ((57, 0, 184), (58, 1, 57), (184, 0, 58)),\n",
              " ((58, 1, 159), (159, 0, 184), (184, 0, 58)),\n",
              " ((128, 1, 159), (159, 0, 184), (184, 0, 128)),\n",
              " ((35, 1, 367), (57, 0, 35), (367, 0, 57)),\n",
              " ((35, 1, 159), (57, 0, 35), (159, 0, 57)),\n",
              " ((101, 0, 373), (308, 1, 101), (373, 0, 308)),\n",
              " ((13, 1, 101), (76, 0, 13), (101, 0, 76)),\n",
              " ((57, 1, 367), (360, 0, 57), (367, 0, 360)),\n",
              " ((35, 0, 58), (58, 1, 159), (159, 0, 35)),\n",
              " ((35, 0, 128), (128, 1, 159), (159, 0, 35)),\n",
              " ((57, 0, 184), (184, 1, 367), (367, 0, 57)),\n",
              " ((35, 1, 360), (57, 0, 35), (360, 0, 57))]"
            ]
          },
          "metadata": {},
          "execution_count": 128
        }
      ]
    },
    {
      "cell_type": "code",
      "source": [
        "def load_usernames(pat):\n",
        "  \"\"\"\n",
        "  Funcion que retorna el nombre de usuario codificado a un id, y tambien transforma\n",
        "  la clase del label a su valor original\n",
        "  \"\"\"\n",
        "  list_users = []\n",
        "  for i in range(len(pat)):\n",
        "    edge = pat[i]\n",
        "    user1 = dict_users_id[edge[0]]\n",
        "    label = dict_relation_class[edge[1]]\n",
        "    user2 = dict_users_id[edge[2]]\n",
        "    list_users.append((user1, label, user2))\n",
        "  return list_users"
      ],
      "metadata": {
        "id": "aqQs7lmc8fdd"
      },
      "execution_count": 134,
      "outputs": []
    },
    {
      "cell_type": "markdown",
      "source": [
        "👉🏻 Ahora con la consulta anterior, analizaremos los usuarios involucrados en el siguiente caso: el primer usuario interacciona con el segundo; el segundo es similar al tercero; y el tercero el similar al primero."
      ],
      "metadata": {
        "id": "Lx9bDXqV85gx"
      }
    },
    {
      "cell_type": "code",
      "source": [
        "result.map(load_usernames).collect()"
      ],
      "metadata": {
        "id": "tGo4JxqQ7sg-",
        "outputId": "a174df50-5ac8-44d8-a0ed-958eabd3f587",
        "colab": {
          "base_uri": "https://localhost:8080/"
        }
      },
      "execution_count": 135,
      "outputs": [
        {
          "output_type": "execute_result",
          "data": {
            "text/plain": [
              "[[('Nigel Small 🇪🇺', 'SIMILAR_TO', 'Michael Simons'),\n",
              "  ('Michael Simons', 'INTERACTS_WITH', 'Jim Webber'),\n",
              "  ('Jim Webber', 'INTERACTS_WITH', 'Nigel Small 🇪🇺')],\n",
              " [('Nancy Tremblay❤😀🌻🇨🇦',\n",
              "   'SIMILAR_TO',\n",
              "   'Dr.Salahideen ALHAJ 🔶 🔸️#WearAMask #SDGs'),\n",
              "  ('Dr.Salahideen ALHAJ 🔶 🔸️#WearAMask #SDGs',\n",
              "   'INTERACTS_WITH',\n",
              "   'Chidambara .ML.'),\n",
              "  ('Chidambara .ML.', 'INTERACTS_WITH', 'Nancy Tremblay❤😀🌻🇨🇦')],\n",
              " [('Dr.Salahideen ALHAJ 🔶 🔸️#WearAMask #SDGs', 'INTERACTS_WITH', 'Javelynn'),\n",
              "  ('Françoise Morvan',\n",
              "   'SIMILAR_TO',\n",
              "   'Dr.Salahideen ALHAJ 🔶 🔸️#WearAMask #SDGs'),\n",
              "  ('Javelynn', 'INTERACTS_WITH', 'Françoise Morvan')],\n",
              " [('Lju Lazarevic',\n",
              "   'INTERACTS_WITH',\n",
              "   'Dr.Salahideen ALHAJ 🔶 🔸️#WearAMask #SDGs'),\n",
              "  ('Nancy Tremblay❤😀🌻🇨🇦', 'SIMILAR_TO', 'Lju Lazarevic'),\n",
              "  ('Dr.Salahideen ALHAJ 🔶 🔸️#WearAMask #SDGs',\n",
              "   'INTERACTS_WITH',\n",
              "   'Nancy Tremblay❤😀🌻🇨🇦')],\n",
              " [('John Wolpert', 'INTERACTS_WITH', 'Brana Rakic'),\n",
              "  ('Brana Rakic', 'SIMILAR_TO', 'Nancy Tremblay❤😀🌻🇨🇦'),\n",
              "  ('Nancy Tremblay❤😀🌻🇨🇦', 'INTERACTS_WITH', 'John Wolpert')],\n",
              " [('John Wolpert', 'INTERACTS_WITH', 'Brana Rakic'),\n",
              "  ('Wen.S', 'SIMILAR_TO', 'John Wolpert'),\n",
              "  ('Brana Rakic', 'INTERACTS_WITH', 'Wen.S')],\n",
              " [('Wen.S', 'SIMILAR_TO', 'Born To Be Idle'),\n",
              "  ('Born To Be Idle', 'INTERACTS_WITH', 'Brana Rakic'),\n",
              "  ('Brana Rakic', 'INTERACTS_WITH', 'Wen.S')],\n",
              " [('guinnessstache', 'SIMILAR_TO', 'Born To Be Idle'),\n",
              "  ('Born To Be Idle', 'INTERACTS_WITH', 'Brana Rakic'),\n",
              "  ('Brana Rakic', 'INTERACTS_WITH', 'guinnessstache')],\n",
              " [('Chill Zone', 'SIMILAR_TO', 'Dr.Salahideen ALHAJ 🔶 🔸️#WearAMask #SDGs'),\n",
              "  ('John Wolpert', 'INTERACTS_WITH', 'Chill Zone'),\n",
              "  ('Dr.Salahideen ALHAJ 🔶 🔸️#WearAMask #SDGs',\n",
              "   'INTERACTS_WITH',\n",
              "   'John Wolpert')],\n",
              " [('Chill Zone', 'SIMILAR_TO', 'Born To Be Idle'),\n",
              "  ('John Wolpert', 'INTERACTS_WITH', 'Chill Zone'),\n",
              "  ('Born To Be Idle', 'INTERACTS_WITH', 'John Wolpert')],\n",
              " [('Michael Hunger', 'INTERACTS_WITH', 'Ben'),\n",
              "  ('Morgan | Tech Consultant | runtcpip.com 🔜 SXSW',\n",
              "   'SIMILAR_TO',\n",
              "   'Michael Hunger'),\n",
              "  ('Ben', 'INTERACTS_WITH', 'Morgan | Tech Consultant | runtcpip.com 🔜 SXSW')],\n",
              " [('CRYPTEMES', 'SIMILAR_TO', 'Michael Hunger'),\n",
              "  ('Sandro Miccoli', 'INTERACTS_WITH', 'CRYPTEMES'),\n",
              "  ('Michael Hunger', 'INTERACTS_WITH', 'Sandro Miccoli')],\n",
              " [('John Wolpert', 'SIMILAR_TO', 'Dr.Salahideen ALHAJ 🔶 🔸️#WearAMask #SDGs'),\n",
              "  ('Nancy Tremblay❤😀🌻🇨🇦', 'INTERACTS_WITH', 'John Wolpert'),\n",
              "  ('Dr.Salahideen ALHAJ 🔶 🔸️#WearAMask #SDGs',\n",
              "   'INTERACTS_WITH',\n",
              "   'Nancy Tremblay❤😀🌻🇨🇦')],\n",
              " [('Chill Zone', 'INTERACTS_WITH', 'Wen.S'),\n",
              "  ('Wen.S', 'SIMILAR_TO', 'Born To Be Idle'),\n",
              "  ('Born To Be Idle', 'INTERACTS_WITH', 'Chill Zone')],\n",
              " [('Chill Zone', 'INTERACTS_WITH', 'guinnessstache'),\n",
              "  ('guinnessstache', 'SIMILAR_TO', 'Born To Be Idle'),\n",
              "  ('Born To Be Idle', 'INTERACTS_WITH', 'Chill Zone')],\n",
              " [('John Wolpert', 'INTERACTS_WITH', 'Brana Rakic'),\n",
              "  ('Brana Rakic', 'SIMILAR_TO', 'Dr.Salahideen ALHAJ 🔶 🔸️#WearAMask #SDGs'),\n",
              "  ('Dr.Salahideen ALHAJ 🔶 🔸️#WearAMask #SDGs',\n",
              "   'INTERACTS_WITH',\n",
              "   'John Wolpert')],\n",
              " [('Chill Zone', 'SIMILAR_TO', 'Nancy Tremblay❤😀🌻🇨🇦'),\n",
              "  ('John Wolpert', 'INTERACTS_WITH', 'Chill Zone'),\n",
              "  ('Nancy Tremblay❤😀🌻🇨🇦', 'INTERACTS_WITH', 'John Wolpert')]]"
            ]
          },
          "metadata": {},
          "execution_count": 135
        }
      ]
    },
    {
      "cell_type": "markdown",
      "source": [
        "## 4.2 MapReduce For Squares"
      ],
      "metadata": {
        "id": "utv-i53dF-8L"
      }
    },
    {
      "cell_type": "markdown",
      "source": [
        "👉🏻 Ahora aplicaremos el algoritmo MapReduce para buscar patrones todos los posibles patrones de grafos de triangulos, para luego realizar una consulta."
      ],
      "metadata": {
        "id": "0ekmEZNB9Vrb"
      }
    },
    {
      "cell_type": "code",
      "source": [
        "patterns = map_reduce(rdd_graph, b_0, reducers_1, l_1)\n",
        "patterns.collect()"
      ],
      "metadata": {
        "id": "6nwtcw0lF-rl",
        "outputId": "73e07cef-fe57-416e-b3cc-fb04362f1a07",
        "colab": {
          "base_uri": "https://localhost:8080/"
        }
      },
      "execution_count": 136,
      "outputs": [
        {
          "output_type": "execute_result",
          "data": {
            "text/plain": [
              "[((101, 101, 142, 286),\n",
              "  [((101, 1, 142), (101, 1, 286), (142, 0, 101), (286, 0, 101))]),\n",
              " ((55, 139, 286, 286),\n",
              "  [((55, 1, 286), (139, 1, 286), (286, 0, 55), (286, 0, 139))]),\n",
              " ((55, 161, 286, 286),\n",
              "  [((55, 1, 286), (161, 1, 286), (286, 0, 55), (286, 0, 161))]),\n",
              " ((101, 139, 142, 286),\n",
              "  [((101, 1, 142), (139, 1, 101), (142, 1, 286), (286, 0, 139))]),\n",
              " ((258, 286, 286, 374),\n",
              "  [((258, 1, 286), (286, 0, 258), (286, 0, 374), (374, 1, 286))]),\n",
              " ((142, 142, 333, 377),\n",
              "  [((142, 0, 333), (142, 0, 377), (333, 1, 142), (377, 1, 142))]),\n",
              " ((67, 142, 142, 377),\n",
              "  [((67, 1, 142), (142, 0, 67), (142, 0, 377), (377, 1, 142))]),\n",
              " ((101, 142, 367, 412),\n",
              "  [((101, 1, 142), (142, 0, 367), (367, 1, 412), (412, 1, 101))]),\n",
              " ((142, 142, 333, 367),\n",
              "  [((142, 0, 333), (142, 0, 367), (333, 1, 142), (367, 1, 142))]),\n",
              " ((67, 142, 142, 367),\n",
              "  [((67, 1, 142), (142, 0, 67), (142, 0, 367), (367, 1, 142))]),\n",
              " ((142, 142, 367, 377),\n",
              "  [((142, 0, 367), (142, 0, 377), (367, 1, 142), (377, 1, 142))]),\n",
              " ((67, 142, 142, 333),\n",
              "  [((67, 1, 142), (142, 0, 67), (142, 0, 333), (333, 1, 142))]),\n",
              " ((101, 142, 142, 333),\n",
              "  [((101, 1, 142), (142, 0, 101), (142, 0, 333), (333, 1, 142))]),\n",
              " ((67, 101, 142, 142),\n",
              "  [((67, 1, 142), (101, 1, 142), (142, 0, 67), (142, 0, 101))]),\n",
              " ((101, 142, 142, 377),\n",
              "  [((101, 1, 142), (142, 0, 101), (142, 0, 377), (377, 1, 142))]),\n",
              " ((101, 101, 142, 308),\n",
              "  [((101, 0, 308), (101, 1, 142), (142, 0, 101), (308, 1, 101))]),\n",
              " ((76, 101, 101, 308),\n",
              "  [((76, 1, 101), (101, 0, 76), (101, 0, 308), (308, 1, 101))]),\n",
              " ((101, 101, 139, 373),\n",
              "  [((101, 0, 139), (101, 0, 373), (139, 1, 101), (373, 1, 101))]),\n",
              " ((101, 101, 139, 161),\n",
              "  [((101, 0, 139), (101, 0, 161), (139, 1, 101), (161, 1, 101))]),\n",
              " ((101, 101, 139, 145),\n",
              "  [((101, 0, 139), (101, 0, 145), (139, 1, 101), (145, 1, 101))]),\n",
              " ((101, 101, 145, 373),\n",
              "  [((101, 0, 145), (101, 0, 373), (145, 1, 101), (373, 1, 101))]),\n",
              " ((101, 101, 145, 161),\n",
              "  [((101, 0, 145), (101, 0, 161), (145, 1, 101), (161, 1, 101))]),\n",
              " ((13, 101, 101, 373),\n",
              "  [((13, 1, 101), (101, 0, 13), (101, 0, 373), (373, 1, 101))]),\n",
              " ((13, 101, 101, 161),\n",
              "  [((13, 1, 101), (101, 0, 13), (101, 0, 161), (161, 1, 101))]),\n",
              " ((13, 101, 101, 145),\n",
              "  [((13, 1, 101), (101, 0, 13), (101, 0, 145), (145, 1, 101))]),\n",
              " ((13, 101, 101, 139),\n",
              "  [((13, 1, 101), (101, 0, 13), (101, 0, 139), (139, 1, 101))]),\n",
              " ((27, 101, 161, 161),\n",
              "  [((27, 0, 161), (101, 0, 161), (161, 1, 27), (161, 1, 101))]),\n",
              " ((13, 76, 76, 101), [((13, 1, 76), (76, 0, 13), (76, 1, 101), (101, 0, 76))]),\n",
              " ((76, 101, 101, 286),\n",
              "  [((76, 1, 101), (101, 0, 76), (101, 1, 286), (286, 0, 101))]),\n",
              " ((101, 142, 161, 286),\n",
              "  [((101, 1, 142), (142, 1, 286), (161, 1, 101), (286, 0, 161))]),\n",
              " ((101, 308, 308, 373),\n",
              "  [((101, 0, 308), (308, 1, 101), (308, 1, 373), (373, 0, 308))]),\n",
              " ((55, 55, 286, 374),\n",
              "  [((55, 1, 286), (55, 1, 374), (286, 0, 55), (374, 0, 55))]),\n",
              " ((149, 379, 437, 437),\n",
              "  [((149, 0, 437), (379, 0, 437), (437, 1, 149), (437, 1, 379))]),\n",
              " ((149, 149, 379, 437),\n",
              "  [((149, 0, 437), (149, 1, 379), (379, 0, 149), (437, 1, 149))]),\n",
              " ((149, 379, 379, 437),\n",
              "  [((149, 1, 379), (379, 0, 149), (379, 0, 437), (437, 1, 379))]),\n",
              " ((413, 439, 450, 450),\n",
              "  [((413, 0, 450), (439, 0, 450), (450, 1, 413), (450, 1, 439))]),\n",
              " ((80, 82, 345, 345),\n",
              "  [((80, 0, 345), (82, 0, 345), (345, 1, 80), (345, 1, 82))]),\n",
              " ((57, 58, 128, 367),\n",
              "  [((57, 1, 367), (58, 1, 57), (128, 1, 58), (367, 0, 128))]),\n",
              " ((142, 212, 367, 367),\n",
              "  [((142, 0, 367), (212, 1, 367), (367, 0, 212), (367, 1, 142))]),\n",
              " ((212, 367, 367, 420),\n",
              "  [((212, 1, 367), (367, 0, 212), (367, 0, 420), (420, 1, 367))]),\n",
              " ((142, 360, 360, 420),\n",
              "  [((142, 0, 360), (360, 1, 142), (360, 1, 420), (420, 0, 360))]),\n",
              " ((57, 159, 184, 360),\n",
              "  [((57, 0, 184), (159, 1, 360), (184, 1, 159), (360, 0, 57)),\n",
              "   ((57, 1, 159), (159, 0, 184), (184, 1, 360), (360, 0, 57))]),\n",
              " ((128, 159, 360, 367),\n",
              "  [((128, 1, 159), (159, 1, 367), (360, 0, 128), (367, 0, 360))]),\n",
              " ((57, 58, 128, 159),\n",
              "  [((57, 0, 128), (58, 1, 57), (128, 1, 159), (159, 0, 58)),\n",
              "   ((57, 1, 159), (58, 1, 57), (128, 1, 58), (159, 0, 128))]),\n",
              " ((57, 58, 58, 159), [((57, 0, 58), (58, 1, 57), (58, 1, 159), (159, 0, 58))]),\n",
              " ((57, 57, 159, 419),\n",
              "  [((57, 0, 419), (57, 1, 159), (159, 0, 57), (419, 1, 57))]),\n",
              " ((57, 128, 360, 367),\n",
              "  [((57, 1, 360), (128, 1, 57), (360, 1, 367), (367, 0, 128)),\n",
              "   ((57, 1, 367), (128, 1, 57), (360, 0, 128), (367, 0, 360))]),\n",
              " ((35, 128, 360, 367),\n",
              "  [((35, 1, 360), (128, 1, 35), (360, 1, 367), (367, 0, 128)),\n",
              "   ((35, 1, 367), (128, 1, 35), (360, 0, 128), (367, 0, 360))]),\n",
              " ((35, 57, 58, 128),\n",
              "  [((35, 0, 128), (57, 0, 35), (58, 1, 57), (128, 1, 58)),\n",
              "   ((35, 0, 58), (57, 0, 128), (58, 1, 57), (128, 1, 35))]),\n",
              " ((57, 58, 159, 184),\n",
              "  [((57, 0, 184), (58, 1, 57), (159, 0, 58), (184, 1, 159)),\n",
              "   ((57, 1, 159), (58, 1, 57), (159, 0, 184), (184, 0, 58)),\n",
              "   ((57, 0, 58), (58, 1, 159), (159, 0, 184), (184, 1, 57))]),\n",
              " ((35, 57, 58, 184), [((35, 0, 58), (57, 0, 184), (58, 1, 57), (184, 1, 35))]),\n",
              " ((58, 128, 184, 360),\n",
              "  [((58, 1, 184), (128, 1, 58), (184, 1, 360), (360, 0, 128))]),\n",
              " ((35, 159, 184, 184),\n",
              "  [((35, 0, 184), (159, 0, 184), (184, 1, 35), (184, 1, 159))]),\n",
              " ((58, 159, 159, 184),\n",
              "  [((58, 1, 159), (159, 0, 58), (159, 0, 184), (184, 1, 159))]),\n",
              " ((35, 57, 58, 58), [((35, 0, 58), (57, 0, 58), (58, 1, 35), (58, 1, 57))]),\n",
              " ((57, 58, 184, 367),\n",
              "  [((57, 0, 58), (58, 1, 184), (184, 1, 367), (367, 0, 57))]),\n",
              " ((57, 128, 184, 367),\n",
              "  [((57, 0, 128), (128, 1, 184), (184, 1, 367), (367, 0, 57)),\n",
              "   ((57, 0, 184), (128, 1, 57), (184, 1, 367), (367, 0, 128))]),\n",
              " ((57, 128, 159, 184),\n",
              "  [((57, 1, 159), (128, 1, 57), (159, 0, 184), (184, 0, 128)),\n",
              "   ((57, 0, 128), (128, 1, 159), (159, 0, 184), (184, 1, 57))]),\n",
              " ((128, 159, 184, 367),\n",
              "  [((128, 1, 159), (159, 0, 184), (184, 1, 367), (367, 0, 128))]),\n",
              " ((128, 159, 159, 184),\n",
              "  [((128, 1, 159), (159, 0, 128), (159, 0, 184), (184, 1, 159))]),\n",
              " ((101, 139, 286, 286),\n",
              "  [((101, 1, 286), (139, 1, 286), (286, 0, 101), (286, 0, 139))]),\n",
              " ((101, 161, 286, 286),\n",
              "  [((101, 1, 286), (161, 1, 286), (286, 0, 101), (286, 0, 161))]),\n",
              " ((55, 101, 286, 286),\n",
              "  [((55, 1, 286), (101, 1, 286), (286, 0, 55), (286, 0, 101))]),\n",
              " ((139, 161, 286, 286),\n",
              "  [((139, 1, 286), (161, 1, 286), (286, 0, 139), (286, 0, 161))]),\n",
              " ((101, 142, 142, 367),\n",
              "  [((101, 1, 142), (142, 0, 101), (142, 0, 367), (367, 1, 142))]),\n",
              " ((101, 101, 286, 308),\n",
              "  [((101, 0, 308), (101, 1, 286), (286, 0, 101), (308, 1, 101))]),\n",
              " ((76, 101, 101, 142),\n",
              "  [((76, 1, 101), (101, 0, 76), (101, 1, 142), (142, 0, 101))]),\n",
              " ((55, 101, 286, 374),\n",
              "  [((55, 1, 374), (101, 1, 286), (286, 0, 55), (374, 1, 101))]),\n",
              " ((142, 367, 367, 420),\n",
              "  [((142, 0, 367), (367, 0, 420), (367, 1, 142), (420, 1, 367))]),\n",
              " ((360, 367, 367, 420),\n",
              "  [((360, 1, 367), (367, 0, 360), (367, 0, 420), (420, 1, 367))]),\n",
              " ((367, 367, 420, 484),\n",
              "  [((367, 0, 420), (367, 0, 484), (420, 1, 367), (484, 1, 367))]),\n",
              " ((35, 58, 128, 367),\n",
              "  [((35, 0, 58), (58, 1, 367), (128, 1, 35), (367, 0, 128))]),\n",
              " ((35, 128, 184, 367),\n",
              "  [((35, 0, 184), (128, 1, 35), (184, 1, 367), (367, 0, 128))]),\n",
              " ((212, 360, 367, 367),\n",
              "  [((212, 1, 367), (360, 1, 367), (367, 0, 212), (367, 0, 360))]),\n",
              " ((212, 367, 367, 484),\n",
              "  [((212, 1, 367), (367, 0, 212), (367, 0, 484), (484, 1, 367))]),\n",
              " ((142, 367, 367, 484),\n",
              "  [((142, 0, 367), (367, 0, 484), (367, 1, 142), (484, 1, 367))]),\n",
              " ((360, 367, 367, 484),\n",
              "  [((360, 1, 367), (367, 0, 360), (367, 0, 484), (484, 1, 367))]),\n",
              " ((57, 360, 360, 367),\n",
              "  [((57, 1, 360), (360, 0, 57), (360, 1, 367), (367, 0, 360))]),\n",
              " ((57, 184, 360, 367),\n",
              "  [((57, 0, 184), (184, 1, 367), (360, 0, 57), (367, 0, 360))]),\n",
              " ((57, 58, 360, 367),\n",
              "  [((57, 0, 58), (58, 1, 367), (360, 0, 57), (367, 0, 360))]),\n",
              " ((142, 360, 367, 367),\n",
              "  [((142, 0, 367), (360, 1, 367), (367, 0, 360), (367, 1, 142))]),\n",
              " ((35, 57, 184, 360),\n",
              "  [((35, 1, 360), (57, 0, 184), (184, 1, 35), (360, 0, 57))]),\n",
              " ((57, 128, 159, 360),\n",
              "  [((57, 0, 128), (128, 1, 159), (159, 1, 360), (360, 0, 57))]),\n",
              " ((57, 58, 159, 360),\n",
              "  [((57, 0, 58), (58, 1, 159), (159, 1, 360), (360, 0, 57))]),\n",
              " ((35, 58, 128, 159),\n",
              "  [((35, 0, 58), (58, 1, 159), (128, 1, 35), (159, 0, 128))]),\n",
              " ((35, 128, 159, 184),\n",
              "  [((35, 0, 128), (128, 1, 159), (159, 0, 184), (184, 1, 35)),\n",
              "   ((35, 0, 184), (128, 1, 35), (159, 0, 128), (184, 1, 159))]),\n",
              " ((35, 128, 128, 159),\n",
              "  [((35, 0, 128), (128, 1, 35), (128, 1, 159), (159, 0, 128))]),\n",
              " ((57, 57, 58, 360), [((57, 0, 58), (57, 1, 360), (58, 1, 57), (360, 0, 57))]),\n",
              " ((57, 57, 58, 128), [((57, 0, 58), (57, 0, 128), (58, 1, 57), (128, 1, 57))]),\n",
              " ((57, 57, 58, 184), [((57, 0, 58), (57, 0, 184), (58, 1, 57), (184, 1, 57))]),\n",
              " ((35, 57, 128, 184),\n",
              "  [((35, 0, 184), (57, 0, 128), (128, 1, 35), (184, 1, 57))]),\n",
              " ((35, 57, 128, 128),\n",
              "  [((35, 0, 128), (57, 0, 128), (128, 1, 35), (128, 1, 57))]),\n",
              " ((35, 57, 128, 360),\n",
              "  [((35, 1, 360), (57, 0, 128), (128, 1, 35), (360, 0, 57))]),\n",
              " ((57, 57, 128, 360),\n",
              "  [((57, 0, 128), (57, 1, 360), (128, 1, 57), (360, 0, 57))]),\n",
              " ((57, 57, 184, 360),\n",
              "  [((57, 0, 184), (57, 1, 360), (184, 1, 57), (360, 0, 57))]),\n",
              " ((35, 57, 58, 360), [((35, 1, 360), (57, 0, 58), (58, 1, 35), (360, 0, 57))]),\n",
              " ((35, 35, 58, 128), [((35, 0, 58), (35, 0, 128), (58, 1, 35), (128, 1, 35))]),\n",
              " ((35, 35, 128, 184),\n",
              "  [((35, 0, 128), (35, 0, 184), (128, 1, 35), (184, 1, 35))]),\n",
              " ((35, 35, 58, 184), [((35, 0, 58), (35, 0, 184), (58, 1, 35), (184, 1, 35))]),\n",
              " ((35, 58, 159, 184),\n",
              "  [((35, 0, 58), (58, 1, 159), (159, 0, 184), (184, 1, 35))]),\n",
              " ((57, 159, 184, 184),\n",
              "  [((57, 0, 184), (159, 0, 184), (184, 1, 57), (184, 1, 159))]),\n",
              " ((35, 57, 184, 184),\n",
              "  [((35, 0, 184), (57, 0, 184), (184, 1, 35), (184, 1, 57))]),\n",
              " ((35, 58, 58, 159), [((35, 0, 58), (58, 1, 35), (58, 1, 159), (159, 0, 58))]),\n",
              " ((57, 128, 128, 159),\n",
              "  [((57, 0, 128), (128, 1, 57), (128, 1, 159), (159, 0, 128))]),\n",
              " ((58, 128, 128, 184),\n",
              "  [((58, 0, 128), (128, 1, 58), (128, 1, 184), (184, 0, 128))]),\n",
              " ((58, 58, 128, 184),\n",
              "  [((58, 0, 128), (58, 1, 184), (128, 1, 58), (184, 0, 58))]),\n",
              " ((101, 101, 161, 373),\n",
              "  [((101, 0, 161), (101, 0, 373), (161, 1, 101), (373, 1, 101))]),\n",
              " ((57, 57, 159, 367),\n",
              "  [((57, 1, 159), (57, 1, 367), (159, 0, 57), (367, 0, 57))]),\n",
              " ((35, 57, 159, 367),\n",
              "  [((35, 1, 367), (57, 1, 159), (159, 0, 35), (367, 0, 57))]),\n",
              " ((35, 57, 159, 159),\n",
              "  [((35, 1, 159), (57, 1, 159), (159, 0, 35), (159, 0, 57))]),\n",
              " ((57, 57, 367, 419),\n",
              "  [((57, 0, 419), (57, 1, 367), (367, 0, 57), (419, 1, 57))]),\n",
              " ((35, 57, 57, 159), [((35, 1, 57), (57, 0, 35), (57, 1, 159), (159, 0, 57))]),\n",
              " ((55, 258, 286, 286),\n",
              "  [((55, 1, 286), (258, 1, 286), (286, 0, 55), (286, 0, 258))]),\n",
              " ((55, 286, 286, 374),\n",
              "  [((55, 1, 286), (286, 0, 55), (286, 0, 374), (374, 1, 286))]),\n",
              " ((27, 161, 161, 286),\n",
              "  [((27, 0, 161), (161, 1, 27), (161, 1, 286), (286, 0, 161))]),\n",
              " ((101, 139, 139, 286),\n",
              "  [((101, 0, 139), (139, 1, 101), (139, 1, 286), (286, 0, 139))]),\n",
              " ((139, 286, 286, 374),\n",
              "  [((139, 1, 286), (286, 0, 139), (286, 0, 374), (374, 1, 286))]),\n",
              " ((161, 286, 286, 374),\n",
              "  [((161, 1, 286), (286, 0, 161), (286, 0, 374), (374, 1, 286))]),\n",
              " ((139, 258, 286, 286),\n",
              "  [((139, 1, 286), (258, 1, 286), (286, 0, 139), (286, 0, 258))]),\n",
              " ((161, 258, 286, 286),\n",
              "  [((161, 1, 286), (258, 1, 286), (286, 0, 161), (286, 0, 258))]),\n",
              " ((142, 142, 360, 377),\n",
              "  [((142, 0, 360), (142, 0, 377), (360, 1, 142), (377, 1, 142))]),\n",
              " ((142, 142, 360, 367),\n",
              "  [((142, 0, 360), (142, 0, 367), (360, 1, 142), (367, 1, 142))]),\n",
              " ((67, 142, 142, 360),\n",
              "  [((67, 1, 142), (142, 0, 67), (142, 0, 360), (360, 1, 142))]),\n",
              " ((142, 142, 333, 360),\n",
              "  [((142, 0, 333), (142, 0, 360), (333, 1, 142), (360, 1, 142))]),\n",
              " ((101, 142, 142, 360),\n",
              "  [((101, 1, 142), (142, 0, 101), (142, 0, 360), (360, 1, 142))]),\n",
              " ((142, 367, 396, 484),\n",
              "  [((142, 0, 484), (367, 1, 142), (396, 1, 367), (484, 0, 396))]),\n",
              " ((101, 101, 308, 373),\n",
              "  [((101, 0, 308), (101, 0, 373), (308, 1, 101), (373, 1, 101))]),\n",
              " ((101, 101, 161, 308),\n",
              "  [((101, 0, 161), (101, 0, 308), (161, 1, 101), (308, 1, 101))]),\n",
              " ((101, 101, 145, 308),\n",
              "  [((101, 0, 145), (101, 0, 308), (145, 1, 101), (308, 1, 101))]),\n",
              " ((101, 101, 139, 308),\n",
              "  [((101, 0, 139), (101, 0, 308), (139, 1, 101), (308, 1, 101))]),\n",
              " ((101, 101, 139, 142),\n",
              "  [((101, 0, 139), (101, 1, 142), (139, 1, 101), (142, 0, 101))]),\n",
              " ((76, 101, 101, 139),\n",
              "  [((76, 1, 101), (101, 0, 76), (101, 0, 139), (139, 1, 101))]),\n",
              " ((101, 101, 142, 145),\n",
              "  [((101, 0, 145), (101, 1, 142), (142, 0, 101), (145, 1, 101))]),\n",
              " ((76, 101, 101, 145),\n",
              "  [((76, 1, 101), (101, 0, 76), (101, 0, 145), (145, 1, 101))]),\n",
              " ((13, 101, 101, 142),\n",
              "  [((13, 1, 101), (101, 0, 13), (101, 1, 142), (142, 0, 101))]),\n",
              " ((13, 76, 101, 101),\n",
              "  [((13, 1, 101), (76, 1, 101), (101, 0, 13), (101, 0, 76))]),\n",
              " ((101, 308, 373, 373),\n",
              "  [((101, 0, 373), (308, 1, 373), (373, 0, 308), (373, 1, 101))]),\n",
              " ((101, 258, 286, 286),\n",
              "  [((101, 1, 286), (258, 1, 286), (286, 0, 101), (286, 0, 258))]),\n",
              " ((101, 101, 286, 373),\n",
              "  [((101, 0, 373), (101, 1, 286), (286, 0, 101), (373, 1, 101))]),\n",
              " ((101, 101, 145, 286),\n",
              "  [((101, 0, 145), (101, 1, 286), (145, 1, 101), (286, 0, 101))]),\n",
              " ((101, 142, 286, 374),\n",
              "  [((101, 1, 142), (142, 1, 286), (286, 0, 374), (374, 1, 101))]),\n",
              " ((80, 82, 170, 345),\n",
              "  [((80, 1, 170), (82, 0, 345), (170, 0, 82), (345, 1, 80))]),\n",
              " ((13, 13, 76, 101), [((13, 1, 76), (13, 1, 101), (76, 0, 13), (101, 0, 13))]),\n",
              " ((55, 286, 374, 374),\n",
              "  [((55, 1, 374), (286, 0, 374), (374, 0, 55), (374, 1, 286))]),\n",
              " ((413, 439, 439, 450),\n",
              "  [((413, 0, 439), (439, 0, 450), (439, 1, 413), (450, 1, 439))]),\n",
              " ((82, 82, 170, 345),\n",
              "  [((82, 0, 345), (82, 1, 170), (170, 0, 82), (345, 1, 82))]),\n",
              " ((360, 367, 420, 484),\n",
              "  [((360, 0, 484), (367, 0, 420), (420, 0, 360), (484, 1, 367))]),\n",
              " ((142, 360, 367, 420),\n",
              "  [((142, 0, 367), (360, 1, 142), (367, 0, 420), (420, 0, 360))]),\n",
              " ((212, 360, 367, 420),\n",
              "  [((212, 1, 367), (360, 1, 212), (367, 0, 420), (420, 0, 360))]),\n",
              " ((360, 367, 420, 420),\n",
              "  [((360, 1, 420), (367, 0, 420), (420, 0, 360), (420, 1, 367))]),\n",
              " ((57, 212, 367, 367),\n",
              "  [((57, 1, 367), (212, 1, 367), (367, 0, 57), (367, 0, 212))]),\n",
              " ((57, 159, 184, 367),\n",
              "  [((57, 1, 159), (159, 0, 184), (184, 1, 367), (367, 0, 57))]),\n",
              " ((367, 396, 484, 484),\n",
              "  [((367, 0, 484), (396, 1, 484), (484, 0, 396), (484, 1, 367))]),\n",
              " ((58, 128, 360, 367),\n",
              "  [((58, 1, 367), (128, 1, 58), (360, 0, 128), (367, 0, 360))]),\n",
              " ((360, 367, 396, 484),\n",
              "  [((360, 0, 484), (367, 0, 360), (396, 1, 367), (484, 0, 396))]),\n",
              " ((360, 360, 367, 420),\n",
              "  [((360, 1, 367), (360, 1, 420), (367, 0, 360), (420, 0, 360))]),\n",
              " ((142, 212, 360, 367),\n",
              "  [((142, 0, 360), (212, 1, 367), (360, 1, 212), (367, 1, 142))]),\n",
              " ((57, 58, 128, 360),\n",
              "  [((57, 1, 360), (58, 1, 57), (128, 1, 58), (360, 0, 128))]),\n",
              " ((58, 128, 159, 360),\n",
              "  [((58, 1, 159), (128, 1, 58), (159, 1, 360), (360, 0, 128))]),\n",
              " ((35, 57, 58, 159),\n",
              "  [((35, 1, 57), (57, 1, 159), (58, 1, 35), (159, 0, 58)),\n",
              "   ((35, 0, 58), (57, 1, 159), (58, 1, 57), (159, 0, 35))]),\n",
              " ((57, 159, 159, 184),\n",
              "  [((57, 1, 159), (159, 0, 57), (159, 0, 184), (184, 1, 159))]),\n",
              " ((57, 57, 58, 159), [((57, 0, 58), (57, 1, 159), (58, 1, 57), (159, 0, 57))]),\n",
              " ((57, 57, 58, 419), [((57, 0, 58), (57, 0, 419), (58, 1, 57), (419, 1, 57))]),\n",
              " ((35, 35, 57, 58), [((35, 0, 58), (35, 1, 57), (57, 0, 35), (58, 1, 35))]),\n",
              " ((57, 58, 128, 128),\n",
              "  [((57, 0, 128), (58, 0, 128), (128, 1, 57), (128, 1, 58))]),\n",
              " ((35, 159, 159, 184),\n",
              "  [((35, 1, 159), (159, 0, 35), (159, 0, 184), (184, 1, 159))]),\n",
              " ((35, 58, 128, 360),\n",
              "  [((35, 1, 360), (58, 1, 35), (128, 1, 58), (360, 0, 128))]),\n",
              " ((35, 57, 159, 184),\n",
              "  [((35, 1, 57), (57, 1, 159), (159, 0, 184), (184, 1, 35))]),\n",
              " ((35, 57, 184, 367),\n",
              "  [((35, 0, 184), (57, 0, 35), (184, 1, 367), (367, 0, 57))]),\n",
              " ((57, 58, 128, 184),\n",
              "  [((57, 0, 184), (58, 1, 57), (128, 1, 58), (184, 0, 128))]),\n",
              " ((57, 57, 159, 184),\n",
              "  [((57, 0, 184), (57, 1, 159), (159, 0, 57), (184, 1, 57))]),\n",
              " ((128, 184, 360, 367),\n",
              "  [((128, 1, 184), (184, 1, 367), (360, 0, 128), (367, 0, 360))]),\n",
              " ((57, 58, 58, 128), [((57, 0, 58), (58, 0, 128), (58, 1, 57), (128, 1, 58))]),\n",
              " ((413, 413, 439, 450),\n",
              "  [((413, 0, 439), (413, 0, 450), (439, 1, 413), (450, 1, 413))]),\n",
              " ((101, 286, 286, 374),\n",
              "  [((101, 1, 286), (286, 0, 101), (286, 0, 374), (374, 1, 286))]),\n",
              " ((57, 142, 360, 360),\n",
              "  [((57, 1, 360), (142, 0, 360), (360, 0, 57), (360, 1, 142))]),\n",
              " ((57, 360, 360, 420),\n",
              "  [((57, 1, 360), (360, 0, 57), (360, 1, 420), (420, 0, 360))]),\n",
              " ((57, 58, 58, 184), [((57, 0, 58), (58, 1, 57), (58, 1, 184), (184, 0, 58))]),\n",
              " ((57, 128, 184, 360),\n",
              "  [((57, 1, 360), (128, 1, 184), (184, 1, 57), (360, 0, 128))]),\n",
              " ((35, 58, 58, 128), [((35, 0, 58), (58, 0, 128), (58, 1, 35), (128, 1, 58))]),\n",
              " ((58, 58, 128, 159),\n",
              "  [((58, 0, 128), (58, 1, 159), (128, 1, 58), (159, 0, 58))]),\n",
              " ((58, 128, 184, 367),\n",
              "  [((58, 1, 184), (128, 1, 58), (184, 1, 367), (367, 0, 128))]),\n",
              " ((101, 101, 139, 286),\n",
              "  [((101, 0, 139), (101, 1, 286), (139, 1, 101), (286, 0, 101))]),\n",
              " ((13, 101, 101, 286),\n",
              "  [((13, 1, 101), (101, 0, 13), (101, 1, 286), (286, 0, 101))]),\n",
              " ((101, 101, 142, 373),\n",
              "  [((101, 0, 373), (101, 1, 142), (142, 0, 101), (373, 1, 101))]),\n",
              " ((57, 58, 159, 367),\n",
              "  [((57, 1, 159), (58, 1, 367), (159, 0, 58), (367, 0, 57))]),\n",
              " ((57, 159, 360, 367),\n",
              "  [((57, 1, 159), (159, 1, 367), (360, 0, 57), (367, 0, 360))]),\n",
              " ((57, 58, 159, 159),\n",
              "  [((57, 1, 159), (58, 1, 159), (159, 0, 57), (159, 0, 58))]),\n",
              " ((57, 128, 159, 159),\n",
              "  [((57, 1, 159), (128, 1, 159), (159, 0, 57), (159, 0, 128))]),\n",
              " ((57, 57, 159, 360),\n",
              "  [((57, 1, 159), (57, 1, 360), (159, 0, 57), (360, 0, 57))]),\n",
              " ((57, 57, 360, 419),\n",
              "  [((57, 0, 419), (57, 1, 360), (360, 0, 57), (419, 1, 57))]),\n",
              " ((57, 360, 367, 367),\n",
              "  [((57, 1, 367), (360, 1, 367), (367, 0, 57), (367, 0, 360))]),\n",
              " ((35, 57, 159, 360),\n",
              "  [((35, 1, 360), (57, 1, 159), (159, 0, 35), (360, 0, 57))]),\n",
              " ((35, 57, 128, 159),\n",
              "  [((35, 1, 57), (57, 1, 159), (128, 1, 35), (159, 0, 128))]),\n",
              " ((35, 57, 360, 367),\n",
              "  [((35, 1, 367), (57, 0, 35), (360, 0, 57), (367, 0, 360))]),\n",
              " ((101, 139, 161, 286),\n",
              "  [((101, 0, 161), (139, 1, 101), (161, 1, 286), (286, 0, 139))]),\n",
              " ((101, 101, 142, 161),\n",
              "  [((101, 0, 161), (101, 1, 142), (142, 0, 101), (161, 1, 101))])]"
            ]
          },
          "metadata": {},
          "execution_count": 136
        }
      ]
    },
    {
      "cell_type": "markdown",
      "source": [
        "👉🏻 Realizamos la siguiente consulta en donde obtener todos los usuarios tal que:\n",
        "* El primero interacciona con el segundo\n",
        "* El segundo interaccion con el tercero\n",
        "* El tercero es similar al cuarto\n",
        "* El cuarto es similar al primero"
      ],
      "metadata": {
        "id": "_9sHmC-o9sDw"
      }
    },
    {
      "cell_type": "code",
      "source": [
        "result = bgp_query(rdd_graph, b_0, reducers_1, l_1, \"(x,0,y), (y,0,z), (z,1,w), (w,1,x)\")\n",
        "for res in result.collect():\n",
        "  print(res)"
      ],
      "metadata": {
        "id": "oonIE_qyF8Zu",
        "outputId": "40c10f20-6611-4da3-e13d-3f5754f502cf",
        "colab": {
          "base_uri": "https://localhost:8080/"
        }
      },
      "execution_count": 139,
      "outputs": [
        {
          "output_type": "stream",
          "name": "stdout",
          "text": [
            "((101, 1, 142), (101, 1, 286), (142, 0, 101), (286, 0, 101))\n",
            "((55, 1, 286), (139, 1, 286), (286, 0, 55), (286, 0, 139))\n",
            "((55, 1, 286), (161, 1, 286), (286, 0, 55), (286, 0, 161))\n",
            "((258, 1, 286), (286, 0, 258), (286, 0, 374), (374, 1, 286))\n",
            "((142, 0, 333), (142, 0, 377), (333, 1, 142), (377, 1, 142))\n",
            "((67, 1, 142), (142, 0, 67), (142, 0, 377), (377, 1, 142))\n",
            "((142, 0, 333), (142, 0, 367), (333, 1, 142), (367, 1, 142))\n",
            "((67, 1, 142), (142, 0, 67), (142, 0, 367), (367, 1, 142))\n",
            "((142, 0, 367), (142, 0, 377), (367, 1, 142), (377, 1, 142))\n",
            "((67, 1, 142), (142, 0, 67), (142, 0, 333), (333, 1, 142))\n",
            "((101, 1, 142), (142, 0, 101), (142, 0, 333), (333, 1, 142))\n",
            "((67, 1, 142), (101, 1, 142), (142, 0, 67), (142, 0, 101))\n",
            "((101, 1, 142), (142, 0, 101), (142, 0, 377), (377, 1, 142))\n",
            "((76, 1, 101), (101, 0, 76), (101, 0, 308), (308, 1, 101))\n",
            "((101, 0, 139), (101, 0, 373), (139, 1, 101), (373, 1, 101))\n",
            "((101, 0, 139), (101, 0, 161), (139, 1, 101), (161, 1, 101))\n",
            "((101, 0, 139), (101, 0, 145), (139, 1, 101), (145, 1, 101))\n",
            "((101, 0, 145), (101, 0, 373), (145, 1, 101), (373, 1, 101))\n",
            "((101, 0, 145), (101, 0, 161), (145, 1, 101), (161, 1, 101))\n",
            "((13, 1, 101), (101, 0, 13), (101, 0, 373), (373, 1, 101))\n",
            "((13, 1, 101), (101, 0, 13), (101, 0, 161), (161, 1, 101))\n",
            "((13, 1, 101), (101, 0, 13), (101, 0, 145), (145, 1, 101))\n",
            "((13, 1, 101), (101, 0, 13), (101, 0, 139), (139, 1, 101))\n",
            "((27, 0, 161), (101, 0, 161), (161, 1, 27), (161, 1, 101))\n",
            "((101, 0, 308), (308, 1, 101), (308, 1, 373), (373, 0, 308))\n",
            "((55, 1, 286), (55, 1, 374), (286, 0, 55), (374, 0, 55))\n",
            "((149, 0, 437), (379, 0, 437), (437, 1, 149), (437, 1, 379))\n",
            "((149, 1, 379), (379, 0, 149), (379, 0, 437), (437, 1, 379))\n",
            "((413, 0, 450), (439, 0, 450), (450, 1, 413), (450, 1, 439))\n",
            "((80, 0, 345), (82, 0, 345), (345, 1, 80), (345, 1, 82))\n",
            "((212, 1, 367), (367, 0, 212), (367, 0, 420), (420, 1, 367))\n",
            "((142, 0, 360), (360, 1, 142), (360, 1, 420), (420, 0, 360))\n",
            "((57, 0, 184), (159, 1, 360), (184, 1, 159), (360, 0, 57))\n",
            "((128, 1, 159), (159, 1, 367), (360, 0, 128), (367, 0, 360))\n",
            "((57, 0, 128), (58, 1, 57), (128, 1, 159), (159, 0, 58))\n",
            "((57, 0, 58), (58, 1, 57), (58, 1, 159), (159, 0, 58))\n",
            "((57, 1, 367), (128, 1, 57), (360, 0, 128), (367, 0, 360))\n",
            "((35, 1, 367), (128, 1, 35), (360, 0, 128), (367, 0, 360))\n",
            "((35, 0, 128), (57, 0, 35), (58, 1, 57), (128, 1, 58))\n",
            "((35, 0, 58), (57, 0, 128), (58, 1, 57), (128, 1, 35))\n",
            "((57, 1, 159), (58, 1, 57), (159, 0, 184), (184, 0, 58))\n",
            "((35, 0, 58), (57, 0, 184), (58, 1, 57), (184, 1, 35))\n",
            "((35, 0, 184), (159, 0, 184), (184, 1, 35), (184, 1, 159))\n",
            "((58, 1, 159), (159, 0, 58), (159, 0, 184), (184, 1, 159))\n",
            "((35, 0, 58), (57, 0, 58), (58, 1, 35), (58, 1, 57))\n",
            "((57, 0, 58), (58, 1, 184), (184, 1, 367), (367, 0, 57))\n",
            "((57, 0, 128), (128, 1, 184), (184, 1, 367), (367, 0, 57))\n",
            "((57, 0, 184), (128, 1, 57), (184, 1, 367), (367, 0, 128))\n",
            "((57, 1, 159), (128, 1, 57), (159, 0, 184), (184, 0, 128))\n",
            "((128, 1, 159), (159, 0, 128), (159, 0, 184), (184, 1, 159))\n",
            "((101, 1, 286), (139, 1, 286), (286, 0, 101), (286, 0, 139))\n",
            "((101, 1, 286), (161, 1, 286), (286, 0, 101), (286, 0, 161))\n",
            "((55, 1, 286), (101, 1, 286), (286, 0, 55), (286, 0, 101))\n",
            "((139, 1, 286), (161, 1, 286), (286, 0, 139), (286, 0, 161))\n",
            "((101, 1, 142), (142, 0, 101), (142, 0, 367), (367, 1, 142))\n",
            "((142, 0, 367), (367, 0, 420), (367, 1, 142), (420, 1, 367))\n",
            "((360, 1, 367), (367, 0, 360), (367, 0, 420), (420, 1, 367))\n",
            "((367, 0, 420), (367, 0, 484), (420, 1, 367), (484, 1, 367))\n",
            "((35, 0, 58), (58, 1, 367), (128, 1, 35), (367, 0, 128))\n",
            "((35, 0, 184), (128, 1, 35), (184, 1, 367), (367, 0, 128))\n",
            "((212, 1, 367), (360, 1, 367), (367, 0, 212), (367, 0, 360))\n",
            "((212, 1, 367), (367, 0, 212), (367, 0, 484), (484, 1, 367))\n",
            "((142, 0, 367), (367, 0, 484), (367, 1, 142), (484, 1, 367))\n",
            "((360, 1, 367), (367, 0, 360), (367, 0, 484), (484, 1, 367))\n",
            "((57, 0, 128), (128, 1, 159), (159, 1, 360), (360, 0, 57))\n",
            "((57, 0, 58), (58, 1, 159), (159, 1, 360), (360, 0, 57))\n",
            "((35, 0, 58), (58, 1, 159), (128, 1, 35), (159, 0, 128))\n",
            "((35, 0, 128), (128, 1, 35), (128, 1, 159), (159, 0, 128))\n",
            "((57, 0, 58), (57, 1, 360), (58, 1, 57), (360, 0, 57))\n",
            "((57, 0, 58), (57, 0, 128), (58, 1, 57), (128, 1, 57))\n",
            "((57, 0, 58), (57, 0, 184), (58, 1, 57), (184, 1, 57))\n",
            "((35, 0, 184), (57, 0, 128), (128, 1, 35), (184, 1, 57))\n",
            "((35, 0, 128), (57, 0, 128), (128, 1, 35), (128, 1, 57))\n",
            "((57, 0, 128), (57, 1, 360), (128, 1, 57), (360, 0, 57))\n",
            "((57, 0, 184), (57, 1, 360), (184, 1, 57), (360, 0, 57))\n",
            "((35, 0, 58), (35, 0, 128), (58, 1, 35), (128, 1, 35))\n",
            "((35, 0, 128), (35, 0, 184), (128, 1, 35), (184, 1, 35))\n",
            "((35, 0, 58), (35, 0, 184), (58, 1, 35), (184, 1, 35))\n",
            "((57, 0, 184), (159, 0, 184), (184, 1, 57), (184, 1, 159))\n",
            "((35, 0, 184), (57, 0, 184), (184, 1, 35), (184, 1, 57))\n",
            "((35, 0, 58), (58, 1, 35), (58, 1, 159), (159, 0, 58))\n",
            "((57, 0, 128), (128, 1, 57), (128, 1, 159), (159, 0, 128))\n",
            "((58, 0, 128), (128, 1, 58), (128, 1, 184), (184, 0, 128))\n",
            "((58, 0, 128), (58, 1, 184), (128, 1, 58), (184, 0, 58))\n",
            "((101, 0, 161), (101, 0, 373), (161, 1, 101), (373, 1, 101))\n",
            "((57, 1, 159), (57, 1, 367), (159, 0, 57), (367, 0, 57))\n",
            "((35, 1, 367), (57, 1, 159), (159, 0, 35), (367, 0, 57))\n",
            "((35, 1, 159), (57, 1, 159), (159, 0, 35), (159, 0, 57))\n",
            "((55, 1, 286), (258, 1, 286), (286, 0, 55), (286, 0, 258))\n",
            "((55, 1, 286), (286, 0, 55), (286, 0, 374), (374, 1, 286))\n",
            "((27, 0, 161), (161, 1, 27), (161, 1, 286), (286, 0, 161))\n",
            "((101, 0, 139), (139, 1, 101), (139, 1, 286), (286, 0, 139))\n",
            "((139, 1, 286), (286, 0, 139), (286, 0, 374), (374, 1, 286))\n",
            "((161, 1, 286), (286, 0, 161), (286, 0, 374), (374, 1, 286))\n",
            "((139, 1, 286), (258, 1, 286), (286, 0, 139), (286, 0, 258))\n",
            "((161, 1, 286), (258, 1, 286), (286, 0, 161), (286, 0, 258))\n",
            "((142, 0, 360), (142, 0, 377), (360, 1, 142), (377, 1, 142))\n",
            "((142, 0, 360), (142, 0, 367), (360, 1, 142), (367, 1, 142))\n",
            "((67, 1, 142), (142, 0, 67), (142, 0, 360), (360, 1, 142))\n",
            "((142, 0, 333), (142, 0, 360), (333, 1, 142), (360, 1, 142))\n",
            "((101, 1, 142), (142, 0, 101), (142, 0, 360), (360, 1, 142))\n",
            "((142, 0, 484), (367, 1, 142), (396, 1, 367), (484, 0, 396))\n",
            "((101, 0, 308), (101, 0, 373), (308, 1, 101), (373, 1, 101))\n",
            "((101, 0, 161), (101, 0, 308), (161, 1, 101), (308, 1, 101))\n",
            "((101, 0, 145), (101, 0, 308), (145, 1, 101), (308, 1, 101))\n",
            "((101, 0, 139), (101, 0, 308), (139, 1, 101), (308, 1, 101))\n",
            "((101, 0, 139), (101, 1, 142), (139, 1, 101), (142, 0, 101))\n",
            "((76, 1, 101), (101, 0, 76), (101, 0, 139), (139, 1, 101))\n",
            "((76, 1, 101), (101, 0, 76), (101, 0, 145), (145, 1, 101))\n",
            "((13, 1, 101), (76, 1, 101), (101, 0, 13), (101, 0, 76))\n",
            "((101, 1, 286), (258, 1, 286), (286, 0, 101), (286, 0, 258))\n",
            "((101, 0, 145), (101, 1, 286), (145, 1, 101), (286, 0, 101))\n",
            "((80, 1, 170), (82, 0, 345), (170, 0, 82), (345, 1, 80))\n",
            "((13, 1, 76), (13, 1, 101), (76, 0, 13), (101, 0, 13))\n",
            "((55, 1, 374), (286, 0, 374), (374, 0, 55), (374, 1, 286))\n",
            "((413, 0, 439), (439, 0, 450), (439, 1, 413), (450, 1, 439))\n",
            "((212, 1, 367), (360, 1, 212), (367, 0, 420), (420, 0, 360))\n",
            "((360, 1, 420), (367, 0, 420), (420, 0, 360), (420, 1, 367))\n",
            "((57, 1, 367), (212, 1, 367), (367, 0, 57), (367, 0, 212))\n",
            "((58, 1, 367), (128, 1, 58), (360, 0, 128), (367, 0, 360))\n",
            "((360, 1, 367), (360, 1, 420), (367, 0, 360), (420, 0, 360))\n",
            "((35, 0, 58), (57, 1, 159), (58, 1, 57), (159, 0, 35))\n",
            "((57, 1, 159), (159, 0, 57), (159, 0, 184), (184, 1, 159))\n",
            "((57, 0, 58), (57, 1, 159), (58, 1, 57), (159, 0, 57))\n",
            "((57, 0, 58), (57, 0, 419), (58, 1, 57), (419, 1, 57))\n",
            "((57, 0, 128), (58, 0, 128), (128, 1, 57), (128, 1, 58))\n",
            "((35, 1, 159), (159, 0, 35), (159, 0, 184), (184, 1, 159))\n",
            "((57, 0, 184), (58, 1, 57), (128, 1, 58), (184, 0, 128))\n",
            "((128, 1, 184), (184, 1, 367), (360, 0, 128), (367, 0, 360))\n",
            "((57, 0, 58), (58, 0, 128), (58, 1, 57), (128, 1, 58))\n",
            "((413, 0, 439), (413, 0, 450), (439, 1, 413), (450, 1, 413))\n",
            "((101, 1, 286), (286, 0, 101), (286, 0, 374), (374, 1, 286))\n",
            "((57, 1, 360), (142, 0, 360), (360, 0, 57), (360, 1, 142))\n",
            "((57, 0, 58), (58, 1, 57), (58, 1, 184), (184, 0, 58))\n",
            "((35, 0, 58), (58, 0, 128), (58, 1, 35), (128, 1, 58))\n",
            "((58, 0, 128), (58, 1, 159), (128, 1, 58), (159, 0, 58))\n",
            "((101, 0, 139), (101, 1, 286), (139, 1, 101), (286, 0, 101))\n",
            "((57, 1, 159), (58, 1, 367), (159, 0, 58), (367, 0, 57))\n",
            "((57, 1, 159), (159, 1, 367), (360, 0, 57), (367, 0, 360))\n",
            "((57, 1, 159), (58, 1, 159), (159, 0, 57), (159, 0, 58))\n",
            "((57, 1, 159), (128, 1, 159), (159, 0, 57), (159, 0, 128))\n",
            "((57, 1, 159), (57, 1, 360), (159, 0, 57), (360, 0, 57))\n",
            "((57, 1, 367), (360, 1, 367), (367, 0, 57), (367, 0, 360))\n",
            "((35, 1, 360), (57, 1, 159), (159, 0, 35), (360, 0, 57))\n",
            "((101, 0, 161), (139, 1, 101), (161, 1, 286), (286, 0, 139))\n"
          ]
        }
      ]
    },
    {
      "cell_type": "markdown",
      "source": [
        "👉🏻 Ahora realizamos otra consulta en donde el primer interacciona con el segundo; el segundo es similar al tercero; el tercero es similar al cuarto; el cuarto es similar al primero."
      ],
      "metadata": {
        "id": "4h6xNZ2A99U7"
      }
    },
    {
      "cell_type": "code",
      "source": [
        "result = bgp_query(rdd_graph, b_0, reducers_1, l_1, \"(x,0,y), (y,1,z), (z,1,w), (w,1,x)\")\n",
        "for res in result.collect():\n",
        "  print(res)"
      ],
      "metadata": {
        "id": "63aCaLpJG4d6",
        "outputId": "9291f369-46df-4bc2-c76d-9688f290e48a",
        "colab": {
          "base_uri": "https://localhost:8080/"
        }
      },
      "execution_count": 141,
      "outputs": [
        {
          "output_type": "stream",
          "name": "stdout",
          "text": [
            "((101, 1, 142), (139, 1, 101), (142, 1, 286), (286, 0, 139))\n",
            "((101, 1, 142), (142, 0, 367), (367, 1, 412), (412, 1, 101))\n",
            "((101, 1, 142), (142, 1, 286), (161, 1, 101), (286, 0, 161))\n",
            "((57, 1, 367), (58, 1, 57), (128, 1, 58), (367, 0, 128))\n",
            "((57, 1, 159), (58, 1, 57), (128, 1, 58), (159, 0, 128))\n",
            "((57, 1, 360), (128, 1, 57), (360, 1, 367), (367, 0, 128))\n",
            "((35, 1, 360), (128, 1, 35), (360, 1, 367), (367, 0, 128))\n",
            "((58, 1, 184), (128, 1, 58), (184, 1, 360), (360, 0, 128))\n",
            "((55, 1, 374), (101, 1, 286), (286, 0, 55), (374, 1, 101))\n",
            "((101, 1, 142), (142, 1, 286), (286, 0, 374), (374, 1, 101))\n",
            "((142, 0, 360), (212, 1, 367), (360, 1, 212), (367, 1, 142))\n",
            "((57, 1, 360), (58, 1, 57), (128, 1, 58), (360, 0, 128))\n",
            "((58, 1, 159), (128, 1, 58), (159, 1, 360), (360, 0, 128))\n",
            "((35, 1, 57), (57, 1, 159), (58, 1, 35), (159, 0, 58))\n",
            "((35, 1, 360), (58, 1, 35), (128, 1, 58), (360, 0, 128))\n",
            "((35, 1, 57), (57, 1, 159), (159, 0, 184), (184, 1, 35))\n",
            "((57, 1, 360), (128, 1, 184), (184, 1, 57), (360, 0, 128))\n",
            "((58, 1, 184), (128, 1, 58), (184, 1, 367), (367, 0, 128))\n",
            "((35, 1, 57), (57, 1, 159), (128, 1, 35), (159, 0, 128))\n"
          ]
        }
      ]
    },
    {
      "cell_type": "markdown",
      "source": [
        "👉🏻 Ahora, para poder analizar quienes son los usuarios involucrados en la ultima consulta, mapearemos cada id con respecto a su username :)"
      ],
      "metadata": {
        "id": "GEo5DCPh-Sch"
      }
    },
    {
      "cell_type": "code",
      "source": [
        "result.map(load_usernames).collect()"
      ],
      "metadata": {
        "id": "ZaXio3vQ-HK4",
        "outputId": "69c2bb91-3683-47a6-914a-e2ff316d4822",
        "colab": {
          "base_uri": "https://localhost:8080/"
        }
      },
      "execution_count": 142,
      "outputs": [
        {
          "output_type": "execute_result",
          "data": {
            "text/plain": [
              "[[('Michael Hunger', 'SIMILAR_TO', 'Lju Lazarevic'),\n",
              "  ('Matthias Haeussler', 'SIMILAR_TO', 'Michael Hunger'),\n",
              "  ('Lju Lazarevic', 'SIMILAR_TO', 'Michael Simons'),\n",
              "  ('Michael Simons', 'INTERACTS_WITH', 'Matthias Haeussler')],\n",
              " [('Michael Hunger', 'SIMILAR_TO', 'Lju Lazarevic'),\n",
              "  ('Lju Lazarevic',\n",
              "   'INTERACTS_WITH',\n",
              "   'Dr.Salahideen ALHAJ 🔶 🔸️#WearAMask #SDGs'),\n",
              "  ('Dr.Salahideen ALHAJ 🔶 🔸️#WearAMask #SDGs', 'SIMILAR_TO', 'Taite'),\n",
              "  ('Taite', 'SIMILAR_TO', 'Michael Hunger')],\n",
              " [('Michael Hunger', 'SIMILAR_TO', 'Lju Lazarevic'),\n",
              "  ('Lju Lazarevic', 'SIMILAR_TO', 'Michael Simons'),\n",
              "  ('Lukas Eder', 'SIMILAR_TO', 'Michael Hunger'),\n",
              "  ('Michael Simons', 'INTERACTS_WITH', 'Lukas Eder')],\n",
              " [('John Wolpert', 'SIMILAR_TO', 'Dr.Salahideen ALHAJ 🔶 🔸️#WearAMask #SDGs'),\n",
              "  ('Wen.S', 'SIMILAR_TO', 'John Wolpert'),\n",
              "  ('guinnessstache', 'SIMILAR_TO', 'Wen.S'),\n",
              "  ('Dr.Salahideen ALHAJ 🔶 🔸️#WearAMask #SDGs',\n",
              "   'INTERACTS_WITH',\n",
              "   'guinnessstache')],\n",
              " [('John Wolpert', 'SIMILAR_TO', 'Born To Be Idle'),\n",
              "  ('Wen.S', 'SIMILAR_TO', 'John Wolpert'),\n",
              "  ('guinnessstache', 'SIMILAR_TO', 'Wen.S'),\n",
              "  ('Born To Be Idle', 'INTERACTS_WITH', 'guinnessstache')],\n",
              " [('John Wolpert', 'SIMILAR_TO', 'Nancy Tremblay❤😀🌻🇨🇦'),\n",
              "  ('guinnessstache', 'SIMILAR_TO', 'John Wolpert'),\n",
              "  ('Nancy Tremblay❤😀🌻🇨🇦',\n",
              "   'SIMILAR_TO',\n",
              "   'Dr.Salahideen ALHAJ 🔶 🔸️#WearAMask #SDGs'),\n",
              "  ('Dr.Salahideen ALHAJ 🔶 🔸️#WearAMask #SDGs',\n",
              "   'INTERACTS_WITH',\n",
              "   'guinnessstache')],\n",
              " [('Chill Zone', 'SIMILAR_TO', 'Nancy Tremblay❤😀🌻🇨🇦'),\n",
              "  ('guinnessstache', 'SIMILAR_TO', 'Chill Zone'),\n",
              "  ('Nancy Tremblay❤😀🌻🇨🇦',\n",
              "   'SIMILAR_TO',\n",
              "   'Dr.Salahideen ALHAJ 🔶 🔸️#WearAMask #SDGs'),\n",
              "  ('Dr.Salahideen ALHAJ 🔶 🔸️#WearAMask #SDGs',\n",
              "   'INTERACTS_WITH',\n",
              "   'guinnessstache')],\n",
              " [('Wen.S', 'SIMILAR_TO', 'Brana Rakic'),\n",
              "  ('guinnessstache', 'SIMILAR_TO', 'Wen.S'),\n",
              "  ('Brana Rakic', 'SIMILAR_TO', 'Nancy Tremblay❤😀🌻🇨🇦'),\n",
              "  ('Nancy Tremblay❤😀🌻🇨🇦', 'INTERACTS_WITH', 'guinnessstache')],\n",
              " [('Nigel Small 🇪🇺', 'SIMILAR_TO', 'Jim Webber'),\n",
              "  ('Michael Hunger', 'SIMILAR_TO', 'Michael Simons'),\n",
              "  ('Michael Simons', 'INTERACTS_WITH', 'Nigel Small 🇪🇺'),\n",
              "  ('Jim Webber', 'SIMILAR_TO', 'Michael Hunger')],\n",
              " [('Michael Hunger', 'SIMILAR_TO', 'Lju Lazarevic'),\n",
              "  ('Lju Lazarevic', 'SIMILAR_TO', 'Michael Simons'),\n",
              "  ('Michael Simons', 'INTERACTS_WITH', 'Jim Webber'),\n",
              "  ('Jim Webber', 'SIMILAR_TO', 'Michael Hunger')],\n",
              " [('Lju Lazarevic', 'INTERACTS_WITH', 'Nancy Tremblay❤😀🌻🇨🇦'),\n",
              "  ('Crypto Fido', 'SIMILAR_TO', 'Dr.Salahideen ALHAJ 🔶 🔸️#WearAMask #SDGs'),\n",
              "  ('Nancy Tremblay❤😀🌻🇨🇦', 'SIMILAR_TO', 'Crypto Fido'),\n",
              "  ('Dr.Salahideen ALHAJ 🔶 🔸️#WearAMask #SDGs', 'SIMILAR_TO', 'Lju Lazarevic')],\n",
              " [('John Wolpert', 'SIMILAR_TO', 'Nancy Tremblay❤😀🌻🇨🇦'),\n",
              "  ('Wen.S', 'SIMILAR_TO', 'John Wolpert'),\n",
              "  ('guinnessstache', 'SIMILAR_TO', 'Wen.S'),\n",
              "  ('Nancy Tremblay❤😀🌻🇨🇦', 'INTERACTS_WITH', 'guinnessstache')],\n",
              " [('Wen.S', 'SIMILAR_TO', 'Born To Be Idle'),\n",
              "  ('guinnessstache', 'SIMILAR_TO', 'Wen.S'),\n",
              "  ('Born To Be Idle', 'SIMILAR_TO', 'Nancy Tremblay❤😀🌻🇨🇦'),\n",
              "  ('Nancy Tremblay❤😀🌻🇨🇦', 'INTERACTS_WITH', 'guinnessstache')],\n",
              " [('Chill Zone', 'SIMILAR_TO', 'John Wolpert'),\n",
              "  ('John Wolpert', 'SIMILAR_TO', 'Born To Be Idle'),\n",
              "  ('Wen.S', 'SIMILAR_TO', 'Chill Zone'),\n",
              "  ('Born To Be Idle', 'INTERACTS_WITH', 'Wen.S')],\n",
              " [('Chill Zone', 'SIMILAR_TO', 'Nancy Tremblay❤😀🌻🇨🇦'),\n",
              "  ('Wen.S', 'SIMILAR_TO', 'Chill Zone'),\n",
              "  ('guinnessstache', 'SIMILAR_TO', 'Wen.S'),\n",
              "  ('Nancy Tremblay❤😀🌻🇨🇦', 'INTERACTS_WITH', 'guinnessstache')],\n",
              " [('Chill Zone', 'SIMILAR_TO', 'John Wolpert'),\n",
              "  ('John Wolpert', 'SIMILAR_TO', 'Born To Be Idle'),\n",
              "  ('Born To Be Idle', 'INTERACTS_WITH', 'Brana Rakic'),\n",
              "  ('Brana Rakic', 'SIMILAR_TO', 'Chill Zone')],\n",
              " [('John Wolpert', 'SIMILAR_TO', 'Nancy Tremblay❤😀🌻🇨🇦'),\n",
              "  ('guinnessstache', 'SIMILAR_TO', 'Brana Rakic'),\n",
              "  ('Brana Rakic', 'SIMILAR_TO', 'John Wolpert'),\n",
              "  ('Nancy Tremblay❤😀🌻🇨🇦', 'INTERACTS_WITH', 'guinnessstache')],\n",
              " [('Wen.S', 'SIMILAR_TO', 'Brana Rakic'),\n",
              "  ('guinnessstache', 'SIMILAR_TO', 'Wen.S'),\n",
              "  ('Brana Rakic', 'SIMILAR_TO', 'Dr.Salahideen ALHAJ 🔶 🔸️#WearAMask #SDGs'),\n",
              "  ('Dr.Salahideen ALHAJ 🔶 🔸️#WearAMask #SDGs',\n",
              "   'INTERACTS_WITH',\n",
              "   'guinnessstache')],\n",
              " [('Chill Zone', 'SIMILAR_TO', 'John Wolpert'),\n",
              "  ('John Wolpert', 'SIMILAR_TO', 'Born To Be Idle'),\n",
              "  ('guinnessstache', 'SIMILAR_TO', 'Chill Zone'),\n",
              "  ('Born To Be Idle', 'INTERACTS_WITH', 'guinnessstache')]]"
            ]
          },
          "metadata": {},
          "execution_count": 142
        }
      ]
    }
  ],
  "metadata": {
    "colab": {
      "provenance": []
    },
    "kernelspec": {
      "display_name": "Python 3",
      "name": "python3"
    },
    "language_info": {
      "name": "python"
    }
  },
  "nbformat": 4,
  "nbformat_minor": 0
}